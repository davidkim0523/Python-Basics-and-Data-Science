{
  "nbformat": 4,
  "nbformat_minor": 0,
  "metadata": {
    "kernelspec": {
      "display_name": "Python 3",
      "language": "python",
      "name": "python3"
    },
    "nbclean": true,
    "colab": {
      "name": "5_ObjectOrientedProgramming.ipynb",
      "provenance": [],
      "collapsed_sections": [],
      "include_colab_link": true
    }
  },
  "cells": [
    {
      "cell_type": "markdown",
      "metadata": {
        "id": "view-in-github",
        "colab_type": "text"
      },
      "source": [
        "<a href=\"https://colab.research.google.com/github/davidkim0523/Python-Basics-and-Data-Science/blob/main/5_ObjectOrientedProgramming.ipynb\" target=\"_parent\"><img src=\"https://colab.research.google.com/assets/colab-badge.svg\" alt=\"Open In Colab\"/></a>"
      ]
    },
    {
      "cell_type": "markdown",
      "metadata": {
        "id": "eNZRfzvv1X1Q"
      },
      "source": [
        "# 객체지향형 프로그래밍 (Object Oriented Programming)\n",
        "\n",
        "지난 강의들에서는 종종 객체(**objects**) 또는 파이썬 객체(**Python objects**)라는 것을 언급한 적이 있습니다. 또한 객체의 매서드(**methods**)에 대해서도 언급한 적이 있습니다. `dict`의 `get` 메서드가 바로 이에 대한 예시입니다. 그렇다면 이러한 용어들이 의미하는 바는 대체 무엇일까요?\n",
        "\n",
        "우리는 객체라는 것을 변수에 저장할 수 있는 모든 것으로 생각할 수 있습니다. 우리는 다른 `type`을 가진 객체를 가질 수 있습니다. 객체의 `type`을 클래스(** class**)라고 부를 수도 있습니다. 우리는 추후 이 클래스에 대해서도 보다 상세히 다룰 예정입니다."
      ]
    },
    {
      "cell_type": "code",
      "metadata": {
        "id": "7hCNQgmd1X1W",
        "colab": {
          "base_uri": "https://localhost:8080/"
        },
        "outputId": "607ca641-7b05-4d66-e303-ac6378949315"
      },
      "source": [
        "x = 42\n",
        "print('%d is an object of %s' % (x, type(x)))\n",
        "\n",
        "x = 'Hello world!'\n",
        "print('%s is an object of %s' % (x, type(x)))\n",
        "\n",
        "x = {'name': 'Dylan', 'age': 26}\n",
        "print('%s is an object of %s' % (x, type(x)))"
      ],
      "execution_count": 1,
      "outputs": [
        {
          "output_type": "stream",
          "name": "stdout",
          "text": [
            "42 is an object of <class 'int'>\n",
            "Hello world! is an object of <class 'str'>\n",
            "{'name': 'Dylan', 'age': 26} is an object of <class 'dict'>\n"
          ]
        }
      ]
    },
    {
      "cell_type": "markdown",
      "metadata": {
        "id": "t2omt1Li1X1Z"
      },
      "source": [
        "우리는 이미 정수와 문자열, 그리고 딕셔너리가 다르게 동작한다는 것을 알고 있습니다. 그들은 다른 속성과 다른 기능을 가지고 있습니다. 프로그래밍에서 우리는 이 속성과 기능이라는 것을 각각 속성(**attributes**)과 메서드(**methods**)라고 표현합니다.\n",
        "\n",
        "객체의 속성은 해당 객체에 대한 정보를 저장하는 데 사용되는 내부 변수입니다."
      ]
    },
    {
      "cell_type": "code",
      "metadata": {
        "id": "0KxO1DJl1X1b",
        "colab": {
          "base_uri": "https://localhost:8080/"
        },
        "outputId": "290559b1-640d-4a45-a226-f1ad323a7d38"
      },
      "source": [
        "# a complex number has real and imaginary parts\n",
        "x = complex(5, 3)\n",
        "print(x.real)\n",
        "print(x.imag)"
      ],
      "execution_count": 2,
      "outputs": [
        {
          "output_type": "stream",
          "name": "stdout",
          "text": [
            "5.0\n",
            "3.0\n"
          ]
        }
      ]
    },
    {
      "cell_type": "markdown",
      "metadata": {
        "id": "ACXFcSiS1X1f"
      },
      "source": [
        "또한 객체의 메서드는 다양한 기능을 구현하는 객체의 내부 기능을 뜻합니다."
      ]
    },
    {
      "cell_type": "code",
      "metadata": {
        "id": "iFSpQ1i61X1i",
        "colab": {
          "base_uri": "https://localhost:8080/"
        },
        "outputId": "079c19e9-6d81-4a20-a105-64f5546a2597"
      },
      "source": [
        "x = 'Dylan'\n",
        "print(x.lower())\n",
        "print(x.upper())"
      ],
      "execution_count": 3,
      "outputs": [
        {
          "output_type": "stream",
          "name": "stdout",
          "text": [
            "dylan\n",
            "DYLAN\n"
          ]
        }
      ]
    },
    {
      "cell_type": "markdown",
      "metadata": {
        "id": "OP5vTdg31X1m"
      },
      "source": [
        "우리는 속성보다는 객체의 메소드와 더 자주 상호작용할 것입니다. 속성은 객체의 상태(**state**)를 나타냅니다. 메서드는 객체를 손상시키지 않고 안전하게 수행할 수 있는 작업을 나타내기 때문에, 일반적으로 메서드를 통해 객체의 상태를 변경하는 것이 선호됩니다. 종종 객체의 속성은 변경할 수 없는 경우가 있습니다."
      ]
    },
    {
      "cell_type": "code",
      "metadata": {
        "id": "e-W78tvb1X1q",
        "colab": {
          "base_uri": "https://localhost:8080/",
          "height": 195
        },
        "outputId": "069e6fd2-e208-4f35-b963-0ed526317392"
      },
      "source": [
        "x = complex(5, 3)\n",
        "x.real = 6"
      ],
      "execution_count": 5,
      "outputs": [
        {
          "output_type": "error",
          "ename": "AttributeError",
          "evalue": "ignored",
          "traceback": [
            "\u001b[0;31m---------------------------------------------------------------------------\u001b[0m",
            "\u001b[0;31mAttributeError\u001b[0m                            Traceback (most recent call last)",
            "\u001b[0;32m<ipython-input-5-e99c7090a22d>\u001b[0m in \u001b[0;36m<module>\u001b[0;34m()\u001b[0m\n\u001b[1;32m      1\u001b[0m \u001b[0mx\u001b[0m \u001b[0;34m=\u001b[0m \u001b[0mcomplex\u001b[0m\u001b[0;34m(\u001b[0m\u001b[0;36m5\u001b[0m\u001b[0;34m,\u001b[0m \u001b[0;36m3\u001b[0m\u001b[0;34m)\u001b[0m\u001b[0;34m\u001b[0m\u001b[0;34m\u001b[0m\u001b[0m\n\u001b[0;32m----> 2\u001b[0;31m \u001b[0mx\u001b[0m\u001b[0;34m.\u001b[0m\u001b[0mreal\u001b[0m \u001b[0;34m=\u001b[0m \u001b[0;36m6\u001b[0m\u001b[0;34m\u001b[0m\u001b[0;34m\u001b[0m\u001b[0m\n\u001b[0m",
            "\u001b[0;31mAttributeError\u001b[0m: readonly attribute"
          ]
        }
      ]
    },
    {
      "cell_type": "markdown",
      "metadata": {
        "id": "uGlDwQbR1X1t"
      },
      "source": [
        "객체를 변경하는 메소드의 대표적인 예시가 바로 `list`의 `append` 메소드입니다."
      ]
    },
    {
      "cell_type": "code",
      "metadata": {
        "id": "7IFl7Ws_1X1v",
        "colab": {
          "base_uri": "https://localhost:8080/"
        },
        "outputId": "ea86f174-e1b9-4b7d-9fa5-195b655ed882"
      },
      "source": [
        "x = [35, 'example', 348.1]\n",
        "x.append(True)\n",
        "print(x)"
      ],
      "execution_count": 6,
      "outputs": [
        {
          "output_type": "stream",
          "name": "stdout",
          "text": [
            "[35, 'example', 348.1, True]\n"
          ]
        }
      ]
    },
    {
      "cell_type": "markdown",
      "metadata": {
        "id": "mQR7rSlF1X1x"
      },
      "source": [
        "객체의 속성과 메서드에 무엇이 있는지 어떻게 알 수 있을까요? 이를 알기 위해서는 파이썬의 `dir` 함수를 사용하면 됩니다. 객체나 클래스에서 `dir`을 사용할 수 있습니다."
      ]
    },
    {
      "cell_type": "code",
      "metadata": {
        "id": "-ng9mcW01X1z",
        "colab": {
          "base_uri": "https://localhost:8080/"
        },
        "outputId": "0456a769-bc3e-4bc7-93a0-a70e73f16233"
      },
      "source": [
        "# dir on an object\n",
        "x = 42\n",
        "print(dir(x)[-6:]) # I've truncated the results for clarity\n",
        "\n",
        "# dir on a class\n",
        "print(dir(int)[-6:])"
      ],
      "execution_count": 7,
      "outputs": [
        {
          "output_type": "stream",
          "name": "stdout",
          "text": [
            "['denominator', 'from_bytes', 'imag', 'numerator', 'real', 'to_bytes']\n",
            "['denominator', 'from_bytes', 'imag', 'numerator', 'real', 'to_bytes']\n"
          ]
        }
      ]
    },
    {
      "cell_type": "markdown",
      "metadata": {
        "id": "kZyDeBr91X11"
      },
      "source": [
        "또한 우리는 클래스에 대한 문서를 찾을 수 있습니다. 예를 들어, 내장 파이썬 유형에 대한 파이썬 공식문서는 [다음](https://docs.python.org/3/library/stdtypes.html)을 참조하면 됩니다. 외부 라이브러리와 도구를 더 많이 사용하게 되면 우리는 그것들과 관련된 공식문서를 참조하여 구현 방법을 익힐 수 있습니다."
      ]
    },
    {
      "cell_type": "markdown",
      "metadata": {
        "id": "YIF1bMJa1X12"
      },
      "source": [
        "## 클래스 (Classes)\n",
        "\n",
        "하지만 속성과 메서드가 객체지향형 프로그래밍의 전부는 아닙니다. 예를 들어, `dict`의 메서드와 속성은 키-값 쌍 또는 해싱에 대해 아무 것도 알려주지 않기 때문입니다. \n",
        "\n",
        "객체를 전체적으로 정의하기 위해서는 클래스(**class**)라는 것이 필요합니다. 우리는 다양한 작업을 수행하거나 혹은 보다 편리한 방식으로 정보를 나타내주는 객체를 생성하기 위해 자체적으로 클래스를 만들 수 있습니다. 우리는 이 과정의 뒷부분에서 클래스에 대한 몇 가지 예시를 다룰 예정입니다. 이 예시들은 플롯과 그래프를 만드는 클래스, 데이터 테이블을 만들고 분석하는 클래스, 통계 및 회귀를 수행하는 클래스입니다.\n",
        "\n",
        "여기서는 5/15 같은 분수를 작업하기 위해 `Rational`이라는 클래스를 구현해 보겠습니다. `Rational`이라는 클래스를 만들기 위해 필요한 첫 번째 작업은 `Rational` 객체를 생성, 즉 초기화하는 것입니다. 우리는 `__init__`이라는 특별한 (숨겨진) 메서드를 사용해 이를 구현해보겠습니다. 또한 파이썬에게 객체를 출력하는 방법을 알려주는 `__repr__`이라는 또 다른 특별한 메소드를 정의할 것입니다."
      ]
    },
    {
      "cell_type": "code",
      "metadata": {
        "id": "jaWydywF1X15"
      },
      "source": [
        "class Rational(object):\n",
        "\n",
        "    def __init__(self, numerator, denominator):\n",
        "        self.numerator = numerator\n",
        "        self.denominator = denominator\n",
        "\n",
        "    def __repr__(self):\n",
        "        return '%d/%d' % (self.numerator, self.denominator)"
      ],
      "execution_count": 8,
      "outputs": []
    },
    {
      "cell_type": "code",
      "metadata": {
        "id": "TPO6r7O31X17",
        "colab": {
          "base_uri": "https://localhost:8080/"
        },
        "outputId": "a36fb661-c92f-4381-fb87-a8f3c686bbc1"
      },
      "source": [
        "fraction = Rational(4, 3)\n",
        "print(fraction)"
      ],
      "execution_count": 9,
      "outputs": [
        {
          "output_type": "stream",
          "name": "stdout",
          "text": [
            "4/3\n"
          ]
        }
      ]
    },
    {
      "cell_type": "markdown",
      "metadata": {
        "id": "BnCOPK8c1X18"
      },
      "source": [
        "여기서 여러분은 두 메서드 모두 첫 번째 인수로 키워드 `self`를 사용한다는 것을 눈치채셨을 것입니다. 클래스의 메서드에 대한 첫 번째 인수는 언제나 메서드가 호출되는 클래스의 인스턴스입니다. 클래스는 객체들이 구축되는 청사진과도 같습니다. `self` 인수는 메서드가 호출되는 클래스의 인스턴스를 알 수 있도록 파이썬이 사용하는 메커니즘입니다. 메서드를 호출하는데에는 크게 두 가지 방법이 있습니다. `.do_it(self)` 메서드를 가지고 있는 `MyClass` 클래스를 생성한다고 가정해 보겠습니다. 이 클래스에서 객체를 인스턴스화하면, 두 가지 방법으로 메소드를 호출할 수 있습니다."
      ]
    },
    {
      "cell_type": "code",
      "metadata": {
        "id": "SrUwxkvU1X1-",
        "colab": {
          "base_uri": "https://localhost:8080/"
        },
        "outputId": "0003f3dc-0d3f-4014-853a-a70eed726552"
      },
      "source": [
        "class MyClass(object):\n",
        "    def __init__(self, num):\n",
        "        self.num = num\n",
        "        \n",
        "    def do_it(self):\n",
        "        print(self.num)\n",
        "        \n",
        "myclass = MyClass(2)\n",
        "myclass.do_it()\n",
        "MyClass.do_it(myclass)"
      ],
      "execution_count": 10,
      "outputs": [
        {
          "output_type": "stream",
          "name": "stdout",
          "text": [
            "2\n",
            "2\n"
          ]
        }
      ]
    },
    {
      "cell_type": "markdown",
      "metadata": {
        "id": "Qr6Vzksm1X1_"
      },
      "source": [
        "첫번째, `myclass.do_it()`과 같은 방법입니다. `myclass`가 `MyClass`의 인스턴스이기 때문에 `self` 인수가 생략되어도 파이썬은 이를 자동적으로 해당 클래스로 받아들여 처리합니다. 이것은 메서드를 호출하는 일반적인 방법입니다. 또 다른 방법은 `myclass`를 `self` 인수로 전달하는 `MyClass.do_it(myclass)`입니다. 이렇게 메서드를 호출할 수 있지만, 사실 이러한 방법은 훨씬 덜 일반적입니다.\n",
        "\n",
        "모든 파이썬 인수와 마찬가지로 `self`의 이름은 `self`로 지정할 필요가 없습니다. 우리는 이것을 `this`, `apple` 또는 `wizard`라고 부를 수도 있습니다. 그러나 `self`를 사용하는 것은 매우 강한 파이썬 구현의 관행입니다. 다른 사람들이 코드를 이해할 수 있도록 이 규칙을 사용하는 것이 좋습니다.\n",
        "\n",
        "`Rational` 클래스로 돌아가보겠습니다. 지금까지 우리는 `Rational` 객체를 만들고 `print`할 수는 있었지만 다른 일들을 할 수는 없었습니다. 그런데 우리는 분자와 분모를 최대공약수로 나누는 `reduce`라는 기능을 원할 수도 있습니다. 이런 경우 우리는 최대 공약수를 계산하는 함수를 작성해야 합니다. 우리는 이러한 함수를 클래스에 추가해보겠습니다."
      ]
    },
    {
      "cell_type": "code",
      "metadata": {
        "id": "W8EAb6eT1X2A"
      },
      "source": [
        "class Rational(object):\n",
        "\n",
        "    def __init__(self, numerator, denominator):\n",
        "        self.numerator = numerator\n",
        "        self.denominator = denominator\n",
        "\n",
        "    def __repr__(self):\n",
        "        return '%d/%d' % (self.numerator, self.denominator)\n",
        "\n",
        "    def _gcd(self):\n",
        "        smaller = min(self.numerator, self.denominator)\n",
        "        small_divisors = {i for i in range(1, smaller + 1) if smaller % i == 0}\n",
        "        larger = max(self.numerator, self.denominator)\n",
        "        common_divisors = {i for i in small_divisors if larger % i == 0}\n",
        "        return max(common_divisors)\n",
        "\n",
        "    def reduce(self):\n",
        "        gcd = self._gcd()\n",
        "        self.numerator = self.numerator / gcd\n",
        "        self.denominator = self.denominator / gcd\n",
        "        return self"
      ],
      "execution_count": 11,
      "outputs": []
    },
    {
      "cell_type": "code",
      "metadata": {
        "id": "NZ8VVank1X2C",
        "colab": {
          "base_uri": "https://localhost:8080/"
        },
        "outputId": "330421ac-70fe-4c98-8d6c-fdc5ed49f389"
      },
      "source": [
        "fraction = Rational(16, 32)\n",
        "fraction.reduce()\n",
        "print(fraction)"
      ],
      "execution_count": 12,
      "outputs": [
        {
          "output_type": "stream",
          "name": "stdout",
          "text": [
            "1/2\n"
          ]
        }
      ]
    },
    {
      "cell_type": "markdown",
      "metadata": {
        "id": "ZYJsvnRm1X2E"
      },
      "source": [
        "우리는 계속해서 `Rational` 클래스의 기능을 점진적으로 빌드업해나가고 있습니다. 하지만 여기 한 가지 문제가 있습니다. 바로 수학적 연산을 할 수 없다는 점입니다."
      ]
    },
    {
      "cell_type": "code",
      "metadata": {
        "id": "__VL-IVw1X2F",
        "colab": {
          "base_uri": "https://localhost:8080/",
          "height": 176
        },
        "outputId": "5adeb8ae-46a7-43ff-cc85-6136ad08a293"
      },
      "source": [
        "print(4 * fraction)"
      ],
      "execution_count": 13,
      "outputs": [
        {
          "output_type": "error",
          "ename": "TypeError",
          "evalue": "ignored",
          "traceback": [
            "\u001b[0;31m---------------------------------------------------------------------------\u001b[0m",
            "\u001b[0;31mTypeError\u001b[0m                                 Traceback (most recent call last)",
            "\u001b[0;32m<ipython-input-13-bf7b72dc1ebd>\u001b[0m in \u001b[0;36m<module>\u001b[0;34m()\u001b[0m\n\u001b[0;32m----> 1\u001b[0;31m \u001b[0mprint\u001b[0m\u001b[0;34m(\u001b[0m\u001b[0;36m4\u001b[0m \u001b[0;34m*\u001b[0m \u001b[0mfraction\u001b[0m\u001b[0;34m)\u001b[0m\u001b[0;34m\u001b[0m\u001b[0;34m\u001b[0m\u001b[0m\n\u001b[0m",
            "\u001b[0;31mTypeError\u001b[0m: unsupported operand type(s) for *: 'int' and 'Rational'"
          ]
        }
      ]
    },
    {
      "cell_type": "markdown",
      "metadata": {
        "id": "NQkEV28w1X2F"
      },
      "source": [
        "우리는 파이썬에게 우리가 구현한 클래스가 수학 연산자(`+`, `-`, `*`, `/`)를 어떻게 받아들이고 처리할지에 대해 알려주어야 합니다."
      ]
    },
    {
      "cell_type": "code",
      "metadata": {
        "id": "76r3qHoa1X2G",
        "colab": {
          "base_uri": "https://localhost:8080/"
        },
        "outputId": "499417b3-3757-4ff6-f586-f0a9964d809a"
      },
      "source": [
        "print(dir(int))"
      ],
      "execution_count": 14,
      "outputs": [
        {
          "output_type": "stream",
          "name": "stdout",
          "text": [
            "['__abs__', '__add__', '__and__', '__bool__', '__ceil__', '__class__', '__delattr__', '__dir__', '__divmod__', '__doc__', '__eq__', '__float__', '__floor__', '__floordiv__', '__format__', '__ge__', '__getattribute__', '__getnewargs__', '__gt__', '__hash__', '__index__', '__init__', '__init_subclass__', '__int__', '__invert__', '__le__', '__lshift__', '__lt__', '__mod__', '__mul__', '__ne__', '__neg__', '__new__', '__or__', '__pos__', '__pow__', '__radd__', '__rand__', '__rdivmod__', '__reduce__', '__reduce_ex__', '__repr__', '__rfloordiv__', '__rlshift__', '__rmod__', '__rmul__', '__ror__', '__round__', '__rpow__', '__rrshift__', '__rshift__', '__rsub__', '__rtruediv__', '__rxor__', '__setattr__', '__sizeof__', '__str__', '__sub__', '__subclasshook__', '__truediv__', '__trunc__', '__xor__', 'bit_length', 'conjugate', 'denominator', 'from_bytes', 'imag', 'numerator', 'real', 'to_bytes']\n"
          ]
        }
      ]
    },
    {
      "cell_type": "markdown",
      "metadata": {
        "id": "w5gHjEId1X2H"
      },
      "source": [
        "`dir(int)`을 보면 `__add__`, `__div__`, `__mul__`, `__sub__` 등과 같은 숨겨진 메서드가 있음을 알 수 있습니다. `__repr__`이 파이썬에게 객체를 `print`하는 방법을 알려주듯이, 이러한 숨겨진 메서드는 파이썬에 수학 연산자를 처리하는 방법을 알려줍니다.\n",
        "\n",
        "클래스를 정의하는데 있어 수학 연산자를 구현하는 메서드를 추가해 보겠습니다. 더하기 또는 빼기를 수행하려면 더하는 숫자와 공통 분모를 찾아야 합니다. 여기서는 보다 단순한게 만들기 위해 곱셈만을 구현하겠습니다. 더하거나 빼거나 나눌 수 없습니다. 하지만 곱하기만 구현하는 경우에도 상당한 논리적 처리절차가 필요합니다."
      ]
    },
    {
      "cell_type": "code",
      "metadata": {
        "id": "GwGzfsXv1X2I"
      },
      "source": [
        "class Rational(object):\n",
        "\n",
        "    def __init__(self, numerator, denominator):\n",
        "        self.numerator = numerator\n",
        "        self.denominator = denominator\n",
        "\n",
        "    def __repr__(self):\n",
        "        return '%d/%d' % (self.numerator, self.denominator)\n",
        "\n",
        "    def __mul__(self, number):\n",
        "        if isinstance(number, int):\n",
        "            return Rational(self.numerator * number, self.denominator)\n",
        "        elif isinstance(number, Rational):\n",
        "            return Rational(self.numerator * number.numerator, self.denominator * number.denominator)\n",
        "        else:\n",
        "            raise TypeError('Expected number to be int or Rational. Got %s' % type(number))\n",
        "        \n",
        "    def _gcd(self):\n",
        "        smaller = min(self.numerator, self.denominator)\n",
        "        small_divisors = {i for i in range(1, smaller + 1) if smaller % i == 0}\n",
        "        larger = max(self.numerator, self.denominator)\n",
        "        common_divisors = {i for i in small_divisors if larger % i == 0}\n",
        "        return max(common_divisors)\n",
        "\n",
        "    def reduce(self):\n",
        "        gcd = self._gcd()\n",
        "        self.numerator = self.numerator / gcd\n",
        "        self.denominator = self.denominator / gcd\n",
        "        return self"
      ],
      "execution_count": 15,
      "outputs": []
    },
    {
      "cell_type": "code",
      "metadata": {
        "id": "-PGqgKLP1X2J",
        "colab": {
          "base_uri": "https://localhost:8080/"
        },
        "outputId": "aaf0f895-6de5-4ee9-d601-37d44e0f2d20"
      },
      "source": [
        "print(Rational(4, 6) * 3)\n",
        "print(Rational(5, 9) * Rational(2, 3))"
      ],
      "execution_count": 16,
      "outputs": [
        {
          "output_type": "stream",
          "name": "stdout",
          "text": [
            "12/6\n",
            "10/27\n"
          ]
        }
      ]
    },
    {
      "cell_type": "code",
      "metadata": {
        "id": "C1Uh4kAh1X2K",
        "colab": {
          "base_uri": "https://localhost:8080/",
          "height": 325
        },
        "outputId": "688e3dac-c024-4c97-dfa6-56608b0c0a6e"
      },
      "source": [
        "# remember, no support for float\n",
        "print(Rational(4, 6) * 2.3)"
      ],
      "execution_count": 17,
      "outputs": [
        {
          "output_type": "error",
          "ename": "TypeError",
          "evalue": "ignored",
          "traceback": [
            "\u001b[0;31m---------------------------------------------------------------------------\u001b[0m",
            "\u001b[0;31mTypeError\u001b[0m                                 Traceback (most recent call last)",
            "\u001b[0;32m<ipython-input-17-fb83c818dbcf>\u001b[0m in \u001b[0;36m<module>\u001b[0;34m()\u001b[0m\n\u001b[1;32m      1\u001b[0m \u001b[0;31m# remember, no support for float\u001b[0m\u001b[0;34m\u001b[0m\u001b[0;34m\u001b[0m\u001b[0;34m\u001b[0m\u001b[0m\n\u001b[0;32m----> 2\u001b[0;31m \u001b[0mprint\u001b[0m\u001b[0;34m(\u001b[0m\u001b[0mRational\u001b[0m\u001b[0;34m(\u001b[0m\u001b[0;36m4\u001b[0m\u001b[0;34m,\u001b[0m \u001b[0;36m6\u001b[0m\u001b[0;34m)\u001b[0m \u001b[0;34m*\u001b[0m \u001b[0;36m2.3\u001b[0m\u001b[0;34m)\u001b[0m\u001b[0;34m\u001b[0m\u001b[0;34m\u001b[0m\u001b[0m\n\u001b[0m",
            "\u001b[0;32m<ipython-input-15-bfab24d3b796>\u001b[0m in \u001b[0;36m__mul__\u001b[0;34m(self, number)\u001b[0m\n\u001b[1;32m     14\u001b[0m             \u001b[0;32mreturn\u001b[0m \u001b[0mRational\u001b[0m\u001b[0;34m(\u001b[0m\u001b[0mself\u001b[0m\u001b[0;34m.\u001b[0m\u001b[0mnumerator\u001b[0m \u001b[0;34m*\u001b[0m \u001b[0mnumber\u001b[0m\u001b[0;34m.\u001b[0m\u001b[0mnumerator\u001b[0m\u001b[0;34m,\u001b[0m \u001b[0mself\u001b[0m\u001b[0;34m.\u001b[0m\u001b[0mdenominator\u001b[0m \u001b[0;34m*\u001b[0m \u001b[0mnumber\u001b[0m\u001b[0;34m.\u001b[0m\u001b[0mdenominator\u001b[0m\u001b[0;34m)\u001b[0m\u001b[0;34m\u001b[0m\u001b[0;34m\u001b[0m\u001b[0m\n\u001b[1;32m     15\u001b[0m         \u001b[0;32melse\u001b[0m\u001b[0;34m:\u001b[0m\u001b[0;34m\u001b[0m\u001b[0;34m\u001b[0m\u001b[0m\n\u001b[0;32m---> 16\u001b[0;31m             \u001b[0;32mraise\u001b[0m \u001b[0mTypeError\u001b[0m\u001b[0;34m(\u001b[0m\u001b[0;34m'Expected number to be int or Rational. Got %s'\u001b[0m \u001b[0;34m%\u001b[0m \u001b[0mtype\u001b[0m\u001b[0;34m(\u001b[0m\u001b[0mnumber\u001b[0m\u001b[0;34m)\u001b[0m\u001b[0;34m)\u001b[0m\u001b[0;34m\u001b[0m\u001b[0;34m\u001b[0m\u001b[0m\n\u001b[0m\u001b[1;32m     17\u001b[0m \u001b[0;34m\u001b[0m\u001b[0m\n\u001b[1;32m     18\u001b[0m     \u001b[0;32mdef\u001b[0m \u001b[0m_gcd\u001b[0m\u001b[0;34m(\u001b[0m\u001b[0mself\u001b[0m\u001b[0;34m)\u001b[0m\u001b[0;34m:\u001b[0m\u001b[0;34m\u001b[0m\u001b[0;34m\u001b[0m\u001b[0m\n",
            "\u001b[0;31mTypeError\u001b[0m: Expected number to be int or Rational. Got <class 'float'>"
          ]
        }
      ]
    },
    {
      "cell_type": "code",
      "metadata": {
        "id": "t9ZquyWd1X2L",
        "colab": {
          "base_uri": "https://localhost:8080/",
          "height": 195
        },
        "outputId": "a5097fbc-1011-4026-f288-ad7712a73a8f"
      },
      "source": [
        "# also, no addition, subtraction, etc.\n",
        "print(Rational(4, 6) + Rational(2, 3))"
      ],
      "execution_count": 18,
      "outputs": [
        {
          "output_type": "error",
          "ename": "TypeError",
          "evalue": "ignored",
          "traceback": [
            "\u001b[0;31m---------------------------------------------------------------------------\u001b[0m",
            "\u001b[0;31mTypeError\u001b[0m                                 Traceback (most recent call last)",
            "\u001b[0;32m<ipython-input-18-5229033f2ac1>\u001b[0m in \u001b[0;36m<module>\u001b[0;34m()\u001b[0m\n\u001b[1;32m      1\u001b[0m \u001b[0;31m# also, no addition, subtraction, etc.\u001b[0m\u001b[0;34m\u001b[0m\u001b[0;34m\u001b[0m\u001b[0;34m\u001b[0m\u001b[0m\n\u001b[0;32m----> 2\u001b[0;31m \u001b[0mprint\u001b[0m\u001b[0;34m(\u001b[0m\u001b[0mRational\u001b[0m\u001b[0;34m(\u001b[0m\u001b[0;36m4\u001b[0m\u001b[0;34m,\u001b[0m \u001b[0;36m6\u001b[0m\u001b[0;34m)\u001b[0m \u001b[0;34m+\u001b[0m \u001b[0mRational\u001b[0m\u001b[0;34m(\u001b[0m\u001b[0;36m2\u001b[0m\u001b[0;34m,\u001b[0m \u001b[0;36m3\u001b[0m\u001b[0;34m)\u001b[0m\u001b[0;34m)\u001b[0m\u001b[0;34m\u001b[0m\u001b[0;34m\u001b[0m\u001b[0m\n\u001b[0m",
            "\u001b[0;31mTypeError\u001b[0m: unsupported operand type(s) for +: 'Rational' and 'Rational'"
          ]
        }
      ]
    },
    {
      "cell_type": "markdown",
      "metadata": {
        "id": "cq3kkee91X2L"
      },
      "source": [
        "클래스를 정의하는 것은 많은 작업이 필요합니다. 예를 들어, 객체를 사용하려는 모든 방법들 그리고 문제가 발생할 수 있는 위치를 생각해보아야 합니다. 이는 함수를 정의할 때도 마찬가지지만, 클래스는 일반적으로 많은 작업을 처리할 수 있는 반면 함수는 하나만 처리할 수 있다는 점에서 차이가 있습니다."
      ]
    },
    {
      "cell_type": "markdown",
      "metadata": {
        "id": "d8W5BANg1X2M"
      },
      "source": [
        "## 파이썬 비공개 메서드 (Private Methods in Python)\n",
        "\n",
        "`_gcd`와 같이 언더스코어(`_`)로 시작하는 몇 가지 방법을 사용했다는 것을 눈치채셨을 것입니다. 언더스코어를 사용하는 관행은 파이썬에서 특별한 의미를 가지고 있으며, 이는 비공개 함수(**private function**)라는 개념입니다. 클래스는 기능과 데이터를 캡슐화(**encapsulate**)하는 동시에 외부 세계에다가 인터페이스를 제공하는 역할을 합니다. 만약 프로그램이라는 것을 회사로 생각해본다면, 각 작업자는 각각의 고유한 책임이 있으며 회사에서 다른 사람들이 특정 작업을 수행한다는 것을 알고 있습니다. 하지만 다른 사람들이 각각 어떤 일들을 수행하고 있는지를 알 필요는 없습니다.\n",
        "\n",
        "이를 가능케 하기 위한 방법으로, 클래스에는 공개 및 비공개 메서드가 모두 존재합니다. 공용 메서드(**public methods**)는 다른 객체 또는 사용자간 상호 작용에 노출되는 메서드입니다. 반면 개인 메서드(**private methods**)는 종종 \"헬퍼(**helper**)\" 의미에서 객체 내부적으로 사용됩니다. 일부 언어에서는 이러한 공개 및 비공개 메서드 개념이 적용되며 프로그래머는 모든 메서드를 공개 또는 비공개로 지정해야 합니다. 파이썬에서 모든 메서드는 일반적으로 공개적이지만, 비공개를 위해서는 다른 메서드들과 구별하기 위해 메소드 앞에 밑줄을 추가해야 합니다. 이것은 클래스를 사용하는 누군가에게 이 메소드가 객체 내부에서만 호출되어야 하고 새 버전에서 변경될 수 있다는 점에 대한 정보를 전달하고 있습니다.\n",
        "\n",
        "언더스코어와 관련된 또 다른 파이썬 관행은 메소드 이름 앞뒤에 이중 밑줄이 있는 소위 `dunder` 메서드입니다. `__init__, __name__, __add__` 등과 같은 것들이 대표적인 예시이며, 여기에는 특별한 의미가 있습니다. 우선 특별한 경우를 제외하고 일반적으로 `dunder`는 비공개 메소드로 간주됩니다. 또한 `__add__`와 같은 메서드의 경우 프로그래머가 `+` 연산을 지정할 수 있도록 합니다. 이 방법은 파이썬에 특별한 의미가 있기 때문에 항상 주의해서 사용해야 합니다.\n",
        "\n",
        "## 언제 클래스가 필요할까?\n",
        "\n",
        "반복적인 여러 상호 연관된 작업들의 집합을 수행하고 싶을 경우 보통 새로운 클래스를 정의하는 것이 효율적인 방법입니다. 우리가 사용하게 될 대부분의 외부 라이브러리들에 탑재되어 있는 주요 도구들은 모두 클래스 형식으로 구현되어 있습니다. 예를 들어, 이 과정의 뒷부분에서 배우게 될 `Pandas` 라이브러리의 `DataFrame`은 당연히 클래스입니다."
      ]
    },
    {
      "cell_type": "code",
      "metadata": {
        "id": "qnP-wwsA1X2N"
      },
      "source": [
        "import pandas as pd\n",
        "\n",
        "df = pd.DataFrame({'a': [1, 2, 5], 'b': [True, False, True]})\n",
        "\n",
        "print(type(df))\n",
        "df.head()"
      ],
      "execution_count": null,
      "outputs": []
    },
    {
      "cell_type": "markdown",
      "metadata": {
        "id": "EXRuKOG41X2O"
      },
      "source": [
        "아래는 `DataFrame` 클래스 정의의 시작부분을 나타내고 있습니다.\n",
        "\n",
        "```python\n",
        "class DataFrame(NDFrame):\n",
        "\n",
        "    def __init__(self, data=None, index=None, columns=None, dtype=None,\n",
        "                 copy=False):\n",
        "        if data is None:\n",
        "            data = {}\n",
        "        if dtype is not None:\n",
        "            dtype = self._validate_dtype(dtype)\n",
        "\n",
        "        if isinstance(data, DataFrame):\n",
        "            data = data._data\n",
        "\n",
        "        if isinstance(data, BlockManager):\n",
        "            mgr = self._init_mgr(data, axes=dict(index=index, columns=columns),\n",
        "                                 dtype=dtype, copy=copy)\n",
        "        elif isinstance(data, dict):\n",
        "            mgr = self._init_dict(data, index, columns, dtype=dtype)\n",
        "        elif isinstance(data, ma.MaskedArray):\n",
        "            import numpy.ma.mrecords as mrecords\n",
        "            # masked recarray\n",
        "            if isinstance(data, mrecords.MaskedRecords):\n",
        "                mgr = _masked_rec_array_to_mgr(data, index, columns, dtype,\n",
        "                                               copy)\n",
        "\n",
        "            # a masked array\n",
        "            else:\n",
        "                mask = ma.getmaskarray(data)\n",
        "                if mask.any():\n",
        "                    data, fill_value = maybe_upcast(data, copy=True)\n",
        "                    data[mask] = fill_value\n",
        "                else:\n",
        "                    data = data.copy()\n",
        "                mgr = self._init_ndarray(data, index, columns, dtype=dtype,\n",
        "                                         copy=copy)\n",
        "\n",
        "        elif isinstance(data, (np.ndarray, Series, Index)):\n",
        "            if data.dtype.names:\n",
        "                data_columns = list(data.dtype.names)\n",
        "                data = dict((k, data[k]) for k in data_columns)\n",
        "                if columns is None:\n",
        "                    columns = data_columns\n",
        "                mgr = self._init_dict(data, index, columns, dtype=dtype)\n",
        "            elif getattr(data, 'name', None) is not None:\n",
        "                mgr = self._init_dict({data.name: data}, index, columns,\n",
        "                                      dtype=dtype)\n",
        "            else:\n",
        "                mgr = self._init_ndarray(data, index, columns, dtype=dtype,\n",
        "                                         copy=copy)\n",
        "        elif isinstance(data, (list, types.GeneratorType)):\n",
        "            if isinstance(data, types.GeneratorType):\n",
        "                data = list(data)\n",
        "            if len(data) > 0:\n",
        "                if is_list_like(data[0]) and getattr(data[0], 'ndim', 1) == 1:\n",
        "                    if is_named_tuple(data[0]) and columns is None:\n",
        "                        columns = data[0]._fields\n",
        "                    arrays, columns = _to_arrays(data, columns, dtype=dtype)\n",
        "                    columns = _ensure_index(columns)\n",
        "\n",
        "                    # set the index\n",
        "                    if index is None:\n",
        "                        if isinstance(data[0], Series):\n",
        "                            index = _get_names_from_index(data)\n",
        "                        elif isinstance(data[0], Categorical):\n",
        "                            index = _default_index(len(data[0]))\n",
        "                        else:\n",
        "                            index = _default_index(len(data))\n",
        "\n",
        "                    mgr = _arrays_to_mgr(arrays, columns, index, columns,\n",
        "                                         dtype=dtype)\n",
        "                else:\n",
        "                    mgr = self._init_ndarray(data, index, columns, dtype=dtype,\n",
        "                                             copy=copy)\n",
        "            else:\n",
        "                mgr = self._init_dict({}, index, columns, dtype=dtype)\n",
        "        elif isinstance(data, collections.Iterator):\n",
        "            raise TypeError(\"data argument can't be an iterator\")\n",
        "        else:\n",
        "            try:\n",
        "                arr = np.array(data, dtype=dtype, copy=copy)\n",
        "            except (ValueError, TypeError) as e:\n",
        "                exc = TypeError('DataFrame constructor called with '\n",
        "                                'incompatible data and dtype: %s' % e)\n",
        "                raise_with_traceback(exc)\n",
        "\n",
        "            if arr.ndim == 0 and index is not None and columns is not None:\n",
        "                values = cast_scalar_to_array((len(index), len(columns)),\n",
        "                                              data, dtype=dtype)\n",
        "                mgr = self._init_ndarray(values, index, columns,\n",
        "                                         dtype=values.dtype, copy=False)\n",
        "            else:\n",
        "                raise ValueError('DataFrame constructor not properly called!')\n",
        "\n",
        "        NDFrame.__init__(self, mgr, fastpath=True)\n",
        "```"
      ]
    },
    {
      "cell_type": "markdown",
      "metadata": {
        "id": "wMZ_arlJ1X2Q"
      },
      "source": [
        "`DataFrame` 클래스에서 `__init__`만을 작성하기에도 엄청난 양의 코드가 필요하다는 것을 확인할 수 있습니다. \n",
        "\n",
        "만약 이전에 구현했던 클래스의 기능들이 필요한 경우 이를 다시 재활용할 수 있는 방법을 없을까요? 물론 존재합니다. 바로 상속(**inheritance**)라는 것을 활용하면 됩니다. 다른 클래스에서 구현한 기능들이 필요하다고 해서 새로운 클래스에 코드를 처음부터 다시 작성하는 것은 매우 비효율적인 방법입니다. 그래서 우리는 기존 클래스를 우리가 만들고자 하는 새로운 클래스에 상속시킴(**inherit**)으로써 구현의 효율화를 꾀할 수 있습니다. 지금부터는 바로 이 상속이라는 것에 대해 좀 더 알아보겠습니다.\n",
        "\n",
        "## 상속 (Inheritance)\n",
        "\n",
        "종종 우리가 파이썬에서 정의하는 클래스는 다른 클래스의 기존 아이디어를 기반으로 합니다. 상속이라는 것은 말그대로 새로운 클래스가 기존에 만들어진 클래스의 속성과 메서드를 그대로 받아들인다는 것을 의미합니다. 상속이라는 기능을 사용하게 되면 코드를 처음부터 새롭게 작성할 필요없이 기존에 만들어두었던 클래스를 재사용할 수 있습니다. 그렇기 때문에 상속의 개념과 클래스 간의 관계를 이해하는 것은 매우 유용합니다.\n",
        "\n",
        "여기서는 `Rectangle`이라는 클래스를 작성해 보겠습니다. 이 클래스는 길이와 너비의 두 가지 속성을 가지고 있고 이외에도 몇 가지 메서드가 존재합니다."
      ]
    },
    {
      "cell_type": "code",
      "metadata": {
        "id": "WKuhsaUF1X2S"
      },
      "source": [
        "class Rectangle(object):\n",
        "    def __init__(self, height, length):\n",
        "        self.height = height\n",
        "        self.length = length\n",
        "    \n",
        "    def area(self):\n",
        "        return self.height * self.length\n",
        "    \n",
        "    def perimeter(self):\n",
        "        return 2 * (self.height + self.length)"
      ],
      "execution_count": 19,
      "outputs": []
    },
    {
      "cell_type": "markdown",
      "metadata": {
        "id": "HYczf-rX1X2T"
      },
      "source": [
        "정사각형은 직사각형에 포함됩니다. 즉, 직사각형의 성질을 정사각형도 그대로 가지고 있습니다. 하지만 정사각형은 길이와 높이가 같다는 점에서 직사각형의 본질에서 한번더 구체화되어 있습니다. 이런 경우 우리는 `Rectangle` 클래스를  `Square`라는 클래스가 상속하도록 만들 수 있습니다."
      ]
    },
    {
      "cell_type": "code",
      "metadata": {
        "id": "JhyNK-SL1X2T"
      },
      "source": [
        "class Square(Rectangle):\n",
        "    def __init__(self, length):\n",
        "        super(Square, self).__init__(length, length)"
      ],
      "execution_count": 20,
      "outputs": []
    },
    {
      "cell_type": "code",
      "metadata": {
        "id": "wtBbAoR_1X2U",
        "colab": {
          "base_uri": "https://localhost:8080/"
        },
        "outputId": "152eea49-a582-41e1-f3b0-e8b128935be1"
      },
      "source": [
        "s = Square(5)\n",
        "s.area(), s.perimeter()"
      ],
      "execution_count": 21,
      "outputs": [
        {
          "output_type": "execute_result",
          "data": {
            "text/plain": [
              "(25, 20)"
            ]
          },
          "metadata": {},
          "execution_count": 21
        }
      ]
    },
    {
      "cell_type": "markdown",
      "metadata": {
        "id": "vS6a4U331X2V"
      },
      "source": [
        "가끔 파이썬 객체의 유형을 확인하거나 해당 객체가 어떤 클래스에서 왔는가를 확인하고 싶은 경우입니다. 이럴 때는 유형을 확인하는 두 가지 방법이 존재합니다. 차이점을 이해하기 위해 먼저 몇 가지 예를 살펴보겠습니다."
      ]
    },
    {
      "cell_type": "code",
      "metadata": {
        "id": "K2iADrrV1X2V",
        "colab": {
          "base_uri": "https://localhost:8080/"
        },
        "outputId": "99fd6c0e-d305-4025-aeb5-616cae49ad95"
      },
      "source": [
        "type(s) == Square"
      ],
      "execution_count": 22,
      "outputs": [
        {
          "output_type": "execute_result",
          "data": {
            "text/plain": [
              "True"
            ]
          },
          "metadata": {},
          "execution_count": 22
        }
      ]
    },
    {
      "cell_type": "code",
      "metadata": {
        "id": "nONXqwNn1X2W",
        "colab": {
          "base_uri": "https://localhost:8080/"
        },
        "outputId": "f004bba3-05e2-455d-dd15-106f5ff7faab"
      },
      "source": [
        "type(s) == Rectangle"
      ],
      "execution_count": 23,
      "outputs": [
        {
          "output_type": "execute_result",
          "data": {
            "text/plain": [
              "False"
            ]
          },
          "metadata": {},
          "execution_count": 23
        }
      ]
    },
    {
      "cell_type": "code",
      "metadata": {
        "id": "tbKjyamt1X2X",
        "colab": {
          "base_uri": "https://localhost:8080/"
        },
        "outputId": "45c62e39-95a2-4a07-ee07-24b9245be1dd"
      },
      "source": [
        "isinstance(s, Rectangle)"
      ],
      "execution_count": 24,
      "outputs": [
        {
          "output_type": "execute_result",
          "data": {
            "text/plain": [
              "True"
            ]
          },
          "metadata": {},
          "execution_count": 24
        }
      ]
    },
    {
      "cell_type": "markdown",
      "metadata": {
        "id": "sf7rduHC1X2Y"
      },
      "source": [
        "위의 예시에서 `type`이 객체가 정확히 어떤 클래스에 속하는지만을 검사하는 반면, `isinstance(c, Class)`는 `c`가 `Class` 클래스의 멤버인지 또는 `Class`의 하위 클래스의 멤버인지까지를 확인합니다. 그렇기 때문에 특별한 경우가 아닌 이상 거의 항상 `isinstance`을 사용하는 것이 객체의 유형을 확인하는 적절한 방법입니다. 클래스가 어떤 종류의 기능을 구현하는 경우 해당 하위 클래스는 일반적으로 동일한 기능을 구현하기 때문입니다."
      ]
    },
    {
      "cell_type": "markdown",
      "metadata": {
        "id": "4HiL723G1X2Y"
      },
      "source": [
        "## 객체지향형 프로그래밍 (Object Oriented Programming)\n",
        "\n",
        "이제 객체와 클래스를 이해했으므로 객체 지향 프로그래밍(**object oriented programming**)이라는 개념으로 돌아가 보겠습니다. 객체 지향 프로그래밍(`OOP`)은 프로그램이 본질적으로 객체 생성과 객체 간의 상호 작용에 관한 것이라는 관점입니다. `OOP`에서는 거의 모든 코드가 객체, 객체의 속성 또는 객체의 메서드를 설명합니다. 이 관점을 염두에 두면 프로그램에서 무슨 일이 일어나고 있는지 이해하는 데 도움이 됩니다."
      ]
    },
    {
      "cell_type": "markdown",
      "metadata": {
        "id": "KQacXqll1X2Z"
      },
      "source": [
        "*Copyright 2021.* 퀀트대디. *This content is licensed solely for personal use. Redistribution or publication of this material is strictly prohibited.*"
      ]
    }
  ]
}