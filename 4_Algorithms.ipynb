{
  "nbformat": 4,
  "nbformat_minor": 0,
  "metadata": {
    "kernelspec": {
      "display_name": "Python 3",
      "language": "python",
      "name": "python3"
    },
    "language_info": {
      "codemirror_mode": {
        "name": "ipython",
        "version": 3
      },
      "file_extension": ".py",
      "mimetype": "text/x-python",
      "name": "python",
      "nbconvert_exporter": "python",
      "pygments_lexer": "ipython3",
      "version": "3.8.8"
    },
    "nbclean": true,
    "colab": {
      "name": "4_Algorithms.ipynb",
      "provenance": [],
      "collapsed_sections": [],
      "include_colab_link": true
    }
  },
  "cells": [
    {
      "cell_type": "markdown",
      "metadata": {
        "id": "view-in-github",
        "colab_type": "text"
      },
      "source": [
        "<a href=\"https://colab.research.google.com/github/davidkim0523/Python-Basics-and-Data-Science/blob/main/4_Algorithms.ipynb\" target=\"_parent\"><img src=\"https://colab.research.google.com/assets/colab-badge.svg\" alt=\"Open In Colab\"/></a>"
      ]
    },
    {
      "cell_type": "markdown",
      "metadata": {
        "id": "BCWTtNVuj4OX"
      },
      "source": [
        "# 알고리즘 (Algorithms)"
      ]
    },
    {
      "cell_type": "markdown",
      "metadata": {
        "id": "Sqwudqzbj4Oa"
      },
      "source": [
        "우리는 지금까지 파이썬으로 프로그래밍하는 방법과 코드를 더 파이썬스럽게 만들 수 있는 몇 가지 방법에 대해 배웠습니다. 그러나 프로그래밍이라는 것은 본질적으로 컴퓨터가 우리를 위해 작동하도록 만드는 것뿐만 아니라 컴퓨터가 수행해야 하는 작업의 양을 최적화하는 것까지를 포함합니다. 이와 관련하여 우리가 고려할 수 있는 여러 유형의 작업들이 존재합니다. 여기서 우리는 그 중에서도 코드의 세 가지 주요 병목 현상들에 대해서 살펴볼 예정입니다.\n",
        "\n",
        "1. 계산 복잡도(**Computational Complexity**) - 얼마나 많은 수의 지시사항이 실행되어야 하는가??\n",
        "2. 메모리 니즈(**Memory Needs**) - 얼마나 많은 메모리가 필요한가?\n",
        "3. 입출력(**I/O**) - 얼마나 많은 입력과 출력, 혹은 얼마나 많은 수의 네트워크가 필요한가?\n",
        "\n",
        "알고리즘(**algorithms**)이라는 것은 쉽게 말해 문제를 해결하는 절차입니다. 이것은 일련의 작업을 설명하고 수행할 때 문제에 대한 솔루션을 제공합니다. 많은 유형의 알고리즘들이 있으며, 일부는 솔루션을 찾는 것이 보장되나 또다른 일부는 그렇지 않기도 합니다. 우리는 위에 나열된 세 가지 병목 현상(및 기타)의 관점에서 알고리즘의 성능을 이해하는 데 관심이 있습니다. 이러한 알고리즘을 분석하려면 알고리즘이 **문제 크기의 함수**로 작동하는 방식을 이해하는 몇 가지 도구들이 필요합니다.\n",
        "\n",
        "## 빅오 (Big O)\n",
        "\n",
        "특정 알고리즘의 복잡성을 정량화하기 위해서는 우선 문제의 크기에 따라 알고리즘이 어떻게 커지는가를 고려해야 합니다. 여기서 우리는 단순히 1차원적인 문제만 고려할 것이므로, $N$로 표시되는 단일 숫자로 알고리즘을 계량화시킬 수 있습니다. 복잡성이라는 것은 문제 자체에 기인하는 것이 아니라 알고리즘적 솔루션에 기인하는 것입니다. 예를 들어, 1부터 $N$까지의 모든 정수를 더하는 문제를 고려해보겠습니다. 숫자의 총합을 계산하기 위해서는 모든 숫자들이 필요합니다."
      ]
    },
    {
      "cell_type": "code",
      "metadata": {
        "id": "6p63-vn9j4Od"
      },
      "source": [
        "def sum_num(N):\n",
        "    sum_ = 0\n",
        "    for n in range(N + 1):\n",
        "        sum_ += n\n",
        "    return sum_"
      ],
      "execution_count": 1,
      "outputs": []
    },
    {
      "cell_type": "markdown",
      "metadata": {
        "id": "lY9IorTUj4Of"
      },
      "source": [
        "위의 알고리즘은 $O(N)$라고 표기할 수 있습니다. 그 이유는 해당 작업을 수행하기 위해 총 $N$번의 작업이 필요하기 때문입니다. 여기서 우리는 $N$에 대해 가장 영향력이 큰 함수만을 고려하기 때문에, 우리의 목적상 $O(N)$과 $O(N+1)$, 그리고 $O(2N)$은 거의 유사하다고 볼 수 있습니다.\n",
        "\n",
        "그러나 숫자의 합이 어떻게 되는지를 조금만 생각해본다면, 가우스의 방법론에 의해 합산 규칙은 다음과 같게 됩니다.\n",
        "$$\\sum_{n=1}^{N} n = \\frac{N(N+1)}{2}$$"
      ]
    },
    {
      "cell_type": "code",
      "metadata": {
        "id": "qOiGurK1j4Oh"
      },
      "source": [
        "def sum_gauss(N):\n",
        "    return N*(N+1)//2 # We can use integer division here, why?"
      ],
      "execution_count": 2,
      "outputs": []
    },
    {
      "cell_type": "markdown",
      "metadata": {
        "id": "u4YGrpqpj4Oj"
      },
      "source": [
        "이 알고리즘은 이제 더이상 $N$의 크기에 의존하지 않습니다. 그렇기 때문에 이 알고리즘은 결국 $O(1)$입니다. 이 알고리즘이 이전에 구현한 알고리즘과 같은 답을 주는지 한 번 확인해보겠습니다."
      ]
    },
    {
      "cell_type": "code",
      "metadata": {
        "id": "0H0kJe1Pj4Ol"
      },
      "source": [
        "for N in range(100):\n",
        "    assert sum_num(N) == sum_gauss(N)"
      ],
      "execution_count": 3,
      "outputs": []
    },
    {
      "cell_type": "markdown",
      "metadata": {
        "id": "qYuH6p2vj4Oo"
      },
      "source": [
        "이제 이러한 함수를 $N$의 함수로 계산하는 데 걸리는 시간을 표시해 보겠습니다. 시각화를 위해서는 `matplotlib`라는 패키지를 사용할 것입니다. 새로운 패키지가 나왔다고 해서 걱정하지 않아도 됩니다. 우리는 이를 나중에 다시 차근차근 배울 것이기 때문입니다.\n",
        "\n",
        "이제 이 두 알고리즘을 모두 수행하는 데 걸리는 시간을 측정할 것입니다. 이를 위해 여러 실행들의 평균을 취해 보겠습니다."
      ]
    },
    {
      "cell_type": "code",
      "metadata": {
        "id": "9iVxlz7xj4Oq"
      },
      "source": [
        "import matplotlib.pyplot as plt\n",
        "import time\n",
        "\n",
        "def compute(n_avgs, func, N):\n",
        "    times = []\n",
        "    for _ in range(n_avgs):\n",
        "        ts = time.time()\n",
        "        func(N)\n",
        "        times.append(time.time() - ts)\n",
        "    return sum(times)/float(len(times)) * 1000 # milliseconds\n",
        "\n",
        "n_avgs = 100\n",
        "time_sum = []\n",
        "time_gauss = []\n",
        "N_range = range(10,100000, 5000)\n",
        "for N in N_range:\n",
        "    time_sum.append(compute(n_avgs, sum_num, N))\n",
        "    time_gauss.append(compute(n_avgs, sum_gauss, N))"
      ],
      "execution_count": 4,
      "outputs": []
    },
    {
      "cell_type": "code",
      "metadata": {
        "id": "n7umx1V8j4Or",
        "colab": {
          "base_uri": "https://localhost:8080/",
          "height": 279
        },
        "outputId": "099af2d8-58d2-4e9c-cba5-35fdc191bdfc"
      },
      "source": [
        "plt.plot(N_range, time_sum, 'o-', label='Sum Numbers')\n",
        "plt.plot(N_range, time_gauss, 'o-', label='Gauss')\n",
        "plt.xlabel('N')\n",
        "plt.ylabel('Average time (ms)')\n",
        "plt.legend();"
      ],
      "execution_count": 5,
      "outputs": [
        {
          "output_type": "display_data",
          "data": {
            "image/png": "[encoded data removed]",
            "text/plain": [
              "<Figure size 432x288 with 1 Axes>"
            ]
          },
          "metadata": {
            "needs_background": "light"
          }
        }
      ]
    },
    {
      "cell_type": "markdown",
      "metadata": {
        "id": "3gzeQFpaj4Os"
      },
      "source": [
        "## 계산 복잡도 (Computational Complexity)\n",
        "\n",
        "데이터 과학자로서 발견할 수 있는 일반적인 문제의 한 버전을 해결해보겠습니다. 과연 데이터를 어떻게 저장해야 할까요? 만약 우리의 데이터가 숫자 목록이며, 이를 리스트에 저장해야 한다고 해보겠습니다. 이런 경우, 우리는 어떻게 스토리지를 최적화할 수 있을까요?\n",
        "\n",
        "리스트를 사용해 작업을 수행하고자 할 때의 몇 가지 상충관계에 대해 생각해보겠습니다.\n",
        "\n",
        "### 요소를 찾는 일 (Finding an element)\n",
        "\n",
        "리스트에서 요소를 찾고 싶은데 해당 리스트에 대해 아무것도 알지 못하는 경우 우리는 어쩔 수 없이 리스트의 모든 요소를 ​​확인하여 해당 요소가 있는지 확인해야 합니다. 아래에 이를 수행하는 함수를 작성해 보겠습니다."
      ]
    },
    {
      "cell_type": "code",
      "metadata": {
        "id": "98il-plHj4Ot"
      },
      "source": [
        "def find_ele(list_, ele):\n",
        "    for i in list_:\n",
        "        if i == ele:\n",
        "            return True\n",
        "    return False"
      ],
      "execution_count": 6,
      "outputs": []
    },
    {
      "cell_type": "markdown",
      "metadata": {
        "id": "cWfAA-U4j4Ov"
      },
      "source": [
        "이를 테스트하기 위해 `random` 모듈을 사용하여 $0$에서 $10 * N$ 사이의 난수 목록을 생성합니다. 여기서 $N$은 원하는 리스트의 길이입니다."
      ]
    },
    {
      "cell_type": "code",
      "metadata": {
        "id": "UdFx4RkIj4Ov"
      },
      "source": [
        "import random\n",
        "def random_list(N, sort=False):\n",
        "    list_ = [random.randint(0, 10*N) for _ in range(N)]\n",
        "    return sorted(list_) if sort else list_"
      ],
      "execution_count": 7,
      "outputs": []
    },
    {
      "cell_type": "code",
      "metadata": {
        "id": "PBV5fdt8j4Ox",
        "colab": {
          "base_uri": "https://localhost:8080/"
        },
        "outputId": "fc9e5145-d360-4b49-93af-fae4fb2337f2"
      },
      "source": [
        "random_list(5)"
      ],
      "execution_count": 8,
      "outputs": [
        {
          "output_type": "execute_result",
          "data": {
            "text/plain": [
              "[22, 20, 24, 27, 5]"
            ]
          },
          "metadata": {},
          "execution_count": 8
        }
      ]
    },
    {
      "cell_type": "code",
      "metadata": {
        "id": "PDOXxhlmj4Oy"
      },
      "source": [
        "import numpy as np\n",
        "\n",
        "def time_func(func, *args):\n",
        "    ts = time.time()\n",
        "    func(*args)\n",
        "    return time.time() - ts\n",
        "\n",
        "def compute_with_list(n_avgs, N, sort, *funcs):\n",
        "    ans = []\n",
        "    for _ in range(n_avgs):\n",
        "        list_r = random_list(N, sort)\n",
        "        n_to_find = random.randint(0, 10*N)\n",
        "        ans.append([time_func(func, list_r, n_to_find)\n",
        "                for func in funcs])\n",
        "    # now find avg\n",
        "    return np.array(ans).mean(axis=0)*1000\n",
        "    \n",
        "\n",
        "n_avgs = 40\n",
        "N_range = range(10, 100000, 10000)\n",
        "time_list = np.array([compute_with_list(n_avgs, N, False, find_ele) for N in N_range])"
      ],
      "execution_count": 9,
      "outputs": []
    },
    {
      "cell_type": "code",
      "metadata": {
        "id": "_kmNY1Xej4Oz",
        "colab": {
          "base_uri": "https://localhost:8080/",
          "height": 265
        },
        "outputId": "baadfd88-9a17-45c2-a67d-0a2c032c1d61"
      },
      "source": [
        "plt.plot(N_range, time_list, 'o-');"
      ],
      "execution_count": 10,
      "outputs": [
        {
          "output_type": "display_data",
          "data": {
            "image/png": "[encoded data removed]",
            "text/plain": [
              "<Figure size 432x288 with 1 Axes>"
            ]
          },
          "metadata": {
            "needs_background": "light"
          }
        }
      ]
    },
    {
      "cell_type": "markdown",
      "metadata": {
        "id": "qxm4_vUPj4O0"
      },
      "source": [
        "이 목록이 만약 정렬되었다는 것을 알고 있다고 가정할 때, 우리는 약간 다른 접근 방식을 취할 수도 있습니다. 정렬 자체는 $N\\log(N)$ 복잡성이므로 정렬된 리스트에 대해 최적화된 검색을 수행할 수 있지만, 일반적으로 정렬한 다음 요소를 찾는 것이 더 빠르지는 않습니다. 그러나 자주 검색할 것이라는 것을 우리가 알고 있다면, 리스트를 정렬된 구조로 작성할 수 있으며 지금은 이미 그렇게 했다고 가정해보겠습니다.\n",
        "\n",
        "우리가 수행할 수 있는 가장 기본적인 최적화는 우리가 찾고 있는 것보다 더 큰 숫자를 볼 때까지만 확인하는 것입니다. 즉, 리스트가 정렬되어 있다는 것을 이미 알고 있기 때문에, 리스트의 나머지 부분에서는 숫자가 없을 것이라는 것이 보장됩니다."
      ]
    },
    {
      "cell_type": "code",
      "metadata": {
        "id": "x0wAeWZEj4O2"
      },
      "source": [
        "def find_ele_sorted(list_, ele):\n",
        "    for i in list_:\n",
        "        if i == ele:\n",
        "            return True\n",
        "        if i > ele:\n",
        "            return False\n",
        "    return False\n",
        "\n",
        "n_avgs = 40\n",
        "N_range = range(10, 100000, 10000)\n",
        "time_list = np.array([compute_with_list(n_avgs, N, True, find_ele, find_ele_sorted) for N in N_range])"
      ],
      "execution_count": 11,
      "outputs": []
    },
    {
      "cell_type": "code",
      "metadata": {
        "id": "meMb_rhKj4O3",
        "colab": {
          "base_uri": "https://localhost:8080/",
          "height": 265
        },
        "outputId": "e65222a7-ca28-42ad-934d-f56e1e1ed498"
      },
      "source": [
        "plt.plot(N_range, time_list[:,0], 'o-', label='find_ele')\n",
        "plt.plot(N_range, time_list[:,1], 'o-', label='find_ele_sorted')\n",
        "plt.legend();"
      ],
      "execution_count": 12,
      "outputs": [
        {
          "output_type": "display_data",
          "data": {
            "image/png": "[encoded data removed]",
            "text/plain": [
              "<Figure size 432x288 with 1 Axes>"
            ]
          },
          "metadata": {
            "needs_background": "light"
          }
        }
      ]
    },
    {
      "cell_type": "markdown",
      "metadata": {
        "id": "ZXAlDYWFj4O4"
      },
      "source": [
        "정렬을 사용하는 것은 평균적으로 더 나은 방법이지만 이는 여전히 동일한 $O(N)$ 런타임을 갖습니다. 이러한 최적화는 유용합니다. 하지만 이보다 더 나은 방법이 있습니다. 바이너리 검색(**binary search**)이라고 하는 것을 구현할 수 있기 때문입니다. 이것은 각 재귀 단계에서 리스트를 대략 반으로 나눌 수 있는 재귀 알고리즘이며, 이는 로그 점근적 실행 시간을 산출합니다. 먼저 `l_=[1,2,3,4,5,6,7,8,9,10,11]`인 예제를 통해 알고리즘을 설명하고 리스트에 2가 포함되어 있는지 확인하려고 합니다. .\n",
        "\n",
        "먼저 리스트의 중간지점인 6을 확인합니다. 2가 6과 같지 않다는 것을 알고 있지만 리스트가 정렬되어 있으므로 리스트에서 6보다 큰 숫자를 포함하는 부분은 즉시 배제할 수 있습니다. 따라서 우리는 이미 리스트 요소의 절반을 제거할 수 있습니다.\n",
        "\n",
        "이제 리스트 `[1,2,3,4,5]`에 2가 포함되어 있는가를 질문할 수 있습니다. 또다시 리스트의 중간 요소인 3을 확인합니다. 3이 2가 아니라는 것을 알고 있기 때문에 $3>2$이므로 리스트의 절반을 제거할 수 있습니다.\n",
        "\n",
        "다음으로 리스트 `[1,2]`에 2가 포함되어 있는지를 확인할 수 있습니다. 이 리스트의 중간점은 `1`의 인덱스 값을 갖는 사용합니다($len(list)/2=1$이기 때문에). 이것은 2와 같습니다. 따라서 2는 원래의 리스트에 존재합니다.\n",
        "\n",
        "매번 리스트의 절반을 제거하기 때문에 단계 수는 대략 $log(N)$가 될 것으로 예상됩니다. 여기서 로그는 밑이 2인 것으로 이해됩니다. 이 함수를 $N$와 비교하여 도표를 만들어 보겠습니다."
      ]
    },
    {
      "cell_type": "code",
      "metadata": {
        "id": "KSlcnHukj4O5",
        "colab": {
          "base_uri": "https://localhost:8080/",
          "height": 279
        },
        "outputId": "6a93a04b-2626-4d65-a1ad-20514efcfc45"
      },
      "source": [
        "x = np.linspace(10, 2000, 200)\n",
        "plt.plot(x, np.log(x)/x)\n",
        "plt.xlabel('N')\n",
        "plt.ylabel(r'$\\log(x)/x$');"
      ],
      "execution_count": 13,
      "outputs": [
        {
          "output_type": "display_data",
          "data": {
            "image/png": "[encoded data removed]",
            "text/plain": [
              "<Figure size 432x288 with 1 Axes>"
            ]
          },
          "metadata": {
            "needs_background": "light"
          }
        }
      ]
    },
    {
      "cell_type": "markdown",
      "metadata": {
        "id": "P8JBdHQrj4O6"
      },
      "source": [
        "이제 이를 다른 검색 알고리즘과 비교해보겠습니다."
      ]
    },
    {
      "cell_type": "code",
      "metadata": {
        "id": "NRatZn3yj4O6"
      },
      "source": [
        "def find_ele_binary(l_, ele):\n",
        "    if len(l_) < 1:\n",
        "        return False\n",
        "    mid_point = len(l_)//2\n",
        "    if l_[mid_point] == ele:\n",
        "        return True\n",
        "    elif l_[mid_point] > ele:\n",
        "        return find_ele_binary(l_[:mid_point], ele)\n",
        "    else:\n",
        "        return find_ele_binary(l_[mid_point+1:], ele)"
      ],
      "execution_count": 14,
      "outputs": []
    },
    {
      "cell_type": "code",
      "metadata": {
        "id": "YurfbJyuj4O7"
      },
      "source": [
        "n_avgs = 50\n",
        "N_range = np.arange(1000, 70000, 8000)\n",
        "time_list = np.array([compute_with_list(n_avgs, N, True, find_ele_sorted, find_ele_binary) for N in N_range])"
      ],
      "execution_count": 15,
      "outputs": []
    },
    {
      "cell_type": "code",
      "metadata": {
        "id": "QOJjrH9Dj4O8",
        "colab": {
          "base_uri": "https://localhost:8080/",
          "height": 265
        },
        "outputId": "0946c4de-ef2e-4a41-9240-625a5ce52566"
      },
      "source": [
        "for i, func in enumerate(['find_ele_sorted', 'find_ele_binary']):\n",
        "    l, = plt.plot(N_range, 2**time_list[:, i], 'o-', label=func)\n",
        "    # fit a line to the exponent\n",
        "    p = np.polyfit(N_range, 2**time_list[:, i], 1)\n",
        "    plt.plot(N_range, N_range * p[0] + p[1], color=l.get_color())\n",
        "\n",
        "plt.legend();"
      ],
      "execution_count": 16,
      "outputs": [
        {
          "output_type": "display_data",
          "data": {
            "image/png": "[encoded data removed]",
            "text/plain": [
              "<Figure size 432x288 with 1 Axes>"
            ]
          },
          "metadata": {
            "needs_background": "light"
          }
        }
      ]
    },
    {
      "cell_type": "markdown",
      "metadata": {
        "id": "r_HGa_9ij4O9"
      },
      "source": [
        "## 메모이제이션 (Memoization)\n",
        "\n",
        "종종 우리는 이미 계산한 것을 다시 계산하지 않음으로써 성능 향상을 얻을 수도 있습니다. 이전 시간에 다루었던 재귀적 피보나치 수열을 다시 살펴보겠습니다."
      ]
    },
    {
      "cell_type": "code",
      "metadata": {
        "id": "3RJ2ZS7nj4O-"
      },
      "source": [
        "def fibonacci_recursive(n):\n",
        "    if n == 0:\n",
        "        return 0\n",
        "    elif n == 1:\n",
        "        return 1\n",
        "    else:\n",
        "        return fibonacci_recursive(n-1)  + fibonacci_recursive(n-2)"
      ],
      "execution_count": 17,
      "outputs": []
    },
    {
      "cell_type": "markdown",
      "metadata": {
        "id": "IMa53jfsj4O-"
      },
      "source": [
        "각 요소에서 함수를 호출한 횟수를 추적하는 새로운 함수를 만들어 보겠습니다."
      ]
    },
    {
      "cell_type": "code",
      "metadata": {
        "id": "cAvfIONIj4O_"
      },
      "source": [
        "from collections import defaultdict\n",
        "def fibonacci_count(n, d):\n",
        "    d[n] += 1\n",
        "    if n == 0:\n",
        "        return 0, d\n",
        "    elif n == 1:\n",
        "        return 1, d\n",
        "    else:\n",
        "        n1, _ = fibonacci_count(n-1, d)\n",
        "        n2, _ = fibonacci_count(n-2, d)\n",
        "        return n1 + n2, d"
      ],
      "execution_count": 18,
      "outputs": []
    },
    {
      "cell_type": "markdown",
      "metadata": {
        "id": "JwYG00Roj4PA"
      },
      "source": [
        "$N=5$에 대해 동작하는 것을 확인해 보겠습니다."
      ]
    },
    {
      "cell_type": "code",
      "metadata": {
        "id": "B5MECo7bj4PB",
        "colab": {
          "base_uri": "https://localhost:8080/"
        },
        "outputId": "b7cb4968-62e5-49bf-c26f-651b02d10855"
      },
      "source": [
        "N = 5\n",
        "ans, d = fibonacci_count(N, defaultdict(int))\n",
        "for i in range(N):\n",
        "    print(i, d[i])"
      ],
      "execution_count": 19,
      "outputs": [
        {
          "output_type": "stream",
          "name": "stdout",
          "text": [
            "0 3\n",
            "1 5\n",
            "2 3\n",
            "3 2\n",
            "4 1\n"
          ]
        }
      ]
    },
    {
      "cell_type": "markdown",
      "metadata": {
        "id": "fXjs5mtyj4PB"
      },
      "source": [
        "\n",
        "              5\n",
        "          4       3\n",
        "         3 2     2 1\n",
        "       2 1 1 0  1 0\n",
        "      1 0"
      ]
    },
    {
      "cell_type": "markdown",
      "metadata": {
        "id": "JtIwi3Z_j4PD"
      },
      "source": [
        "이제 $N=25$일 때입니다."
      ]
    },
    {
      "cell_type": "code",
      "metadata": {
        "id": "6lor7RK-j4PD",
        "colab": {
          "base_uri": "https://localhost:8080/"
        },
        "outputId": "9ce8325a-b08e-44ae-fc99-dec40504544c"
      },
      "source": [
        "N = 25\n",
        "ans, d = fibonacci_count(N, defaultdict(int))\n",
        "print(ans)\n",
        "for i in range(N):\n",
        "    print(i, d[i])"
      ],
      "execution_count": 20,
      "outputs": [
        {
          "output_type": "stream",
          "name": "stdout",
          "text": [
            "75025\n",
            "0 46368\n",
            "1 75025\n",
            "2 46368\n",
            "3 28657\n",
            "4 17711\n",
            "5 10946\n",
            "6 6765\n",
            "7 4181\n",
            "8 2584\n",
            "9 1597\n",
            "10 987\n",
            "11 610\n",
            "12 377\n",
            "13 233\n",
            "14 144\n",
            "15 89\n",
            "16 55\n",
            "17 34\n",
            "18 21\n",
            "19 13\n",
            "20 8\n",
            "21 5\n",
            "22 3\n",
            "23 2\n",
            "24 1\n"
          ]
        }
      ]
    },
    {
      "cell_type": "markdown",
      "metadata": {
        "id": "6kLGGuIcj4PE"
      },
      "source": [
        "동일한 인수에 대해 함수를 수천 번 호출하고 있음에 주목해야 합니다. 이런한 상황에서 만약 문제에 대한 답을 계산하는 대신 이를 메모리에 저장해놓는다면, 과연 더 빠르게 문제를 풀 수 있을까요?"
      ]
    },
    {
      "cell_type": "code",
      "metadata": {
        "id": "BZM4c2Itj4PE"
      },
      "source": [
        "def fibonacci_mem(n, d):\n",
        "    if n in d:\n",
        "        return d[n]\n",
        "    elif n == 0:\n",
        "        ans = 0\n",
        "    elif n == 1:\n",
        "        ans = 1\n",
        "    else:\n",
        "        ans = fibonacci_mem(n-1, d) + fibonacci_mem(n-2, d)\n",
        "    d[n] = ans\n",
        "    return ans"
      ],
      "execution_count": 21,
      "outputs": []
    },
    {
      "cell_type": "code",
      "metadata": {
        "id": "OzOqNSl3j4PF",
        "colab": {
          "base_uri": "https://localhost:8080/"
        },
        "outputId": "82da1fa3-c792-4d3c-b6a1-522f5eaf0a21"
      },
      "source": [
        "%%timeit\n",
        "fibonacci_mem(33, {0:0,1:1})"
      ],
      "execution_count": 22,
      "outputs": [
        {
          "output_type": "stream",
          "name": "stdout",
          "text": [
            "100000 loops, best of 5: 15.1 µs per loop\n"
          ]
        }
      ]
    },
    {
      "cell_type": "code",
      "metadata": {
        "id": "hx_9YN34j4PG",
        "colab": {
          "base_uri": "https://localhost:8080/"
        },
        "outputId": "48e48cfd-7ac3-431d-bc69-f203128c8467"
      },
      "source": [
        "%%timeit\n",
        "fibonacci_recursive(33)"
      ],
      "execution_count": 23,
      "outputs": [
        {
          "output_type": "stream",
          "name": "stdout",
          "text": [
            "1 loop, best of 5: 1.86 s per loop\n"
          ]
        }
      ]
    },
    {
      "cell_type": "code",
      "metadata": {
        "id": "AWUekuQaj4PH",
        "colab": {
          "base_uri": "https://localhost:8080/"
        },
        "outputId": "3d68184c-a9ca-43c9-b2bb-f839a8f98636"
      },
      "source": [
        "fibonacci_mem(33, {}) == fibonacci_recursive(33)"
      ],
      "execution_count": 24,
      "outputs": [
        {
          "output_type": "execute_result",
          "data": {
            "text/plain": [
              "True"
            ]
          },
          "metadata": {},
          "execution_count": 24
        }
      ]
    },
    {
      "cell_type": "markdown",
      "metadata": {
        "id": "MY3ZyzVlj4PH"
      },
      "source": [
        "메모이제이션을 사용한 솔루션이 훨씬 더 빠른 것을 볼 수 있습니다. 이는 단순한 재귀 솔루션에 비해 몇 배 더 빠릅니다. 하지만 문제는 비용이 든다는 것입니다. 계산량을 절약하더라도 이전 결과를 저장하기 위해서는 더 많은 메모리를 사용해야 합니다. 그렇기 때문에 계산 복잡도와 메모리 니즈에는 자연스럽게 상충관계가 존재합니다."
      ]
    },
    {
      "cell_type": "markdown",
      "metadata": {
        "id": "wTORbBp8j4PK"
      },
      "source": [
        "## 결론: 데이터 구조를 현명하게 선택할 것\n",
        "\n",
        "정렬 섹션에서 알 수 있듯이 우리가 사용하는 데이터 구조의 유형은 종종 알고리즘 선택과 관련이 있습니다. 예를 들어, 정렬된 데이터가 아직 없다면 이진 검색을 사용하고 싶지 않을 것입니다. 바이너리 검색을 위해서는 먼저 데이트를 정렬해야 하는데 그렇게 된다면 이는 바이너리 검색으로 인한 알고리즘의 향상을 무효화시키기 때문입니다. (정렬은 $O(N)$보다 나쁩니다.)\n",
        "\n",
        "결국 각각의 데이터 구조는 각각의 알고리즘 목적에 따라 부합하기도 하고 그렇지 않기도 합니다. 그렇기 때문에 알고리즘의 목적에 따라 적절한 데이터 구조를 선택하는 것일 필요합니다."
      ]
    },
    {
      "cell_type": "markdown",
      "metadata": {
        "id": "Jg40GRiWj4PL"
      },
      "source": [
        "*Copyright 2021.* 퀀트대디. *This content is licensed solely for personal use. Redistribution or publication of this material is strictly prohibited.*"
      ]
    }
  ]
}