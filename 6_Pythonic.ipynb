{
  "nbformat": 4,
  "nbformat_minor": 0,
  "metadata": {
    "kernelspec": {
      "display_name": "Python 3",
      "language": "python",
      "name": "python3"
    },
    "nbclean": true,
    "colab": {
      "name": "6_Pythonic.ipynb",
      "provenance": [],
      "collapsed_sections": [],
      "include_colab_link": true
    }
  },
  "cells": [
    {
      "cell_type": "markdown",
      "metadata": {
        "id": "view-in-github",
        "colab_type": "text"
      },
      "source": [
        "<a href=\"https://colab.research.google.com/github/davidkim0523/Python-Basics-and-Data-Science/blob/main/6_Pythonic.ipynb\" target=\"_parent\"><img src=\"https://colab.research.google.com/assets/colab-badge.svg\" alt=\"Open In Colab\"/></a>"
      ]
    },
    {
      "cell_type": "markdown",
      "metadata": {
        "id": "DYgSSV7xVjqS"
      },
      "source": [
        "# 파이썬 코드 스타일 (Pythonisms)"
      ]
    },
    {
      "cell_type": "markdown",
      "metadata": {
        "id": "epo2OR2bVjqT"
      },
      "source": [
        "여기서 다룰 내용들은 다음과 같습니다.\n",
        "\n",
        "* 파이썬 코드 스타일이란?\n",
        "* 부동소수점 나누기\n",
        "* 파이썬 `import` 시스템\n",
        "* 예외 처리\n",
        "* 파이썬 디버깅을 어떻게 할까?\n",
        "\n",
        "파이썬 스타일이라고 하는 것의 의미를 살펴보는데서부터 시작을 해보겠습니다."
      ]
    },
    {
      "cell_type": "markdown",
      "metadata": {
        "id": "2uRoUCknVjqT"
      },
      "source": [
        "## 파이써닉 `Pythonic`\n",
        "\n",
        "파이썬을 배울 때 특정 항목들이 `Pythonic`하다고 주장하는 블로그 및 기타 웹 리소스를 볼 수 있습니다. 파이썬은 주로 [파이썬의 선(**Zen of Python**)](https://www.python.org/dev/peps/pep-0020/)에 기반한 독단적인 구현 방식을 가지고 있습니다."
      ]
    },
    {
      "cell_type": "code",
      "metadata": {
        "id": "gvq276IvVjqU",
        "colab": {
          "base_uri": "https://localhost:8080/"
        },
        "outputId": "8994a93c-16aa-4563-a4d3-a378a035e82d"
      },
      "source": [
        "import this"
      ],
      "execution_count": null,
      "outputs": [
        {
          "output_type": "stream",
          "name": "stdout",
          "text": [
            "The Zen of Python, by Tim Peters\n",
            "\n",
            "Beautiful is better than ugly.\n",
            "Explicit is better than implicit.\n",
            "Simple is better than complex.\n",
            "Complex is better than complicated.\n",
            "Flat is better than nested.\n",
            "Sparse is better than dense.\n",
            "Readability counts.\n",
            "Special cases aren't special enough to break the rules.\n",
            "Although practicality beats purity.\n",
            "Errors should never pass silently.\n",
            "Unless explicitly silenced.\n",
            "In the face of ambiguity, refuse the temptation to guess.\n",
            "There should be one-- and preferably only one --obvious way to do it.\n",
            "Although that way may not be obvious at first unless you're Dutch.\n",
            "Now is better than never.\n",
            "Although never is often better than *right* now.\n",
            "If the implementation is hard to explain, it's a bad idea.\n",
            "If the implementation is easy to explain, it may be a good idea.\n",
            "Namespaces are one honking great idea -- let's do more of those!\n"
          ]
        }
      ]
    },
    {
      "cell_type": "markdown",
      "metadata": {
        "id": "co5SUCyaVjqU"
      },
      "source": [
        "`Pythonic` 방식은 일반적인 파이썬 커뮤니티에서 선호하는 구현 방식입니다. 어떨 때는 이것이 순전히 스타일적인 고려 사항일 수 있고, 또 다른 경우에는 이것이 파이썬 실행 방식과 관련이 있을 수도 있습니다.\n",
        "\n",
        "코드를 `Pythonic`하게 만드는 것은 다른 파이썬 프로그래머와 상호작용을 해야하는 경우 매우 유용합니다. 그 이유는 결국 프로그래밍 언어라는 것이 언어이기 때문에 다른 프로그래머가 여러분들의 코드를 읽고 해석하는 것에 어려움을 느끼지 않아야 하기 때문입니다. 코드 스타일 혹은 구현 관행이라는 것이 존재하는 이유입니다."
      ]
    },
    {
      "cell_type": "markdown",
      "metadata": {
        "id": "0mWf1CcXVjqV"
      },
      "source": [
        "## 모듈 가져오기 (Imports)\n",
        "\n",
        "위의 셀에서 `import <package>` 구문을 사용했음을 알 수 있습니다. 이 구문을  사용하면 다른 파이썬 파일 혹은 보다 일반적으로 사용되는 모듈(파일 모음) 및 패키지(모듈 모음)의 코드를 불러올 수 있습니다. \n",
        "\n",
        "모듈이나 패키지는 불러오기 위해서는 우선 먼저 패키지들이 이미 설치가 되어있어야 합니다. 패키지 설치를 위해서는 아래의 두 가지 도구 중 하나를 선택하여 설치를 진행해야 합니다.\n",
        "\n",
        "- conda\n",
        "- pip\n",
        "\n",
        "`import` 명령으로 설치된 패키지를 가져올 수 있으며, 혹은 패키지의 일부만을 가져올 수도 있습니다. 예를 들어, 이 과정에서 사용할 패키지 중 하나는 `pandas`입니다. 우리는 아래와 같은 구문을 사용해 `pandas` 패키지를 불러올 수 있습니다."
      ]
    },
    {
      "cell_type": "code",
      "metadata": {
        "id": "SthUyXGGVjqW",
        "colab": {
          "base_uri": "https://localhost:8080/"
        },
        "outputId": "4f44a121-ea8f-4c07-9151-2beb49f2c5e2"
      },
      "source": [
        "import pandas\n",
        "pandas"
      ],
      "execution_count": null,
      "outputs": [
        {
          "output_type": "execute_result",
          "data": {
            "text/plain": [
              "<module 'pandas' from '/usr/local/lib/python3.7/dist-packages/pandas/__init__.py'>"
            ]
          },
          "metadata": {},
          "execution_count": 1
        }
      ]
    },
    {
      "cell_type": "markdown",
      "metadata": {
        "id": "RqN1XVOHVjqY"
      },
      "source": [
        "파이썬의 관행상 `pandas`를 그 이름 그대로 가져올 수도 있지만, 일반적으로는 코드를 타이핑하는 시간을 절약하고자 패키지 이름을 축약하여 불러옵니다. 아래는  `pandas` 패키지를 `pd`라는 이름으로 불러온 예시입니다."
      ]
    },
    {
      "cell_type": "code",
      "metadata": {
        "id": "T8xt5QOzVjqY",
        "colab": {
          "base_uri": "https://localhost:8080/"
        },
        "outputId": "071e6cdc-7446-459b-b7e1-c7aaf3d689a4"
      },
      "source": [
        "import pandas as pd\n",
        "pd"
      ],
      "execution_count": null,
      "outputs": [
        {
          "output_type": "execute_result",
          "data": {
            "text/plain": [
              "<module 'pandas' from '/usr/local/lib/python3.7/dist-packages/pandas/__init__.py'>"
            ]
          },
          "metadata": {},
          "execution_count": 2
        }
      ]
    },
    {
      "cell_type": "markdown",
      "metadata": {
        "id": "yT_zXTFeVjqZ"
      },
      "source": [
        "Now when we want to use a function or class from pandas, we need to call it with the syntax `pd.function` or `pd.class`.  For example, the `DataFrame` object\n",
        "\n",
        "이제 pandas의 함수나 클래스를 사용하려면 `pd.function` 또는 `pd.class` 와 같은 구문을 사용하면 됩니다. 예를 들어, pandas의 `DataFrame` 객체를 사용하기 위해서는 `pd.DataFrame`이라고 입력을 하면 됩니다."
      ]
    },
    {
      "cell_type": "code",
      "metadata": {
        "id": "O6VnqOXkVjqZ",
        "colab": {
          "base_uri": "https://localhost:8080/"
        },
        "outputId": "1985923c-0bcb-4beb-a5e2-2cee12107f3f"
      },
      "source": [
        "pd.DataFrame"
      ],
      "execution_count": null,
      "outputs": [
        {
          "output_type": "execute_result",
          "data": {
            "text/plain": [
              "pandas.core.frame.DataFrame"
            ]
          },
          "metadata": {},
          "execution_count": 3
        }
      ]
    },
    {
      "cell_type": "markdown",
      "metadata": {
        "id": "DrOZWI5nVjqZ"
      },
      "source": [
        "주의해야할 점은 이렇게 패키지를 불러온 경우에는 사용하고자 하는 패키지의 속성이나 메서드의 앞에 반드시 임포트했을 때의 이름을 붙여주어야 한다는 것입니다. 그렇지 않으면 오류가 발생합니다."
      ]
    },
    {
      "cell_type": "code",
      "metadata": {
        "id": "Wc25dkyVVjqZ",
        "colab": {
          "base_uri": "https://localhost:8080/",
          "height": 176
        },
        "outputId": "67d3c237-f954-4b1d-bc28-cf78d2eb92e9"
      },
      "source": [
        "DataFrame"
      ],
      "execution_count": null,
      "outputs": [
        {
          "output_type": "error",
          "ename": "NameError",
          "evalue": "ignored",
          "traceback": [
            "\u001b[0;31m---------------------------------------------------------------------------\u001b[0m",
            "\u001b[0;31mNameError\u001b[0m                                 Traceback (most recent call last)",
            "\u001b[0;32m<ipython-input-5-be86a8bcaa5e>\u001b[0m in \u001b[0;36m<module>\u001b[0;34m()\u001b[0m\n\u001b[0;32m----> 1\u001b[0;31m \u001b[0mDataFrame\u001b[0m\u001b[0;34m\u001b[0m\u001b[0;34m\u001b[0m\u001b[0m\n\u001b[0m",
            "\u001b[0;31mNameError\u001b[0m: name 'DataFrame' is not defined"
          ]
        }
      ]
    },
    {
      "cell_type": "markdown",
      "metadata": {
        "id": "cfdE319lVjqa"
      },
      "source": [
        "`from`과 같이 사용한다면, 패키지의 일부만 불러올 수도 있고 또 불러와서 다른 이름으로 지정을 할 수도 있습니다."
      ]
    },
    {
      "cell_type": "code",
      "metadata": {
        "id": "dcvElpJRVjqa",
        "colab": {
          "base_uri": "https://localhost:8080/"
        },
        "outputId": "5909caa2-200b-4b55-a47d-79851f7a8b2c"
      },
      "source": [
        "from pandas import DataFrame as dframe\n",
        "dframe"
      ],
      "execution_count": null,
      "outputs": [
        {
          "output_type": "execute_result",
          "data": {
            "text/plain": [
              "pandas.core.frame.DataFrame"
            ]
          },
          "metadata": {},
          "execution_count": 6
        }
      ]
    },
    {
      "cell_type": "markdown",
      "metadata": {
        "id": "NkHZxrakVjqa"
      },
      "source": [
        "아래와 같은 구문을 사용해서 패키지의 모든 것을 메인 네임스페이스 상으로 가져올 수도 있습니다. 이렇게 하면 사용하고자 하는 패키지의 속성과 메서드를 호출할 때 앞에 이름을 붙이지 않아도 됩니다.\n",
        "\n",
        "```python\n",
        "\n",
        "from pandas import *\n",
        "```\n",
        "\n",
        "그렇지만 이러한 구현 스타일은 여러 패키지를 동시에 불러올 때 같은 이름의 함수나 클래스가 존재할 수도 있으므로 일반적으로 권장되는 방법은 아닙니다. "
      ]
    },
    {
      "cell_type": "markdown",
      "metadata": {
        "id": "9ZcvDPiGVjqb"
      },
      "source": [
        "## 표준 라이브러리 (Standard Library)\n",
        "\n",
        "`import`문을 사용해서 파이썬 표준 라이브러리를 호출할 수도 있습니다. 이 패키지들은 파이썬 설치와 함께 자동으로 딸려오는 것이며, 그렇기 때문에 파이썬 인터프리터와 함께 동봉되어 있습니다. 이 패키지들은 다양한 용도로 사용됩니다. 여기서는 간단한 설명과 함께 몇 가지만을 나열해보겠습니다. 더 자세한 사항은 [파이썬 공식문서](https://docs.python.org/2/library/)를 참고하면 됩니다.\n",
        "\n",
        "- `collections` - 컨테이너 (containers)\n",
        "- `re` - 정규 표현식 (regular expressions)\n",
        "- `datetime` - 날짜와 시간 (date and time handling)\n",
        "- `heapq` - the heap queue algorithm\n",
        "- `itertools` - functions for help with iteration\n",
        "- `functools` - function to assist with functional programming\n",
        "- `os` - operating system interfaces\n",
        "- `sys` - system functions\n",
        "- `pickle` - serialize Python objects\n",
        "- `gzip` - work with Gzipped files\n",
        "- `time` - time access\n",
        "- `argparse` - command line argument handling\n",
        "- `threading` - threading interface\n",
        "- `multiprocessing` - process based \"threading\"\n",
        "- `subprocess` - subprocess management\n",
        "- `unittest` - testing tools\n",
        "- `pdb` - debugger\n",
        "\n",
        "이러한 패키지들은 최적화되어있고 안정적이며 또한 파이썬이 설치된 모든 곳에서 사용가능합니다."
      ]
    },
    {
      "cell_type": "markdown",
      "metadata": {
        "id": "zFo7P3-nVjqb"
      },
      "source": [
        "## 예외 처리 (Exceptions)\n",
        "\n",
        "예외는 규범에서 벗어난 것입니다. 파이썬에서도 마찬가지로, 프로그램이 예상한 동작에서 벗어날 때 예외라는 것이 발생합니다. 파이썬 인터프리터는 주어진 모든 코드를 실행하려고 시도했는데 만약 실행이 불가능한 경우 `Exception`를 ​​발생시킵니다. 예를 들어 문자열에 숫자를 추가해 보겠습니다."
      ]
    },
    {
      "cell_type": "code",
      "metadata": {
        "id": "wTItAS-DVjqc",
        "colab": {
          "base_uri": "https://localhost:8080/",
          "height": 176
        },
        "outputId": "a4849d40-f1bd-40f7-bbd2-4b6f9c993ad1"
      },
      "source": [
        "2 + '3'"
      ],
      "execution_count": null,
      "outputs": [
        {
          "output_type": "error",
          "ename": "TypeError",
          "evalue": "ignored",
          "traceback": [
            "\u001b[0;31m---------------------------------------------------------------------------\u001b[0m",
            "\u001b[0;31mTypeError\u001b[0m                                 Traceback (most recent call last)",
            "\u001b[0;32m<ipython-input-7-8fd9dcfa4f42>\u001b[0m in \u001b[0;36m<module>\u001b[0;34m()\u001b[0m\n\u001b[0;32m----> 1\u001b[0;31m \u001b[0;36m2\u001b[0m \u001b[0;34m+\u001b[0m \u001b[0;34m'3'\u001b[0m\u001b[0;34m\u001b[0m\u001b[0;34m\u001b[0m\u001b[0m\n\u001b[0m",
            "\u001b[0;31mTypeError\u001b[0m: unsupported operand type(s) for +: 'int' and 'str'"
          ]
        }
      ]
    },
    {
      "cell_type": "markdown",
      "metadata": {
        "id": "iqwivarCVjqc"
      },
      "source": [
        "파이썬은 기본적으로 문자열과 정수를 함께 더하는 방법을 모르기 때문에, 일반적인 경우에는 `TypeError`가 발생합니다. 우리는 오류가 발생했을 때 예외 처리를 활용할 수 있습니다. 아래의 코드는 `TypeError` 포착하면 일부 변환을 수행한뒤 결과를 제시하는 새로운 형태의 add 함수를 만들고 있습니다."
      ]
    },
    {
      "cell_type": "code",
      "metadata": {
        "id": "h62DuLjRVjqc"
      },
      "source": [
        "def add(x, y):\n",
        "    try:\n",
        "        return x + y\n",
        "    except TypeError:\n",
        "        return float(x) + float(y)"
      ],
      "execution_count": null,
      "outputs": []
    },
    {
      "cell_type": "markdown",
      "metadata": {
        "id": "okTp364_Vjqc"
      },
      "source": [
        "이전 예제와 유사한 구문을 실행해 보겠습니다."
      ]
    },
    {
      "cell_type": "code",
      "metadata": {
        "id": "X5NSlgpIVjqd",
        "colab": {
          "base_uri": "https://localhost:8080/"
        },
        "outputId": "8808d32f-010e-44da-c3b5-884b61e3c392"
      },
      "source": [
        "add(2, '3')"
      ],
      "execution_count": null,
      "outputs": [
        {
          "output_type": "execute_result",
          "data": {
            "text/plain": [
              "5.0"
            ]
          },
          "metadata": {},
          "execution_count": 9
        }
      ]
    },
    {
      "cell_type": "markdown",
      "metadata": {
        "id": "OSnvs-jMVjqd"
      },
      "source": [
        "위와 같이 예외를 처리하는 방법은 `try` 및 `except` 키워드를 사용하는 것입니다. `try` 블록에는 실행을 시도할 약간의 코드를 위치시켜야하고, `except` 블록에는 특별히 열거된 모든 예외 처리가 위치합니다.\n",
        "\n",
        "```python\n",
        "\n",
        "try:\n",
        "    func()\n",
        "except:\n",
        "    handle_exception()\n",
        "    \n",
        "```\n",
        "\n",
        "하지만 모든 상황에서 언제나 예외 처리를 사용하여 오류를 다루는 것은 좋은 방법은 아닙니다. 오류가 발생하게 되면 그 오류를 해결하여 추후 오류의 발생을 최소화하는 것이 더 나은 접근법이기 때문입니다."
      ]
    },
    {
      "cell_type": "markdown",
      "metadata": {
        "id": "wuwwo_wxVjqd"
      },
      "source": [
        "## 파이썬 디버깅 (Python Debugging)\n",
        "\n",
        "우리는 앞서 예외 처리로 오류를 처리하는 방법을 보았습니다. 그렇데 만약 처리하지 못한 오류가 있을 때는 무엇이 ​​잘못되었는지 어떻게 알 수 있을까요?\n",
        "\n",
        "위의 예시를 다시 한 번 상기해보겠습니다."
      ]
    },
    {
      "cell_type": "code",
      "metadata": {
        "id": "J4jnKzzMVjqd",
        "colab": {
          "base_uri": "https://localhost:8080/",
          "height": 176
        },
        "outputId": "fa98f9a1-7e7d-4b7d-c751-bbb6030e7c42"
      },
      "source": [
        "2 + '3'"
      ],
      "execution_count": null,
      "outputs": [
        {
          "output_type": "error",
          "ename": "TypeError",
          "evalue": "ignored",
          "traceback": [
            "\u001b[0;31m---------------------------------------------------------------------------\u001b[0m",
            "\u001b[0;31mTypeError\u001b[0m                                 Traceback (most recent call last)",
            "\u001b[0;32m<ipython-input-10-8fd9dcfa4f42>\u001b[0m in \u001b[0;36m<module>\u001b[0;34m()\u001b[0m\n\u001b[0;32m----> 1\u001b[0;31m \u001b[0;36m2\u001b[0m \u001b[0;34m+\u001b[0m \u001b[0;34m'3'\u001b[0m\u001b[0;34m\u001b[0m\u001b[0;34m\u001b[0m\u001b[0m\n\u001b[0m",
            "\u001b[0;31mTypeError\u001b[0m: unsupported operand type(s) for +: 'int' and 'str'"
          ]
        }
      ]
    },
    {
      "cell_type": "markdown",
      "metadata": {
        "id": "a7kfscs9Vjqe"
      },
      "source": [
        "`Traceback`이라고 하는 반환된 텍스트를 보면 많은 유용한 정보를 얻을 수 있습니다. Traceback은 바닥에서 시작하여 위로 읽어야 합니다. 이 경우 Traceback은 무슨 일이 일어났는지 정확히 알려줍니다. 오류는 `int`와 `str`을 추가하려고 시도했지만 이를 수행할 방법이 없다는 것을 말해주고 있습니다. 이는 또한 오류가 발생된 정확한 코드 지점을 가리키고 있기에 유용합니다.\n",
        "\n",
        "이제는 좀 더 복잡한 Traceback을 살펴보겠습니다. 잘못된 인수로 pandas `DataFrame`을 생성해보겠습니다."
      ]
    },
    {
      "cell_type": "code",
      "metadata": {
        "id": "2GPSpy79Vjqe",
        "colab": {
          "base_uri": "https://localhost:8080/",
          "height": 966
        },
        "outputId": "bd2c4a9d-6c72-427f-ea37-969e3ee5b97e"
      },
      "source": [
        "pd.DataFrame(['one','two','three'],['test'])"
      ],
      "execution_count": null,
      "outputs": [
        {
          "output_type": "error",
          "ename": "ValueError",
          "evalue": "ignored",
          "traceback": [
            "\u001b[0;31m---------------------------------------------------------------------------\u001b[0m",
            "\u001b[0;31mValueError\u001b[0m                                Traceback (most recent call last)",
            "\u001b[0;32m/usr/local/lib/python3.7/dist-packages/pandas/core/internals/managers.py\u001b[0m in \u001b[0;36mcreate_block_manager_from_blocks\u001b[0;34m(blocks, axes)\u001b[0m\n\u001b[1;32m   1673\u001b[0m \u001b[0;34m\u001b[0m\u001b[0m\n\u001b[0;32m-> 1674\u001b[0;31m         \u001b[0mmgr\u001b[0m \u001b[0;34m=\u001b[0m \u001b[0mBlockManager\u001b[0m\u001b[0;34m(\u001b[0m\u001b[0mblocks\u001b[0m\u001b[0;34m,\u001b[0m \u001b[0maxes\u001b[0m\u001b[0;34m)\u001b[0m\u001b[0;34m\u001b[0m\u001b[0;34m\u001b[0m\u001b[0m\n\u001b[0m\u001b[1;32m   1675\u001b[0m         \u001b[0mmgr\u001b[0m\u001b[0;34m.\u001b[0m\u001b[0m_consolidate_inplace\u001b[0m\u001b[0;34m(\u001b[0m\u001b[0;34m)\u001b[0m\u001b[0;34m\u001b[0m\u001b[0;34m\u001b[0m\u001b[0m\n",
            "\u001b[0;32m/usr/local/lib/python3.7/dist-packages/pandas/core/internals/managers.py\u001b[0m in \u001b[0;36m__init__\u001b[0;34m(self, blocks, axes, do_integrity_check)\u001b[0m\n\u001b[1;32m    148\u001b[0m         \u001b[0;32mif\u001b[0m \u001b[0mdo_integrity_check\u001b[0m\u001b[0;34m:\u001b[0m\u001b[0;34m\u001b[0m\u001b[0;34m\u001b[0m\u001b[0m\n\u001b[0;32m--> 149\u001b[0;31m             \u001b[0mself\u001b[0m\u001b[0;34m.\u001b[0m\u001b[0m_verify_integrity\u001b[0m\u001b[0;34m(\u001b[0m\u001b[0;34m)\u001b[0m\u001b[0;34m\u001b[0m\u001b[0;34m\u001b[0m\u001b[0m\n\u001b[0m\u001b[1;32m    150\u001b[0m \u001b[0;34m\u001b[0m\u001b[0m\n",
            "\u001b[0;32m/usr/local/lib/python3.7/dist-packages/pandas/core/internals/managers.py\u001b[0m in \u001b[0;36m_verify_integrity\u001b[0;34m(self)\u001b[0m\n\u001b[1;32m    328\u001b[0m             \u001b[0;32mif\u001b[0m \u001b[0mblock\u001b[0m\u001b[0;34m.\u001b[0m\u001b[0mshape\u001b[0m\u001b[0;34m[\u001b[0m\u001b[0;36m1\u001b[0m\u001b[0;34m:\u001b[0m\u001b[0;34m]\u001b[0m \u001b[0;34m!=\u001b[0m \u001b[0mmgr_shape\u001b[0m\u001b[0;34m[\u001b[0m\u001b[0;36m1\u001b[0m\u001b[0;34m:\u001b[0m\u001b[0;34m]\u001b[0m\u001b[0;34m:\u001b[0m\u001b[0;34m\u001b[0m\u001b[0;34m\u001b[0m\u001b[0m\n\u001b[0;32m--> 329\u001b[0;31m                 \u001b[0;32mraise\u001b[0m \u001b[0mconstruction_error\u001b[0m\u001b[0;34m(\u001b[0m\u001b[0mtot_items\u001b[0m\u001b[0;34m,\u001b[0m \u001b[0mblock\u001b[0m\u001b[0;34m.\u001b[0m\u001b[0mshape\u001b[0m\u001b[0;34m[\u001b[0m\u001b[0;36m1\u001b[0m\u001b[0;34m:\u001b[0m\u001b[0;34m]\u001b[0m\u001b[0;34m,\u001b[0m \u001b[0mself\u001b[0m\u001b[0;34m.\u001b[0m\u001b[0maxes\u001b[0m\u001b[0;34m)\u001b[0m\u001b[0;34m\u001b[0m\u001b[0;34m\u001b[0m\u001b[0m\n\u001b[0m\u001b[1;32m    330\u001b[0m         \u001b[0;32mif\u001b[0m \u001b[0mlen\u001b[0m\u001b[0;34m(\u001b[0m\u001b[0mself\u001b[0m\u001b[0;34m.\u001b[0m\u001b[0mitems\u001b[0m\u001b[0;34m)\u001b[0m \u001b[0;34m!=\u001b[0m \u001b[0mtot_items\u001b[0m\u001b[0;34m:\u001b[0m\u001b[0;34m\u001b[0m\u001b[0;34m\u001b[0m\u001b[0m\n",
            "\u001b[0;31mValueError\u001b[0m: Shape of passed values is (3, 1), indices imply (1, 1)",
            "\nDuring handling of the above exception, another exception occurred:\n",
            "\u001b[0;31mValueError\u001b[0m                                Traceback (most recent call last)",
            "\u001b[0;32m<ipython-input-12-ed2fa2e84ecd>\u001b[0m in \u001b[0;36m<module>\u001b[0;34m()\u001b[0m\n\u001b[0;32m----> 1\u001b[0;31m \u001b[0mpd\u001b[0m\u001b[0;34m.\u001b[0m\u001b[0mDataFrame\u001b[0m\u001b[0;34m(\u001b[0m\u001b[0;34m[\u001b[0m\u001b[0;34m'one'\u001b[0m\u001b[0;34m,\u001b[0m\u001b[0;34m'two'\u001b[0m\u001b[0;34m,\u001b[0m\u001b[0;34m'three'\u001b[0m\u001b[0;34m]\u001b[0m\u001b[0;34m,\u001b[0m\u001b[0;34m[\u001b[0m\u001b[0;34m'test'\u001b[0m\u001b[0;34m]\u001b[0m\u001b[0;34m)\u001b[0m\u001b[0;34m\u001b[0m\u001b[0;34m\u001b[0m\u001b[0m\n\u001b[0m",
            "\u001b[0;32m/usr/local/lib/python3.7/dist-packages/pandas/core/frame.py\u001b[0m in \u001b[0;36m__init__\u001b[0;34m(self, data, index, columns, dtype, copy)\u001b[0m\n\u001b[1;32m    521\u001b[0m                     \u001b[0mmgr\u001b[0m \u001b[0;34m=\u001b[0m \u001b[0marrays_to_mgr\u001b[0m\u001b[0;34m(\u001b[0m\u001b[0marrays\u001b[0m\u001b[0;34m,\u001b[0m \u001b[0mcolumns\u001b[0m\u001b[0;34m,\u001b[0m \u001b[0mindex\u001b[0m\u001b[0;34m,\u001b[0m \u001b[0mcolumns\u001b[0m\u001b[0;34m,\u001b[0m \u001b[0mdtype\u001b[0m\u001b[0;34m=\u001b[0m\u001b[0mdtype\u001b[0m\u001b[0;34m)\u001b[0m\u001b[0;34m\u001b[0m\u001b[0;34m\u001b[0m\u001b[0m\n\u001b[1;32m    522\u001b[0m                 \u001b[0;32melse\u001b[0m\u001b[0;34m:\u001b[0m\u001b[0;34m\u001b[0m\u001b[0;34m\u001b[0m\u001b[0m\n\u001b[0;32m--> 523\u001b[0;31m                     \u001b[0mmgr\u001b[0m \u001b[0;34m=\u001b[0m \u001b[0minit_ndarray\u001b[0m\u001b[0;34m(\u001b[0m\u001b[0mdata\u001b[0m\u001b[0;34m,\u001b[0m \u001b[0mindex\u001b[0m\u001b[0;34m,\u001b[0m \u001b[0mcolumns\u001b[0m\u001b[0;34m,\u001b[0m \u001b[0mdtype\u001b[0m\u001b[0;34m=\u001b[0m\u001b[0mdtype\u001b[0m\u001b[0;34m,\u001b[0m \u001b[0mcopy\u001b[0m\u001b[0;34m=\u001b[0m\u001b[0mcopy\u001b[0m\u001b[0;34m)\u001b[0m\u001b[0;34m\u001b[0m\u001b[0;34m\u001b[0m\u001b[0m\n\u001b[0m\u001b[1;32m    524\u001b[0m             \u001b[0;32melse\u001b[0m\u001b[0;34m:\u001b[0m\u001b[0;34m\u001b[0m\u001b[0;34m\u001b[0m\u001b[0m\n\u001b[1;32m    525\u001b[0m                 \u001b[0mmgr\u001b[0m \u001b[0;34m=\u001b[0m \u001b[0minit_dict\u001b[0m\u001b[0;34m(\u001b[0m\u001b[0;34m{\u001b[0m\u001b[0;34m}\u001b[0m\u001b[0;34m,\u001b[0m \u001b[0mindex\u001b[0m\u001b[0;34m,\u001b[0m \u001b[0mcolumns\u001b[0m\u001b[0;34m,\u001b[0m \u001b[0mdtype\u001b[0m\u001b[0;34m=\u001b[0m\u001b[0mdtype\u001b[0m\u001b[0;34m)\u001b[0m\u001b[0;34m\u001b[0m\u001b[0;34m\u001b[0m\u001b[0m\n",
            "\u001b[0;32m/usr/local/lib/python3.7/dist-packages/pandas/core/internals/construction.py\u001b[0m in \u001b[0;36minit_ndarray\u001b[0;34m(values, index, columns, dtype, copy)\u001b[0m\n\u001b[1;32m    232\u001b[0m         \u001b[0mblock_values\u001b[0m \u001b[0;34m=\u001b[0m \u001b[0;34m[\u001b[0m\u001b[0mvalues\u001b[0m\u001b[0;34m]\u001b[0m\u001b[0;34m\u001b[0m\u001b[0;34m\u001b[0m\u001b[0m\n\u001b[1;32m    233\u001b[0m \u001b[0;34m\u001b[0m\u001b[0m\n\u001b[0;32m--> 234\u001b[0;31m     \u001b[0;32mreturn\u001b[0m \u001b[0mcreate_block_manager_from_blocks\u001b[0m\u001b[0;34m(\u001b[0m\u001b[0mblock_values\u001b[0m\u001b[0;34m,\u001b[0m \u001b[0;34m[\u001b[0m\u001b[0mcolumns\u001b[0m\u001b[0;34m,\u001b[0m \u001b[0mindex\u001b[0m\u001b[0;34m]\u001b[0m\u001b[0;34m)\u001b[0m\u001b[0;34m\u001b[0m\u001b[0;34m\u001b[0m\u001b[0m\n\u001b[0m\u001b[1;32m    235\u001b[0m \u001b[0;34m\u001b[0m\u001b[0m\n\u001b[1;32m    236\u001b[0m \u001b[0;34m\u001b[0m\u001b[0m\n",
            "\u001b[0;32m/usr/local/lib/python3.7/dist-packages/pandas/core/internals/managers.py\u001b[0m in \u001b[0;36mcreate_block_manager_from_blocks\u001b[0;34m(blocks, axes)\u001b[0m\n\u001b[1;32m   1679\u001b[0m         \u001b[0mblocks\u001b[0m \u001b[0;34m=\u001b[0m \u001b[0;34m[\u001b[0m\u001b[0mgetattr\u001b[0m\u001b[0;34m(\u001b[0m\u001b[0mb\u001b[0m\u001b[0;34m,\u001b[0m \u001b[0;34m\"values\"\u001b[0m\u001b[0;34m,\u001b[0m \u001b[0mb\u001b[0m\u001b[0;34m)\u001b[0m \u001b[0;32mfor\u001b[0m \u001b[0mb\u001b[0m \u001b[0;32min\u001b[0m \u001b[0mblocks\u001b[0m\u001b[0;34m]\u001b[0m\u001b[0;34m\u001b[0m\u001b[0;34m\u001b[0m\u001b[0m\n\u001b[1;32m   1680\u001b[0m         \u001b[0mtot_items\u001b[0m \u001b[0;34m=\u001b[0m \u001b[0msum\u001b[0m\u001b[0;34m(\u001b[0m\u001b[0mb\u001b[0m\u001b[0;34m.\u001b[0m\u001b[0mshape\u001b[0m\u001b[0;34m[\u001b[0m\u001b[0;36m0\u001b[0m\u001b[0;34m]\u001b[0m \u001b[0;32mfor\u001b[0m \u001b[0mb\u001b[0m \u001b[0;32min\u001b[0m \u001b[0mblocks\u001b[0m\u001b[0;34m)\u001b[0m\u001b[0;34m\u001b[0m\u001b[0;34m\u001b[0m\u001b[0m\n\u001b[0;32m-> 1681\u001b[0;31m         \u001b[0;32mraise\u001b[0m \u001b[0mconstruction_error\u001b[0m\u001b[0;34m(\u001b[0m\u001b[0mtot_items\u001b[0m\u001b[0;34m,\u001b[0m \u001b[0mblocks\u001b[0m\u001b[0;34m[\u001b[0m\u001b[0;36m0\u001b[0m\u001b[0;34m]\u001b[0m\u001b[0;34m.\u001b[0m\u001b[0mshape\u001b[0m\u001b[0;34m[\u001b[0m\u001b[0;36m1\u001b[0m\u001b[0;34m:\u001b[0m\u001b[0;34m]\u001b[0m\u001b[0;34m,\u001b[0m \u001b[0maxes\u001b[0m\u001b[0;34m,\u001b[0m \u001b[0me\u001b[0m\u001b[0;34m)\u001b[0m\u001b[0;34m\u001b[0m\u001b[0;34m\u001b[0m\u001b[0m\n\u001b[0m\u001b[1;32m   1682\u001b[0m \u001b[0;34m\u001b[0m\u001b[0m\n\u001b[1;32m   1683\u001b[0m \u001b[0;34m\u001b[0m\u001b[0m\n",
            "\u001b[0;31mValueError\u001b[0m: Shape of passed values is (3, 1), indices imply (1, 1)"
          ]
        }
      ]
    },
    {
      "cell_type": "markdown",
      "metadata": {
        "id": "fsTJd7bcVjqe"
      },
      "source": [
        "가장 아래쪽을 보면 `DataFrame` 함수에 전달한 배열의 잘못된 모양으로 인해 오류가 발생했음을 알 수 있습니다. 이 오류에 도달하기 위해 호출된 모든 함수를 보기 위해 코드를 통해 백업 경로를 추적할 수 있습니다. 여기서는 `DataFrame, _init_ndarray, create_block_manager_from_blocks, construction_error`라는 4개의 호출이 있었습니다.\n",
        "\n",
        "Traceback을 읽는 방법과 특히 간단한 코드 조각이 실패하는 이유를 알아내는 것은 훌륭한 파이썬 프로그래머가 되는 데 중요한 부분입니다."
      ]
    },
    {
      "cell_type": "markdown",
      "metadata": {
        "id": "udhXS34SVjqe"
      },
      "source": [
        "*Copyright 2021.* 퀀트대디. *This content is licensed solely for personal use. Redistribution or publication of this material is strictly prohibited.*"
      ]
    }
  ]
}