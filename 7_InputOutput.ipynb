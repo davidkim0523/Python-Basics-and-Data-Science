{
 "cells": [
  {
   "cell_type": "markdown",
   "metadata": {
    "id": "SzdU2h-3QmWk"
   },
   "source": [
    "# 데이터 입출력 (Importing and Exporting Data)\n",
    "\n",
    "<!-- requirement: data/sample.txt -->\n",
    "<!-- requirement: data/csv_sample.txt -->\n",
    "<!-- requirement: data/bad_csv.csv -->\n",
    "\n",
    "지금까지 우리는 파이썬 내에서 생성한 데이터만을 다루었었습니다. 가상의 무작위 데이터를 생성하는 것은 아이디어를 테스트하는 데 도움이 됩니다. 하지만 우리에게 더 중요한 것인 이 세상에 존재하는 실제 데이터입니다. 대부분의 경우 이러한 실제 데이터들은 컴퓨터의 로커 혹은 온라인에서 파일의 형태로 저장이 되어있습니다. 이번 시간에는 이처럼 파이썬 어플리케이션의 외부에 존재하는 파일들을 파이썬으로 읽고 쓰는 방법에 대해서 다룰 예정입니다."
   ]
  },
  {
   "cell_type": "markdown",
   "metadata": {
    "id": "HlL00qQ6QmWl"
   },
   "source": [
    "## 파일 열기 (`open`)\n",
    "\n",
    "표준 파이썬에서는 `open`과 `close`라는 명령문을 사용하여 디스크에 존재하는 파일들과 상호작용을 하도록 설계되어있습니다. 이를 연습해보기 위해 이 주피터 노트북 파일이 저장되어 있는 디렉토리에 `data` 폴더를 만들어놓았고, 또 이 폴더 안에 `sample.txt`라는 파일을 저장해놓았습니다. 그럼 한 번 이 파일을 열어서 읽어오도록 해보겠습니다."
   ]
  },
  {
   "cell_type": "code",
   "execution_count": 1,
   "metadata": {
    "colab": {
     "base_uri": "https://localhost:8080/",
     "height": 251
    },
    "executionInfo": {
     "elapsed": 1291,
     "status": "error",
     "timestamp": 1633444459511,
     "user": {
      "displayName": "David Kim",
      "photoUrl": "https://lh3.googleusercontent.com/a-/AOh14Gj5yUCTnADoumB9eGXaTpcJcAcA1v9uxRnNO2o2PQ=s64",
      "userId": "11070995113612865215"
     },
     "user_tz": -540
    },
    "id": "7WJwURKGQmWm",
    "outputId": "85d3ea89-11bc-4f58-cd51-7db9f4a16be8"
   },
   "outputs": [
    {
     "name": "stdout",
     "output_type": "stream",
     "text": [
      "Hello!\n",
      "Congratulations!\n",
      "You've read in data from a file.\n",
      "<_io.TextIOWrapper name='./data/sample.txt' mode='r' encoding='cp949'>\n"
     ]
    }
   ],
   "source": [
    "f = open('./data/sample.txt', 'r')\n",
    "data = f.read()\n",
    "f.close()\n",
    "\n",
    "print(data)\n",
    "print(f)"
   ]
  },
  {
   "cell_type": "markdown",
   "metadata": {
    "id": "4gKv1i_VQmWn"
   },
   "source": [
    "위의 셀에서 우리는 파일을 열고(`open`) 이를 `f`라는 변수에 할당했습니다. 또한 이 `f`를 읽어 `data`라는 변수에 다시 할당한 뒤, `f`를 닫았습니다(`close`). 그런데 과연 여기서 `f`라는 것은 대체 무엇일까요? 여기서 `f`는 파일 핸들(**file handle**)이라고 부릅니다. 이 파일 핸들이라는 것은 파이썬을 사용해 우리가 열 파일에 파이썬을 연결시키는 객체입니다. 우리는 이 연결을 사용하여 데이터를 읽고 연결이 끝나면 이 연결을 닫습니다. 파일 핸들의 사용이 끝나면 이를 항상 닫는 것은 좋은 습관이므로, 일반적으로는 파이썬의 `with` 키워드를 사용해서 자동적으로 사용이 끝난 후 이를 닫도록 만드는 것이 좋습니다. 아래는 `with`구문을 사용한 예시입니다."
   ]
  },
  {
   "cell_type": "code",
   "execution_count": 2,
   "metadata": {
    "id": "ukK8DyyqQmWo"
   },
   "outputs": [
    {
     "name": "stdout",
     "output_type": "stream",
     "text": [
      "Hello!\n",
      "Congratulations!\n",
      "You've read in data from a file.\n",
      "<_io.TextIOWrapper name='./data/sample.txt' mode='r' encoding='cp949'>\n"
     ]
    }
   ],
   "source": [
    "# f is automatically closed\n",
    "# at the end of the body of the with statement\n",
    "with open('./data/sample.txt', 'r') as f:\n",
    "    print(f.read())\n",
    "\n",
    "print(f)"
   ]
  },
  {
   "cell_type": "markdown",
   "metadata": {
    "id": "NtFLBESSQmWo"
   },
   "source": [
    "`readline` 혹은 `readlines`라는 메서드를 사용해 파일의 개별 행 혹은 행들을 읽어올 수도 있습니다."
   ]
  },
  {
   "cell_type": "code",
   "execution_count": 3,
   "metadata": {
    "id": "_TfXud_AQmWp"
   },
   "outputs": [
    {
     "name": "stdout",
     "output_type": "stream",
     "text": [
      "Hello!\n",
      "\n"
     ]
    }
   ],
   "source": [
    "with open('./data/sample.txt', 'r') as f:\n",
    "    print(f.readline())"
   ]
  },
  {
   "cell_type": "code",
   "execution_count": 4,
   "metadata": {
    "id": "qfAiWBmjQmWp"
   },
   "outputs": [
    {
     "name": "stdout",
     "output_type": "stream",
     "text": [
      "['Hello!\\n', 'Congratulations!\\n', \"You've read in data from a file.\"]\n"
     ]
    }
   ],
   "source": [
    "with open('./data/sample.txt', 'r') as f:\n",
    "    print(f.readlines())"
   ]
  },
  {
   "cell_type": "markdown",
   "metadata": {
    "id": "mIRV_H1qQmWq"
   },
   "source": [
    "파일에 데이터를 쓰는 것 또한 읽기와 유사한 방식으로 작동합니다. 주요 차이점은 파일을 열 때 `r` 대신 `w` 플래그를 사용한다는 것입니다. `w` 플래그를 사용하게 되면 파이썬에서 작업한 결과물들이 기존 파일에 덮어씌워지게 되므로 주의해야합니다."
   ]
  },
  {
   "cell_type": "code",
   "execution_count": 5,
   "metadata": {
    "id": "SsmJ8gKkQmWq"
   },
   "outputs": [
    {
     "name": "stdout",
     "output_type": "stream",
     "text": [
      "This is a new file.I am practicing writing data to disk.\n"
     ]
    }
   ],
   "source": [
    "with open('./data/my_data.txt', 'w') as f:\n",
    "    f.write('This is a new file.')\n",
    "    f.write('I am practicing writing data to disk.')\n",
    "\n",
    "with open('./data/my_data.txt', 'r') as f:\n",
    "    my_data = f.read()\n",
    "\n",
    "print(my_data)"
   ]
  },
  {
   "cell_type": "markdown",
   "metadata": {
    "id": "wbelB5c_QmWq"
   },
   "source": [
    "위의 셀을 계속해서 실행하더라도 동일한 결과가 출력됩니다. `w` 플래그로 파일을 열면 파일의 내용을 덮어쓰기 때문입니다. 만약 내용을 덮어쓰지않고, 기존의 내용에 추가를 하는 방식으로 구현을 하기 위해서는 `a` 플래그로 파일을 열어야 합니다. 여기서 `a`는 `append`를 의미합니다."
   ]
  },
  {
   "cell_type": "code",
   "execution_count": 6,
   "metadata": {
    "id": "vl79HP7sQmWq"
   },
   "outputs": [
    {
     "name": "stdout",
     "output_type": "stream",
     "text": [
      "This is a new file.I am practicing writing data to disk.\n",
      "Adding a new line to the file.\n"
     ]
    }
   ],
   "source": [
    "with open('./data/my_data.txt', 'a') as f:\n",
    "    f.write('\\nAdding a new line to the file.')\n",
    "\n",
    "with open('./data/my_data.txt', 'r') as f:\n",
    "    my_data = f.read()\n",
    "\n",
    "print(my_data)"
   ]
  },
  {
   "cell_type": "markdown",
   "metadata": {
    "id": "acRre4o4QmWr"
   },
   "source": [
    "실수로 데이터를 덮어쓰거나 변경할 수 있으므로, 디스크에 쓸 때는 항상 주의해야 합니다. 또한 액세스하려는 파일이 존재하는지 미리 알지 못하거나 혹은 `r`, `w` 및 `a` 플래그를 무심코 섞어 사용하게 되면, 오류가 발생하기 매우 쉽기 때문에 이러한 오류 발생에도 주의를 기울여야 합니다."
   ]
  },
  {
   "cell_type": "code",
   "execution_count": 12,
   "metadata": {
    "id": "-T_msAtDQmWr"
   },
   "outputs": [
    {
     "ename": "FileNotFoundError",
     "evalue": "[Errno 2] No such file or directory: './data/fail.txt'",
     "output_type": "error",
     "traceback": [
      "\u001b[1;31m---------------------------------------------------------------------------\u001b[0m",
      "\u001b[1;31mFileNotFoundError\u001b[0m                         Traceback (most recent call last)",
      "\u001b[1;32m<ipython-input-12-3a04e58b575a>\u001b[0m in \u001b[0;36m<module>\u001b[1;34m\u001b[0m\n\u001b[0;32m      3\u001b[0m \u001b[1;31m# (but we can open it for writing)\u001b[0m\u001b[1;33m\u001b[0m\u001b[1;33m\u001b[0m\u001b[1;33m\u001b[0m\u001b[0m\n\u001b[0;32m      4\u001b[0m \u001b[1;33m\u001b[0m\u001b[0m\n\u001b[1;32m----> 5\u001b[1;33m \u001b[1;32mwith\u001b[0m \u001b[0mopen\u001b[0m\u001b[1;33m(\u001b[0m\u001b[1;34m'./data/fail.txt'\u001b[0m\u001b[1;33m,\u001b[0m \u001b[1;34m'r'\u001b[0m\u001b[1;33m)\u001b[0m \u001b[1;32mas\u001b[0m \u001b[0mf\u001b[0m\u001b[1;33m:\u001b[0m\u001b[1;33m\u001b[0m\u001b[1;33m\u001b[0m\u001b[0m\n\u001b[0m\u001b[0;32m      6\u001b[0m     \u001b[0mf\u001b[0m\u001b[1;33m.\u001b[0m\u001b[0mread\u001b[0m\u001b[1;33m(\u001b[0m\u001b[1;33m)\u001b[0m\u001b[1;33m\u001b[0m\u001b[1;33m\u001b[0m\u001b[0m\n",
      "\u001b[1;31mFileNotFoundError\u001b[0m: [Errno 2] No such file or directory: './data/fail.txt'"
     ]
    }
   ],
   "source": [
    "# if a file doesn't exist\n",
    "# we can't open it for reading\n",
    "# (but we can open it for writing)\n",
    "\n",
    "with open('./data/fail.txt', 'r') as f:\n",
    "    f.read()"
   ]
  },
  {
   "cell_type": "code",
   "execution_count": 13,
   "metadata": {
    "id": "ynAk-IQEQmWr"
   },
   "outputs": [
    {
     "ename": "UnsupportedOperation",
     "evalue": "not readable",
     "output_type": "error",
     "traceback": [
      "\u001b[1;31m---------------------------------------------------------------------------\u001b[0m",
      "\u001b[1;31mUnsupportedOperation\u001b[0m                      Traceback (most recent call last)",
      "\u001b[1;32m<ipython-input-13-55efcd5fc67a>\u001b[0m in \u001b[0;36m<module>\u001b[1;34m\u001b[0m\n\u001b[0;32m      2\u001b[0m \u001b[1;33m\u001b[0m\u001b[0m\n\u001b[0;32m      3\u001b[0m \u001b[1;32mwith\u001b[0m \u001b[0mopen\u001b[0m\u001b[1;33m(\u001b[0m\u001b[1;34m'./data/fail.txt'\u001b[0m\u001b[1;33m,\u001b[0m \u001b[1;34m'w'\u001b[0m\u001b[1;33m)\u001b[0m \u001b[1;32mas\u001b[0m \u001b[0mf\u001b[0m\u001b[1;33m:\u001b[0m\u001b[1;33m\u001b[0m\u001b[1;33m\u001b[0m\u001b[0m\n\u001b[1;32m----> 4\u001b[1;33m     \u001b[0mf\u001b[0m\u001b[1;33m.\u001b[0m\u001b[0mread\u001b[0m\u001b[1;33m(\u001b[0m\u001b[1;33m)\u001b[0m\u001b[1;33m\u001b[0m\u001b[1;33m\u001b[0m\u001b[0m\n\u001b[0m",
      "\u001b[1;31mUnsupportedOperation\u001b[0m: not readable"
     ]
    }
   ],
   "source": [
    "# we can't read a file open for writing\n",
    "\n",
    "with open('./data/fail.txt', 'w') as f:\n",
    "    f.read()"
   ]
  },
  {
   "cell_type": "code",
   "execution_count": 14,
   "metadata": {
    "id": "h-lCOnibQmWs"
   },
   "outputs": [
    {
     "ename": "UnsupportedOperation",
     "evalue": "not writable",
     "output_type": "error",
     "traceback": [
      "\u001b[1;31m---------------------------------------------------------------------------\u001b[0m",
      "\u001b[1;31mUnsupportedOperation\u001b[0m                      Traceback (most recent call last)",
      "\u001b[1;32m<ipython-input-14-776a79381859>\u001b[0m in \u001b[0;36m<module>\u001b[1;34m\u001b[0m\n\u001b[0;32m      2\u001b[0m \u001b[1;33m\u001b[0m\u001b[0m\n\u001b[0;32m      3\u001b[0m \u001b[1;32mwith\u001b[0m \u001b[0mopen\u001b[0m\u001b[1;33m(\u001b[0m\u001b[1;34m'./data/sample.txt'\u001b[0m\u001b[1;33m,\u001b[0m \u001b[1;34m'r'\u001b[0m\u001b[1;33m)\u001b[0m \u001b[1;32mas\u001b[0m \u001b[0mf\u001b[0m\u001b[1;33m:\u001b[0m\u001b[1;33m\u001b[0m\u001b[1;33m\u001b[0m\u001b[0m\n\u001b[1;32m----> 4\u001b[1;33m     \u001b[0mf\u001b[0m\u001b[1;33m.\u001b[0m\u001b[0mwrite\u001b[0m\u001b[1;33m(\u001b[0m\u001b[1;34m'This will fail'\u001b[0m\u001b[1;33m)\u001b[0m\u001b[1;33m\u001b[0m\u001b[1;33m\u001b[0m\u001b[0m\n\u001b[0m",
      "\u001b[1;31mUnsupportedOperation\u001b[0m: not writable"
     ]
    }
   ],
   "source": [
    "# and we can't write to a file open for reading\n",
    "\n",
    "with open('./data/sample.txt', 'r') as f:\n",
    "    f.write('This will fail')"
   ]
  },
  {
   "cell_type": "markdown",
   "metadata": {
    "id": "gT0ymfz7QmWs"
   },
   "source": [
    "혹시 이러한 오류 중 일부를 방지할 수 있는 방법이 있을까요? 혹은 디스크에 어떤 파일이 있는지 알 수 있는 방법이 있을까요?\n",
    "\n",
    "## `os` 모듈\n",
    "\n",
    "파이썬에는 `os`라는 컴퓨터의 파일 시스템을 탐색하기 위한 모듈이 있습니다. `os` 모듈에는 유용한 도구가 많이 있지만 파일을 찾는 데 가장 유용한 두 가지 기능이 있습니다."
   ]
  },
  {
   "cell_type": "code",
   "execution_count": 1,
   "metadata": {
    "id": "VvHPQFQbQmWs"
   },
   "outputs": [
    {
     "data": {
      "text/plain": [
       "['.ipynb_checkpoints',\n",
       " '2_ProgramFlow.ipynb',\n",
       " '3_DataStructures.ipynb',\n",
       " '4_Algorithms.ipynb',\n",
       " '5_ObjectOrientedProgramming.ipynb',\n",
       " '6_Pythonic.ipynb',\n",
       " '7_InputOutput.ipynb',\n",
       " '8_BasicDataScienceModules.ipynb',\n",
       " 'Collections Modules.ipynb',\n",
       " 'data',\n",
       " 'hash_illustration-Copy1.png',\n",
       " 'high_score_flowchart-Copy1.png',\n",
       " 'high_score_flowchart.png',\n",
       " 'list_illustration-Copy1.png',\n",
       " 'nested_logic_flowchart-Copy1.png',\n",
       " 'PY_1_Intro.ipynb',\n",
       " 'set_operations-Copy1.png',\n",
       " 'TurtleSystem.ipynb',\n",
       " '__pycache__']"
      ]
     },
     "execution_count": 1,
     "metadata": {},
     "output_type": "execute_result"
    }
   ],
   "source": [
    "import os\n",
    "\n",
    "# list the contents of the current directory\n",
    "# ('.' refers to the current directory)\n",
    "os.listdir('.')"
   ]
  },
  {
   "cell_type": "markdown",
   "metadata": {
    "id": "MG8NLv4aQmWs"
   },
   "source": [
    "`listdir` 명령은 우리가 다룰 두 가지 기능 중 더 간단합니다. 이것은 단순히 우리가 지정한 디렉토리 경로의 내용을 나열해줍니다. 만약 `'.'`를 인수로 전달하면 `listdir`은 현재 디렉토리를 찾습니다. 여기에는 강의에서 사용되는 모든 주피터 노트북과 `data` 폴더의 하위 디렉토리가 나열됩니다. `'./data'`를 보면 `data` 하위 디렉토리에 무엇이 있는지 알 수 있습니다."
   ]
  },
  {
   "cell_type": "code",
   "execution_count": 16,
   "metadata": {
    "id": "y2drsnPSQmWt"
   },
   "outputs": [
    {
     "data": {
      "text/plain": [
       "['bad_csv.csv',\n",
       " 'csv_sample.txt',\n",
       " 'customers.csv',\n",
       " 'fail.txt',\n",
       " 'my_data.txt',\n",
       " 'orders.csv',\n",
       " 'PEP_2016_PEPANNRES.csv',\n",
       " 'products.csv',\n",
       " 'sample.txt',\n",
       " 'yelp.json.gz']"
      ]
     },
     "execution_count": 16,
     "metadata": {},
     "output_type": "execute_result"
    }
   ],
   "source": [
    "os.listdir('./data')"
   ]
  },
  {
   "cell_type": "markdown",
   "metadata": {
    "id": "gfylbv-pQmWt"
   },
   "source": [
    "`listdir`는 찾고 있는 특정 디렉토리에 속하는 파일들만을 볼 수 있습니다. 이는 다시 말해 `listdir`를 사용하여 하위 디렉토리의 내부까지는 자동으로 검색할 수 없다는 의미입니다. 그렇다면 특정 디렉토리 아래에 있는 하위 디렉토리의 내부까지를 살펴보려면 어떻게 해야 할까요? 이를 위해서는 `walk`라는 것을 사용하면 됩니다. 이 `walk`는 말그대로 우리가 선택한 디렉토리의 하위디렉토리 내부까지를 샅샅이 검색합니다. 여기서 `walk`를 다루지는 않겠지만, 이것은 특히 많은 데이터 파일들로 작업을 하는 경우 매우 유용한 도구 중 하나입니다."
   ]
  },
  {
   "cell_type": "markdown",
   "metadata": {
    "id": "fvfI9TglQmWt"
   },
   "source": [
    "## CSV 파일\n",
    "\n",
    "데이터를 저장하는 가장 간단하고 일반적인 형식 중 하나는 CSV(쉼표로 구분된 값, **comma-separated values**)입니다."
   ]
  },
  {
   "cell_type": "code",
   "execution_count": 17,
   "metadata": {
    "id": "mIbVzUAsQmWt"
   },
   "outputs": [
    {
     "name": "stdout",
     "output_type": "stream",
     "text": [
      "index,name,age\n",
      "0,Dylan,28\n",
      "1,Terrence,54\n",
      "2,Mya,31\n",
      "\n"
     ]
    }
   ],
   "source": [
    "with open('./data/csv_sample.txt', 'r') as f:\n",
    "    csv = f.read()\n",
    "\n",
    "print(csv)"
   ]
  },
  {
   "cell_type": "markdown",
   "metadata": {
    "id": "ia8AmfORQmWt"
   },
   "source": [
    "이 형식은 종종 데이터 테이블을 나타내는 데 사용됩니다. 일반적으로 CSV에는 행(개행 문자 `'\\n'`으로 구분)과 열(쉼표로 구분)이 있습니다. 그렇지 않다면 다른 텍스트 파일과 크게 다를 것이 없습니다. CSV의 특수 형식을 사용하여 테이블을 나타내는 리스트들의 리스트를 만들 수 있습니다."
   ]
  },
  {
   "cell_type": "code",
   "execution_count": 18,
   "metadata": {
    "id": "cdVKKnTaQmWt"
   },
   "outputs": [
    {
     "data": {
      "text/plain": [
       "[['index', 'name', 'age'],\n",
       " ['0', 'Dylan', '28'],\n",
       " ['1', 'Terrence', '54'],\n",
       " ['2', 'Mya', '31']]"
      ]
     },
     "execution_count": 18,
     "metadata": {},
     "output_type": "execute_result"
    }
   ],
   "source": [
    "list_table = []\n",
    "with open('./data/csv_sample.txt', 'r') as f:\n",
    "    for line in f.readlines():\n",
    "        list_table.append(line.strip().split(','))\n",
    "\n",
    "list_table"
   ]
  },
  {
   "cell_type": "markdown",
   "metadata": {
    "id": "GbRvC6IxQmWu"
   },
   "source": [
    "하지만 더 쉬운 방법은 판다스의 `DataFrame`을 사용하는 것입니다. 이를 사용하면 훨씬 더 쉽게 표 형식의 데이터를 다룰 수 있습니ㅏㄷ. 판다스는 데이터를 `DataFrame`으로 직접 읽어들이는 `read_csv` 메서드를 제공합니다."
   ]
  },
  {
   "cell_type": "code",
   "execution_count": 37,
   "metadata": {
    "id": "5j03HtpHQmWu"
   },
   "outputs": [
    {
     "data": {
      "text/html": [
       "<div>\n",
       "<style scoped>\n",
       "    .dataframe tbody tr th:only-of-type {\n",
       "        vertical-align: middle;\n",
       "    }\n",
       "\n",
       "    .dataframe tbody tr th {\n",
       "        vertical-align: top;\n",
       "    }\n",
       "\n",
       "    .dataframe thead th {\n",
       "        text-align: right;\n",
       "    }\n",
       "</style>\n",
       "<table border=\"1\" class=\"dataframe\">\n",
       "  <thead>\n",
       "    <tr style=\"text-align: right;\">\n",
       "      <th></th>\n",
       "      <th>name</th>\n",
       "      <th>age</th>\n",
       "    </tr>\n",
       "    <tr>\n",
       "      <th>index</th>\n",
       "      <th></th>\n",
       "      <th></th>\n",
       "    </tr>\n",
       "  </thead>\n",
       "  <tbody>\n",
       "    <tr>\n",
       "      <th>0</th>\n",
       "      <td>Dylan</td>\n",
       "      <td>28</td>\n",
       "    </tr>\n",
       "    <tr>\n",
       "      <th>1</th>\n",
       "      <td>Terrence</td>\n",
       "      <td>54</td>\n",
       "    </tr>\n",
       "    <tr>\n",
       "      <th>2</th>\n",
       "      <td>Mya</td>\n",
       "      <td>31</td>\n",
       "    </tr>\n",
       "  </tbody>\n",
       "</table>\n",
       "</div>"
      ],
      "text/plain": [
       "           name  age\n",
       "index               \n",
       "0         Dylan   28\n",
       "1      Terrence   54\n",
       "2           Mya   31"
      ]
     },
     "execution_count": 37,
     "metadata": {},
     "output_type": "execute_result"
    }
   ],
   "source": [
    "import pandas as pd\n",
    "\n",
    "df = pd.read_csv('./data/csv_sample.txt', index_col=0)\n",
    "df"
   ]
  },
  {
   "cell_type": "markdown",
   "metadata": {
    "id": "0brPxGAZQmWu"
   },
   "source": [
    "`read_csv` 메소드는 다양한 데이터 세트의 형식을 처리하는 데 매우 유연합니다. 가령 일부 데이터 세트에는 열 머리글이 포함되지만 다른 데이터 세트에는 포함되지 않을 수 있습니다. 그리고 일부 데이터 세트에는 색인이 포함되지만 다른 데이터 세트에는 포함되지 않을 수 있습니다. 혹은 일부 데이터 세트에는 쉼표 대신 탭, 세미콜론 또는 기타 문자로 구분된 값이 있을 수 있습니다. `read_csv` 메서드에는 이 모든 것들을 처리할 수 있는 옵션들이 존재합니다. `read_csv`에 대한 [판다스 공식문서](https://pandas.pydata.org/pandas-docs/stable/generated/pandas.read_csv.html)를 참고하면 도움이 됩니다. 판다스라는 라이브러리에 대해서는 다음 강의 때 보다 더 자세히 논의를 할 예정입니다."
   ]
  },
  {
   "cell_type": "code",
   "execution_count": 32,
   "metadata": {
    "id": "yb-NE5DqQmWu"
   },
   "outputs": [
    {
     "data": {
      "text/html": [
       "<div>\n",
       "<style scoped>\n",
       "    .dataframe tbody tr th:only-of-type {\n",
       "        vertical-align: middle;\n",
       "    }\n",
       "\n",
       "    .dataframe tbody tr th {\n",
       "        vertical-align: top;\n",
       "    }\n",
       "\n",
       "    .dataframe thead th {\n",
       "        text-align: right;\n",
       "    }\n",
       "</style>\n",
       "<table border=\"1\" class=\"dataframe\">\n",
       "  <thead>\n",
       "    <tr style=\"text-align: right;\">\n",
       "      <th></th>\n",
       "      <th>a</th>\n",
       "      <th>b</th>\n",
       "    </tr>\n",
       "  </thead>\n",
       "  <tbody>\n",
       "    <tr>\n",
       "      <th>0</th>\n",
       "      <td>0</td>\n",
       "      <td>True</td>\n",
       "    </tr>\n",
       "    <tr>\n",
       "      <th>1</th>\n",
       "      <td>3</td>\n",
       "      <td>True</td>\n",
       "    </tr>\n",
       "    <tr>\n",
       "      <th>2</th>\n",
       "      <td>10</td>\n",
       "      <td>False</td>\n",
       "    </tr>\n",
       "  </tbody>\n",
       "</table>\n",
       "</div>"
      ],
      "text/plain": [
       "    a      b\n",
       "0   0   True\n",
       "1   3   True\n",
       "2  10  False"
      ]
     },
     "execution_count": 32,
     "metadata": {},
     "output_type": "execute_result"
    }
   ],
   "source": [
    "# we can also use pandas to write CSV\n",
    "# using the DataFrame's to_csv method\n",
    "\n",
    "pd.DataFrame({'a': [0, 3, 10], 'b': [True, True, False]}).to_csv('./data/pd_write.csv')\n",
    "\n",
    "pd.read_csv('./data/pd_write.csv', index_col=0)"
   ]
  },
  {
   "cell_type": "markdown",
   "metadata": {
    "id": "eeGNEaeUQmWu"
   },
   "source": [
    "하지만 때로는 CSV가 완벽하지 않을 수 있습니다. 예를 들어, 행마다 쉼표 수가 다를 수 있습니다. 이렇게 되면 파일의 내용을 테이블로 해석하기가 어려워집니다. 아래의 예시를 한 번 보겠습니다."
   ]
  },
  {
   "cell_type": "code",
   "execution_count": 24,
   "metadata": {
    "id": "MTEDnrIWQmWu"
   },
   "outputs": [
    {
     "data": {
      "text/html": [
       "<div>\n",
       "<style scoped>\n",
       "    .dataframe tbody tr th:only-of-type {\n",
       "        vertical-align: middle;\n",
       "    }\n",
       "\n",
       "    .dataframe tbody tr th {\n",
       "        vertical-align: top;\n",
       "    }\n",
       "\n",
       "    .dataframe thead th {\n",
       "        text-align: right;\n",
       "    }\n",
       "</style>\n",
       "<table border=\"1\" class=\"dataframe\">\n",
       "  <thead>\n",
       "    <tr style=\"text-align: right;\">\n",
       "      <th></th>\n",
       "      <th>name</th>\n",
       "      <th>age</th>\n",
       "    </tr>\n",
       "    <tr>\n",
       "      <th>index</th>\n",
       "      <th></th>\n",
       "      <th></th>\n",
       "    </tr>\n",
       "  </thead>\n",
       "  <tbody>\n",
       "    <tr>\n",
       "      <th>0</th>\n",
       "      <td>Dylan</td>\n",
       "      <td>27.0</td>\n",
       "    </tr>\n",
       "    <tr>\n",
       "      <th>1</th>\n",
       "      <td>54</td>\n",
       "      <td>NaN</td>\n",
       "    </tr>\n",
       "    <tr>\n",
       "      <th>2</th>\n",
       "      <td>Mya</td>\n",
       "      <td>31.0</td>\n",
       "    </tr>\n",
       "  </tbody>\n",
       "</table>\n",
       "</div>"
      ],
      "text/plain": [
       "        name   age\n",
       "index             \n",
       "0      Dylan  27.0\n",
       "1         54   NaN\n",
       "2        Mya  31.0"
      ]
     },
     "execution_count": 24,
     "metadata": {},
     "output_type": "execute_result"
    }
   ],
   "source": [
    "# what happens if we try to read this\n",
    "# into a DataFrame using read_csv?\n",
    "\n",
    "pd.read_csv('./data/bad_csv.csv', index_col = 0)"
   ]
  },
  {
   "cell_type": "markdown",
   "metadata": {
    "id": "hlJ3Yy1TQmWv"
   },
   "source": [
    "판다스의 `read_csv` 메서드는 형식이 잘못된 CSV에서 테이블을 구성하기 위해 최선을 다하지만 간혹 실수가 발생할 수 있습니다. 예를 들어, 위의 예시와 같이 54는 파일의 해당 줄에 2개의 열만 있기 때문에 나이가 아닌 이름으로 해석되었습니다. 이처럼 데이터 세트에는 잘못된 형식, 누락된 데이터 또는 오타와 같은 실수 등이 포함되는 경우가 많습니다."
   ]
  },
  {
   "cell_type": "markdown",
   "metadata": {
    "id": "vLwjhmFiQmWv"
   },
   "source": [
    "## JSON\n",
    "\n",
    "JSON은 JavaScript Object Notation의 약자입니다. 여기서 자바스크립트란 웹 애플리케이션을 만들기 위한 공통 언어이며, JSON 파일은 자바스크립트 애플리케이션 간에 정보를 수집하고 전송하는 데 사용됩니다. 그렇기 때문에 그 결과 인터넷의 많은 데이터들이 JSON 파일의 형태로 존재합니다. 예를 들어, Twitter와 Google 지도는 JSON을 사용합니다.\n",
    "\n",
    "본질적으로 JSON 파일은 중첩된 딕셔너리와 리스트로 구축된 데이터 구조입니다. 이를 이해하기 위해 아래에서 직접 예제를 만든 다음 인터넷에서 다운로드한 예제를 살펴보겠습니다."
   ]
  },
  {
   "cell_type": "code",
   "execution_count": 10,
   "metadata": {
    "id": "kIWIpRFsQmWv"
   },
   "outputs": [
    {
     "data": {
      "text/plain": [
       "[{'title': 'The Prophet',\n",
       "  'author': 'Khalil Gibran',\n",
       "  'genre': 'poetry',\n",
       "  'tags': ['religion',\n",
       "   'spirituality',\n",
       "   'philosophy',\n",
       "   'Lebanon',\n",
       "   'Arabic',\n",
       "   'Middle East'],\n",
       "  'book_id': '811.19',\n",
       "  'copies': [{'edition_year': 1996, 'checkouts': 486, 'borrowed': False},\n",
       "   {'edition_year': 1996, 'checkouts': 443, 'borrowed': False}]},\n",
       " {'title': 'The Little Prince',\n",
       "  'author': 'Antoine de Saint-Exupery',\n",
       "  'genre': 'children',\n",
       "  'tags': ['fantasy', 'France', 'philosophy', 'illustrated', 'fable'],\n",
       "  'id': '843.912',\n",
       "  'copies': [{'edition_year': 1983,\n",
       "    'checkouts': 634,\n",
       "    'borrowed': True,\n",
       "    'due_date': '2017/02/02'},\n",
       "   {'edition_year': 2015, 'checkouts': 41, 'borrowed': False}]}]"
      ]
     },
     "execution_count": 10,
     "metadata": {},
     "output_type": "execute_result"
    }
   ],
   "source": [
    "book1 = {'title': 'The Prophet',\n",
    "         'author': 'Khalil Gibran',\n",
    "         'genre': 'poetry',\n",
    "         'tags': ['religion', 'spirituality', 'philosophy', 'Lebanon', 'Arabic', 'Middle East'],\n",
    "         'book_id': '811.19',\n",
    "         'copies': [{'edition_year': 1996,\n",
    "                     'checkouts': 486,\n",
    "                     'borrowed': False},\n",
    "                    {'edition_year': 1996,\n",
    "                     'checkouts': 443,\n",
    "                     'borrowed': False}]\n",
    "         }\n",
    "         \n",
    "book2 = {'title': 'The Little Prince',\n",
    "         'author': 'Antoine de Saint-Exupery',\n",
    "         'genre': 'children',\n",
    "         'tags': ['fantasy', 'France', 'philosophy', 'illustrated', 'fable'],\n",
    "         'id': '843.912',\n",
    "         'copies': [{'edition_year': 1983,\n",
    "                     'checkouts': 634,\n",
    "                     'borrowed': True,\n",
    "                     'due_date': '2017/02/02'},\n",
    "                    {'edition_year': 2015,\n",
    "                     'checkouts': 41,\n",
    "                     'borrowed': False}]\n",
    "         }\n",
    "\n",
    "library = [book1, book2]\n",
    "library"
   ]
  },
  {
   "cell_type": "markdown",
   "metadata": {
    "id": "XrAhJQzAQmWv"
   },
   "source": [
    "We have two books in our `library`. Both books have some common properties: a title, an author, an id, and tags. Each book can have several tags, so we store that data as a list. Additionally, there can be multiple copies of each book, and each copy also has some unique information like the year it was printed and how many times it's been checked out. Notice that if a book is checked out, it also has a due date. It's convenient to store the information about the multiple copies as a list of dictionaries within the dictionary about the book, because every copy shares the same title, author, etc.\n",
    "\n",
    "우리가 생성한 `library`에 책이 두 권 있습니다. 이 두 책에는 제목, 저자, ID 및 태그와 같은 몇 가지 공통 속성이 존재하며, 각 책에는 여러 태그가 있을 수 있으므로 해당 데이터가 리스트의 형태로 저장되어 있습니다. 또한 각 책의 사본이 여러 개 있을 수 있으며 각 사본에는 인쇄된 연도 및 대출 횟수와 같은 고유한 정보도 있습니다. 심지어 책을 대출한 경우 기한도 있습니다. 이런 경우에는 모든 사본이 동일한 제목, 저자 등을 공유하기 때문에 여러 사본에 대한 정보를 딕셔너리들로 구성된 리스트 형태로 만들고 이를 또 다른 딕셔너리 안에 저장하는 것이 편리합니다.\n",
    "\n",
    "이러한 구조가 바로 전형적인 JSON 파일의 형태입니다. 이는 데이터의 중복성을 줄여준다는 장점이 있습니다. 여러 권의 책이 있더라도 저자와 제목을 한 번만 저장하기 때문입니다. 또한 체크아웃하지 않은 사본의 마감일은 저장하지 않고 있습니다.\n",
    "\n",
    "이 데이터를 테이블에 넣으면 많은 정보를 복제해야 합니다. 또한 라이브러리에 있는 복사본이 하나만 체크아웃되었기 때문에 누락된 데이터가 많은 열도 있을 것입니다.\n",
    "\n",
    "|index|title|author|id|genre|tags|edition_year|checkouts|borrowed|due_date|\n",
    "|:---:|:---:|:----:|::|:---:|:--:|:----------:|:-------:|:------:|:------:|\n",
    "|0|The Prophet|Khalil Gibran|811.19|poetry|religion, spirituality, philosophy, Lebanon, Arabic, Middle East|1996|486|False|Null|\n",
    "|1|The Prophet|Khalil Gibran|811.19|poetry|religion, spirituality, philosophy, Lebanon, Arabic, Middle East|1996|443|False|Null|\n",
    "|2|The Little Prince|Antoine de Saint-Exupery|843.912|children|fantasy, France, philosophy, illustrated, fable|1983|634|True|2017/02/02|\n",
    "|3|The Little Prince|Antoine de Saint-Exupery|843.912|children|fantasy, France, philosophy, illustrated, fable|2015|41|False|Null|\n",
    "\n",
    "사실 메모리적으로 봤을 때 이는 매우 낭비입니다. JSON 파일은 인터넷을 통해 빠르게 공유되어야 하기 때문에 파일을 저장하고 전송하는 데 필요한 리소스의 양을 줄이려면 파일이 작아야 합니다.\n",
    "\n",
    "우리는 아래와 같이 `json` 모듈을 사용하여 `library`를 디스크에 쓸 수 있습니다."
   ]
  },
  {
   "cell_type": "code",
   "execution_count": 11,
   "metadata": {
    "id": "4Z1Epn9AQmWv"
   },
   "outputs": [],
   "source": [
    "import json\n",
    "\n",
    "with open('./data/library.json', 'w') as f:\n",
    "    json.dump(library, f, indent=2)"
   ]
  },
  {
   "cell_type": "code",
   "execution_count": 13,
   "metadata": {
    "id": "qBr83YxOQmWw"
   },
   "outputs": [
    {
     "data": {
      "text/plain": [
       "[{'title': 'The Prophet',\n",
       "  'author': 'Khalil Gibran',\n",
       "  'genre': 'poetry',\n",
       "  'tags': ['religion',\n",
       "   'spirituality',\n",
       "   'philosophy',\n",
       "   'Lebanon',\n",
       "   'Arabic',\n",
       "   'Middle East'],\n",
       "  'book_id': '811.19',\n",
       "  'copies': [{'edition_year': 1996, 'checkouts': 486, 'borrowed': False},\n",
       "   {'edition_year': 1996, 'checkouts': 443, 'borrowed': False}]},\n",
       " {'title': 'The Little Prince',\n",
       "  'author': 'Antoine de Saint-Exupery',\n",
       "  'genre': 'children',\n",
       "  'tags': ['fantasy', 'France', 'philosophy', 'illustrated', 'fable'],\n",
       "  'id': '843.912',\n",
       "  'copies': [{'edition_year': 1983,\n",
       "    'checkouts': 634,\n",
       "    'borrowed': True,\n",
       "    'due_date': '2017/02/02'},\n",
       "   {'edition_year': 2015, 'checkouts': 41, 'borrowed': False}]}]"
      ]
     },
     "execution_count": 13,
     "metadata": {},
     "output_type": "execute_result"
    }
   ],
   "source": [
    "with open('./data/library.json', 'r') as f:\n",
    "    reloaded_library = json.load(f)\n",
    "\n",
    "reloaded_library"
   ]
  },
  {
   "cell_type": "code",
   "execution_count": 14,
   "metadata": {
    "id": "Iop7I9PwQmWw"
   },
   "outputs": [
    {
     "data": {
      "text/plain": [
       "'[\\n  {\\n    \"title\": \"The Prophet\",\\n    \"author\": \"Khalil Gibran\",\\n    \"genre\": \"poetry\",\\n    \"tags\": [\\n      \"religion\",\\n      \"spirituality\",\\n      \"philosophy\",\\n      \"Lebanon\",\\n      \"Arabic\",\\n      \"Middle East\"\\n    ],\\n    \"book_id\": \"811.19\",\\n    \"copies\": [\\n      {\\n        \"edition_year\": 1996,\\n        \"checkouts\": 486,\\n        \"borrowed\": false\\n      },\\n      {\\n        \"edition_year\": 1996,\\n        \"checkouts\": 443,\\n        \"borrowed\": false\\n      }\\n    ]\\n  },\\n  {\\n    \"title\": \"The Little Prince\",\\n    \"author\": \"Antoine de Saint-Exupery\",\\n    \"genre\": \"children\",\\n    \"tags\": [\\n      \"fantasy\",\\n      \"France\",\\n      \"philosophy\",\\n      \"illustrated\",\\n      \"fable\"\\n    ],\\n    \"id\": \"843.912\",\\n    \"copies\": [\\n      {\\n        \"edition_year\": 1983,\\n        \"checkouts\": 634,\\n        \"borrowed\": true,\\n        \"due_date\": \"2017/02/02\"\\n      },\\n      {\\n        \"edition_year\": 2015,\\n        \"checkouts\": 41,\\n        \"borrowed\": false\\n      }\\n    ]\\n  }\\n]'"
      ]
     },
     "execution_count": 14,
     "metadata": {},
     "output_type": "execute_result"
    }
   ],
   "source": [
    "# note that if we loaded it in without JSON\n",
    "# the file would be interpreted as plain text\n",
    "\n",
    "with open('./data/library.json', 'r') as f:\n",
    "    library_string = f.read()\n",
    "\n",
    "# this isn't what we want\n",
    "library_string"
   ]
  },
  {
   "cell_type": "code",
   "execution_count": 16,
   "metadata": {
    "id": "QSdwU97XQmWw"
   },
   "outputs": [
    {
     "data": {
      "text/html": [
       "<div>\n",
       "<style scoped>\n",
       "    .dataframe tbody tr th:only-of-type {\n",
       "        vertical-align: middle;\n",
       "    }\n",
       "\n",
       "    .dataframe tbody tr th {\n",
       "        vertical-align: top;\n",
       "    }\n",
       "\n",
       "    .dataframe thead th {\n",
       "        text-align: right;\n",
       "    }\n",
       "</style>\n",
       "<table border=\"1\" class=\"dataframe\">\n",
       "  <thead>\n",
       "    <tr style=\"text-align: right;\">\n",
       "      <th></th>\n",
       "      <th>title</th>\n",
       "      <th>author</th>\n",
       "      <th>genre</th>\n",
       "      <th>tags</th>\n",
       "      <th>book_id</th>\n",
       "      <th>copies</th>\n",
       "      <th>id</th>\n",
       "    </tr>\n",
       "  </thead>\n",
       "  <tbody>\n",
       "    <tr>\n",
       "      <th>0</th>\n",
       "      <td>The Prophet</td>\n",
       "      <td>Khalil Gibran</td>\n",
       "      <td>poetry</td>\n",
       "      <td>[religion, spirituality, philosophy, Lebanon, ...</td>\n",
       "      <td>811.19</td>\n",
       "      <td>[{'edition_year': 1996, 'checkouts': 486, 'bor...</td>\n",
       "      <td>NaN</td>\n",
       "    </tr>\n",
       "    <tr>\n",
       "      <th>1</th>\n",
       "      <td>The Little Prince</td>\n",
       "      <td>Antoine de Saint-Exupery</td>\n",
       "      <td>children</td>\n",
       "      <td>[fantasy, France, philosophy, illustrated, fable]</td>\n",
       "      <td>NaN</td>\n",
       "      <td>[{'edition_year': 1983, 'checkouts': 634, 'bor...</td>\n",
       "      <td>843.912</td>\n",
       "    </tr>\n",
       "  </tbody>\n",
       "</table>\n",
       "</div>"
      ],
      "text/plain": [
       "               title                    author     genre  \\\n",
       "0        The Prophet             Khalil Gibran    poetry   \n",
       "1  The Little Prince  Antoine de Saint-Exupery  children   \n",
       "\n",
       "                                                tags  book_id  \\\n",
       "0  [religion, spirituality, philosophy, Lebanon, ...   811.19   \n",
       "1  [fantasy, France, philosophy, illustrated, fable]      NaN   \n",
       "\n",
       "                                              copies       id  \n",
       "0  [{'edition_year': 1996, 'checkouts': 486, 'bor...      NaN  \n",
       "1  [{'edition_year': 1983, 'checkouts': 634, 'bor...  843.912  "
      ]
     },
     "execution_count": 16,
     "metadata": {},
     "output_type": "execute_result"
    }
   ],
   "source": [
    "# Pandas can also read_json\n",
    "# notice how it constructs the table\n",
    "# does it represent the data well?\n",
    "import pandas as pd\n",
    "pd.read_json('./data/library.json')"
   ]
  },
  {
   "cell_type": "code",
   "execution_count": 41,
   "metadata": {
    "id": "5-IyjIvUQmWw"
   },
   "outputs": [],
   "source": [
    "# and to_json\n",
    "import pandas as pd\n",
    "df.to_json('./data/example_df.json')"
   ]
  },
  {
   "cell_type": "markdown",
   "metadata": {
    "id": "lTnk35lSQmWw"
   },
   "source": [
    "우리는 다양한 방법으로 JSON 파일을 다운로드할 수 있습니다. 수동으로 다운로드할 수도 있지만 `wget`을 사용할 수도 있고, 종종 JSON을 사용하여 응답하는 웹사이트의 API에 연결하기도 합니다. 판다스의 `read_json` 메서드는 URL에 직접 연결하여 파일을 컴퓨터에 저장하지 않고도 JSON을 읽을 수 있습니다."
   ]
  },
  {
   "cell_type": "code",
   "execution_count": 39,
   "metadata": {
    "id": "dzee2W4GQmWx"
   },
   "outputs": [
    {
     "data": {
      "text/html": [
       "<div>\n",
       "<style scoped>\n",
       "    .dataframe tbody tr th:only-of-type {\n",
       "        vertical-align: middle;\n",
       "    }\n",
       "\n",
       "    .dataframe tbody tr th {\n",
       "        vertical-align: top;\n",
       "    }\n",
       "\n",
       "    .dataframe thead th {\n",
       "        text-align: right;\n",
       "    }\n",
       "</style>\n",
       "<table border=\"1\" class=\"dataframe\">\n",
       "  <thead>\n",
       "    <tr style=\"text-align: right;\">\n",
       "      <th></th>\n",
       "      <th>url</th>\n",
       "      <th>repository_url</th>\n",
       "      <th>labels_url</th>\n",
       "      <th>comments_url</th>\n",
       "      <th>events_url</th>\n",
       "      <th>html_url</th>\n",
       "      <th>id</th>\n",
       "      <th>node_id</th>\n",
       "      <th>number</th>\n",
       "      <th>title</th>\n",
       "      <th>...</th>\n",
       "      <th>created_at</th>\n",
       "      <th>updated_at</th>\n",
       "      <th>closed_at</th>\n",
       "      <th>author_association</th>\n",
       "      <th>active_lock_reason</th>\n",
       "      <th>pull_request</th>\n",
       "      <th>body</th>\n",
       "      <th>reactions</th>\n",
       "      <th>timeline_url</th>\n",
       "      <th>performed_via_github_app</th>\n",
       "    </tr>\n",
       "  </thead>\n",
       "  <tbody>\n",
       "    <tr>\n",
       "      <th>0</th>\n",
       "      <td>https://api.github.com/repos/pandas-dev/pandas...</td>\n",
       "      <td>https://api.github.com/repos/pandas-dev/pandas</td>\n",
       "      <td>https://api.github.com/repos/pandas-dev/pandas...</td>\n",
       "      <td>https://api.github.com/repos/pandas-dev/pandas...</td>\n",
       "      <td>https://api.github.com/repos/pandas-dev/pandas...</td>\n",
       "      <td>https://github.com/pandas-dev/pandas/pull/43900</td>\n",
       "      <td>1017603845</td>\n",
       "      <td>PR_kwDOAA0YD84sw3i7</td>\n",
       "      <td>43900</td>\n",
       "      <td>ENH: Add support for more placeholders in `gue...</td>\n",
       "      <td>...</td>\n",
       "      <td>2021-10-06 06:41:39+00:00</td>\n",
       "      <td>2021-10-06 06:45:06+00:00</td>\n",
       "      <td>NaT</td>\n",
       "      <td>NONE</td>\n",
       "      <td>NaN</td>\n",
       "      <td>{'url': 'https://api.github.com/repos/pandas-d...</td>\n",
       "      <td>Add support for day of week and meridiem place...</td>\n",
       "      <td>{'url': 'https://api.github.com/repos/pandas-d...</td>\n",
       "      <td>https://api.github.com/repos/pandas-dev/pandas...</td>\n",
       "      <td>NaN</td>\n",
       "    </tr>\n",
       "    <tr>\n",
       "      <th>1</th>\n",
       "      <td>https://api.github.com/repos/pandas-dev/pandas...</td>\n",
       "      <td>https://api.github.com/repos/pandas-dev/pandas</td>\n",
       "      <td>https://api.github.com/repos/pandas-dev/pandas...</td>\n",
       "      <td>https://api.github.com/repos/pandas-dev/pandas...</td>\n",
       "      <td>https://api.github.com/repos/pandas-dev/pandas...</td>\n",
       "      <td>https://github.com/pandas-dev/pandas/pull/43899</td>\n",
       "      <td>1017269667</td>\n",
       "      <td>PR_kwDOAA0YD84svsf6</td>\n",
       "      <td>43899</td>\n",
       "      <td>ENH: implement ExtensionArray.__array_ufunc__</td>\n",
       "      <td>...</td>\n",
       "      <td>2021-10-06 02:25:43+00:00</td>\n",
       "      <td>2021-10-06 02:26:24+00:00</td>\n",
       "      <td>NaT</td>\n",
       "      <td>MEMBER</td>\n",
       "      <td>NaN</td>\n",
       "      <td>{'url': 'https://api.github.com/repos/pandas-d...</td>\n",
       "      <td>This implements `ExtensionArray.__array_ufunc_...</td>\n",
       "      <td>{'url': 'https://api.github.com/repos/pandas-d...</td>\n",
       "      <td>https://api.github.com/repos/pandas-dev/pandas...</td>\n",
       "      <td>NaN</td>\n",
       "    </tr>\n",
       "    <tr>\n",
       "      <th>2</th>\n",
       "      <td>https://api.github.com/repos/pandas-dev/pandas...</td>\n",
       "      <td>https://api.github.com/repos/pandas-dev/pandas</td>\n",
       "      <td>https://api.github.com/repos/pandas-dev/pandas...</td>\n",
       "      <td>https://api.github.com/repos/pandas-dev/pandas...</td>\n",
       "      <td>https://api.github.com/repos/pandas-dev/pandas...</td>\n",
       "      <td>https://github.com/pandas-dev/pandas/pull/43898</td>\n",
       "      <td>1017144853</td>\n",
       "      <td>PR_kwDOAA0YD84svQdn</td>\n",
       "      <td>43898</td>\n",
       "      <td>TST: slow collection in test_algos.py</td>\n",
       "      <td>...</td>\n",
       "      <td>2021-10-06 00:45:09+00:00</td>\n",
       "      <td>2021-10-06 01:39:55+00:00</td>\n",
       "      <td>NaT</td>\n",
       "      <td>MEMBER</td>\n",
       "      <td>NaN</td>\n",
       "      <td>{'url': 'https://api.github.com/repos/pandas-d...</td>\n",
       "      <td>- [x] closes #43888\\r\\n</td>\n",
       "      <td>{'url': 'https://api.github.com/repos/pandas-d...</td>\n",
       "      <td>https://api.github.com/repos/pandas-dev/pandas...</td>\n",
       "      <td>NaN</td>\n",
       "    </tr>\n",
       "    <tr>\n",
       "      <th>3</th>\n",
       "      <td>https://api.github.com/repos/pandas-dev/pandas...</td>\n",
       "      <td>https://api.github.com/repos/pandas-dev/pandas</td>\n",
       "      <td>https://api.github.com/repos/pandas-dev/pandas...</td>\n",
       "      <td>https://api.github.com/repos/pandas-dev/pandas...</td>\n",
       "      <td>https://api.github.com/repos/pandas-dev/pandas...</td>\n",
       "      <td>https://github.com/pandas-dev/pandas/issues/43896</td>\n",
       "      <td>1017038969</td>\n",
       "      <td>I_kwDOAA0YD848nsh5</td>\n",
       "      <td>43896</td>\n",
       "      <td>BUG: bug in DataFrame.groupby(Grouper) trigger...</td>\n",
       "      <td>...</td>\n",
       "      <td>2021-10-05 23:22:11+00:00</td>\n",
       "      <td>2021-10-05 23:22:11+00:00</td>\n",
       "      <td>NaT</td>\n",
       "      <td>NONE</td>\n",
       "      <td>NaN</td>\n",
       "      <td>NaN</td>\n",
       "      <td>### \\n\\n- [X] I have checked that this issue h...</td>\n",
       "      <td>{'url': 'https://api.github.com/repos/pandas-d...</td>\n",
       "      <td>https://api.github.com/repos/pandas-dev/pandas...</td>\n",
       "      <td>NaN</td>\n",
       "    </tr>\n",
       "    <tr>\n",
       "      <th>4</th>\n",
       "      <td>https://api.github.com/repos/pandas-dev/pandas...</td>\n",
       "      <td>https://api.github.com/repos/pandas-dev/pandas</td>\n",
       "      <td>https://api.github.com/repos/pandas-dev/pandas...</td>\n",
       "      <td>https://api.github.com/repos/pandas-dev/pandas...</td>\n",
       "      <td>https://api.github.com/repos/pandas-dev/pandas...</td>\n",
       "      <td>https://github.com/pandas-dev/pandas/pull/43894</td>\n",
       "      <td>1016904508</td>\n",
       "      <td>PR_kwDOAA0YD84suakV</td>\n",
       "      <td>43894</td>\n",
       "      <td>ENH: Add custom descriptors (such as dtype, nu...</td>\n",
       "      <td>...</td>\n",
       "      <td>2021-10-05 21:44:02+00:00</td>\n",
       "      <td>2021-10-05 21:44:07+00:00</td>\n",
       "      <td>NaT</td>\n",
       "      <td>CONTRIBUTOR</td>\n",
       "      <td>NaN</td>\n",
       "      <td>{'url': 'https://api.github.com/repos/pandas-d...</td>\n",
       "      <td>- [ ] closes: #43875 \\r\\n\\r\\n- [ ] **NEEDS PR*...</td>\n",
       "      <td>{'url': 'https://api.github.com/repos/pandas-d...</td>\n",
       "      <td>https://api.github.com/repos/pandas-dev/pandas...</td>\n",
       "      <td>NaN</td>\n",
       "    </tr>\n",
       "  </tbody>\n",
       "</table>\n",
       "<p>5 rows × 28 columns</p>\n",
       "</div>"
      ],
      "text/plain": [
       "                                                 url  \\\n",
       "0  https://api.github.com/repos/pandas-dev/pandas...   \n",
       "1  https://api.github.com/repos/pandas-dev/pandas...   \n",
       "2  https://api.github.com/repos/pandas-dev/pandas...   \n",
       "3  https://api.github.com/repos/pandas-dev/pandas...   \n",
       "4  https://api.github.com/repos/pandas-dev/pandas...   \n",
       "\n",
       "                                   repository_url  \\\n",
       "0  https://api.github.com/repos/pandas-dev/pandas   \n",
       "1  https://api.github.com/repos/pandas-dev/pandas   \n",
       "2  https://api.github.com/repos/pandas-dev/pandas   \n",
       "3  https://api.github.com/repos/pandas-dev/pandas   \n",
       "4  https://api.github.com/repos/pandas-dev/pandas   \n",
       "\n",
       "                                          labels_url  \\\n",
       "0  https://api.github.com/repos/pandas-dev/pandas...   \n",
       "1  https://api.github.com/repos/pandas-dev/pandas...   \n",
       "2  https://api.github.com/repos/pandas-dev/pandas...   \n",
       "3  https://api.github.com/repos/pandas-dev/pandas...   \n",
       "4  https://api.github.com/repos/pandas-dev/pandas...   \n",
       "\n",
       "                                        comments_url  \\\n",
       "0  https://api.github.com/repos/pandas-dev/pandas...   \n",
       "1  https://api.github.com/repos/pandas-dev/pandas...   \n",
       "2  https://api.github.com/repos/pandas-dev/pandas...   \n",
       "3  https://api.github.com/repos/pandas-dev/pandas...   \n",
       "4  https://api.github.com/repos/pandas-dev/pandas...   \n",
       "\n",
       "                                          events_url  \\\n",
       "0  https://api.github.com/repos/pandas-dev/pandas...   \n",
       "1  https://api.github.com/repos/pandas-dev/pandas...   \n",
       "2  https://api.github.com/repos/pandas-dev/pandas...   \n",
       "3  https://api.github.com/repos/pandas-dev/pandas...   \n",
       "4  https://api.github.com/repos/pandas-dev/pandas...   \n",
       "\n",
       "                                            html_url          id  \\\n",
       "0    https://github.com/pandas-dev/pandas/pull/43900  1017603845   \n",
       "1    https://github.com/pandas-dev/pandas/pull/43899  1017269667   \n",
       "2    https://github.com/pandas-dev/pandas/pull/43898  1017144853   \n",
       "3  https://github.com/pandas-dev/pandas/issues/43896  1017038969   \n",
       "4    https://github.com/pandas-dev/pandas/pull/43894  1016904508   \n",
       "\n",
       "               node_id  number  \\\n",
       "0  PR_kwDOAA0YD84sw3i7   43900   \n",
       "1  PR_kwDOAA0YD84svsf6   43899   \n",
       "2  PR_kwDOAA0YD84svQdn   43898   \n",
       "3   I_kwDOAA0YD848nsh5   43896   \n",
       "4  PR_kwDOAA0YD84suakV   43894   \n",
       "\n",
       "                                               title  ...  \\\n",
       "0  ENH: Add support for more placeholders in `gue...  ...   \n",
       "1      ENH: implement ExtensionArray.__array_ufunc__  ...   \n",
       "2              TST: slow collection in test_algos.py  ...   \n",
       "3  BUG: bug in DataFrame.groupby(Grouper) trigger...  ...   \n",
       "4  ENH: Add custom descriptors (such as dtype, nu...  ...   \n",
       "\n",
       "                 created_at                updated_at closed_at  \\\n",
       "0 2021-10-06 06:41:39+00:00 2021-10-06 06:45:06+00:00       NaT   \n",
       "1 2021-10-06 02:25:43+00:00 2021-10-06 02:26:24+00:00       NaT   \n",
       "2 2021-10-06 00:45:09+00:00 2021-10-06 01:39:55+00:00       NaT   \n",
       "3 2021-10-05 23:22:11+00:00 2021-10-05 23:22:11+00:00       NaT   \n",
       "4 2021-10-05 21:44:02+00:00 2021-10-05 21:44:07+00:00       NaT   \n",
       "\n",
       "   author_association  active_lock_reason  \\\n",
       "0                NONE                 NaN   \n",
       "1              MEMBER                 NaN   \n",
       "2              MEMBER                 NaN   \n",
       "3                NONE                 NaN   \n",
       "4         CONTRIBUTOR                 NaN   \n",
       "\n",
       "                                        pull_request  \\\n",
       "0  {'url': 'https://api.github.com/repos/pandas-d...   \n",
       "1  {'url': 'https://api.github.com/repos/pandas-d...   \n",
       "2  {'url': 'https://api.github.com/repos/pandas-d...   \n",
       "3                                                NaN   \n",
       "4  {'url': 'https://api.github.com/repos/pandas-d...   \n",
       "\n",
       "                                                body  \\\n",
       "0  Add support for day of week and meridiem place...   \n",
       "1  This implements `ExtensionArray.__array_ufunc_...   \n",
       "2                            - [x] closes #43888\\r\\n   \n",
       "3  ### \\n\\n- [X] I have checked that this issue h...   \n",
       "4  - [ ] closes: #43875 \\r\\n\\r\\n- [ ] **NEEDS PR*...   \n",
       "\n",
       "                                           reactions  \\\n",
       "0  {'url': 'https://api.github.com/repos/pandas-d...   \n",
       "1  {'url': 'https://api.github.com/repos/pandas-d...   \n",
       "2  {'url': 'https://api.github.com/repos/pandas-d...   \n",
       "3  {'url': 'https://api.github.com/repos/pandas-d...   \n",
       "4  {'url': 'https://api.github.com/repos/pandas-d...   \n",
       "\n",
       "                                        timeline_url performed_via_github_app  \n",
       "0  https://api.github.com/repos/pandas-dev/pandas...                      NaN  \n",
       "1  https://api.github.com/repos/pandas-dev/pandas...                      NaN  \n",
       "2  https://api.github.com/repos/pandas-dev/pandas...                      NaN  \n",
       "3  https://api.github.com/repos/pandas-dev/pandas...                      NaN  \n",
       "4  https://api.github.com/repos/pandas-dev/pandas...                      NaN  \n",
       "\n",
       "[5 rows x 28 columns]"
      ]
     },
     "execution_count": 39,
     "metadata": {},
     "output_type": "execute_result"
    }
   ],
   "source": [
    "import pandas as pd\n",
    "pd.read_json('https://api.github.com/repos/pydata/pandas/issues?per_page=5')"
   ]
  },
  {
   "cell_type": "markdown",
   "metadata": {
    "id": "KPiOnoGiQmWy"
   },
   "source": [
    "## 객체 직렬화 (`pickle`)\n",
    "\n",
    "종종 작업을 파이썬에 저장하고 나중에 다시 불러오고 싶을 때가 있습니다. 그런데 만약 그 작업이 머신러닝 모델이거나 파이썬의 다른 복잡한 객체인 경우에는 어떻게 이 객체를 저장할 수 있을까요? 이를 위해 파이썬에는 피클(`pickle`)이라는 모듈이 있습니다. 우리는 `pickle`을 사용하여 파이썬 객체에 대한 모든 정보를 포함하는 바이너리 파일을 작성할 수 있습니다. 또한 나중에 우리는 그 피클 파일을 로드하고 파이썬에서 객체를 재구성할 수 있습니다."
   ]
  },
  {
   "cell_type": "code",
   "execution_count": 20,
   "metadata": {
    "id": "nXOz-8E2QmWy"
   },
   "outputs": [],
   "source": [
    "pickle_example = ['hello', {'a': 23, 'b': True}, (1, 2, 3), [['dogs', 'cats'], None]]"
   ]
  },
  {
   "cell_type": "code",
   "execution_count": 21,
   "metadata": {
    "id": "GSqxnXN7QmWy"
   },
   "outputs": [
    {
     "ename": "TypeError",
     "evalue": "write() argument must be str, not list",
     "output_type": "error",
     "traceback": [
      "\u001b[1;31m---------------------------------------------------------------------------\u001b[0m",
      "\u001b[1;31mTypeError\u001b[0m                                 Traceback (most recent call last)",
      "\u001b[1;32m<ipython-input-21-a9c72e388869>\u001b[0m in \u001b[0;36m<module>\u001b[1;34m\u001b[0m\n\u001b[0;32m      1\u001b[0m \u001b[1;31m# we can't save this as text\u001b[0m\u001b[1;33m\u001b[0m\u001b[1;33m\u001b[0m\u001b[1;33m\u001b[0m\u001b[0m\n\u001b[0;32m      2\u001b[0m \u001b[1;32mwith\u001b[0m \u001b[0mopen\u001b[0m\u001b[1;33m(\u001b[0m\u001b[1;34m'./data/pickle_example.txt'\u001b[0m\u001b[1;33m,\u001b[0m \u001b[1;34m'w'\u001b[0m\u001b[1;33m)\u001b[0m \u001b[1;32mas\u001b[0m \u001b[0mf\u001b[0m\u001b[1;33m:\u001b[0m\u001b[1;33m\u001b[0m\u001b[1;33m\u001b[0m\u001b[0m\n\u001b[1;32m----> 3\u001b[1;33m     \u001b[0mf\u001b[0m\u001b[1;33m.\u001b[0m\u001b[0mwrite\u001b[0m\u001b[1;33m(\u001b[0m\u001b[0mpickle_example\u001b[0m\u001b[1;33m)\u001b[0m\u001b[1;33m\u001b[0m\u001b[1;33m\u001b[0m\u001b[0m\n\u001b[0m",
      "\u001b[1;31mTypeError\u001b[0m: write() argument must be str, not list"
     ]
    }
   ],
   "source": [
    "# we can't save this as text\n",
    "with open('./data/pickle_example.txt', 'w') as f:\n",
    "    f.write(pickle_example)"
   ]
  },
  {
   "cell_type": "code",
   "execution_count": 22,
   "metadata": {
    "id": "cZpxsxuPQmWy"
   },
   "outputs": [
    {
     "data": {
      "text/plain": [
       "['hello', {'a': 23, 'b': True}, (1, 2, 3), [['dogs', 'cats'], None]]"
      ]
     },
     "execution_count": 22,
     "metadata": {},
     "output_type": "execute_result"
    }
   ],
   "source": [
    "import pickle\n",
    "\n",
    "# we can save it as a pickle\n",
    "with open('./data/pickle_example.pkl', 'wb') as f:\n",
    "    pickle.dump(pickle_example, f)\n",
    "\n",
    "with open('./data/pickle_example.pkl', 'rb') as f:\n",
    "    reloaded_example = pickle.load(f)\n",
    "\n",
    "reloaded_example"
   ]
  },
  {
   "cell_type": "code",
   "execution_count": 23,
   "metadata": {
    "id": "hcn5H6beQmWy"
   },
   "outputs": [
    {
     "data": {
      "text/plain": [
       "True"
      ]
     },
     "execution_count": 23,
     "metadata": {},
     "output_type": "execute_result"
    }
   ],
   "source": [
    "# the reloaded example is the same as the original\n",
    "\n",
    "reloaded_example == pickle_example"
   ]
  },
  {
   "cell_type": "markdown",
   "metadata": {
    "id": "ExxVBR6lQmWy"
   },
   "source": [
    "피클은 데이터 과학자에게 중요한 도구입니다. 데이터 처리 및 머신 러닝 모델 학습은 시간이 오래 걸릴 수 있습니다. 따라서 체크포인트를 저장하는 데 있어 피클은 꽤 유용합니다. 판다스 패키지에도 피클의 형태로 입출력을 할 수 있도록 하는 `to_pickle`과 `read_pickle`이라는 메서드가 존재합니다."
   ]
  },
  {
   "cell_type": "markdown",
   "metadata": {
    "id": "dd14yVtpQmWy"
   },
   "source": [
    "## 넘파이 파일 형식\n",
    "\n",
    "넘파이에도 데이터를 저장하고 로드하는 방법이 존재합니다. 넘파이 배열에 데이터를 저장해야 하는 특정 머신러닝 라이브러리로 작업할 때 이러한 케이스를 종종 볼 수 있습니다. 넘파이 배열은 이미지 데이터로 작업할 때도 자주 사용됩니다. 아래의 예시는 넘파이 배열을 저장하고 불러오는 방법에 대해 직관적으로 보여주고 있습니다."
   ]
  },
  {
   "cell_type": "code",
   "execution_count": 24,
   "metadata": {
    "id": "XLUvhUe4QmWz"
   },
   "outputs": [
    {
     "name": "stdout",
     "output_type": "stream",
     "text": [
      "[[0.58232082 0.37480231 0.01235614 0.04747005]\n",
      " [0.93863715 0.55522418 0.74559883 0.67439668]\n",
      " [0.93627524 0.69166619 0.03075041 0.49512299]\n",
      " [0.52281786 0.26624551 0.80763452 0.36135669]]\n"
     ]
    }
   ],
   "source": [
    "import numpy as np\n",
    "sample_array = np.random.random((4, 4))\n",
    "print(sample_array)"
   ]
  },
  {
   "cell_type": "code",
   "execution_count": 25,
   "metadata": {
    "id": "KsWtulgCQmWz"
   },
   "outputs": [],
   "source": [
    "# to save as plain text\n",
    "np.savetxt('./data/sample_array.txt', sample_array)"
   ]
  },
  {
   "cell_type": "code",
   "execution_count": 27,
   "metadata": {
    "id": "BIcARnyFQmWz"
   },
   "outputs": [
    {
     "name": "stdout",
     "output_type": "stream",
     "text": [
      "[[0.58232082 0.37480231 0.01235614 0.04747005]\n",
      " [0.93863715 0.55522418 0.74559883 0.67439668]\n",
      " [0.93627524 0.69166619 0.03075041 0.49512299]\n",
      " [0.52281786 0.26624551 0.80763452 0.36135669]]\n"
     ]
    }
   ],
   "source": [
    "print(np.loadtxt('./data/sample_array.txt'))"
   ]
  },
  {
   "cell_type": "code",
   "execution_count": 28,
   "metadata": {
    "id": "udFIKS-LQmWz"
   },
   "outputs": [],
   "source": [
    "# to save as compressed binary\n",
    "np.save('./data/sample_array.npy', sample_array)"
   ]
  },
  {
   "cell_type": "code",
   "execution_count": 29,
   "metadata": {
    "id": "uRvYtOmCQmWz"
   },
   "outputs": [
    {
     "name": "stdout",
     "output_type": "stream",
     "text": [
      "[[0.58232082 0.37480231 0.01235614 0.04747005]\n",
      " [0.93863715 0.55522418 0.74559883 0.67439668]\n",
      " [0.93627524 0.69166619 0.03075041 0.49512299]\n",
      " [0.52281786 0.26624551 0.80763452 0.36135669]]\n"
     ]
    }
   ],
   "source": [
    "print(np.load('./data/sample_array.npy'))"
   ]
  },
  {
   "cell_type": "markdown",
   "metadata": {
    "id": "TmMTfmCRQmWz"
   },
   "source": [
    "*Copyright 2021.* 퀀트대디. *This content is licensed solely for personal use. Redistribution or publication of this material is strictly prohibited.*"
   ]
  }
 ],
 "metadata": {
  "colab": {
   "collapsed_sections": [
    "lSRTr3TiQmWz"
   ],
   "name": "7_I/O.ipynb",
   "provenance": [
    {
     "file_id": "14dVgMFZgfoojSaPIIJRFiO5XIsv8Wsea",
     "timestamp": 1633362497474
    }
   ]
  },
  "kernelspec": {
   "display_name": "Python 3",
   "language": "python",
   "name": "python3"
  },
  "language_info": {
   "codemirror_mode": {
    "name": "ipython",
    "version": 3
   },
   "file_extension": ".py",
   "mimetype": "text/x-python",
   "name": "python",
   "nbconvert_exporter": "python",
   "pygments_lexer": "ipython3",
   "version": "3.7.3"
  },
  "nbclean": true
 },
 "nbformat": 4,
 "nbformat_minor": 1
}
