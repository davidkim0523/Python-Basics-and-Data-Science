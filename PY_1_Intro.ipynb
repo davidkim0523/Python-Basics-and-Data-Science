{
  "nbformat": 4,
  "nbformat_minor": 0,
  "metadata": {
    "colab": {
      "name": "PY_1_Intro.ipynb",
      "provenance": [],
      "collapsed_sections": [],
      "include_colab_link": true
    },
    "kernelspec": {
      "display_name": "Python 3",
      "language": "python",
      "name": "python3"
    },
    "language_info": {
      "codemirror_mode": {
        "name": "ipython",
        "version": 3
      },
      "file_extension": ".py",
      "mimetype": "text/x-python",
      "name": "python",
      "nbconvert_exporter": "python",
      "pygments_lexer": "ipython3",
      "version": "3.7.3"
    },
    "nbclean": true
  },
  "cells": [
    {
      "cell_type": "markdown",
      "metadata": {
        "id": "view-in-github",
        "colab_type": "text"
      },
      "source": [
        "<a href=\"https://colab.research.google.com/github/davidkim0523/Python-Basics-and-Data-Science/blob/main/PY_1_Intro.ipynb\" target=\"_parent\"><img src=\"https://colab.research.google.com/assets/colab-badge.svg\" alt=\"Open In Colab\"/></a>"
      ]
    },
    {
      "cell_type": "markdown",
      "metadata": {
        "id": "Xw-hJjwDPfne"
      },
      "source": [
        "# 파이썬 프로그래밍 기초와 데이터 과학"
      ]
    },
    {
      "cell_type": "markdown",
      "metadata": {
        "id": "TEMjpjmPPfng"
      },
      "source": [
        "안녕하세요! 퀀트대디입니다.\n",
        "\n",
        "앞으로 우리는 파이썬과 데이터 과학의 기초에 대해서 학습할 예정입니다. 이 과정은 크게 두 부분으로 나뉘어 있습니다. 우선, 첫번째 파트는 기본적인 파이썬과 프로그래밍에 대해서 다룹니다. 그리고 두번째 파트에서는 프로그래밍을 비롯한 데이터 클렌징과 data aggregation 등 데이터 과학에 필요한 내용들을 다룹니다. 기본적인 커리큘럼은 다음과 같이 구성이 되어있습니다.\n",
        "\n",
        "|주차|내용|\n",
        "|---|---|\n",
        "|1| 프로그래밍과 파이썬 기초|\n",
        "|2| 데이터 구조|\n",
        "|3| 알고리즘, 객체지향형 프로그래밍 & 파이썬 스타일|\n",
        "|4| 데이터 입력과 출력|\n",
        "|5| 파이썬 데이터 과학 패키지|\n",
        "|6| SQL|\n",
        "|7| 데이터 랭글링 |\n",
        "|8| 객체 관계 매핑 (Object-Relation Mapping) |\n",
        "\n",
        "The second component is a series of miniprojects which will test your mastery of the lecture subjects.  Data Science is not a spectator sport, so its important to practice, the miniprojects are a great way to do that.  There will be a series of five miniprojects which will need to be completed by the end of the course.\n",
        "\n",
        "또한 수업을 들으면서 궁금한 점이 있다면 언제든지 자유롭게 포럼 섹션을 통해 질문이 가능합니다. \n",
        "There is an online discussion board where we can help each other learn, share code snippets, and ask questions.  The instructor will be monitoring the board and watching for questions, but it is also important that you interact with your peers.  Remember the best learning often happens when you need to explain something to someone else."
      ]
    },
    {
      "cell_type": "markdown",
      "metadata": {
        "id": "3nie-wjzPfng"
      },
      "source": [
        "## 학습 플랫폼\n",
        "\n",
        "모든 수업과 실습 과정은 주피터 노트북으로 진행이 됩니다. 주피터 노트북은 We will be using the Jupyter notebook interface for all of our work.  The Jupyter notebook is a great tool for Data Science, especially for exploratory Data Science.  Lets go over a few things about the notebook.\n",
        "\n",
        "The notebook is divided into cells, some of which are markdown.\n",
        "\n",
        "추가 사항\n",
        "1) 구글 콜랩이란?\n"
      ]
    },
    {
      "cell_type": "code",
      "metadata": {
        "colab": {
          "base_uri": "https://localhost:8080/"
        },
        "id": "sigImZjDPfnh",
        "outputId": "8138b6b8-7203-4d55-d968-841691f9908a"
      },
      "source": [
        "print('some of which are code')"
      ],
      "execution_count": null,
      "outputs": [
        {
          "name": "stdout",
          "output_type": "stream",
          "text": [
            "some of which are code\n"
          ]
        }
      ]
    },
    {
      "cell_type": "markdown",
      "metadata": {
        "id": "oFsjtswNPfni"
      },
      "source": [
        "웹브라우저 상에서 작성된 코드는 구글 클라우드 서버의 파이썬 \"커널\"로 보내지게 되고 해당 코드들이 실행되게 됩니다. 이후 실행의 결과물은 다시 주피터 노트북으로 전송되고, 우리는 이를 주피터 노트북에서 확인할 수 있습니다. 코드가 담겨있는 셀을 실행하고 싶다면 메뉴에 있는 실행 버튼을 클릭하거나, `shift+enter`키를 누르면 됩니다."
      ]
    },
    {
      "cell_type": "markdown",
      "metadata": {
        "id": "zAkW9ZlvMBzK"
      },
      "source": [
        "만약 셀 내에서 어떤 변수를 정의하고 싶다면 우리는 아래와 같이 쓸 수 있습니다."
      ]
    },
    {
      "cell_type": "code",
      "metadata": {
        "id": "d3RGe2yxPfnk"
      },
      "source": [
        "a = 5"
      ],
      "execution_count": null,
      "outputs": []
    },
    {
      "cell_type": "markdown",
      "metadata": {
        "id": "Xoo1vVMkPfnk"
      },
      "source": [
        "The value is still accessible in another cell:"
      ]
    },
    {
      "cell_type": "code",
      "metadata": {
        "colab": {
          "base_uri": "https://localhost:8080/"
        },
        "id": "xbr2NSxHPfnl",
        "outputId": "1508b22b-b9f1-4d69-b483-64ab99dc7943"
      },
      "source": [
        "print(a)"
      ],
      "execution_count": null,
      "outputs": [
        {
          "name": "stdout",
          "output_type": "stream",
          "text": [
            "5\n"
          ]
        }
      ]
    },
    {
      "cell_type": "markdown",
      "metadata": {
        "id": "qEwZlh3kPfnl"
      },
      "source": [
        "Jupyter notebooks do have some autosave functionality, but please remember to save your notebooks manually often to make sure you don't use any work.  If you are familiar with a version control too like `git`, it is not a bad idea to version control the notebooks, although we do ask you don't push the material to a public repository."
      ]
    },
    {
      "cell_type": "markdown",
      "metadata": {
        "id": "m34Ui8GUPfnm"
      },
      "source": [
        "## Exercises\n",
        "\n",
        "These notebooks contain many small exercises which help practice the material being discussed.  Some of the exercises will be writing a bit of code, others will be written.  Some of the exercises will be covered in the lecture and some will be left as practice.  Exercises are a great topic to discuss on the forum and please feel free to help each other solve them.\n",
        "\n",
        "Now a few exercises for the introduction:\n",
        "\n",
        "1. Make a few cells in the Jupyter notebook and execute them\n",
        "2. Save your Jupyter notebook"
      ]
    },
    {
      "cell_type": "markdown",
      "metadata": {
        "id": "zTKHFcZDPfnm"
      },
      "source": [
        "*Copyright &copy; 2021 QuantDaddy. This content is licensed solely for personal use. Redistribution or publication of this material is strictly prohibited.*"
      ]
    }
  ]
}