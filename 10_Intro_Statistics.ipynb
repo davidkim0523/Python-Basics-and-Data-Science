{
  "nbformat": 4,
  "nbformat_minor": 0,
  "metadata": {
    "kernelspec": {
      "display_name": "Python 3",
      "language": "python",
      "name": "python3"
    },
    "nbclean": true,
    "colab": {
      "name": "10_Intro_Statistics.ipynb",
      "provenance": [],
      "collapsed_sections": []
    },
    "widgets": {
      "application/vnd.jupyter.widget-state+json": {
        "62a16471eb464da49e2aefcd1bbfba3b": {
          "model_module": "@jupyter-widgets/controls",
          "model_name": "VBoxModel",
          "model_module_version": "1.5.0",
          "state": {
            "_view_name": "VBoxView",
            "_dom_classes": [
              "widget-interact"
            ],
            "_model_name": "VBoxModel",
            "_view_module": "@jupyter-widgets/controls",
            "_model_module_version": "1.5.0",
            "_view_count": null,
            "_view_module_version": "1.5.0",
            "box_style": "",
            "layout": "IPY_MODEL_118edaa2c85d43b5b2e5eb834193d4e4",
            "_model_module": "@jupyter-widgets/controls",
            "children": [
              "IPY_MODEL_8ca4ed27881e48c7a0979b6f45a130bc",
              "IPY_MODEL_475999815c794505b6a5c13680dd540a"
            ]
          }
        },
        "118edaa2c85d43b5b2e5eb834193d4e4": {
          "model_module": "@jupyter-widgets/base",
          "model_name": "LayoutModel",
          "model_module_version": "1.2.0",
          "state": {
            "_view_name": "LayoutView",
            "grid_template_rows": null,
            "right": null,
            "justify_content": null,
            "_view_module": "@jupyter-widgets/base",
            "overflow": null,
            "_model_module_version": "1.2.0",
            "_view_count": null,
            "flex_flow": null,
            "width": null,
            "min_width": null,
            "border": null,
            "align_items": null,
            "bottom": null,
            "_model_module": "@jupyter-widgets/base",
            "top": null,
            "grid_column": null,
            "overflow_y": null,
            "overflow_x": null,
            "grid_auto_flow": null,
            "grid_area": null,
            "grid_template_columns": null,
            "flex": null,
            "_model_name": "LayoutModel",
            "justify_items": null,
            "grid_row": null,
            "max_height": null,
            "align_content": null,
            "visibility": null,
            "align_self": null,
            "height": null,
            "min_height": null,
            "padding": null,
            "grid_auto_rows": null,
            "grid_gap": null,
            "max_width": null,
            "order": null,
            "_view_module_version": "1.2.0",
            "grid_template_areas": null,
            "object_position": null,
            "object_fit": null,
            "grid_auto_columns": null,
            "margin": null,
            "display": null,
            "left": null
          }
        },
        "8ca4ed27881e48c7a0979b6f45a130bc": {
          "model_module": "@jupyter-widgets/controls",
          "model_name": "IntSliderModel",
          "model_module_version": "1.5.0",
          "state": {
            "_view_name": "IntSliderView",
            "style": "IPY_MODEL_f5c2b68e9c8644ec9365b2e5f50629ab",
            "_dom_classes": [],
            "description": "sample size",
            "step": 10,
            "_model_name": "IntSliderModel",
            "orientation": "horizontal",
            "max": 200,
            "_view_module": "@jupyter-widgets/controls",
            "_model_module_version": "1.5.0",
            "value": 170,
            "_view_count": null,
            "disabled": false,
            "_view_module_version": "1.5.0",
            "min": 10,
            "continuous_update": true,
            "readout_format": "d",
            "description_tooltip": null,
            "readout": true,
            "_model_module": "@jupyter-widgets/controls",
            "layout": "IPY_MODEL_bc356397fb72456fa19dc0804365e44a"
          }
        },
        "475999815c794505b6a5c13680dd540a": {
          "model_module": "@jupyter-widgets/output",
          "model_name": "OutputModel",
          "model_module_version": "1.0.0",
          "state": {
            "_view_name": "OutputView",
            "msg_id": "",
            "_dom_classes": [],
            "_model_name": "OutputModel",
            "outputs": [
              {
                "output_type": "display_data",
                "data": {
                  "image/png": "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\n",
                  "text/plain": "<Figure size 432x288 with 1 Axes>"
                },
                "metadata": {
                  "needs_background": "light"
                }
              }
            ],
            "_view_module": "@jupyter-widgets/output",
            "_model_module_version": "1.0.0",
            "_view_count": null,
            "_view_module_version": "1.0.0",
            "layout": "IPY_MODEL_e7c07e40fd904aa3af006043e62d64bd",
            "_model_module": "@jupyter-widgets/output"
          }
        },
        "f5c2b68e9c8644ec9365b2e5f50629ab": {
          "model_module": "@jupyter-widgets/controls",
          "model_name": "SliderStyleModel",
          "model_module_version": "1.5.0",
          "state": {
            "_view_name": "StyleView",
            "handle_color": null,
            "_model_name": "SliderStyleModel",
            "description_width": "",
            "_view_module": "@jupyter-widgets/base",
            "_model_module_version": "1.5.0",
            "_view_count": null,
            "_view_module_version": "1.2.0",
            "_model_module": "@jupyter-widgets/controls"
          }
        },
        "bc356397fb72456fa19dc0804365e44a": {
          "model_module": "@jupyter-widgets/base",
          "model_name": "LayoutModel",
          "model_module_version": "1.2.0",
          "state": {
            "_view_name": "LayoutView",
            "grid_template_rows": null,
            "right": null,
            "justify_content": null,
            "_view_module": "@jupyter-widgets/base",
            "overflow": null,
            "_model_module_version": "1.2.0",
            "_view_count": null,
            "flex_flow": null,
            "width": null,
            "min_width": null,
            "border": null,
            "align_items": null,
            "bottom": null,
            "_model_module": "@jupyter-widgets/base",
            "top": null,
            "grid_column": null,
            "overflow_y": null,
            "overflow_x": null,
            "grid_auto_flow": null,
            "grid_area": null,
            "grid_template_columns": null,
            "flex": null,
            "_model_name": "LayoutModel",
            "justify_items": null,
            "grid_row": null,
            "max_height": null,
            "align_content": null,
            "visibility": null,
            "align_self": null,
            "height": null,
            "min_height": null,
            "padding": null,
            "grid_auto_rows": null,
            "grid_gap": null,
            "max_width": null,
            "order": null,
            "_view_module_version": "1.2.0",
            "grid_template_areas": null,
            "object_position": null,
            "object_fit": null,
            "grid_auto_columns": null,
            "margin": null,
            "display": null,
            "left": null
          }
        },
        "e7c07e40fd904aa3af006043e62d64bd": {
          "model_module": "@jupyter-widgets/base",
          "model_name": "LayoutModel",
          "model_module_version": "1.2.0",
          "state": {
            "_view_name": "LayoutView",
            "grid_template_rows": null,
            "right": null,
            "justify_content": null,
            "_view_module": "@jupyter-widgets/base",
            "overflow": null,
            "_model_module_version": "1.2.0",
            "_view_count": null,
            "flex_flow": null,
            "width": null,
            "min_width": null,
            "border": null,
            "align_items": null,
            "bottom": null,
            "_model_module": "@jupyter-widgets/base",
            "top": null,
            "grid_column": null,
            "overflow_y": null,
            "overflow_x": null,
            "grid_auto_flow": null,
            "grid_area": null,
            "grid_template_columns": null,
            "flex": null,
            "_model_name": "LayoutModel",
            "justify_items": null,
            "grid_row": null,
            "max_height": null,
            "align_content": null,
            "visibility": null,
            "align_self": null,
            "height": null,
            "min_height": null,
            "padding": null,
            "grid_auto_rows": null,
            "grid_gap": null,
            "max_width": null,
            "order": null,
            "_view_module_version": "1.2.0",
            "grid_template_areas": null,
            "object_position": null,
            "object_fit": null,
            "grid_auto_columns": null,
            "margin": null,
            "display": null,
            "left": null
          }
        },
        "9e197dc7806949a485275a4ba3c9e64c": {
          "model_module": "@jupyter-widgets/controls",
          "model_name": "VBoxModel",
          "model_module_version": "1.5.0",
          "state": {
            "_view_name": "VBoxView",
            "_dom_classes": [
              "widget-interact"
            ],
            "_model_name": "VBoxModel",
            "_view_module": "@jupyter-widgets/controls",
            "_model_module_version": "1.5.0",
            "_view_count": null,
            "_view_module_version": "1.5.0",
            "box_style": "",
            "layout": "IPY_MODEL_903a7cd2d6ac4652b3f6fe94ab35e1c7",
            "_model_module": "@jupyter-widgets/controls",
            "children": [
              "IPY_MODEL_b0b942cd997b449c9c66acfff21bdfff",
              "IPY_MODEL_6ce63c4096e44bc6b514fa4e5aaed05e"
            ]
          }
        },
        "903a7cd2d6ac4652b3f6fe94ab35e1c7": {
          "model_module": "@jupyter-widgets/base",
          "model_name": "LayoutModel",
          "model_module_version": "1.2.0",
          "state": {
            "_view_name": "LayoutView",
            "grid_template_rows": null,
            "right": null,
            "justify_content": null,
            "_view_module": "@jupyter-widgets/base",
            "overflow": null,
            "_model_module_version": "1.2.0",
            "_view_count": null,
            "flex_flow": null,
            "width": null,
            "min_width": null,
            "border": null,
            "align_items": null,
            "bottom": null,
            "_model_module": "@jupyter-widgets/base",
            "top": null,
            "grid_column": null,
            "overflow_y": null,
            "overflow_x": null,
            "grid_auto_flow": null,
            "grid_area": null,
            "grid_template_columns": null,
            "flex": null,
            "_model_name": "LayoutModel",
            "justify_items": null,
            "grid_row": null,
            "max_height": null,
            "align_content": null,
            "visibility": null,
            "align_self": null,
            "height": null,
            "min_height": null,
            "padding": null,
            "grid_auto_rows": null,
            "grid_gap": null,
            "max_width": null,
            "order": null,
            "_view_module_version": "1.2.0",
            "grid_template_areas": null,
            "object_position": null,
            "object_fit": null,
            "grid_auto_columns": null,
            "margin": null,
            "display": null,
            "left": null
          }
        },
        "b0b942cd997b449c9c66acfff21bdfff": {
          "model_module": "@jupyter-widgets/controls",
          "model_name": "IntSliderModel",
          "model_module_version": "1.5.0",
          "state": {
            "_view_name": "IntSliderView",
            "style": "IPY_MODEL_121770eb0148402096e9fcec167ad407",
            "_dom_classes": [],
            "description": "sample size",
            "step": 10,
            "_model_name": "IntSliderModel",
            "orientation": "horizontal",
            "max": 500,
            "_view_module": "@jupyter-widgets/controls",
            "_model_module_version": "1.5.0",
            "value": 10,
            "_view_count": null,
            "disabled": false,
            "_view_module_version": "1.5.0",
            "min": 10,
            "continuous_update": true,
            "readout_format": "d",
            "description_tooltip": null,
            "readout": true,
            "_model_module": "@jupyter-widgets/controls",
            "layout": "IPY_MODEL_c802f400958b4c46bd9d8602b02f1b30"
          }
        },
        "6ce63c4096e44bc6b514fa4e5aaed05e": {
          "model_module": "@jupyter-widgets/output",
          "model_name": "OutputModel",
          "model_module_version": "1.0.0",
          "state": {
            "_view_name": "OutputView",
            "msg_id": "",
            "_dom_classes": [],
            "_model_name": "OutputModel",
            "outputs": [
              {
                "output_type": "display_data",
                "data": {
                  "image/png": "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\n",
                  "text/plain": "<Figure size 432x288 with 1 Axes>"
                },
                "metadata": {
                  "needs_background": "light"
                }
              }
            ],
            "_view_module": "@jupyter-widgets/output",
            "_model_module_version": "1.0.0",
            "_view_count": null,
            "_view_module_version": "1.0.0",
            "layout": "IPY_MODEL_269ee7c823824538b895c5e78142c156",
            "_model_module": "@jupyter-widgets/output"
          }
        },
        "121770eb0148402096e9fcec167ad407": {
          "model_module": "@jupyter-widgets/controls",
          "model_name": "SliderStyleModel",
          "model_module_version": "1.5.0",
          "state": {
            "_view_name": "StyleView",
            "handle_color": null,
            "_model_name": "SliderStyleModel",
            "description_width": "",
            "_view_module": "@jupyter-widgets/base",
            "_model_module_version": "1.5.0",
            "_view_count": null,
            "_view_module_version": "1.2.0",
            "_model_module": "@jupyter-widgets/controls"
          }
        },
        "c802f400958b4c46bd9d8602b02f1b30": {
          "model_module": "@jupyter-widgets/base",
          "model_name": "LayoutModel",
          "model_module_version": "1.2.0",
          "state": {
            "_view_name": "LayoutView",
            "grid_template_rows": null,
            "right": null,
            "justify_content": null,
            "_view_module": "@jupyter-widgets/base",
            "overflow": null,
            "_model_module_version": "1.2.0",
            "_view_count": null,
            "flex_flow": null,
            "width": null,
            "min_width": null,
            "border": null,
            "align_items": null,
            "bottom": null,
            "_model_module": "@jupyter-widgets/base",
            "top": null,
            "grid_column": null,
            "overflow_y": null,
            "overflow_x": null,
            "grid_auto_flow": null,
            "grid_area": null,
            "grid_template_columns": null,
            "flex": null,
            "_model_name": "LayoutModel",
            "justify_items": null,
            "grid_row": null,
            "max_height": null,
            "align_content": null,
            "visibility": null,
            "align_self": null,
            "height": null,
            "min_height": null,
            "padding": null,
            "grid_auto_rows": null,
            "grid_gap": null,
            "max_width": null,
            "order": null,
            "_view_module_version": "1.2.0",
            "grid_template_areas": null,
            "object_position": null,
            "object_fit": null,
            "grid_auto_columns": null,
            "margin": null,
            "display": null,
            "left": null
          }
        },
        "269ee7c823824538b895c5e78142c156": {
          "model_module": "@jupyter-widgets/base",
          "model_name": "LayoutModel",
          "model_module_version": "1.2.0",
          "state": {
            "_view_name": "LayoutView",
            "grid_template_rows": null,
            "right": null,
            "justify_content": null,
            "_view_module": "@jupyter-widgets/base",
            "overflow": null,
            "_model_module_version": "1.2.0",
            "_view_count": null,
            "flex_flow": null,
            "width": null,
            "min_width": null,
            "border": null,
            "align_items": null,
            "bottom": null,
            "_model_module": "@jupyter-widgets/base",
            "top": null,
            "grid_column": null,
            "overflow_y": null,
            "overflow_x": null,
            "grid_auto_flow": null,
            "grid_area": null,
            "grid_template_columns": null,
            "flex": null,
            "_model_name": "LayoutModel",
            "justify_items": null,
            "grid_row": null,
            "max_height": null,
            "align_content": null,
            "visibility": null,
            "align_self": null,
            "height": null,
            "min_height": null,
            "padding": null,
            "grid_auto_rows": null,
            "grid_gap": null,
            "max_width": null,
            "order": null,
            "_view_module_version": "1.2.0",
            "grid_template_areas": null,
            "object_position": null,
            "object_fit": null,
            "grid_auto_columns": null,
            "margin": null,
            "display": null,
            "left": null
          }
        }
      }
    }
  },
  "cells": [
    {
      "cell_type": "markdown",
      "metadata": {
        "id": "O_x_9JPJY6IV"
      },
      "source": [
        "# 파이썬 통계 분석 기초 (Introduction to Statistics)"
      ]
    },
    {
      "cell_type": "markdown",
      "metadata": {
        "id": "wFHb5rBgY6IY"
      },
      "source": [
        "통계학은 무작위 변수가 집합적으로 행동하는 방식에 대한 학문입니다. 통계학은 또한 추론과 논증을 만들기 위해 그 행동을 활용하는 분야입니다. 통계적 계산의 이면에 있는 수학의 대부분은 엄격하고 정확하지만, 이를 실제 데이터에 적용하는 것은 종종 불완전한 가정을 필요로 합니다. 이번 강의에서 우리는 몇 가지 기본적인 통계적 지식을 리뷰해보고 그것들을 응용하는데 있어 우리가 만들어야 하는 가정들에 특별한 주의를 기울일 것입니다."
      ]
    },
    {
      "cell_type": "markdown",
      "metadata": {
        "id": "A_vnb-QgY6IZ"
      },
      "source": [
        "## 가설 검정과 모수 추정 (Hypothesis Testing and Parameter Estimator)"
      ]
    },
    {
      "cell_type": "markdown",
      "metadata": {
        "id": "Xwzx9ippY6IZ"
      },
      "source": [
        "우리는 종종 통계를 사용하여 사람들이나 사건의 그룹을 설명합니다. 예를 들어, 현재 온도를 평균 온도와 비교하거나 특정 날짜의 주가 변화를 변동성과 비교하곤 합니다. (통계적 용어로 변동성은 표준 편차(**standard deviation**)로 나타냅니다.) 또는 특정 국가에서 데이터 과학자의 평균 급여가 얼마인지 궁금할 수 있습니다. 이러한 모든 질문과 비교는 통계적 추론의 기본적인 형태입니다. 이러한 통계적 추론은 종종 가설 검정 혹은 모수 추정의 두 가지 범주 중 하나로 분류됩니다.\n",
        "\n",
        "가설 검정의 예시는 다음과 같습니다.\n",
        "- 주가 상승이 유의미한지 아니면 단지 노이즈에 불과한지를 검정\n",
        "- 고학력자와 그렇지 않은 사람들간의 연봉 차이가 유의미한 수준인지를 검정\n",
        "- 고객이 매장에서 지출한 금액과 고객이 본 광고 간에 유의한 상관 관계가 있는지 검정\n",
        "\n",
        "모수 추정의 예시는 다음과 같습니다.\n",
        "- 어떤 주식의 연평균 수익률 추정\n",
        "- 특정 직업이 받는 연봉의 분산 추정\n",
        "- 연간 광고 비용과 매출 간의 상관계수 추정\n",
        "\n",
        "여기서는 위에서 언급한 고학력자와 저학력자간 급여를 예로 들어 통계적 추론 과정을 탐구할 예정입니다.\n",
        "\n",
        "**Exercise:** Decide for each example given in the first sentence whether it is an example of hypothesis testing or parameter estimation.\n",
        "\n",
        "첫 번째 문장에 주어진 각 예가 가설 검정의 예인지 모수 추정의 예인지 결정하십시오."
      ]
    },
    {
      "cell_type": "markdown",
      "metadata": {
        "id": "iS4JIC4lY6Ia"
      },
      "source": [
        "## 평균 추정 (Estimating the Mean)"
      ]
    },
    {
      "cell_type": "markdown",
      "metadata": {
        "id": "uAxpK9QzY6Ib"
      },
      "source": [
        "우리는 과거 어떤 연구로부터 미국의 고급 학위를 가진 직원이 평균 $70,000를 번다는 것을 알고 있다고 가정하겠습니다. 만약 \"고급 학위가 없는 사람들이 고급 학위를 가진 사람들보다 훨씬 적은 연봉을 받습니까?\"라는 질문에 답하기 위해서는 먼저 고급 학위가 없는 사람들의 평균 수입을 추정해야 합니다.\n",
        "\n",
        "이를 위해서는 우선 데이터를 수집해야 합니다. 고급 학위가 없는 취업 성인 1000명을 대표하는 편향이 없는 표본에서 급여를 알아본다고 가정해 보겠습니다. 고급 학위가 없는 사람들의 평균 급여를 추정하기 위해 이 샘플의 평균을 간단히 계산합니다.\n",
        "\n",
        "$$ \\overline X = \\frac{1}{n} \\sum_{k=1}^n X_k. $$\n",
        "\n",
        "고급 학위가 없는 직원의 급여 샘플링을 시뮬레이션하는 코드를 작성해 보겠습니다."
      ]
    },
    {
      "cell_type": "code",
      "metadata": {
        "id": "y4DxZElJY6Ic"
      },
      "source": [
        "import numpy as np\n",
        "import matplotlib.pyplot as plt\n",
        "from scipy import stats\n",
        "from ipywidgets import interact, IntSlider\n",
        "\n",
        "salaries = stats.lognorm(1, loc=20, scale=25)\n",
        "\n",
        "def plot_sample(dist):\n",
        "    def plotter(size):\n",
        "        X = dist.rvs(size=size)\n",
        "        ys, bins, _ = plt.hist(X, bins=20, density=True)\n",
        "        plt.ylim([0, ys.max() / (ys * (bins[1] - bins[0])).sum() * 1.25])\n",
        "        plt.axvline(dist.mean(), color='r', label='true mean')\n",
        "        plt.axvline(X.mean(), color='g', label='sample mean')\n",
        "        plt.plot(np.arange(20, 100, .01), salaries.pdf(np.arange(20, 100, .01)), 'k--')\n",
        "        plt.legend()\n",
        "\n",
        "    return plotter"
      ],
      "execution_count": 3,
      "outputs": []
    },
    {
      "cell_type": "code",
      "metadata": {
        "id": "ZUh5pEipY6Id",
        "colab": {
          "base_uri": "https://localhost:8080/",
          "height": 297,
          "referenced_widgets": [
            "62a16471eb464da49e2aefcd1bbfba3b",
            "118edaa2c85d43b5b2e5eb834193d4e4",
            "8ca4ed27881e48c7a0979b6f45a130bc",
            "475999815c794505b6a5c13680dd540a",
            "f5c2b68e9c8644ec9365b2e5f50629ab",
            "bc356397fb72456fa19dc0804365e44a",
            "e7c07e40fd904aa3af006043e62d64bd"
          ]
        },
        "outputId": "115431ec-fe7a-46f6-b3fd-ba1711ae497b"
      },
      "source": [
        "sample_size_slider = IntSlider(min=10, max=200, step=10, value=10, description='sample size')\n",
        "interact(plot_sample(salaries), size=sample_size_slider);"
      ],
      "execution_count": 5,
      "outputs": [
        {
          "output_type": "display_data",
          "data": {
            "application/vnd.jupyter.widget-view+json": {
              "model_id": "62a16471eb464da49e2aefcd1bbfba3b",
              "version_minor": 0,
              "version_major": 2
            },
            "text/plain": [
              "interactive(children=(IntSlider(value=10, description='sample size', max=200, min=10, step=10), Output()), _do…"
            ]
          },
          "metadata": {}
        }
      ]
    },
    {
      "cell_type": "markdown",
      "metadata": {
        "id": "So6wgUb9Y6Ie"
      },
      "source": [
        "## 평균의 표준 오차 (Standard Error of the Mean)"
      ]
    },
    {
      "cell_type": "markdown",
      "metadata": {
        "id": "CSYZvXAKY6Ie"
      },
      "source": [
        "위의 예시에서는 코드를 실행할 때마다 플롯을 생성하기 위해 서로 다른 샘플이 추출된다는 것을 알 수 있습니다. 실제 평균값은 고정된 상태로 유지되지만 표본 평균의 경우에는 매번 플롯을 그릴 때마다 변경이 됩니다. 즉, 실제 평균의 추정(표본 평균)은 잡음이 있고 약간의 오류가 있습니다는 것을 의미합니다. 그렇다면 이러한 추정에는 어느 정도의 잡음이 있는 걸까요? 일반적으로는 실제 평균과 얼마나 다를까요? 즉 표본 평균의 표준 편차(**standard deviation**)는 얼마일까요?\n",
        "\n",
        "여러 표본들을 추출해서 표본 평균에 대한 히스토그램을 생성한 후에 표본 평균과 실제 평균간의 차이를 한 번 시각화해보겠습니다."
      ]
    },
    {
      "cell_type": "code",
      "metadata": {
        "id": "kNrCIPzRY6If"
      },
      "source": [
        "def plot_sampling_dist(dist):\n",
        "    def plotter(sample_size):\n",
        "        means = np.array([dist.rvs(size=sample_size).mean() for _ in range(300)]) - dist.mean()\n",
        "        plt.hist(means, bins=20, density=True, label='sample means')\n",
        "\n",
        "        # plot central limit theorem distribution\n",
        "        Xs = np.linspace(means.min(), means.max(), 1000)\n",
        "        plt.plot(Xs, sp.stats.norm.pdf(Xs, scale=np.sqrt(dist.var()/sample_size)), 'k--',\n",
        "                 label='central limit theorem')\n",
        "\n",
        "        plt.legend()\n",
        "\n",
        "    return plotter"
      ],
      "execution_count": 6,
      "outputs": []
    },
    {
      "cell_type": "code",
      "metadata": {
        "id": "Up5lBbkBY6If",
        "colab": {
          "base_uri": "https://localhost:8080/",
          "height": 301,
          "referenced_widgets": [
            "9e197dc7806949a485275a4ba3c9e64c",
            "903a7cd2d6ac4652b3f6fe94ab35e1c7",
            "b0b942cd997b449c9c66acfff21bdfff",
            "6ce63c4096e44bc6b514fa4e5aaed05e",
            "121770eb0148402096e9fcec167ad407",
            "c802f400958b4c46bd9d8602b02f1b30",
            "269ee7c823824538b895c5e78142c156"
          ]
        },
        "outputId": "3a5088c9-b375-49b5-e00b-a7d17716279e"
      },
      "source": [
        "sample_size_slider = IntSlider(min=10, max=500, step=10, value=10, description='sample size')\n",
        "interact(plot_sampling_dist(salaries),\n",
        "         sample_size=sample_size_slider);"
      ],
      "execution_count": 7,
      "outputs": [
        {
          "output_type": "display_data",
          "data": {
            "application/vnd.jupyter.widget-view+json": {
              "model_id": "9e197dc7806949a485275a4ba3c9e64c",
              "version_minor": 0,
              "version_major": 2
            },
            "text/plain": [
              "interactive(children=(IntSlider(value=10, description='sample size', max=500, min=10, step=10), Output()), _do…"
            ]
          },
          "metadata": {}
        }
      ]
    },
    {
      "cell_type": "markdown",
      "metadata": {
        "id": "bmL2TBP1Y6Ig"
      },
      "source": [
        "표본의 크기를 늘리면 표본 평균의 분포가 정규 분포와 유사해집니다. 실제로 이것은 개별 급여의 기본 분포와 상관없이 발생합니다. 이 현상은 표본 크기가 증가함에 따라 표본 평균이 표준 편차를 갖는 정규 분포를 따르는 경향이 있다는 중심 극한 정리에 의해 설명됩니다.\n",
        "\n",
        "$$ \\sigma_{\\overline X} = \\sqrt{\\frac{\\sigma^2}{n}}.$$\n",
        "\n",
        "우리는 이 값을 표준 오차(**standard error**)라고 부르며, 실제 평균에서 표본 평균의 표준 편차를 정량화합니다."
      ]
    },
    {
      "cell_type": "markdown",
      "metadata": {
        "id": "jwTlwFKzY6Ig"
      },
      "source": [
        "## 가설 검정과 Z-스코어 (Hypothesis Testing and z-scores)"
      ]
    },
    {
      "cell_type": "markdown",
      "metadata": {
        "id": "CvvvwRDyY6Ig"
      },
      "source": [
        "이제 무작위 확률로 표본 평균이 실제 평균과 얼마나 다를 것인지를 계산할 수 있으므로 가설 검정(**hypothesis test**)을 수행할 수 있습니다. 가설 검정에서는 실제 평균을 이미 알고 있다고 가정합니다. 그런 다음 표본을 수집하고 표본 평균과 가정된 실제 평균 간의 차이를 계산합니다. 이 차이를 표준 오차(즉, 무작위 우연에서 발생할 것으로 예상할 수 있는 일반적인 차이)와 비교하여 크면 클수록 실제 평균이 우리가 가정한 값이 아닐 가능성이 높다는 결론을 내립니다. 예제를 통해 이를 좀 더 자세하게 알아보겠습니다.\n",
        "\n",
        "1. 이전 연구로부터 미국의 고급 학위를 가진 직원이 평균 \\$70,000를 번다는 것을 알고 있다고 가정합니다. 우리의 귀무 가설(**null hypothesis**)은 고급 학위가 없는 직원이 동일한 급여를 받는다는 것입니다: $H_0: \\mu = 70$. 우리는 또한 유의성에 대한 역치를 설정합니다. 귀무가설이 틀렸다고 말하기 위해서는 무작위 확률로 인해 발생할 확률이 특정 확률 $\\alpha$ 미만인 증거를 찾아야 합니다."
      ]
    },
    {
      "cell_type": "code",
      "metadata": {
        "id": "BXjWETPPY6Ih"
      },
      "source": [
        "mu = 70"
      ],
      "execution_count": 8,
      "outputs": []
    },
    {
      "cell_type": "markdown",
      "metadata": {
        "id": "hEdDAmEjY6Ih"
      },
      "source": [
        "2. 다음으로 고급 학위가 없는 $n$ 직원의 급여 표본을 수집하고 표본 추출된 급여의 평균을 계산합니다. 아래에서는 100명의 직원을 샘플링합니다."
      ]
    },
    {
      "cell_type": "code",
      "metadata": {
        "id": "iwQ5Ra5BY6Ih",
        "colab": {
          "base_uri": "https://localhost:8080/"
        },
        "outputId": "e4f31db7-790b-4fa9-9477-62cfd60f0d07"
      },
      "source": [
        "sample_salaries = salaries.rvs(size=100)\n",
        "print('Sample mean: {}'.format(sample_salaries.mean()))"
      ],
      "execution_count": 9,
      "outputs": [
        {
          "output_type": "stream",
          "name": "stdout",
          "text": [
            "Sample mean: 58.10248575482998\n"
          ]
        }
      ]
    },
    {
      "cell_type": "markdown",
      "metadata": {
        "id": "t3LPYFmVY6Ih"
      },
      "source": [
        "3. 이제 표본 평균과 가정된 실제 평균 간의 차이를 표준 오차와 비교합니다. 이 값을 Z-스코어(**z-score**)라고 합니다.\n",
        "\n",
        "$$ z = \\frac{\\overline X - \\mu}{\\sigma / \\sqrt{n}} $$"
      ]
    },
    {
      "cell_type": "code",
      "metadata": {
        "id": "h71ZalalY6Ii",
        "colab": {
          "base_uri": "https://localhost:8080/"
        },
        "outputId": "f48c5a08-e054-40af-e15f-61d202815613"
      },
      "source": [
        "z = (sample_salaries.mean() - mu) / np.sqrt(salaries.var() / sample_salaries.size)\n",
        "print('z-score: {}'.format(z))"
      ],
      "execution_count": 10,
      "outputs": [
        {
          "output_type": "stream",
          "name": "stdout",
          "text": [
            "z-score: -2.2020226671874887\n"
          ]
        }
      ]
    },
    {
      "cell_type": "markdown",
      "metadata": {
        "id": "NBaWuq2HY6Ii"
      },
      "source": [
        "4. Z-스코어는 표준 정규 분포(중심 극한 정리로 인해)와 함께 사용하여 표본 평균과 귀무 가설 간의 차이가 무작위 확률에 의한 것일 확률을 계산할 수 있습니다. 이 확률을 p-밸류(**p-value**)라고 합니다."
      ]
    },
    {
      "cell_type": "code",
      "metadata": {
        "id": "ipsttPk7Y6Ii",
        "colab": {
          "base_uri": "https://localhost:8080/"
        },
        "outputId": "703dc07c-f560-439c-b75b-e4fed269b675"
      },
      "source": [
        "p = sp.stats.norm.cdf(z)\n",
        "print('p-value: {}'.format(p))"
      ],
      "execution_count": 11,
      "outputs": [
        {
          "output_type": "stream",
          "name": "stdout",
          "text": [
            "p-value: 0.013831853677122257\n"
          ]
        }
      ]
    },
    {
      "cell_type": "code",
      "metadata": {
        "id": "ucj7zPuXY6Ii",
        "colab": {
          "base_uri": "https://localhost:8080/",
          "height": 266
        },
        "outputId": "dbe63f87-c683-43c8-b546-5c8d812d07b5"
      },
      "source": [
        "plt.subplot(211)\n",
        "stderr = np.sqrt(salaries.var() / sample_salaries.size)\n",
        "Xs = np.linspace(mu - 3*stderr, mu + 3*stderr, 1000)\n",
        "clt = sp.stats.norm.pdf(Xs, loc=mu, scale=stderr)\n",
        "plt.plot(Xs, clt, 'k--',\n",
        "         label='central limit theorem')\n",
        "plt.axvline(sample_salaries.mean(), color='b', label='sample mean')\n",
        "plt.fill_between(Xs[Xs < mu - 2*stderr], 0, clt[Xs < mu - 2*stderr], color='r', label='critical region')\n",
        "plt.legend()\n",
        "\n",
        "plt.subplot(212)\n",
        "Xs = np.linspace(-3, 3, 1000)\n",
        "normal = sp.stats.norm.pdf(Xs)\n",
        "plt.plot(Xs, normal, 'k--', label='standard normal distribution')\n",
        "plt.axvline(z, color='b', label='z-score')\n",
        "plt.fill_between(Xs[Xs < -2], 0, normal[Xs < -2], color='r', label='critical region')\n",
        "plt.legend();"
      ],
      "execution_count": 12,
      "outputs": [
        {
          "output_type": "display_data",
          "data": {
            "image/png": "[encoded data removed]",
            "text/plain": [
              "<Figure size 432x288 with 2 Axes>"
            ]
          },
          "metadata": {
            "needs_background": "light"
          }
        }
      ]
    },
    {
      "cell_type": "markdown",
      "metadata": {
        "id": "IzPc8ROcY6Ii"
      },
      "source": [
        "5. $p$-값이 $\\alpha$보다 작으면 귀무 가설을 기각할 수 있습니다. 무작위로 발생하지 않을 가능성이 매우 높은 증거를 찾았으므로 실제 평균 값에 대한 초기 가정이 틀렸다고 생각할 수 있습니다.\n",
        "\n",
        "이것은 가설 검정의 매우 단순화된 버전이지만 핵심 아이디어는 공식적인 가설 검정 프레임워크 외부에서 유용한 도구가 될 수 있습니다. 관찰된 값과 우리가 기대하는 값 사이의 차이를 계산한 다음, 이 차이가 무작위적 우연으로 인해 발생할 수 있는 예상되는 차이과 얼마나 다른가를 비교함으로써 우리는 측정하거나 계산한 값에 대한 직관적인 판단을 신속하게 내릴 수 있습니다."
      ]
    },
    {
      "cell_type": "markdown",
      "metadata": {
        "id": "_dv3UJ1WY6Ij"
      },
      "source": [
        "## 신뢰 구간 (Confidence Intervals)"
      ]
    },
    {
      "cell_type": "markdown",
      "metadata": {
        "id": "bpiOonYiY6Ij"
      },
      "source": [
        "모수 추정을 수행하기 위해 중심 극한 정리를 사용할 수 있습니다. 이는 표본 평균을 사용하여 고급 학위가 없는 직원의 평균 급여를 추정하는 것을 의미합니다. 하지만 이 추정치는 표본의 무작위성으로 인해 실제 평균에서 다소 벗어납니다. 그러므로 우리는 추정치에 확률적 한계를 두어야 합니다. 이 확률을 계산하는 데 도움이 되도록 표준 오차를 다시 사용할 수 있습니다."
      ]
    },
    {
      "cell_type": "code",
      "metadata": {
        "id": "kcbMQZrtY6Ij",
        "colab": {
          "base_uri": "https://localhost:8080/",
          "height": 284
        },
        "outputId": "f3c709f2-3f8f-4bf5-9629-5f4277c2fe3c"
      },
      "source": [
        "print(\"Confidence interval (95%) for average salary: ({:.2f} {:.2f})\".format(sample_salaries.mean() - 2 * stderr,\n",
        "                                                                             sample_salaries.mean() + 2 * stderr))\n",
        "\n",
        "Xs = np.linspace(sample_salaries.mean() - 3*stderr,\n",
        "                 sample_salaries.mean() + 3*stderr,\n",
        "                 1000)\n",
        "ci = sp.stats.norm.pdf(Xs, loc=sample_salaries.mean(), scale=stderr)\n",
        "plt.plot(Xs, ci, 'k--',\n",
        "         label='confidence interval pdf')\n",
        "plt.fill_between(Xs[(Xs > sample_salaries.mean() - 2*stderr) & (Xs < sample_salaries.mean() + 2*stderr)],\n",
        "                 0,\n",
        "                 clt[(Xs > sample_salaries.mean() - 2*stderr) & (Xs < sample_salaries.mean() + 2*stderr)],\n",
        "                 color='r', label='confidence interval')\n",
        "plt.legend(loc = 'upper right');"
      ],
      "execution_count": 13,
      "outputs": [
        {
          "output_type": "stream",
          "name": "stdout",
          "text": [
            "Confidence interval (95%) for average salary: (47.30 68.91)\n"
          ]
        },
        {
          "output_type": "display_data",
          "data": {
            "image/png": "[encoded data removed]",
            "text/plain": [
              "<Figure size 432x288 with 1 Axes>"
            ]
          },
          "metadata": {
            "needs_background": "light"
          }
        }
      ]
    },
    {
      "cell_type": "markdown",
      "metadata": {
        "id": "UTcYjxBJY6Ij"
      },
      "source": [
        "*Copyright 2021.* 퀀트대디. *This content is licensed solely for personal use. Redistribution or publication of this material is strictly prohibited.*"
      ]
    }
  ]
}