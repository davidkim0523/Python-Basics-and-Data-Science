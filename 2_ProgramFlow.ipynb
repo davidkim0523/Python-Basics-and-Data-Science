{
  "nbformat": 4,
  "nbformat_minor": 0,
  "metadata": {
    "colab": {
      "name": "2_ProgramFlow.ipynb",
      "provenance": [],
      "collapsed_sections": [
        "3uMTkmSqNO7M"
      ]
    },
    "kernelspec": {
      "display_name": "Python 3",
      "language": "python",
      "name": "python3"
    },
    "language_info": {
      "codemirror_mode": {
        "name": "ipython",
        "version": 3
      },
      "file_extension": ".py",
      "mimetype": "text/x-python",
      "name": "python",
      "nbconvert_exporter": "python",
      "pygments_lexer": "ipython3",
      "version": "3.7.3"
    },
    "nbclean": true
  },
  "cells": [
    {
      "cell_type": "markdown",
      "metadata": {
        "id": "-beEnokVNO63"
      },
      "source": [
        "# 프로그래밍 기초"
      ]
    },
    {
      "cell_type": "markdown",
      "metadata": {
        "id": "lmzMveJENO64"
      },
      "source": [
        "## 컴퓨터 프로그램이란?\n",
        "\n",
        "가장 단순하게 말해서, 프로그램이란 컴퓨터가 순차적으로 수행하는 일련의 수행목록을 의미합니다. 프로그램은 크기가 크거나 복잡할 수 있지만, 사실 프로그램은 단순한 부분들의 조합으로 이루어져 있습니다. 파이썬에서 몇몇 단순한 작업들을 수행해보고, 컴퓨터가 각각을 어떻게 처리하는지 생각해봅시다."
      ]
    },
    {
      "cell_type": "code",
      "metadata": {
        "colab": {
          "base_uri": "https://localhost:8080/"
        },
        "id": "-odEXm_WNO65",
        "outputId": "848d1675-2470-493a-ddcc-87100800a03e"
      },
      "source": [
        "1 + 1"
      ],
      "execution_count": null,
      "outputs": [
        {
          "output_type": "execute_result",
          "data": {
            "text/plain": [
              "2"
            ]
          },
          "metadata": {},
          "execution_count": 1
        }
      ]
    },
    {
      "cell_type": "code",
      "metadata": {
        "colab": {
          "base_uri": "https://localhost:8080/"
        },
        "id": "49L1E5wvNO66",
        "outputId": "2494e7ee-74e8-4e8d-a4dc-458e2a9c9645"
      },
      "source": [
        "2 * 3.5"
      ],
      "execution_count": null,
      "outputs": [
        {
          "output_type": "execute_result",
          "data": {
            "text/plain": [
              "7.0"
            ]
          },
          "metadata": {},
          "execution_count": 2
        }
      ]
    },
    {
      "cell_type": "code",
      "metadata": {
        "colab": {
          "base_uri": "https://localhost:8080/"
        },
        "id": "COIvtwM2NO67",
        "outputId": "31a118e2-a9bd-40d4-f33c-85d4d532ee69"
      },
      "source": [
        "1 + 1\n",
        "2 * 3.5"
      ],
      "execution_count": null,
      "outputs": [
        {
          "output_type": "execute_result",
          "data": {
            "text/plain": [
              "7.0"
            ]
          },
          "metadata": {},
          "execution_count": 3
        }
      ]
    },
    {
      "cell_type": "markdown",
      "metadata": {
        "id": "zvNrihGGNO68"
      },
      "source": [
        "첫 번째 셀에서 우리는 `1 + 1`을 계산했고, 파이썬은 그 결과 `2`를 출력했습니다. 우리는 이를 어떻게 보면 매우 작은 형태의 프로그램이라고 볼 수 있습니다. 이와 비슷하게, 두 번째 셀에서 우리는 `2 * 3.5`을 계산했고, 파이썬은 `7.0`을 결과로 반환했습니다.\n",
        "\n",
        "하지만, 세 번째 셀에서 우리가 이 두 계산을 순차적으로 수행했을 때, 파이썬은 오직 `7.0`이라는 결과만을 반환했습니다. 왜 그럴까요?\n",
        "\n",
        "그 이유는 파이썬이 오직 마지막 셀의 결과값만을 반환하기 때문입니다. 다시 말해, 첫 번째 줄의 계산은 수행을 하되 결과로 반환하지는 않게 됩니다. 그렇기 때문에 만약 우리가 모든 줄의 계산 결과를 보고 싶다면, 우리는 `print` 함수를 사용하여 이를 직접적으로 출력해야 합니다. 아래의 코드를 실행하면 각각의 결과가 모두 출력되는 것을 확인할 수 있습니다."
      ]
    },
    {
      "cell_type": "code",
      "metadata": {
        "colab": {
          "base_uri": "https://localhost:8080/"
        },
        "id": "sDbMaJIONO68",
        "outputId": "a1c6d7f1-6d9b-4a70-af09-a9b3ef06ad7f"
      },
      "source": [
        "print(1 + 1)\n",
        "print(2 * 3.5)"
      ],
      "execution_count": null,
      "outputs": [
        {
          "output_type": "stream",
          "name": "stdout",
          "text": [
            "2\n",
            "7.0\n"
          ]
        }
      ]
    },
    {
      "cell_type": "markdown",
      "metadata": {
        "id": "htyqS6tQNO69"
      },
      "source": [
        "## 주석(Comment)\n",
        "\n",
        "우리는 컴퓨터가 특정 코드를 실행하지 않도록 만들 수도 있습니다. 우리는 이를 **주석(comments)**이라고 부릅니다. 주석을 사용하는 이유는 코드를 작성하고 유지, 보수하는 사람의 입장에서 코드에 대한 설명이 필요하거나 그 설명을 메모의 형식으로 남겨놓을 필요가 있기 때문입니다. 주석을 만들기 위해서는 주석으로 처리하고자 하는 줄의 맨 앞에 `#`을 붙이면 됩니다. 아래의 셀을 보시면 두 번째 줄이 주석 처리되어 실행되지 않는 것을 확인할 수 있습니다."
      ]
    },
    {
      "cell_type": "code",
      "metadata": {
        "colab": {
          "base_uri": "https://localhost:8080/"
        },
        "id": "NXIlc9grNO69",
        "outputId": "7aac2a07-ad97-4034-f18d-0ff7583c3f5c"
      },
      "source": [
        "print('1 + 1 is', 1 + 1)\n",
        "# this is a comment, Python won't try to execute it\n",
        "print('All done!')"
      ],
      "execution_count": null,
      "outputs": [
        {
          "output_type": "stream",
          "name": "stdout",
          "text": [
            "1 + 1 is 2\n",
            "All done!\n"
          ]
        }
      ]
    },
    {
      "cell_type": "markdown",
      "metadata": {
        "id": "_8necN8BNO6-"
      },
      "source": [
        "## 변수 할당 Review\n",
        "\n",
        "이전 시간에 잠깐 다루었지만 다시 한 번 변수를 할당하는 작업에 대해서 추가적인 논의를 해보도록 하겠습니다. 종종 우리는 단지 중간 결과물을 출력하는 데서 그치지 않고, 나중에 이를 다시 사용하기 위해 값을 어디엔가 저장(_store_)해 놓을 필요가 있습니다. 우리는 변수(**variable**)라는 것을 정의하여 컴퓨터 메모리에 우리가 원하는 데이터 혹은 값들을 저장해놓을 수 있습니다."
      ]
    },
    {
      "cell_type": "code",
      "metadata": {
        "colab": {
          "base_uri": "https://localhost:8080/"
        },
        "id": "2kULVj-pNO6-",
        "outputId": "a6b2221c-b284-4f4b-bc69-5c2a6df414ac"
      },
      "source": [
        "first_result = 1 + 1\n",
        "final_result = first_result * 3.5\n",
        "\n",
        "print(final_result)"
      ],
      "execution_count": null,
      "outputs": [
        {
          "output_type": "stream",
          "name": "stdout",
          "text": [
            "7.0\n"
          ]
        }
      ]
    },
    {
      "cell_type": "markdown",
      "metadata": {
        "id": "-YhJFHIGNO6-"
      },
      "source": [
        "위 셀을 보시면 첫 번째 줄의 `first_result`라는 변수에 `1 + 1`, 즉 `2`가 할당되어 있는 것을 볼 수 있습니다. 파이썬에서 변수를 선언하게 되면 그 변수는 이제 컴퓨터 메모리에 저장이 되고 우리는 이를 재사용할 수 있게 됩니다. 두 번째 줄에서는 `first_result`라는 변수를 재사용하는 모습을 확인할 수 있습니다. `final_result`라는 새로운 변수를 선언함에 있어, 그 변수에 `first_result`의 3.5배가 할당되게 됩니다. 마지막 줄에서는 이 `final_result`라는 변수를 출력하고 있습니다. 출력을 해보면 우리의 예상과도 부합하듯이 `7.0`이라는 값이 나오는 것을 확인할 수 있습니다.\n",
        "\n",
        "프로그래밍에서 변수는 프로그램을 성공적으로 실행하기 위해 필요한 정보를 담고 있는 가장 기본적인 개념입니다. 변수들은 다양한 형태의 정보들을 저장할 수 있습니다."
      ]
    },
    {
      "cell_type": "code",
      "metadata": {
        "colab": {
          "base_uri": "https://localhost:8080/"
        },
        "id": "KbTy374oNO6_",
        "outputId": "99f8fe54-ebd4-4fdf-ef5c-cbd574c48885"
      },
      "source": [
        "my_name = 'QuantDaddy'\n",
        "my_age = 31\n",
        "my_favorite_number = 13\n",
        "has_dog = False\n",
        "\n",
        "print('My name is', my_name)\n",
        "print('My age is', my_age)\n",
        "print('My favorite number is', my_favorite_number)\n",
        "print('I own a dog:', has_dog)"
      ],
      "execution_count": null,
      "outputs": [
        {
          "output_type": "stream",
          "name": "stdout",
          "text": [
            "My name is QuantDaddy\n",
            "My age is 31\n",
            "My favorite number is 13\n",
            "I own a dog: False\n"
          ]
        }
      ]
    },
    {
      "cell_type": "markdown",
      "metadata": {
        "id": "EoMHN3ZPNO7B"
      },
      "source": [
        "변수들은 다양한 형태의 정보를 담을 수 있기 때문에, 변수의 이름을 짓는데 있어 해당 변수의 특징을 잘 설명할 수 있는 이름을 짓는 것이 좋습니다. 그 이유는 이렇게 해야 사람의 입장에서 코드를 읽고 쓰는데 더 수월하며, 좀 더 빠르게 실수를 찾고 고치는 데 도움이 되며, 마지막으로 다른 사람들과 코드를 공유하기에 용이하기 때문입니다."
      ]
    },
    {
      "cell_type": "markdown",
      "metadata": {
        "id": "YXMeN4VRjor3"
      },
      "source": [
        "## 변수 유형 (Variable Type)"
      ]
    },
    {
      "cell_type": "code",
      "metadata": {
        "colab": {
          "base_uri": "https://localhost:8080/"
        },
        "id": "TGuCbWxjNO7B",
        "outputId": "53e57c06-6017-47c2-96ee-597b80072a3e"
      },
      "source": [
        "print(type(my_name))\n",
        "print(type(my_age))\n",
        "print(type(my_favorite_number))\n",
        "print(type(has_dog))"
      ],
      "execution_count": null,
      "outputs": [
        {
          "output_type": "stream",
          "name": "stdout",
          "text": [
            "<class 'str'>\n",
            "<class 'int'>\n",
            "<class 'int'>\n",
            "<class 'bool'>\n"
          ]
        }
      ]
    },
    {
      "cell_type": "markdown",
      "metadata": {
        "id": "GsIGJfDKNO7C"
      },
      "source": [
        "파이썬에는 여러 가지 기본적인 변수 유형이 존재합니다.\n",
        "\n",
        "우선, 문자열(**string**)은 말그대로 문자들의 나열을 의미합니다. 우리가 사용하는 문자들을 파이썬에서는 전부 문자열이라는 유형을 사용해 표현합니다. 그다음은 정수(**integer**)입니다. 정수는 수학에서의 정수(Integer, Whole numbers)와 같은 의미를 가지고 있습니다. 부동소수(**float**)는 정수와 같이 숫자형이지만 실수(Real numbers)를 포함합니다. 부동소수라고 이름 붙혀진 이유는 어떤 숫자 - 가령 $20493912$ - 에 대해 $204939.12$ 혹은 $0.0204939$처럼 소수점이 부동(浮動), 즉 돌아다니면서 큰 수와 작은 수를 표현할 수 있기 때문입니다. 마지막으로 불리언 대수(**bool/boolean**)은 참 또는 거짓을 표현하는 변수의 형태입니다.\n",
        "\n",
        "이러한 변수 유형들은 파이썬에서의 가장 기초적인 변수 유형일 뿐 전부는 아닙니다. 우리는 이 과정을 진행하면서 추가적으로 다른 여러 가지 유형에 대해서도 알아볼 예정입니다.\n",
        "\n",
        "파이썬의 장점 중 하나는 변수를 선언함에 있어 구체적으로 우리가 미리 변수의 형태를 명시하지 않아도 파이썬 자체가 알아서 적절히 변수의 유형을 구분해준다는 점입니다. 위의 코드에서도 우리는 어떠한 변수 유형을 명시적으로 정하지 않았습니다. 변수를 선언하기만 하면 파이썬이 자동적으로 변수의 유형을 알아서 분류했습니다. 파이썬이 편리한 이유들 중 하나라고 할 수 있습니다. 다른 프로그래밍 언어는 구체적이고 명시적으로 특정 변수의 유형을 일일이 지정해주어야만 합니다."
      ]
    },
    {
      "cell_type": "markdown",
      "metadata": {
        "id": "xUEmeHcTNO7C"
      },
      "source": [
        "### 예제\n",
        "\n",
        "1. 여러분의 이름과 나이를 각각 `my_name`, `my_age`라는 변수에 할당하고 또 각각을 출력해보세요.\n",
        "2. `my_age`라는 변수를 사용해 만약 10년 뒤에 여러분의 나이가 어떻게 될지를 출력해보세요."
      ]
    },
    {
      "cell_type": "code",
      "metadata": {
        "colab": {
          "base_uri": "https://localhost:8080/"
        },
        "id": "FAt6eWk_NO7C",
        "outputId": "fe2ab45c-6f99-455f-cb38-1f28066cb6d4"
      },
      "source": [
        "my_name = 'david kim'\n",
        "my_age = 31\n",
        "\n",
        "print(my_name, my_age)\n",
        "print('How old I will be in 10 years = {}'.format(my_age + 10))"
      ],
      "execution_count": null,
      "outputs": [
        {
          "output_type": "stream",
          "name": "stdout",
          "text": [
            "david kim 31\n",
            "How old I will be in 10 years = 41\n"
          ]
        }
      ]
    },
    {
      "cell_type": "markdown",
      "metadata": {
        "id": "bRFlqqPlNO7D"
      },
      "source": [
        "## 함수 (Functions)\n",
        "\n",
        "많은 프로그램들은 사용자의 입력 변수에 반응을 하도록 설계가 되어있습니다. 즉, 특정한 입력을 받게 되면 그 입력을 바탕으로 어떤 처리를 거친 후 그 결과값을 출력하는 메커니즘입니다. 우리는 이러한 메커니즘을 함수라고 부릅니다. 함수는 입력값을 기반으로 컴퓨터가 처리하고자 하는 일들을 정의할 수 있도록 만들어주는 도구입니다. 가장 단순한 형태의 파이썬 함수로는 아래와 같은 예시를 들 수 있습니다."
      ]
    },
    {
      "cell_type": "code",
      "metadata": {
        "id": "yPcXdbvpNO7D"
      },
      "source": [
        "def square(number):\n",
        "    return number**2"
      ],
      "execution_count": null,
      "outputs": []
    },
    {
      "cell_type": "markdown",
      "metadata": {
        "id": "xz9oXlpgNO7D"
      },
      "source": [
        "파이썬에서는 `def`라는 키워드를 통해 함수라는 것을 정의합니다. `def`라는 키워드 다음에는 함수의 이름이 위치해야 합니다. 여기서는 입력변수를 제곱한다는 의미에서 `square`라는 이름을 사용했습니다. 함수의 이름 뒤에는 괄호가 위치하고 그 괄호 안에는 함수의 입력값이 들어갑니다. 여기서 `number`가 바로 입력변수의 역할을 담당합니다. 콜론 `:`은 파이썬에게 우리가 지금부터 함수의 본문을 작성할 것임을 알려주는 기호입니다.\n",
        "\n",
        "여기서 이 함수의 본문은 매우 단순합니다. 우리는 단지 입력변수의 제곱을 함수의 출력값으로 반환하도록 코드를 작성했습니다. `**`이라는 기호는 파이썬에서 승수를 의미합니다. `return`은 함수의 출력값이 어떤 것이 될 것인지를 지정하는 키워드입니다. `return` 뒤에 오는 값 또는 변수가 함수의 출력값이 됩니다. 물론 파이썬의 모든 함수가 `return` 구문을 가지고 있는 것은 아니지만, 대부분의 함수들은 입력-처리-출력의 구조를 따르고 있으므로 `return`을 사용해 출력값을 지정합니다. `return`이 등장하게 되면 이후 함수는 종결됩니다.\n",
        "\n",
        "실제로 위에서 구현한 함수를 한 번 사용해보도록 하겠습니다."
      ]
    },
    {
      "cell_type": "code",
      "metadata": {
        "colab": {
          "base_uri": "https://localhost:8080/"
        },
        "id": "iafftqq7NO7E",
        "outputId": "d500ab69-a803-44c1-b266-25341697a952"
      },
      "source": [
        "# we can store function output in variables\n",
        "squared = square(5.5)\n",
        "\n",
        "print(squared)\n",
        "\n",
        "my_number = 6\n",
        "# we can also use variables as function input\n",
        "print(square(my_number))"
      ],
      "execution_count": null,
      "outputs": [
        {
          "output_type": "stream",
          "name": "stdout",
          "text": [
            "30.25\n",
            "36\n"
          ]
        }
      ]
    },
    {
      "cell_type": "markdown",
      "metadata": {
        "id": "y65OIYZONO7E"
      },
      "source": [
        "`square` 함수에 다른 입력값들을 넣어 출력한 결과입니다. 입력값은 숫자형이 될 수도 있고 혹은 변수가 될 수도 있습니다. 하지만 모든 형태의 입력값이 유효한 것은 아닙니다. 아래의 예시를 보겠습니다."
      ]
    },
    {
      "cell_type": "code",
      "metadata": {
        "colab": {
          "base_uri": "https://localhost:8080/"
        },
        "id": "bfNPhsYxNO7E",
        "outputId": "4696d589-862f-455b-ee84-27dc70d1d001"
      },
      "source": [
        "%%expect_exception TypeError\n",
        "\n",
        "print(square('banana'))"
      ],
      "execution_count": null,
      "outputs": [
        {
          "output_type": "stream",
          "name": "stderr",
          "text": [
            "UsageError: Cell magic `%%expect_exception` not found.\n"
          ]
        }
      ]
    },
    {
      "cell_type": "markdown",
      "metadata": {
        "id": "RqT2EFV8NO7E"
      },
      "source": [
        "`'banana'`라는 문자열을 입력변수로 집어넣었더니 오류가 발생했습니다. 그 이유는 당연히 문자열을 제곱할 수 없기 때문입니다. 그렇기 때문에 우리는 함수가 그 목적에 따라 제대로 작동을 하기 위해서 적절한 입력변수의 형태가 어떤 것인지에 대해 주의할 필요가 있습니다. 오류에 대해서는 나중에 추가적으로 다루는 시간을 갖겠습니다."
      ]
    },
    {
      "cell_type": "markdown",
      "metadata": {
        "id": "99pxMTbcsWcN"
      },
      "source": [
        "### 예제\n",
        "\n",
        "1. 어떤 숫자의 세제곱을 계산하는 함수를 작성하세요.\n",
        "2. 이름을 입력변수로 받아 \"Hello 이름\"을 출력하는 `say_hello`라는 함수를 작성하세요. 예를 들어 `say_hello(\"zach\")`라는 구문의 출력값은 `\"Hello zach\"`가 되어야 합니다."
      ]
    },
    {
      "cell_type": "code",
      "metadata": {
        "id": "1-ZUvL9rNO7E"
      },
      "source": [
        "def cube(number):\n",
        "    return number ** 3"
      ],
      "execution_count": null,
      "outputs": []
    },
    {
      "cell_type": "code",
      "metadata": {
        "id": "3ne6q63dNO7E"
      },
      "source": [
        "def say_hello(name):\n",
        "    print(\"Hello \" + name)"
      ],
      "execution_count": null,
      "outputs": []
    },
    {
      "cell_type": "markdown",
      "metadata": {
        "id": "-ngWmj0WNO7F"
      },
      "source": [
        "## 왜 함수인가?\n",
        "\n",
        "우리는 함수가 사용자의 입력값을 다루는데 유용하다는 것을 보았습니다. 하지만 함수가 진짜로 중요한 이유는 따로 있습니다. 예를 들어, 만약 우리가 다른 입력변수들로 여러 번의 같은 처리를 해야한다고 가정해봅시다. 어떤 숫자들(1부터 10까지)의 제곱들을 계산해야 한다고 할 때, 우리는 아마 이렇게 코드를 작성할 겁니다."
      ]
    },
    {
      "cell_type": "code",
      "metadata": {
        "colab": {
          "base_uri": "https://localhost:8080/"
        },
        "id": "LvzyjEPcNO7F",
        "outputId": "c7da93bc-0576-4cd7-a119-05b9b78d766f"
      },
      "source": [
        "print(1**2)\n",
        "print(2**2)\n",
        "print(3**2)\n",
        "print(4**2)\n",
        "print(5**2)\n",
        "print(6**2)\n",
        "print(7**2)\n",
        "print(8**2)\n",
        "print(9**2)"
      ],
      "execution_count": null,
      "outputs": [
        {
          "output_type": "stream",
          "name": "stdout",
          "text": [
            "1\n",
            "4\n",
            "9\n",
            "16\n",
            "25\n",
            "36\n",
            "49\n",
            "64\n",
            "81\n"
          ]
        }
      ]
    },
    {
      "cell_type": "markdown",
      "metadata": {
        "id": "rv5xV4EFNO7F"
      },
      "source": [
        "작동이 됩니다. 그런데 한 가지 문제가 있습니다. 만약 그냥 제곱을 하는 것 대신에 제곱수에다가 $2$를 더해야 한다면 어떨까요? 당연히 우리는 소위 노가다(?)를 해야합니다. 각각의 줄에 전부 $2$를 더해줘야 할 수밖에 없습니다. 만약 입력변수가 1부터 100까지라면? 우리는 100줄의 코드를 전부 일일이 고쳐야만 하는 고생을 해야 합니다. 함수의 활용은 이럴 때 빛을 발합니다. 우리는 일일이 코드를 고치는 것 대신 함수를 활용해 문제를 아주 쉽게 해결할 수 있습니다. 아래의 코드는 입력변수를 제곱한 뒤에 $2$를 더해주는 함수입니다."
      ]
    },
    {
      "cell_type": "code",
      "metadata": {
        "id": "qtywLbSWNO7F"
      },
      "source": [
        "def do_it(x):\n",
        "    print(x**2 + 2)"
      ],
      "execution_count": null,
      "outputs": []
    },
    {
      "cell_type": "markdown",
      "metadata": {
        "id": "3VmE165mNO7G"
      },
      "source": [
        "자, 이제 우리는 입력변수만 넣으면 자동적으로 제곱을 한 후에 $2$를 더해주는 함수가 생겼습니다. 만약 계산식을 바꿔야 하는 상황이 다시 한 번 발생하게 된다면 우리는 단지 함수만을 수정하여 결과물을 빠르게 바꿀 수 있습니다. 업무를 훨씬 더 효율적으로 처리할 수 있는 도구가 생기게 된 것입니다."
      ]
    },
    {
      "cell_type": "code",
      "metadata": {
        "colab": {
          "base_uri": "https://localhost:8080/"
        },
        "id": "Pq1G6H_-NO7G",
        "outputId": "0729e01a-7719-4ed3-d6f8-790269df4ffa"
      },
      "source": [
        "do_it(1)\n",
        "do_it(2)\n",
        "do_it(3)\n",
        "do_it(4)\n",
        "do_it(5)\n",
        "do_it(6)\n",
        "do_it(7)\n",
        "do_it(8)\n",
        "do_it(9)"
      ],
      "execution_count": null,
      "outputs": [
        {
          "output_type": "stream",
          "name": "stdout",
          "text": [
            "3\n",
            "6\n",
            "11\n",
            "18\n",
            "27\n",
            "38\n",
            "51\n",
            "66\n",
            "83\n"
          ]
        }
      ]
    },
    {
      "cell_type": "markdown",
      "metadata": {
        "id": "jTLBBvjINO7G"
      },
      "source": [
        "함수 단위로 업무를 쪼개어 처리하는 것은 일을 좀 더 모듈화시켜 쉽게 이해가 가능하도록 만들어줍니다. 또한 이렇게 한다면 코드 상의 오류도 좀 더 정확히 짚어낼 수 있게 됩니다. 어떤 함수를 작성해서 테스트했을 때 결과가 옳다면, 그것을 사용할 때마다 그것이 옳을 것이라는 것을 알 수 있기 때문입니다. 만약 함수 단위로 코드를 쪼개지 않는다면, 나중에 코드 상에서 오타나 오류가 발생하기가 매우 쉬워집니다. 함수를 적극적으로 활용해야 하는 이유입니다.\n",
        "\n"
      ]
    },
    {
      "cell_type": "markdown",
      "metadata": {
        "id": "Fkn1p6erwDz8"
      },
      "source": [
        "### 예제\n",
        "\n",
        "1. 위의 `do_it` 함수를 다시 제곱수를 계산하도록 수정하세요."
      ]
    },
    {
      "cell_type": "code",
      "metadata": {
        "id": "f-CZuEfpNO7G"
      },
      "source": [
        "def do_it(x):\n",
        "    print(x ** 2)"
      ],
      "execution_count": null,
      "outputs": []
    },
    {
      "cell_type": "markdown",
      "metadata": {
        "id": "XLOC7WKTNO7G"
      },
      "source": [
        "## 파이썬 문법구조 (Syntax)\n",
        "\n",
        "우리가 컴퓨터에게 지시하는 요구사항들이 복잡하면 복잡해질수록, 코드는 컴퓨터가 이해할 수 있도록 구조화가 잘 되어 있어야 합니다. 우리는 이미 이를 `square` 함수의 예시를 통해 확인했습니다. 파이썬이 함수의 정의가 어떤 것인지 본문이 어떤 것인지를 이해하기 위해서는 몇몇 키워드와 기호들에 대한 특정 순서가 존재했습니다. 우리는 이처럼 코드를 구조화하는데 필요한 규칙들을 프로그래밍 언어의 문법구조(**syntax**)라고 부릅니다.\n",
        "\n",
        "파이썬의 문법구조는 매우 간결하게 설계되어 있기 때문에 코드는 상대적으로 읽기가 용이하고 직관적입니다. 파이썬은 코드를 구조화함에 있어 공백(**whitespace**)을 사용하여 이를 가능케하고 있습니다. 한 번 예시를 살펴보겠습니다."
      ]
    },
    {
      "cell_type": "code",
      "metadata": {
        "colab": {
          "base_uri": "https://localhost:8080/",
          "height": 73
        },
        "id": "Zug_jS-1NO7G",
        "outputId": "4554fefa-cb1e-4113-826c-3dc30b33020e"
      },
      "source": [
        "def example_a():\n",
        "    print('example_a is running')\n",
        "    print('returning value \"a\"')\n",
        "    return 'a'\n",
        "\n",
        "example_a()"
      ],
      "execution_count": null,
      "outputs": [
        {
          "output_type": "stream",
          "name": "stdout",
          "text": [
            "example_a is running\n",
            "returning value \"a\"\n"
          ]
        },
        {
          "output_type": "execute_result",
          "data": {
            "application/vnd.google.colaboratory.intrinsic+json": {
              "type": "string"
            },
            "text/plain": [
              "'a'"
            ]
          },
          "metadata": {},
          "execution_count": 19
        }
      ]
    },
    {
      "cell_type": "code",
      "metadata": {
        "colab": {
          "base_uri": "https://localhost:8080/"
        },
        "id": "IFSc6UIHNO7G",
        "outputId": "7364bc84-eb2a-42c7-d896-da10af9fbd80"
      },
      "source": [
        "def example_b():\n",
        "    print('example_b is running')\n",
        "    print('exiting without returning a value')\n",
        "\n",
        "example_b()"
      ],
      "execution_count": null,
      "outputs": [
        {
          "output_type": "stream",
          "name": "stdout",
          "text": [
            "example_b is running\n",
            "exiting without returning a value\n"
          ]
        }
      ]
    },
    {
      "cell_type": "markdown",
      "metadata": {
        "id": "yUOFMDYTNO7H"
      },
      "source": [
        "`example_a` 함수는 `return` 구문을 사용하여 마치고 있는 반면, `example_b` 함수는 그렇지 않습니다. 그런데 그렇다면 파이썬은 어떻게 함수 `example_b`가 끝났다는 것을 알 수 있는 것일까요? 정답은 바로 들여쓰기(**Indentation**)입니다. 파이썬은 들여쓰기가 된 줄은 함수에 속해 있다고 받아들입니다. 들여쓰기된 모든 줄은 함수의 내부로 들어가게 됩니다. 그렇기 때문에 파이썬에서 들여쓰기는 매우 중요합니다. 들여쓰기 자체가 문법이기 때문입니다."
      ]
    },
    {
      "cell_type": "markdown",
      "metadata": {
        "id": "OUAMv68rNO7H"
      },
      "source": [
        "## 조건문과 논리 연산자 (Conditionals and Logic Operators)\n",
        "\n",
        "우리는 종종 컴퓨터가 오직 특정 상황에서만 행동을 취하기를 원합니다. 예를 들어, 어떤 게임의 결과를 출력하는데 플레이어의 점수가 오직 이전 게임의 최고점을 넘어서야만 'High Score!'라는 문구를 출력하도록 만들고 싶은 것입니다. 우리는 다음과 같이 형식적인 논리 구문을 사용해 이를 표현할 수 있습니다. \n",
        "\n",
        "> **만약(If)** 플레이어의 점수가 이전 최고점보다 높다, **그렇다면(Then)** 'High Score!'를 출력해라.\n",
        "\n",
        "파이썬에서 이 논리 구조를 표현하는 구문은 매우 유사합니다. 아래에 플레이어의 점수와 이전 최고 점수를 인수로 받아들이는 함수를 정의해 보겠습니다. 플레이어의 점수가 더 높으면 'High Score!'를 출력합니다. 그 다음에 마지막으로는 새로운 최고 점수를 반환합니다."
      ]
    },
    {
      "cell_type": "code",
      "metadata": {
        "id": "1StXQzE7NO7H"
      },
      "source": [
        "def test_high_score(player_score, high_score):\n",
        "    if player_score > high_score:\n",
        "        print('High score!')\n",
        "        high_score = player_score\n",
        "\n",
        "    return high_score"
      ],
      "execution_count": null,
      "outputs": []
    },
    {
      "cell_type": "code",
      "metadata": {
        "colab": {
          "base_uri": "https://localhost:8080/"
        },
        "id": "VeP5pbnKNO7H",
        "outputId": "2c26c4db-8ba4-49a4-cb04-4193d5e96685"
      },
      "source": [
        "print(test_high_score(83, 98))"
      ],
      "execution_count": null,
      "outputs": [
        {
          "output_type": "stream",
          "name": "stdout",
          "text": [
            "98\n"
          ]
        }
      ]
    },
    {
      "cell_type": "code",
      "metadata": {
        "colab": {
          "base_uri": "https://localhost:8080/"
        },
        "id": "xGtsCVLENO7H",
        "outputId": "3067d22e-8af2-4e1c-d987-0c01ba932469"
      },
      "source": [
        "print(test_high_score(95, 93))"
      ],
      "execution_count": null,
      "outputs": [
        {
          "output_type": "stream",
          "name": "stdout",
          "text": [
            "High score!\n",
            "95\n"
          ]
        }
      ]
    },
    {
      "cell_type": "markdown",
      "metadata": {
        "id": "xaPf_1ouNO7H"
      },
      "source": [
        "`if` 문을 사용하면 함수를 구성하는 데 사용한 것과 유사한 구문을 사용합니다. 다시 말해, 콜론 `:`을 사용해 `if`문의 내부 본문을 구성할 수 있도록 구분하는 것입니다. \n",
        "\n",
        "조건문은 프로그램의 흐름을 제어하는 데 사용됩니다. 의사결정 트리에서 예제 `test_high_score`를 시각화할 수 있습니다.\n",
        "\n",
        "![simple_logic_flowchart](https://drive.google.com/uc?export=view&id=1EC65jNCdutf7ZXzx5x4gJJwi0e3LMlhH)\n",
        "\n",
        "더 복잡한 트리를 만들기 위해 `if` 문을 중첩할 수 있습니다."
      ]
    },
    {
      "cell_type": "code",
      "metadata": {
        "id": "NZGo43q6NO7H",
        "colab": {
          "base_uri": "https://localhost:8080/"
        },
        "outputId": "415953cb-da47-4dbf-cabf-101f8cc0a4db"
      },
      "source": [
        "def nested_example(x):\n",
        "    if x < 50:\n",
        "        if x % 2 == 0:\n",
        "            return 'branch a'\n",
        "        else:\n",
        "            return 'branch b'\n",
        "    else:\n",
        "        return 'branch c'\n",
        "\n",
        "print(nested_example(42))\n",
        "print(nested_example(51))\n",
        "print(nested_example(37))"
      ],
      "execution_count": null,
      "outputs": [
        {
          "output_type": "stream",
          "name": "stdout",
          "text": [
            "branch a\n",
            "branch c\n",
            "branch b\n"
          ]
        }
      ]
    },
    {
      "cell_type": "markdown",
      "metadata": {
        "id": "HUP0cNH_NO7I"
      },
      "source": [
        "이 예에서는 다른 `if` 문 아래에 `if` 문이 중첩되어 있습니다. 입력값을 변경하면 트리의 다른 가지로 결과물이 변경됩니다.\n",
        "\n",
        "![nested_logic_flowchart](https://drive.google.com/uc?export=view&id=13_BzHvHKb13DTy2TFWvh7ipKIkM94QkK)\n",
        "\n",
        "`if` 뒤에 오는 문장을 조건(**condition**)이라고 합니다. 조건은 `True` 또는 `False`일 수 있습니다. 조건이 참이면 `if` 아래에 있는 명령문을 실행합니다. 조건이 거짓이면 `else` 아래에 있는 명령문을 실행합니다. 또는 `else`가 없으면 아무 작업도 수행하지 않습니다. 조건 자체는 파이썬이 해석할 수 있는 명령이어야 합니다."
      ]
    },
    {
      "cell_type": "code",
      "metadata": {
        "id": "mrkIpbR6NO7I",
        "colab": {
          "base_uri": "https://localhost:8080/"
        },
        "outputId": "f575958d-c323-4cb6-a3ea-f8e79be3a984"
      },
      "source": [
        "print(50 > 10)\n",
        "print(2 + 2 == 4)\n",
        "print(-3 > 2)"
      ],
      "execution_count": null,
      "outputs": [
        {
          "output_type": "stream",
          "name": "stdout",
          "text": [
            "True\n",
            "True\n",
            "False\n"
          ]
        }
      ]
    },
    {
      "cell_type": "markdown",
      "metadata": {
        "id": "yBiO8_ZjNO7I"
      },
      "source": [
        "조건은 `True` 또는 `False`인 불리언 대수로 평가됩니다. 그리고 조건 A **그리고** 조건 B가 참인지 물어볼 수 있고, 또한 조건 A **또는** 조건 B가 참인지를 물어볼 수도 있습니다. 조건 A와 조건 B의 가능한 값을 기반으로 아래와 같은 T/F 테이블을 작성할 수 있습니다.\n",
        "\n",
        "|조건 A|조건 B|조건 A 그리고 조건 B|조건 A 혹은 조건 B|\n",
        "|:---------:|:---------:|:-------------------------:|:------------------------:|\n",
        "|True|True|True|True|\n",
        "|True|False|False|True|\n",
        "|False|True|False|True|\n",
        "|False|False|False|False|"
      ]
    },
    {
      "cell_type": "code",
      "metadata": {
        "id": "MasyD7OaNO7I",
        "colab": {
          "base_uri": "https://localhost:8080/"
        },
        "outputId": "976d6dd2-5dd3-414a-c7ab-76e29e4b9de6"
      },
      "source": [
        "print(True and True)\n",
        "print(True and False)\n",
        "print(False and True)\n",
        "print(False and False)"
      ],
      "execution_count": null,
      "outputs": [
        {
          "output_type": "stream",
          "name": "stdout",
          "text": [
            "True\n",
            "False\n",
            "False\n",
            "False\n"
          ]
        }
      ]
    },
    {
      "cell_type": "code",
      "metadata": {
        "id": "_Hmze7NQNO7I",
        "colab": {
          "base_uri": "https://localhost:8080/"
        },
        "outputId": "1d7432d3-c937-4759-e2fa-5603d32a6c6d"
      },
      "source": [
        "print(True or True)\n",
        "print(True or False)\n",
        "print(False or True)\n",
        "print(False or False)"
      ],
      "execution_count": null,
      "outputs": [
        {
          "output_type": "stream",
          "name": "stdout",
          "text": [
            "True\n",
            "True\n",
            "True\n",
            "False\n"
          ]
        }
      ]
    },
    {
      "cell_type": "code",
      "metadata": {
        "id": "W8CP-jvfNO7J",
        "colab": {
          "base_uri": "https://localhost:8080/"
        },
        "outputId": "323efda5-5fc3-4407-e968-5c280692b6c0"
      },
      "source": [
        "x = 5\n",
        "y = 3\n",
        "\n",
        "print(x > 4 and y > 2)\n",
        "print(x > 7 and y > 2)\n",
        "print(x > 7 or y > 2)"
      ],
      "execution_count": null,
      "outputs": [
        {
          "output_type": "stream",
          "name": "stdout",
          "text": [
            "True\n",
            "False\n",
            "True\n"
          ]
        }
      ]
    },
    {
      "cell_type": "markdown",
      "metadata": {
        "id": "wAZ9Mit0NO7J"
      },
      "source": [
        "`or`, `and`와 같은 키워드를 논리 연산(**logical operations**)이라고 합니다. (`+`, `-`, `*` 등을 산술 연산이라고 하는 것과 같은 의미). 마지막 논리 연산은 `not`입니다. `not True`는 `False`이고 `not False`는 `True`입니다."
      ]
    },
    {
      "cell_type": "code",
      "metadata": {
        "id": "pigE4AIANO7J",
        "colab": {
          "base_uri": "https://localhost:8080/"
        },
        "outputId": "2788e835-4193-4680-a592-06147a29e4f7"
      },
      "source": [
        "print(not True)\n",
        "print(not False)"
      ],
      "execution_count": null,
      "outputs": [
        {
          "output_type": "stream",
          "name": "stdout",
          "text": [
            "False\n",
            "True\n"
          ]
        }
      ]
    },
    {
      "cell_type": "code",
      "metadata": {
        "id": "r-AOTr1cNO7J",
        "colab": {
          "base_uri": "https://localhost:8080/"
        },
        "outputId": "7b843c22-7813-4b5f-cbf5-5eb1d9b6eb2f"
      },
      "source": [
        "x = 10\n",
        "y = 8\n",
        "\n",
        "print(x > 7 or y < 7)\n",
        "print(not x > 7 or y < 7)\n",
        "print(not x > 7 or not y < 7)\n",
        "print(not (x > 7 or y < 7))"
      ],
      "execution_count": null,
      "outputs": [
        {
          "output_type": "stream",
          "name": "stdout",
          "text": [
            "True\n",
            "False\n",
            "True\n",
            "False\n"
          ]
        }
      ]
    },
    {
      "cell_type": "markdown",
      "metadata": {
        "id": "EAc6YxctNO7J"
      },
      "source": [
        "### 예제\n",
        "\n",
        "1. 숫자를 입력변수로 받아 만약 그 숫자가 10보다 크고 20보다 작거나 -100보다 작다면 `True`를 반환하는 함수를 작성하세요.\n",
        "2. 위의 코드에서 우리는 `%`라는 연산자를 사용했습니다. 이 연산자는 어떤 기능을 담당하고 있나요?"
      ]
    },
    {
      "cell_type": "markdown",
      "metadata": {
        "id": "0POP8ZGjNO7K"
      },
      "source": [
        "## 반복문 (Iteration)\n",
        "\n",
        "조건문은 프로그램이 일부 정보를 기반으로 결정을 내릴 수 있도록 하기 때문에 매우 유용합니다. 이러한 결정은 프로그램의 흐름(즉, 어떤 명령문이 실행되는지)을 제어합니다. 프로그램 흐름을 제어하기 위한 또 다른 주요 도구가 있습니다. 바로 반복문입니다. 프로그래밍에서는 반복 루프를 사용하여 동일한 코드를 여러 번 실행합니다. 이것을 반복(**Iteration**)이라고 합니다. 가장 기본적인 반복 유형은 `while` 루프입니다. `while` 루프는 `while` 뒤의 조건이 `True`인 한 계속 실행됩니다."
      ]
    },
    {
      "cell_type": "code",
      "metadata": {
        "id": "4yFEUub7NO7K",
        "colab": {
          "base_uri": "https://localhost:8080/"
        },
        "outputId": "feb65062-9705-4805-b8d9-6970b6c57748"
      },
      "source": [
        "x = 0\n",
        "while x < 5:\n",
        "    print(x)\n",
        "    x = x + 1"
      ],
      "execution_count": null,
      "outputs": [
        {
          "output_type": "stream",
          "name": "stdout",
          "text": [
            "0\n",
            "1\n",
            "2\n",
            "3\n",
            "4\n"
          ]
        }
      ]
    },
    {
      "cell_type": "markdown",
      "metadata": {
        "id": "cNeBQybENO7K"
      },
      "source": [
        "우리는 종종 반복을 사용하여 작업을 특정 횟수만큼 수행하지만 특정 완료 단계까지 프로세스를 수행하는 데 사용할 수도 있습니다.\n",
        "\n",
        "이러한 경우들의 대표적인 예로서, 우리는 피보나치 수열을 생각해보겠습니다. 피보나치 수열은 수열의 다음 수가 이전 두 수의 합으로 주어지는 수열입니다. 처음 두 숫자는 0과 1로 지정됩니다. 따라서 시퀀스는 0, 1, 1, 2, 3, 5, 8...로 시작합니다.\n",
        "\n",
        "피보나치 수열은 무한히 진행되므로 일부만 계산할 수 있습니다. 아래에서 피보나치 수열의 일부를 계산하는 두 가지 함수를 정의합니다. 첫 번째 함수는 첫 번째 `n` 항을 계산하는 반면 두 번째 함수는 상한인 `x`보다 작은 모든 항을 계산합니다."
      ]
    },
    {
      "cell_type": "code",
      "metadata": {
        "id": "kJh3aEY5NO7K"
      },
      "source": [
        "def first_n_fibonacci(n):\n",
        "    prev_num = 0\n",
        "    curr_num = 1\n",
        "    count = 2\n",
        "\n",
        "    print(prev_num)\n",
        "    print(curr_num)\n",
        "\n",
        "    while count <= n:\n",
        "        next_num = curr_num + prev_num\n",
        "        print(next_num)\n",
        "        prev_num = curr_num\n",
        "        curr_num = next_num\n",
        "        count += 1\n",
        "\n",
        "def below_x_fibonacci(x):\n",
        "    prev_num = 0\n",
        "    curr_num = 1\n",
        "\n",
        "    if curr_num < x:\n",
        "        print(prev_num)\n",
        "        print(curr_num)\n",
        "    elif prev_num < x:\n",
        "        print(prev_num)\n",
        "    \n",
        "    while curr_num + prev_num < x:\n",
        "        next_num = curr_num + prev_num\n",
        "        print(next_num)\n",
        "        prev_num = curr_num\n",
        "        curr_num = next_num"
      ],
      "execution_count": null,
      "outputs": []
    },
    {
      "cell_type": "code",
      "metadata": {
        "id": "uLF0xtz3NO7K",
        "colab": {
          "base_uri": "https://localhost:8080/"
        },
        "outputId": "f6c394b9-4c4c-408b-cc2e-f0ff4f3dfbed"
      },
      "source": [
        "m = 7\n",
        "print('First %d Fibonacci numbers' % m)\n",
        "first_n_fibonacci(m)"
      ],
      "execution_count": null,
      "outputs": [
        {
          "output_type": "stream",
          "name": "stdout",
          "text": [
            "First 7 Fibonacci numbers\n",
            "0\n",
            "1\n",
            "1\n",
            "2\n",
            "3\n",
            "5\n",
            "8\n",
            "13\n"
          ]
        }
      ]
    },
    {
      "cell_type": "code",
      "metadata": {
        "id": "qR7zHtxlNO7K",
        "colab": {
          "base_uri": "https://localhost:8080/"
        },
        "outputId": "39d402bd-3142-40aa-e66e-7eefa9a91818"
      },
      "source": [
        "print()\n",
        "\n",
        "y = 40\n",
        "print('Fibonacci numbers below %d' % y)\n",
        "below_x_fibonacci(y)        "
      ],
      "execution_count": null,
      "outputs": [
        {
          "output_type": "stream",
          "name": "stdout",
          "text": [
            "\n",
            "Fibonacci numbers below 40\n",
            "0\n",
            "1\n",
            "1\n",
            "2\n",
            "3\n",
            "5\n",
            "8\n",
            "13\n",
            "21\n",
            "34\n"
          ]
        }
      ]
    },
    {
      "cell_type": "markdown",
      "metadata": {
        "id": "ECpJVsC_NO7K"
      },
      "source": [
        "때때로 우리는 프로그램이 반복되는 작업을 수행하기를 원하지만 얼마나 많은 반복을 수행해야 하는지 알지 못하거나 프로그램이 언제 중지되어야 하는지 미리 알기 어려울 수 있습니다. 예를 들어, 요리 레시피를 인쇄하는 프로그램을 작성할 수 있습니다. 우리는 조리법에 얼마나 많은 지시사항이 있을지 미리 알 수 없습니다. 우리는 또한 마지막 명령어가 무엇인지 알지 못하기 때문에 프로그램을 멈출 때를 알려주는 조건문을 작성하는 것은 어려울 것입니다. 이럴때 우리는 어떻게 문제를 해결해야 할까요? 한 번 예를 들어 보겠습니다.\n",
        "\n",
        "빵을 만드는 과정:  \n",
        "1. 물에 소금을 녹인다(Dissolve salt in water)\n",
        "2. 이스트를 물에 섞는다(Mix yeast into water)\n",
        "3. 물과 밀가루를 섞어 반죽을 만든다(Mix water with flour to form dough)\n",
        "4. 반죽을 반죽한다(Knead dough)\n",
        "5. 반죽이 부풀어오르게 만든다(Let dough rise)\n",
        "6. 반죽에 모양을 낸다(Shape dough)\n",
        "7. 반죽은 굽는다(Bake)\n",
        "\n",
        "레시피에는 순서가 있는 지침에 관한 `list`가 있습니다. 파이썬에서는 문자열 리스트를 사용하여 명령을 나타낼 수 있습니다."
      ]
    },
    {
      "cell_type": "code",
      "metadata": {
        "id": "1XEv141XNO7L"
      },
      "source": [
        "bread_recipe = ['Dissolve salt in water', 'Mix yeast into water', 'Mix water with flour to form dough', \n",
        "                'Knead dough', 'Let dough rise', 'Shape dough', 'Bake']"
      ],
      "execution_count": null,
      "outputs": []
    },
    {
      "cell_type": "markdown",
      "metadata": {
        "id": "0ESt9gY6NO7L"
      },
      "source": [
        "파이썬의 데이터구조 중 하나인 `list`에 대해서는 추후 데이터 구조에 대한 강의에서 더 논의할 예정입니다. 우리는 아래와 같이 다른 `list`에 다른 레시피를 저장할 수도 있습니다."
      ]
    },
    {
      "cell_type": "code",
      "metadata": {
        "id": "fasPFF0PNO7L"
      },
      "source": [
        "soup_recipe = ['Dissolve salt in water', 'Boil  water', 'Add bones to boiling water', 'Chop onions', \n",
        "               'Chop garlic', 'Chop carrot', 'Chop celery', 'Remove bones from water', \n",
        "               'Add vegetables to boiling water', 'Add meat to boiling water']\n",
        "\n",
        "beans_recipe = ['Soak beans in water', 'Dissolve salt in water', 'Heat water and beans to boil', \n",
        "                'Drain beans when done cooking']"
      ],
      "execution_count": null,
      "outputs": []
    },
    {
      "cell_type": "markdown",
      "metadata": {
        "id": "_novayYqNO7L"
      },
      "source": [
        "각각의 `list`에는 각각 다른 레시피가 있고 길이 또한 모두 다릅니다. 콩 레시피에는 4단계가 있지만 수프 레시피에는 10단계가 있습니다. 그렇기 때문에 각 단계를 출력하기 위해 `while` 루프를 작성하는 것은 어려울 것입니다. 그대신 우리는 `for` 루프를 사용하여 문제를 해결할 수 있습니다.\n",
        "\n",
        "`for` 루프는 `list`(더 정확하게는 이터러블(**iterable**, 멤버를 하나씩 차례로 반환 가능한 객체)에서)의 각 항목에 대해 작업을 수행합니다."
      ]
    },
    {
      "cell_type": "code",
      "metadata": {
        "id": "6QvUBwuZNO7L"
      },
      "source": [
        "def print_recipe(instructions):\n",
        "    for step in instructions:\n",
        "        print(step)"
      ],
      "execution_count": null,
      "outputs": []
    },
    {
      "cell_type": "code",
      "metadata": {
        "id": "AlSM8Qo0NO7L",
        "colab": {
          "base_uri": "https://localhost:8080/"
        },
        "outputId": "7b19b517-7527-400d-b256-4cdcb9605344"
      },
      "source": [
        "print_recipe(soup_recipe)"
      ],
      "execution_count": null,
      "outputs": [
        {
          "output_type": "stream",
          "name": "stdout",
          "text": [
            "Dissolve salt in water\n",
            "Boil  water\n",
            "Add bones to boiling water\n",
            "Chop onions\n",
            "Chop garlic\n",
            "Chop carrot\n",
            "Chop celery\n",
            "Remove bones from water\n",
            "Add vegetables to boiling water\n",
            "Add meat to boiling water\n"
          ]
        }
      ]
    },
    {
      "cell_type": "code",
      "metadata": {
        "id": "K1FLJt1LNO7L",
        "colab": {
          "base_uri": "https://localhost:8080/"
        },
        "outputId": "cb5749b3-bb05-4a2b-d33d-f61f3206eb04"
      },
      "source": [
        "print_recipe(bread_recipe)"
      ],
      "execution_count": null,
      "outputs": [
        {
          "output_type": "stream",
          "name": "stdout",
          "text": [
            "Dissolve salt in water\n",
            "Mix yeast into water\n",
            "Mix water with flour to form dough\n",
            "Knead dough\n",
            "Let dough rise\n",
            "Shape dough\n",
            "Bake\n"
          ]
        }
      ]
    },
    {
      "cell_type": "code",
      "metadata": {
        "id": "u7bXw4-lNO7L",
        "colab": {
          "base_uri": "https://localhost:8080/"
        },
        "outputId": "e271ce8e-70ad-4fba-bba1-54ba2fe57237"
      },
      "source": [
        "print_recipe(beans_recipe)"
      ],
      "execution_count": null,
      "outputs": [
        {
          "output_type": "stream",
          "name": "stdout",
          "text": [
            "Soak beans in water\n",
            "Dissolve salt in water\n",
            "Heat water and beans to boil\n",
            "Drain beans when done cooking\n"
          ]
        }
      ]
    },
    {
      "cell_type": "markdown",
      "metadata": {
        "id": "PaYilCz3NO7M"
      },
      "source": [
        "또한 `for`문을 사용하여 피보나치 수열의 첫 번째 `n` 숫자를 출력하는 것과 같이 특정 횟수만큼 작업을 반복할 수 있습니다. 아래에서 두 가지 피보나치 함수들을 비교해보겠습니다."
      ]
    },
    {
      "cell_type": "code",
      "metadata": {
        "id": "f6o93hqyNO7M"
      },
      "source": [
        "def first_n_fibonacci_while(n):\n",
        "    prev_num = 0\n",
        "    curr_num = 1\n",
        "    count = 2\n",
        "\n",
        "    print(prev_num)\n",
        "    print(curr_num)\n",
        "\n",
        "    while count <= n:\n",
        "        next_num = curr_num + prev_num\n",
        "        print(next_num)\n",
        "        prev_num = curr_num\n",
        "        curr_num = next_num\n",
        "        count += 1\n",
        "\n",
        "def first_n_fibonacci_for(n):\n",
        "    prev_num = 0\n",
        "    curr_num = 1\n",
        "\n",
        "    print(prev_num)\n",
        "    print(curr_num)\n",
        "\n",
        "    for count in range(2, n + 1):\n",
        "        next_num = curr_num + prev_num\n",
        "        print(next_num)\n",
        "        prev_num = curr_num\n",
        "        curr_num = next_num"
      ],
      "execution_count": null,
      "outputs": []
    },
    {
      "cell_type": "code",
      "metadata": {
        "id": "p_0qMZWYNO7M",
        "colab": {
          "base_uri": "https://localhost:8080/"
        },
        "outputId": "aba50e73-3616-44dd-dd9a-238be3a1fffe"
      },
      "source": [
        "first_n_fibonacci_while(7)"
      ],
      "execution_count": null,
      "outputs": [
        {
          "output_type": "stream",
          "name": "stdout",
          "text": [
            "0\n",
            "1\n",
            "1\n",
            "2\n",
            "3\n",
            "5\n",
            "8\n",
            "13\n"
          ]
        }
      ]
    },
    {
      "cell_type": "code",
      "metadata": {
        "id": "S9q2IgybNO7M",
        "colab": {
          "base_uri": "https://localhost:8080/"
        },
        "outputId": "794d7327-9f28-4f54-ca83-198a0c9f7f1b"
      },
      "source": [
        "first_n_fibonacci_for(7)"
      ],
      "execution_count": null,
      "outputs": [
        {
          "output_type": "stream",
          "name": "stdout",
          "text": [
            "0\n",
            "1\n",
            "1\n",
            "2\n",
            "3\n",
            "5\n",
            "8\n",
            "13\n"
          ]
        }
      ]
    },
    {
      "cell_type": "markdown",
      "metadata": {
        "id": "3uMTkmSqNO7M"
      },
      "source": [
        "### 예제\n",
        "\n",
        "1. `first_n_fibonacci_while` 함수와 `first_n_fibonacci_for` 함수를 비교했을때, 어떤 것이 더 나은가요?"
      ]
    },
    {
      "cell_type": "markdown",
      "metadata": {
        "id": "dqcBdpCYNO7M"
      },
      "source": [
        "### 번외 - 재귀 (Recursion)\n",
        "\n",
        "반복과 같은 것을 얻는 또 다른 방법은 재귀(**recursion**)이라고 하며, 이는 자체적으로 함수를 정의할 때입니다. 피보나치 수열을 한번 재귀적으로 작성해 보겠습니다. 이것은 n번째 피보나치 수만 계산한다는 점에서 약간 다릅니다."
      ]
    },
    {
      "cell_type": "code",
      "metadata": {
        "id": "jF7GptJ8NO7M"
      },
      "source": [
        "def fibonacci_recursive(n):\n",
        "    if n == 0:\n",
        "        return 0\n",
        "    elif n == 1:\n",
        "        return 1\n",
        "    else:\n",
        "        return fibonacci_recursive(n-1)  + fibonacci_recursive(n-2)"
      ],
      "execution_count": null,
      "outputs": []
    },
    {
      "cell_type": "code",
      "metadata": {
        "id": "hy7vlSKSNO7M",
        "colab": {
          "base_uri": "https://localhost:8080/"
        },
        "outputId": "14e83827-684c-4746-9ad5-b1d7f6ce0786"
      },
      "source": [
        "fibonacci_recursive(7)"
      ],
      "execution_count": null,
      "outputs": [
        {
          "output_type": "execute_result",
          "data": {
            "text/plain": [
              "13"
            ]
          },
          "metadata": {},
          "execution_count": 45
        }
      ]
    },
    {
      "cell_type": "markdown",
      "metadata": {
        "id": "uzR2hndzNO7N"
      },
      "source": [
        "여기서 우리는 피보나치 수 $F_n$가 $F_{N-1}$ 및 $F_{N-2}$의 항으로 정의될 수 있다는 사실을 이용합니다. 우리는 전체 과정에서 재귀를 사용하지는 않을 것이지만, 재귀는 흥미롭고 유용한 프로그래밍 구조입니다."
      ]
    },
    {
      "cell_type": "markdown",
      "metadata": {
        "id": "OjhaQttQNO7N"
      },
      "source": [
        "## 전체 종합\n",
        "\n",
        "우리는 프로그램의 두 가지 주요 구성요소인 변수(**variables**)와 함수(**functions**)를 배웠습니다. 우리는 또한 프로그램 제어의 두 가지 주요 구성요소인 조건문(**conditionals**)(`if`문)과 반복문(**iteration**)(`for`문 및 `while`문)을 배웠습니다. 이러한 아이디어와 도구를 사용하여 복잡한 작업을 수행하는 코드를 작성할 수 있습니다. 이제 이러한 모든 아이디어들이 결합된 예를 살펴보겠습니다.\n",
        "\n",
        "임의의 수 `n`까지의 모든 소수를 출력하는 함수를 아래에 작성합니다. 각 숫자가 소수인지 확인하기 위해 반복문을 사용할 것입니다. 또한 조건문을 사용하여 소수인 경우에만 숫자를 출력합니다. 그리고 코드를 읽고 이해하기 쉽도록 작업을 작은 조각단위으로 나눕니다. 이것은 우리가 솔루션 내부에서 헬퍼 함수(**helper functions**)를 사용할 것임을 의미합니다."
      ]
    },
    {
      "cell_type": "code",
      "metadata": {
        "id": "qlJAuom_NO7N"
      },
      "source": [
        "def is_prime(number):\n",
        "    if number <= 1:\n",
        "        return False\n",
        "    \n",
        "    for factor in range(2, number):\n",
        "        if number % factor == 0:\n",
        "            return False\n",
        "\n",
        "    return True\n",
        "\n",
        "def print_primes(n):\n",
        "    for number in range(1, n):\n",
        "        if is_prime(number):\n",
        "            print('%d is prime' % number)"
      ],
      "execution_count": null,
      "outputs": []
    },
    {
      "cell_type": "code",
      "metadata": {
        "id": "g_k4iO4BNO7N",
        "colab": {
          "base_uri": "https://localhost:8080/"
        },
        "outputId": "c01872cf-d951-47d8-f92e-b8a3def87c5e"
      },
      "source": [
        "print_primes(42)"
      ],
      "execution_count": null,
      "outputs": [
        {
          "output_type": "stream",
          "name": "stdout",
          "text": [
            "2 is prime\n",
            "3 is prime\n",
            "5 is prime\n",
            "7 is prime\n",
            "11 is prime\n",
            "13 is prime\n",
            "17 is prime\n",
            "19 is prime\n",
            "23 is prime\n",
            "29 is prime\n",
            "31 is prime\n",
            "37 is prime\n",
            "41 is prime\n"
          ]
        }
      ]
    },
    {
      "cell_type": "markdown",
      "metadata": {
        "id": "X0O2JnM_NO7N"
      },
      "source": [
        "함수를 응용하는 다른 방법은 무언가를 여러 번 수행하는 것일 수 있습니다. (그렇다고 꼭 반복일 필요는 없습니다.) 이것을 이해하는 한 가지 구체적이고 자연스러운 방법은 `list` 요소를 상대로 그 `list`의 각 요소에 함수를 적용하는 것입니다. 처음 20개의 숫자 목록을 가져와서 어떤 숫자가 소수인지 찾아보고, 만약 소수라면 이를 `list`에 저장할 것입니다. 목록에는 목록의 끝에 추가할 수 있는 `append` 메서드가 있습니다."
      ]
    },
    {
      "cell_type": "code",
      "metadata": {
        "id": "h-Y6HLtlNO7N",
        "colab": {
          "base_uri": "https://localhost:8080/"
        },
        "outputId": "64f19345-f2c7-420f-eb0b-cd852aeadd83"
      },
      "source": [
        "list_of_numbers = [0, 1, 2, 3, 4, 5, 6, 7, 8, 9, 10, 11, 12, 13, 14, 15, 16, 17, 18, 19]\n",
        "prime_list = []\n",
        "for number in list_of_numbers:\n",
        "    if is_prime(number):\n",
        "        prime_list.append(number)\n",
        "prime_list"
      ],
      "execution_count": null,
      "outputs": [
        {
          "output_type": "execute_result",
          "data": {
            "text/plain": [
              "[2, 3, 5, 7, 11, 13, 17, 19]"
            ]
          },
          "metadata": {},
          "execution_count": 48
        }
      ]
    },
    {
      "cell_type": "markdown",
      "metadata": {
        "id": "qkL8hYP0NO7N"
      },
      "source": [
        "파이썬은 리스트의 모든 요소에 함수를 적용할 수 있는 `list comprehension`이라는 멋진 구조를 제공합니다. 다음은 그 중 하나의 예시입니다."
      ]
    },
    {
      "cell_type": "code",
      "metadata": {
        "id": "Wo59ni-oNO7N",
        "colab": {
          "base_uri": "https://localhost:8080/"
        },
        "outputId": "d82d6c7b-b55c-46cb-ba24-e8cf12027185"
      },
      "source": [
        "[number for number in list_of_numbers if is_prime(number)]"
      ],
      "execution_count": null,
      "outputs": [
        {
          "output_type": "execute_result",
          "data": {
            "text/plain": [
              "[2, 3, 5, 7, 11, 13, 17, 19]"
            ]
          },
          "metadata": {},
          "execution_count": 49
        }
      ]
    },
    {
      "cell_type": "markdown",
      "metadata": {
        "id": "Nb43HddkNO7O"
      },
      "source": [
        "이것은 충분히 이해가 가능한 매우 간단한 코드입니다. 우리는 `is_prime`의 계산이 **어떻게** 발생하는지 신경 쓸 필요가 없습니다. 단지 `list_of_numbers`의 모든 요소에 대해 발생한다는 것만 이해하면 됩니다. 이는 우리가 작은 세부 사항에 신경 쓰지 않고도 더 높은 수준에서 프로그램을 더 많이 볼 수 있음을 의미합니다."
      ]
    },
    {
      "cell_type": "markdown",
      "metadata": {
        "id": "STml7OKpNO7O"
      },
      "source": [
        "## 함수에 대한 추가 정보\n",
        "\n",
        "Notice that the `example_a` and `example_b` had no input, but other functions like `test_high_score` had multiple variables as input.  Remember that a function argument is just a placeholder for a name and will be bound to whatever is passed into the function.  For example:\n",
        "\n",
        "`example_a`, `example_b` 함수에는 입력이 없지만, `test_high_score`와 같은 다른 함수에는 입력값으로 여러 변수가 있습니다. 함수의 인자는 이름의 자리를 표시하는 것일 뿐이며, 함수에 전달되는 모든 항목에 바인딩됩니다. 예를 들어 보겠습니다."
      ]
    },
    {
      "cell_type": "code",
      "metadata": {
        "id": "yORr9_eTNO7O",
        "colab": {
          "base_uri": "https://localhost:8080/"
        },
        "outputId": "131f869f-f085-4d14-8fcf-948b3e31c1dc"
      },
      "source": [
        "def print_this(a):\n",
        "    print('inside print_this: ', a)\n",
        "\n",
        "a = 5\n",
        "print_this(2)\n",
        "print('a = ', a)"
      ],
      "execution_count": null,
      "outputs": [
        {
          "output_type": "stream",
          "name": "stdout",
          "text": [
            "inside print_this:  2\n",
            "a =  5\n"
          ]
        }
      ]
    },
    {
      "cell_type": "markdown",
      "metadata": {
        "id": "2q0AZfVyNO7O"
      },
      "source": [
        "`print_this`가 함수 내부의 변수 `a`를 인쇄하고 함수 외부에 정의된 변수 `a`가 있었음에도 불구하고 `print_this` 내부의 `print` 함수는 여전히 전달된 내용을 출력했습니다. 그러나 이렇게 할 수도 있습니다."
      ]
    },
    {
      "cell_type": "code",
      "metadata": {
        "id": "TjfVBLfUNO7O",
        "colab": {
          "base_uri": "https://localhost:8080/"
        },
        "outputId": "e5ed205a-c756-425c-ece4-4f9f9d4b8878"
      },
      "source": [
        "def print_it():\n",
        "    print('inside print_it: ', a)\n",
        "    \n",
        "a = 5\n",
        "print_it()\n",
        "print('a = ', a)"
      ],
      "execution_count": null,
      "outputs": [
        {
          "output_type": "stream",
          "name": "stdout",
          "text": [
            "inside print_it:  5\n",
            "a =  5\n"
          ]
        }
      ]
    },
    {
      "cell_type": "markdown",
      "metadata": {
        "id": "I3AjY6emNO7O"
      },
      "source": [
        "여기에서는 함수에 전달된 변수가 없으므로 파이썬은 외부 범위의 변수를 사용합니다. 하지만 이 두 번째 방식은 매우 위험하기 때문에 주의해야 합니다. 왜냐하면 함수의 입력에만 의존하는 `print_this`와 달리 함수의 출력이 프로그램의 전체 상태(즉, `a`의 값)에 의존하고 있기 때문입니다. 그렇기 때문에 가능한한 우리는 `print_this`와 같은 스타일로 구현을 하는 것이 좋습니다."
      ]
    },
    {
      "cell_type": "markdown",
      "metadata": {
        "id": "WuJSD56YNO7Q"
      },
      "source": [
        "이제 일반적인 인수가 작동하는 방식을 이해했으므로 파이썬이 함수를 더 쉽게 생성하기 위해 제공하는 몇 가지 편의를 살펴보겠습니다. 첫 번째는 기본 인수값(**default arguments**)입니다. 많은 인수들을 가지고 있지만 대부분이 기본값을 갖고 있는 함수가 있다고 가정해 보겠습니다. 예를 들면 다음과 같습니다."
      ]
    },
    {
      "cell_type": "code",
      "metadata": {
        "id": "OE9--DdlNO7Q",
        "colab": {
          "base_uri": "https://localhost:8080/"
        },
        "outputId": "2bd5f15a-895c-4fa3-d00a-2271406be870"
      },
      "source": [
        "def print_todo(watch_tv, read, eat, sleep):\n",
        "    print('I need to:')\n",
        "    if watch_tv:\n",
        "        print('  watch_tv')\n",
        "    if read:\n",
        "        print('  read')\n",
        "    if eat:\n",
        "        print('  eat')\n",
        "    if sleep:\n",
        "        print('  sleep')\n",
        "print_todo(True, True, True, True)"
      ],
      "execution_count": null,
      "outputs": [
        {
          "output_type": "stream",
          "name": "stdout",
          "text": [
            "I need to:\n",
            "  watch_tv\n",
            "  read\n",
            "  eat\n",
            "  sleep\n"
          ]
        }
      ]
    },
    {
      "cell_type": "markdown",
      "metadata": {
        "id": "5zmI0uBzNO7Q"
      },
      "source": [
        "그런데 여기서 우리는 거의 항상 먹고 자야 한다는 것을 알고 있으므로 대신 기본 인수를 사용할 수 있습니다. 즉, 기본값과 다른 경우가 아니면 `eat` 및 `sleep` 값을 정의할 필요가 없는 것입니다."
      ]
    },
    {
      "cell_type": "code",
      "metadata": {
        "id": "NqhlWGwFNO7R",
        "colab": {
          "base_uri": "https://localhost:8080/"
        },
        "outputId": "64fef807-e8d5-4703-fee3-4d5bedd2ad51"
      },
      "source": [
        "def print_todo_default(watch_tv, read, eat=True, sleep=True):\n",
        "    print('I need to:')\n",
        "    if watch_tv:\n",
        "        print('  watch_tv')\n",
        "    if read:\n",
        "        print('  read')\n",
        "    if eat:\n",
        "        print('  eat')\n",
        "    if sleep:\n",
        "        print('  sleep')\n",
        "print_todo_default(True, True)"
      ],
      "execution_count": null,
      "outputs": [
        {
          "output_type": "stream",
          "name": "stdout",
          "text": [
            "I need to:\n",
            "  watch_tv\n",
            "  read\n",
            "  eat\n",
            "  sleep\n"
          ]
        }
      ]
    },
    {
      "cell_type": "markdown",
      "metadata": {
        "id": "uGOZ5umeNO7S"
      },
      "source": [
        "이러한 기본 인수를 사용하면 올바른 기본값을 설정하여 사용 편의성을 유지하면서 많은 입력으로 복잡한 함수를 만들 수 있습니다.\n",
        "\n",
        "우리가 하고 싶은 또 다른 일은 인수의 변수 목록을 가져오는 것입니다. 이전과 유사한 `todo` 함수를 작성하지만 이번에는 임의의 수의 인수를 전달하도록 허용할 것입니다. 여기서 우리는 `*args` 구문을 사용할 것입니다. 이 `*`는 파이썬이 나머지 인수를 튜플 `args`로 수집하도록 지시합니다."
      ]
    },
    {
      "cell_type": "code",
      "metadata": {
        "id": "JqB2tl_VNO7S",
        "colab": {
          "base_uri": "https://localhost:8080/"
        },
        "outputId": "6c20e049-5973-48e1-feae-baf01b933d94"
      },
      "source": [
        "def print_todo_args(*args):\n",
        "    print('I need to:')\n",
        "    for arg in args:\n",
        "        print('  ' + arg)\n",
        "print_todo_args('watch_tv', 'read', 'eat', 'sleep')"
      ],
      "execution_count": null,
      "outputs": [
        {
          "output_type": "stream",
          "name": "stdout",
          "text": [
            "I need to:\n",
            "  watch_tv\n",
            "  read\n",
            "  eat\n",
            "  sleep\n"
          ]
        }
      ]
    },
    {
      "cell_type": "markdown",
      "metadata": {
        "id": "PlbzjviJNO7S"
      },
      "source": [
        "이러한 종류의 구문은 추상 함수가 서로 다른 인수를 가진 다양한 다른 함수일 수 있는 대규모 프로그램에서 매우 유용할 수 있습니다.\n",
        "\n",
        "다음 시간에는 본격적으로 데이터 구조(**Data Structures**)에 대해서 알아보는 시간을 가져보겠습니다."
      ]
    },
    {
      "cell_type": "markdown",
      "metadata": {
        "id": "eWeMH4mKNO7S"
      },
      "source": [
        "*Copyright 2021.* 퀀트대디 *This content is licensed solely for personal use. Redistribution or publication of this material is strictly prohibited.*"
      ]
    }
  ]
}