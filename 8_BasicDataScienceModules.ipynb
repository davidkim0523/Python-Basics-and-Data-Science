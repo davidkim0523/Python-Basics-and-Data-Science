{
  "nbformat": 4,
  "nbformat_minor": 0,
  "metadata": {
    "kernelspec": {
      "display_name": "Python 3",
      "language": "python",
      "name": "python3"
    },
    "nbclean": true,
    "colab": {
      "name": "8_BasicDataScienceModules.ipynb",
      "provenance": [],
      "collapsed_sections": [
        "1DXRKoiMYook"
      ]
    }
  },
  "cells": [
    {
      "cell_type": "markdown",
      "metadata": {
        "id": "VswvD7UQYooU"
      },
      "source": [
        "# 기본적인 데이터 분석 도구들: 넘파이(NumPy), 맷플랏립(Matplotlib), 판다스(Pandas)\n",
        "\n",
        "파이썬은 파워풀하고 유연한 프로그래밍 언어이지만 수학적 분석이나 데이터 시각화를 위한 도구가 내장되어 있지 않습니다. 그렇기 때문에 대부분의 데이터 분석을 위해서는 몇 가지 유용한 외부 라이브러리가 필요합니다. 이번 시간에는 데이터 분석 및 시각화에 매우 일반적인 세 ​​가지 라이브러리를 살펴보겠습니다."
      ]
    },
    {
      "cell_type": "markdown",
      "metadata": {
        "id": "tZxD8bRJYooX"
      },
      "source": [
        "## 넘파이 (NumPy)\n",
        "\n",
        "첫번째는 넘파이(NumPy)라고 불리는 녀석입니다. 넘파이의 주요 기능은 크게 세 가지라고 볼 수 있습니다.\n",
        "\n",
        "1. 수학 함수 (`sin`, `log`, `floor` 등)\n",
        "2. 랜덤 샘플링에 유용한 `random` 계열 하위 모듈\n",
        "3. 넘파이 n차원 배열 `ndarray` 객체\n",
        "\n",
        "넘파이에서 배열(array)는 수학적 의미의 $n$차원 행렬과 유사합니다. 예를 들어, 아래와 같은 행렬이 있다고 해보겠습니다.\n",
        "\n",
        "$$\\begin{bmatrix}\n",
        "    x_{11} & x_{12} & x_{13} & \\dots  & x_{1n} \\\\\n",
        "    x_{21} & x_{22} & x_{23} & \\dots  & x_{2n} \\\\\n",
        "    \\vdots & \\vdots & \\vdots & \\ddots & \\vdots \\\\\n",
        "    x_{d1} & x_{d2} & x_{d3} & \\dots  & x_{dn}\n",
        "\\end{bmatrix}$$\n",
        "\n",
        "넘파이 배열은 $1$차원, $2$차원, 그 이상의 고차원까지 가능합니다.\n",
        "여기서 중요한 점은 2차원 배열의 모든 행과 열의 길이가 동일해야 한다는 것입니다. 이는 모든 차원의 배열에 공통적으로 적용되는 사항입니다. 넘파이의 배열을 리스트와 한 번 비교해보겠습니다."
      ]
    },
    {
      "cell_type": "code",
      "metadata": {
        "id": "PPU9RfmMYooY"
      },
      "source": [
        "# to access NumPy, we have to import it\n",
        "import numpy as np"
      ],
      "execution_count": 1,
      "outputs": []
    },
    {
      "cell_type": "code",
      "metadata": {
        "id": "Ysfvhu5aYooZ",
        "colab": {
          "base_uri": "https://localhost:8080/"
        },
        "outputId": "fdc360c2-ad5d-4642-9614-00c62fd18796"
      },
      "source": [
        "list_of_lists = [[1, 2, 3], [4, 5, 6], [7, 8, 9]]\n",
        "print(list_of_lists)"
      ],
      "execution_count": 2,
      "outputs": [
        {
          "output_type": "stream",
          "name": "stdout",
          "text": [
            "[[1, 2, 3], [4, 5, 6], [7, 8, 9]]\n"
          ]
        }
      ]
    },
    {
      "cell_type": "code",
      "metadata": {
        "id": "CRUw6Q55YooZ",
        "colab": {
          "base_uri": "https://localhost:8080/"
        },
        "outputId": "397a823d-771f-4c09-82ac-1556f1037a99"
      },
      "source": [
        "an_array = np.array(list_of_lists)\n",
        "print(an_array)"
      ],
      "execution_count": 3,
      "outputs": [
        {
          "output_type": "stream",
          "name": "stdout",
          "text": [
            "[[1 2 3]\n",
            " [4 5 6]\n",
            " [7 8 9]]\n"
          ]
        }
      ]
    },
    {
      "cell_type": "code",
      "metadata": {
        "id": "m8e0vVRnYooa",
        "colab": {
          "base_uri": "https://localhost:8080/"
        },
        "outputId": "a8c31942-6708-4cba-9975-06b97a51f2d7"
      },
      "source": [
        "non_rectangular = [[1, 2], [3, 4, 5], [6, 7, 8, 9]]\n",
        "print(non_rectangular)"
      ],
      "execution_count": 4,
      "outputs": [
        {
          "output_type": "stream",
          "name": "stdout",
          "text": [
            "[[1, 2], [3, 4, 5], [6, 7, 8, 9]]\n"
          ]
        }
      ]
    },
    {
      "cell_type": "code",
      "metadata": {
        "id": "KVeGW_A4Yoob",
        "colab": {
          "base_uri": "https://localhost:8080/"
        },
        "outputId": "8119078f-3bed-40de-dd32-c43848a5ad85"
      },
      "source": [
        "non_rectangular_array = np.array(non_rectangular)\n",
        "print(non_rectangular_array)"
      ],
      "execution_count": 5,
      "outputs": [
        {
          "output_type": "stream",
          "name": "stdout",
          "text": [
            "[list([1, 2]) list([3, 4, 5]) list([6, 7, 8, 9])]\n"
          ]
        },
        {
          "output_type": "stream",
          "name": "stderr",
          "text": [
            "/usr/local/lib/python3.7/dist-packages/ipykernel_launcher.py:1: VisibleDeprecationWarning: Creating an ndarray from ragged nested sequences (which is a list-or-tuple of lists-or-tuples-or ndarrays with different lengths or shapes) is deprecated. If you meant to do this, you must specify 'dtype=object' when creating the ndarray\n",
            "  \"\"\"Entry point for launching an IPython kernel.\n"
          ]
        }
      ]
    },
    {
      "cell_type": "markdown",
      "metadata": {
        "id": "CohffYyFYoob"
      },
      "source": [
        "왜 두 번째 경우는 리스트와 배열이 다른 형태로 출력되었을까요? 이들의 모양(`shape`)과 데이터 형태(`dtype`)를 한 번 살펴보겠습니다."
      ]
    },
    {
      "cell_type": "code",
      "metadata": {
        "id": "IrqL7WULYooc",
        "colab": {
          "base_uri": "https://localhost:8080/"
        },
        "outputId": "b54bc07e-a27e-42c9-a277-d8a3b9d8feaa"
      },
      "source": [
        "print(an_array.shape, an_array.dtype)\n",
        "print(non_rectangular_array.shape, non_rectangular_array.dtype)"
      ],
      "execution_count": 6,
      "outputs": [
        {
          "output_type": "stream",
          "name": "stdout",
          "text": [
            "(3, 3) int64\n",
            "(3,) object\n"
          ]
        }
      ]
    },
    {
      "cell_type": "markdown",
      "metadata": {
        "id": "ZoQDDbKNYooc"
      },
      "source": [
        "첫 번째 경우인 `an_array`는 요소의 값들이 정수인 2차원의 3x3 배열입니다. 반면, `non_rectangular_array`는 3개의 `list` 객체를 가지고 있는 1차원의 길이가 3인 배열입니다. 이 둘의 차이에 유의할 필요가 있습니다.\n",
        "\n",
        "우리는 넘파이에 구현되어 있는 유용한 함수들을 사용해 다양한 형태의 배열을 만들 수 있습니다."
      ]
    },
    {
      "cell_type": "code",
      "metadata": {
        "id": "W8hHCW1cYood",
        "colab": {
          "base_uri": "https://localhost:8080/"
        },
        "outputId": "7e4ec4b1-bed4-422e-8210-413a9035bf04"
      },
      "source": [
        "np.linspace(1, 10, 10)"
      ],
      "execution_count": 7,
      "outputs": [
        {
          "output_type": "execute_result",
          "data": {
            "text/plain": [
              "array([ 1.,  2.,  3.,  4.,  5.,  6.,  7.,  8.,  9., 10.])"
            ]
          },
          "metadata": {},
          "execution_count": 7
        }
      ]
    },
    {
      "cell_type": "code",
      "metadata": {
        "id": "F4AItclhYood",
        "colab": {
          "base_uri": "https://localhost:8080/"
        },
        "outputId": "1859fab2-265a-4b3b-83f1-c7ff8aee2e82"
      },
      "source": [
        "np.arange(1, 10, 1)"
      ],
      "execution_count": 8,
      "outputs": [
        {
          "output_type": "execute_result",
          "data": {
            "text/plain": [
              "array([1, 2, 3, 4, 5, 6, 7, 8, 9])"
            ]
          },
          "metadata": {},
          "execution_count": 8
        }
      ]
    },
    {
      "cell_type": "code",
      "metadata": {
        "id": "M77a5c1yYood",
        "colab": {
          "base_uri": "https://localhost:8080/"
        },
        "outputId": "354f29ca-e23e-4d5f-ee7c-1b32933e4149"
      },
      "source": [
        "np.logspace(1, 10, 10)"
      ],
      "execution_count": 9,
      "outputs": [
        {
          "output_type": "execute_result",
          "data": {
            "text/plain": [
              "array([1.e+01, 1.e+02, 1.e+03, 1.e+04, 1.e+05, 1.e+06, 1.e+07, 1.e+08,\n",
              "       1.e+09, 1.e+10])"
            ]
          },
          "metadata": {},
          "execution_count": 9
        }
      ]
    },
    {
      "cell_type": "code",
      "metadata": {
        "id": "mUo0qcy0Yooe",
        "colab": {
          "base_uri": "https://localhost:8080/"
        },
        "outputId": "c15017e4-f9bb-477e-aeba-9da7452427fe"
      },
      "source": [
        "np.zeros(10)"
      ],
      "execution_count": 10,
      "outputs": [
        {
          "output_type": "execute_result",
          "data": {
            "text/plain": [
              "array([0., 0., 0., 0., 0., 0., 0., 0., 0., 0.])"
            ]
          },
          "metadata": {},
          "execution_count": 10
        }
      ]
    },
    {
      "cell_type": "code",
      "metadata": {
        "id": "KsjD4smiYooe",
        "colab": {
          "base_uri": "https://localhost:8080/"
        },
        "outputId": "d51c952e-823b-467d-9e2e-03f4f773924a"
      },
      "source": [
        "np.diag([1,2,3,4])"
      ],
      "execution_count": 11,
      "outputs": [
        {
          "output_type": "execute_result",
          "data": {
            "text/plain": [
              "array([[1, 0, 0, 0],\n",
              "       [0, 2, 0, 0],\n",
              "       [0, 0, 3, 0],\n",
              "       [0, 0, 0, 4]])"
            ]
          },
          "metadata": {},
          "execution_count": 11
        }
      ]
    },
    {
      "cell_type": "code",
      "metadata": {
        "id": "RoAxLPLvYooe",
        "colab": {
          "base_uri": "https://localhost:8080/"
        },
        "outputId": "528248bd-52b5-44c9-b6ea-1d9963150ea0"
      },
      "source": [
        "np.eye(5)"
      ],
      "execution_count": 12,
      "outputs": [
        {
          "output_type": "execute_result",
          "data": {
            "text/plain": [
              "array([[1., 0., 0., 0., 0.],\n",
              "       [0., 1., 0., 0., 0.],\n",
              "       [0., 0., 1., 0., 0.],\n",
              "       [0., 0., 0., 1., 0.],\n",
              "       [0., 0., 0., 0., 1.]])"
            ]
          },
          "metadata": {},
          "execution_count": 12
        }
      ]
    },
    {
      "cell_type": "markdown",
      "metadata": {
        "id": "37KmBj_zYoof"
      },
      "source": [
        "또한 배열 생성 후에 배열의 `dtype`을 변환할 수도 있습니다."
      ]
    },
    {
      "cell_type": "code",
      "metadata": {
        "id": "QDtXEyDRYoof",
        "colab": {
          "base_uri": "https://localhost:8080/"
        },
        "outputId": "73ba9ee9-c644-4093-e334-b50d9edd7444"
      },
      "source": [
        "print(np.logspace(1, 10, 10).dtype)\n",
        "print(np.logspace(1, 10, 10).astype(int).dtype)"
      ],
      "execution_count": 13,
      "outputs": [
        {
          "output_type": "stream",
          "name": "stdout",
          "text": [
            "float64\n",
            "int64\n"
          ]
        }
      ]
    },
    {
      "cell_type": "markdown",
      "metadata": {
        "id": "vHtEYK7FYoof"
      },
      "source": [
        "넘파이가 중요한 이유는 무엇 때문일까요? 그 이유는 배열이라는 것이 코드와 특정 계산을 위한 계산 리소스 측면에서 더 효율적이기 때문입니다. 이러한 넘파이 배열의 효율성은 넘파이가 계산 결과에 대해 연속적인 메모리 블록을 미리 할당한다는 사실에서 비롯됩니다.\n",
        "\n",
        "이러한 넘파이의 장점을 알아보기 위해 몇 가지 숫자들에 대한 수학적 연산을 한 번 해보겠습니다. 우선 모든 숫자의 합계를 계산한뒤, `list_of_lists`, `an_array` 및 `non_rectangular_array`에 필요한 코드의 차이점들을 살펴보겠습니다."
      ]
    },
    {
      "cell_type": "code",
      "metadata": {
        "id": "sCa5SptlYoof",
        "colab": {
          "base_uri": "https://localhost:8080/"
        },
        "outputId": "e527dadb-8e2c-4580-c341-b7055411e151"
      },
      "source": [
        "print(sum([sum(inner_list) for inner_list in list_of_lists]))\n",
        "print(an_array.sum())"
      ],
      "execution_count": 14,
      "outputs": [
        {
          "output_type": "stream",
          "name": "stdout",
          "text": [
            "45\n",
            "45\n"
          ]
        }
      ]
    },
    {
      "cell_type": "markdown",
      "metadata": {
        "id": "nK-A-4sGYoof"
      },
      "source": [
        "보시다시피 배열의 숫자를 합산하는 것은 리스트들의 리스트를 합산하는 것보다 훨씬 쉽습니다. 배열은 리스트의 계층 구조를 파헤칠 필요가 없기 때문입니다. 단순히 `ndarray`의 `sum` 메소드를 사용하기만 하면 됩니다. 그렇다면 이러한 기능이 `non_rectangular_array`에서도 여전히 작동할까요?"
      ]
    },
    {
      "cell_type": "code",
      "metadata": {
        "id": "wOPqEIukYoog",
        "colab": {
          "base_uri": "https://localhost:8080/"
        },
        "outputId": "ea8af80e-2c13-4bab-9425-7f55bfde947a"
      },
      "source": [
        "# what happens here?\n",
        "print(non_rectangular_array.sum())"
      ],
      "execution_count": 15,
      "outputs": [
        {
          "output_type": "stream",
          "name": "stdout",
          "text": [
            "[1, 2, 3, 4, 5, 6, 7, 8, 9]\n"
          ]
        }
      ]
    },
    {
      "cell_type": "markdown",
      "metadata": {
        "id": "qSt_fzaAYoog"
      },
      "source": [
        "이런 결과가 나온 것에 대해 우리는 `non_rectangular_array`가 `list` 객체의 1차원 배열임을 기억할 필요가 있습니다. 여기서 `sum` 메서드는 숫자들의 합산을 구하는 것이 아닌 첫 번째 리스트, 두 번째 리스트, 세 번째 리스트를 전부 합치려고 합니다. 리스트들의 합산은 결국 문자열의 접합(**concatenation**)이 됩니다."
      ]
    },
    {
      "cell_type": "code",
      "metadata": {
        "id": "So_Sni6aYoog",
        "colab": {
          "base_uri": "https://localhost:8080/"
        },
        "outputId": "b4c2799f-2514-43a5-f6f1-50f323e659e5"
      },
      "source": [
        "# concatenate three lists\n",
        "print([1, 2] + [3, 4, 5] + [6, 7, 8, 9])"
      ],
      "execution_count": 16,
      "outputs": [
        {
          "output_type": "stream",
          "name": "stdout",
          "text": [
            "[1, 2, 3, 4, 5, 6, 7, 8, 9]\n"
          ]
        }
      ]
    },
    {
      "cell_type": "markdown",
      "metadata": {
        "id": "zZ-37SY-Yoog"
      },
      "source": [
        "행이나 열을 개별적으로 합산하려고 할 때 리스트와 배열의 대비는 훨씬 더 명확해집니다."
      ]
    },
    {
      "cell_type": "code",
      "metadata": {
        "id": "FoKVs5U4Yooh",
        "colab": {
          "base_uri": "https://localhost:8080/"
        },
        "outputId": "10b89bab-71e5-41ef-e33c-187c17e78952"
      },
      "source": [
        "print('Array row sums: ', an_array.sum(axis=1))\n",
        "print('Array column sums: ', an_array.sum(axis=0))"
      ],
      "execution_count": 17,
      "outputs": [
        {
          "output_type": "stream",
          "name": "stdout",
          "text": [
            "Array row sums:  [ 6 15 24]\n",
            "Array column sums:  [12 15 18]\n"
          ]
        }
      ]
    },
    {
      "cell_type": "code",
      "metadata": {
        "id": "EtitL29PYooh",
        "colab": {
          "base_uri": "https://localhost:8080/"
        },
        "outputId": "3ad14685-caac-4774-8a40-05442e4f74bd"
      },
      "source": [
        "print('List of list row sums: ', [sum(inner_list) for inner_list in list_of_lists])\n",
        "\n",
        "def column_sum(list_of_lists):\n",
        "    running_sums = [0] * len(list_of_lists[0])\n",
        "    for inner_list in list_of_lists:\n",
        "        for i, number in enumerate(inner_list):\n",
        "            running_sums[i] += number\n",
        "            \n",
        "    return running_sums\n",
        "\n",
        "print('List of list column sums: ', column_sum(list_of_lists))"
      ],
      "execution_count": 18,
      "outputs": [
        {
          "output_type": "stream",
          "name": "stdout",
          "text": [
            "List of list row sums:  [6, 15, 24]\n",
            "List of list column sums:  [12, 15, 18]\n"
          ]
        }
      ]
    },
    {
      "cell_type": "markdown",
      "metadata": {
        "id": "xwk5j1hcYooh"
      },
      "source": [
        "일반적으로 리스트보다 배열로 수학 연산을 수행하는 것이 훨씬 더 자연스럽다는 것을 직관적으로 알 수 있습니다."
      ]
    },
    {
      "cell_type": "code",
      "metadata": {
        "id": "oKpSk1i8Yooh",
        "colab": {
          "base_uri": "https://localhost:8080/"
        },
        "outputId": "05c979dc-5bff-4a60-b930-3446633020e6"
      },
      "source": [
        "a = np.array([1, 2, 3, 4, 5])\n",
        "print(a + 5) # add a scalar\n",
        "print(a * 5) # multiply by a scalar\n",
        "print(a / 5) # divide by a scalar (note the float!)"
      ],
      "execution_count": 19,
      "outputs": [
        {
          "output_type": "stream",
          "name": "stdout",
          "text": [
            "[ 6  7  8  9 10]\n",
            "[ 5 10 15 20 25]\n",
            "[0.2 0.4 0.6 0.8 1. ]\n"
          ]
        }
      ]
    },
    {
      "cell_type": "code",
      "metadata": {
        "id": "GjN97ks9Yooi",
        "colab": {
          "base_uri": "https://localhost:8080/"
        },
        "outputId": "beb2e987-0628-432e-b1cc-71a67f6b3abf"
      },
      "source": [
        "b = a + 1\n",
        "print(a + b) # add together two arrays\n",
        "print(a * b) # multiply two arrays (element-wise)\n",
        "print(a / b.astype(float)) # divide two arrays (element-wise)"
      ],
      "execution_count": 20,
      "outputs": [
        {
          "output_type": "stream",
          "name": "stdout",
          "text": [
            "[ 3  5  7  9 11]\n",
            "[ 2  6 12 20 30]\n",
            "[0.5        0.66666667 0.75       0.8        0.83333333]\n"
          ]
        }
      ]
    },
    {
      "cell_type": "markdown",
      "metadata": {
        "id": "rhJqmciPYooi"
      },
      "source": [
        "배열은 벡터(vectors), 행렬(matrices), 텐서(tensors) 등의 역할을 하는 선형 대수학에도 사용할 수 있습니다."
      ]
    },
    {
      "cell_type": "code",
      "metadata": {
        "id": "E9kjoEGxYooi",
        "colab": {
          "base_uri": "https://localhost:8080/"
        },
        "outputId": "b45bdc78-54d3-4712-e7ad-5fa9827e44c8"
      },
      "source": [
        "print(np.dot(a, b)) # inner product of two arrays\n",
        "print(np.outer(a, b)) # outer product of two arrays"
      ],
      "execution_count": 21,
      "outputs": [
        {
          "output_type": "stream",
          "name": "stdout",
          "text": [
            "70\n",
            "[[ 2  3  4  5  6]\n",
            " [ 4  6  8 10 12]\n",
            " [ 6  9 12 15 18]\n",
            " [ 8 12 16 20 24]\n",
            " [10 15 20 25 30]]\n"
          ]
        }
      ]
    },
    {
      "cell_type": "markdown",
      "metadata": {
        "id": "FjLza3VbYooi"
      },
      "source": [
        "데이터셋 혹은 부분 데이터셋에 수학 함수들을 쉽게 적용할 수 있기 때문에 배열은 데이터를 표현하고 분석하는 측면에서 우리에게 훨씬 많은 것들을 제공합니다. 대부분의 경우에는 배열을 사용하는 데 있어 문제가 발생하지 않지만, 다만 배열의 모양과 데이터 유형에 대한 제한 사항들에 대해서는 항상 염두에 두는 것이 좋습니다.\n",
        "\n",
        "`shape` 및 `dtype`에 대한 이러한 제한 사항들로 인해 `ndarray` 객체가 일반 파이썬 `list`에 비해 훨씬 더 성능이 좋습니다. 이러한 이유는 `ndarray`의 특성에 기인하는데, 이렇게 하면 연속 메모리 저장 및 일관된 기능 조회가 가능하기 때문입니다. 파이썬 `list`를 합산하기 위해서 파이썬은 리스트의 각 요소를 더하는 올바른 방법을 먼저 파악해야 합니다. 반면 `ndarray`가 합산될 때, `NumPy`는 이미 각 요소의 유형을 알고 있고 그 유형에는 일관성이 존재하므로, 배열은 각 요소에 대한 올바른 추가 기능을 확인하지 않고 합산할 수 있습니다.\n",
        "\n",
        "이를 비교하기 위해 아래에서는 100,000개의 랜덤한 요소들의 리스트를 만든 다음 리스트와 배열의 합산시간을 측정해보겠습니다."
      ]
    },
    {
      "cell_type": "code",
      "metadata": {
        "id": "DarYBiRuYooj"
      },
      "source": [
        "time_list = [np.random.random() for _ in range(100000)]\n",
        "time_arr = np.array(time_list)"
      ],
      "execution_count": 22,
      "outputs": []
    },
    {
      "cell_type": "code",
      "metadata": {
        "id": "wC4nhEEEYooj",
        "colab": {
          "base_uri": "https://localhost:8080/"
        },
        "outputId": "d6a06d4b-7069-4e62-d75e-f63c5f9d2fac"
      },
      "source": [
        "%%timeit \n",
        "sum(time_list)"
      ],
      "execution_count": 23,
      "outputs": [
        {
          "output_type": "stream",
          "name": "stdout",
          "text": [
            "The slowest run took 6.56 times longer than the fastest. This could mean that an intermediate result is being cached.\n",
            "1000 loops, best of 5: 457 µs per loop\n"
          ]
        }
      ]
    },
    {
      "cell_type": "code",
      "metadata": {
        "id": "sP1QVt4hYook",
        "colab": {
          "base_uri": "https://localhost:8080/"
        },
        "outputId": "769fd226-92ef-49c6-8235-2137599145ae"
      },
      "source": [
        "%%timeit\n",
        "np.sum(time_arr)"
      ],
      "execution_count": 24,
      "outputs": [
        {
          "output_type": "stream",
          "name": "stdout",
          "text": [
            "The slowest run took 6.17 times longer than the fastest. This could mean that an intermediate result is being cached.\n",
            "10000 loops, best of 5: 41 µs per loop\n"
          ]
        }
      ]
    },
    {
      "cell_type": "markdown",
      "metadata": {
        "id": "1DXRKoiMYook"
      },
      "source": [
        "### 범용 함수 (Universal functions)\n",
        "\n",
        "`NumPy`는 범용 함수(`ufunc`)를 정의하여 배열에서 함수를 효율적으로 실행할 수 있도록 합니다. `np.cos`와 같은 이러한 기능들의 많은 부분들이 내장되어 있으며, 이는 고성능으로 컴파일된 `C` 언어로 구현되어 있습니다. 이러한 함수들은 브로드캐스팅(`broadcasting`)을 수행하여 서로 다른 두 배열 간의 작업을 자동으로 처리할 수 있게 합니다."
      ]
    },
    {
      "cell_type": "markdown",
      "metadata": {
        "id": "BNhiXGeCYook"
      },
      "source": [
        "### 모양 바꾸기 (Changing Shape)\n",
        "\n",
        "종종 우리는 특정 작업에 더 적합하도록 하기 위해 어떤 모양의 배열을 그것과 다른 모양으로 바꾸고 싶을 때가 있습니다. 이럴 때는 넘파이의 `reshape` 메서드를 사용하여 배열의 모양을 바꿀 수 있습니다."
      ]
    },
    {
      "cell_type": "code",
      "metadata": {
        "id": "yGBigDL1Yook"
      },
      "source": [
        "mat = np.random.rand(20, 10)"
      ],
      "execution_count": 25,
      "outputs": []
    },
    {
      "cell_type": "code",
      "metadata": {
        "id": "kAuU_PdhYook",
        "colab": {
          "base_uri": "https://localhost:8080/"
        },
        "outputId": "141308df-c600-40cf-f186-29910637275b"
      },
      "source": [
        "mat.reshape(40, 5).shape"
      ],
      "execution_count": 26,
      "outputs": [
        {
          "output_type": "execute_result",
          "data": {
            "text/plain": [
              "(40, 5)"
            ]
          },
          "metadata": {},
          "execution_count": 26
        }
      ]
    },
    {
      "cell_type": "code",
      "metadata": {
        "id": "DqHQ7t21Yook",
        "colab": {
          "base_uri": "https://localhost:8080/",
          "height": 169
        },
        "outputId": "e0096bc2-1b2c-4658-feba-ddcba410792c"
      },
      "source": [
        "mat.reshape(30, 5)"
      ],
      "execution_count": 27,
      "outputs": [
        {
          "output_type": "error",
          "ename": "ValueError",
          "evalue": "ignored",
          "traceback": [
            "\u001b[0;31m---------------------------------------------------------------------------\u001b[0m",
            "\u001b[0;31mValueError\u001b[0m                                Traceback (most recent call last)",
            "\u001b[0;32m<ipython-input-27-61df77923c88>\u001b[0m in \u001b[0;36m<module>\u001b[0;34m()\u001b[0m\n\u001b[0;32m----> 1\u001b[0;31m \u001b[0mmat\u001b[0m\u001b[0;34m.\u001b[0m\u001b[0mreshape\u001b[0m\u001b[0;34m(\u001b[0m\u001b[0;36m30\u001b[0m\u001b[0;34m,\u001b[0m \u001b[0;36m5\u001b[0m\u001b[0;34m)\u001b[0m\u001b[0;34m\u001b[0m\u001b[0;34m\u001b[0m\u001b[0m\n\u001b[0m",
            "\u001b[0;31mValueError\u001b[0m: cannot reshape array of size 200 into shape (30,5)"
          ]
        }
      ]
    },
    {
      "cell_type": "code",
      "metadata": {
        "id": "Fbwexd5fYool",
        "colab": {
          "base_uri": "https://localhost:8080/"
        },
        "outputId": "85b375a5-b5d8-4ef1-e93b-d654a52ab7f0"
      },
      "source": [
        "mat.ravel().shape"
      ],
      "execution_count": 28,
      "outputs": [
        {
          "output_type": "execute_result",
          "data": {
            "text/plain": [
              "(200,)"
            ]
          },
          "metadata": {},
          "execution_count": 28
        }
      ]
    },
    {
      "cell_type": "code",
      "metadata": {
        "id": "ui4y53f4Yool",
        "colab": {
          "base_uri": "https://localhost:8080/"
        },
        "outputId": "46cd4cd5-2076-4b2a-d45b-897519e9c038"
      },
      "source": [
        "mat.transpose().shape"
      ],
      "execution_count": 29,
      "outputs": [
        {
          "output_type": "execute_result",
          "data": {
            "text/plain": [
              "(10, 20)"
            ]
          },
          "metadata": {},
          "execution_count": 29
        }
      ]
    },
    {
      "cell_type": "markdown",
      "metadata": {
        "id": "JDQqLLilYool"
      },
      "source": [
        "### 배열 합치기 (Combining arrays)"
      ]
    },
    {
      "cell_type": "code",
      "metadata": {
        "id": "DyDgbkxSYool",
        "colab": {
          "base_uri": "https://localhost:8080/"
        },
        "outputId": "a2278630-14f6-4e63-ae83-1d63a556e100"
      },
      "source": [
        "print(a)\n",
        "print(b)"
      ],
      "execution_count": 30,
      "outputs": [
        {
          "output_type": "stream",
          "name": "stdout",
          "text": [
            "[1 2 3 4 5]\n",
            "[2 3 4 5 6]\n"
          ]
        }
      ]
    },
    {
      "cell_type": "code",
      "metadata": {
        "id": "lsSCQ1vrYool",
        "colab": {
          "base_uri": "https://localhost:8080/"
        },
        "outputId": "8f2c0bbd-7fe0-450d-f435-cb12c8a44dd2"
      },
      "source": [
        "np.hstack((a, b))"
      ],
      "execution_count": 31,
      "outputs": [
        {
          "output_type": "execute_result",
          "data": {
            "text/plain": [
              "array([1, 2, 3, 4, 5, 2, 3, 4, 5, 6])"
            ]
          },
          "metadata": {},
          "execution_count": 31
        }
      ]
    },
    {
      "cell_type": "code",
      "metadata": {
        "id": "LjBFVWVeYoom",
        "colab": {
          "base_uri": "https://localhost:8080/"
        },
        "outputId": "91466cd1-9fa5-482b-df6e-50ccd173916a"
      },
      "source": [
        "np.vstack((a, b))"
      ],
      "execution_count": 32,
      "outputs": [
        {
          "output_type": "execute_result",
          "data": {
            "text/plain": [
              "array([[1, 2, 3, 4, 5],\n",
              "       [2, 3, 4, 5, 6]])"
            ]
          },
          "metadata": {},
          "execution_count": 32
        }
      ]
    },
    {
      "cell_type": "code",
      "metadata": {
        "id": "2dKKneBYYoom",
        "colab": {
          "base_uri": "https://localhost:8080/"
        },
        "outputId": "4cb298d6-51c2-4021-a74a-5bf5dda37242"
      },
      "source": [
        "np.dstack((a, b))"
      ],
      "execution_count": 33,
      "outputs": [
        {
          "output_type": "execute_result",
          "data": {
            "text/plain": [
              "array([[[1, 2],\n",
              "        [2, 3],\n",
              "        [3, 4],\n",
              "        [4, 5],\n",
              "        [5, 6]]])"
            ]
          },
          "metadata": {},
          "execution_count": 33
        }
      ]
    },
    {
      "cell_type": "markdown",
      "metadata": {
        "id": "HgCwFfJGYoom"
      },
      "source": [
        "### 기본적인 데이터 집계\n",
        "\n",
        "배열을 사용하는 몇 가지 예를 더 살펴보겠습니다. 이번에는 넘파이의 `random`이라는 하위 모듈을 사용하여 가상의 데이터를 생성해보겠습니다. 데이터 시뮬레이션은 새로운 기술이나 코드를 테스트하고 프로토타입을 만드는 데 유용합니다. 또한 일부 알고리즘의 경우에는 무작위적인 입력변수가 필요하기도 합니다."
      ]
    },
    {
      "cell_type": "code",
      "metadata": {
        "id": "IV6-JgIDYoom",
        "colab": {
          "base_uri": "https://localhost:8080/"
        },
        "outputId": "2406087a-4f16-4d81-c073-0f20b3c4d066"
      },
      "source": [
        "np.random.seed(42)\n",
        "jan_coffee_sales = np.random.randint(25, 200, size=(4, 7))\n",
        "print(jan_coffee_sales)"
      ],
      "execution_count": 34,
      "outputs": [
        {
          "output_type": "stream",
          "name": "stdout",
          "text": [
            "[[127 117  39 131  96  45 127]\n",
            " [146  99 112 141 124 128 176]\n",
            " [155 174  77  26 112 182  62]\n",
            " [154  45 185  82  46 113  73]]\n"
          ]
        }
      ]
    },
    {
      "cell_type": "code",
      "metadata": {
        "id": "G5bqETbTYoom",
        "colab": {
          "base_uri": "https://localhost:8080/"
        },
        "outputId": "93a9dc70-6a7e-43fd-c6f1-7c94e369b52d"
      },
      "source": [
        "# mean sales\n",
        "print('Mean coffees sold per day in January: %d' % jan_coffee_sales.mean())"
      ],
      "execution_count": 35,
      "outputs": [
        {
          "output_type": "stream",
          "name": "stdout",
          "text": [
            "Mean coffees sold per day in January: 110\n"
          ]
        }
      ]
    },
    {
      "cell_type": "code",
      "metadata": {
        "id": "BdYu-SeCYoom",
        "colab": {
          "base_uri": "https://localhost:8080/"
        },
        "outputId": "6eedae20-a6b9-4fac-e9c6-3df556ca6d35"
      },
      "source": [
        "# mean sales for Monday\n",
        "print('Mean coffees sold on Monday in January: %d' % jan_coffee_sales[:, 1].mean())"
      ],
      "execution_count": 36,
      "outputs": [
        {
          "output_type": "stream",
          "name": "stdout",
          "text": [
            "Mean coffees sold on Monday in January: 108\n"
          ]
        }
      ]
    },
    {
      "cell_type": "code",
      "metadata": {
        "id": "zjwl_dDUYoon",
        "colab": {
          "base_uri": "https://localhost:8080/"
        },
        "outputId": "3733768d-f97d-4434-d8ec-3e755de02bd9"
      },
      "source": [
        "# day with most sales\n",
        "# remember we count dates from 1, not 0!\n",
        "print('Day with highest sales was January %d' % (jan_coffee_sales.argmax() + 1))"
      ],
      "execution_count": 37,
      "outputs": [
        {
          "output_type": "stream",
          "name": "stdout",
          "text": [
            "Day with highest sales was January 24\n"
          ]
        }
      ]
    },
    {
      "cell_type": "code",
      "metadata": {
        "id": "BaQwBpYHYoon",
        "colab": {
          "base_uri": "https://localhost:8080/"
        },
        "outputId": "be684948-b733-4764-e75b-7fdaaf06cce2"
      },
      "source": [
        "# is there a weekly periodicity?\n",
        "from fractions import Fraction\n",
        "\n",
        "normalized_sales = (jan_coffee_sales - jan_coffee_sales.mean()) / abs(jan_coffee_sales - jan_coffee_sales.mean()).max()\n",
        "frequencies = [Fraction.from_float(f).limit_denominator() for f in np.fft.fftfreq(normalized_sales.size)]\n",
        "power = np.abs(np.fft.fft(normalized_sales.ravel()))**2\n",
        "list(zip(frequencies, power))[:len(power) // 2]"
      ],
      "execution_count": 38,
      "outputs": [
        {
          "output_type": "execute_result",
          "data": {
            "text/plain": [
              "[(Fraction(0, 1), 4.930380657631324e-32),\n",
              " (Fraction(1, 28), 11.81850804066758),\n",
              " (Fraction(1, 14), 3.0624177128282795),\n",
              " (Fraction(3, 28), 3.6145035763808577),\n",
              " (Fraction(1, 7), 8.992489334676053),\n",
              " (Fraction(5, 28), 3.689054592513946),\n",
              " (Fraction(3, 14), 8.363267066546037),\n",
              " (Fraction(1, 4), 16.615944819859244),\n",
              " (Fraction(2, 7), 0.6736105397207648),\n",
              " (Fraction(9, 28), 6.846412421396466),\n",
              " (Fraction(5, 14), 14.279717692527935),\n",
              " (Fraction(11, 28), 17.951272090034657),\n",
              " (Fraction(3, 7), 4.608890497088778),\n",
              " (Fraction(13, 28), 6.579601542582696)]"
            ]
          },
          "metadata": {},
          "execution_count": 38
        }
      ]
    },
    {
      "cell_type": "markdown",
      "metadata": {
        "id": "hMObJx2tYoon"
      },
      "source": [
        "위에서 사용한 함수들 중 일부는 표준 파이썬에 존재하지는 않으나 넘파이는 이를 제공하고 있습니다. 또한 우리는 배열의 모양을 사용하여 데이터 하위 집합에 대한 통계(예: 월요일에 판매된 평균 커피 수)를 계산할 수도 있습니다. \n",
        "\n",
        "다음 섹션에서는 파이썬에서 시각화를 하기 위해 사용되는 대표적인 라이브러리인 맷플랏립에 대해 알아보겠습니다."
      ]
    },
    {
      "cell_type": "markdown",
      "metadata": {
        "id": "e3ndtHU6Yoon"
      },
      "source": [
        "## 맷플랏립 (Matplotlib)\n",
        "\n",
        "맷플랏립은 가장 널리 사용되는 파이썬 시각화 라이브러리입니다. 이 라이브러리는 다양한 유형의 그래프(예: 막대, 산포, 선 등)를 제공하여 데이터를 빠르게 시각화하도록 합니다. 또한 그림 내에서 여러 이미지 또는 이미지 구성 요소를 배열하는 데 유용한 도구를 제공하므로, 우리는 필요에 따라 보다 복잡한 시각화 결과물을 생성할 수도 있습니다.\n",
        "\n",
        "그렇다면 한 번 데이터들을 시각화해보겠습니다. 다음 셀들에서는 몇 가지 데이터를 생성하고 시각화하는 작업을 수행해보겠습니다. 여기서는 데이터가 만들어지는 방식보다는 데이터가 어떻게 시각화되는지에 대해 초점을 맞출 것입니다. "
      ]
    },
    {
      "cell_type": "code",
      "metadata": {
        "id": "OM0CM2yvYoon"
      },
      "source": [
        "import matplotlib.pyplot as plt"
      ],
      "execution_count": 39,
      "outputs": []
    },
    {
      "cell_type": "code",
      "metadata": {
        "id": "d3rG2NmvYoon",
        "colab": {
          "base_uri": "https://localhost:8080/",
          "height": 295
        },
        "outputId": "fc1701dd-6668-4b34-ca22-86496fe2731c"
      },
      "source": [
        "def gen_stock_price(days, initial_price):\n",
        "    # stock price grows or shrinks linearly\n",
        "    # not exceeding 10% per year (heuristic)\n",
        "    trend = initial_price * (np.arange(days) * .1 / 365 * np.random.rand() * np.random.choice([1, -1]) + 1)\n",
        "    # noise will be about 2%\n",
        "    noise = .02 * np.random.randn(len(trend)) * trend\n",
        "    return trend + noise\n",
        "\n",
        "days = 365\n",
        "initial_prices = [80, 70, 65]\n",
        "for price in initial_prices:\n",
        "    plt.plot(np.arange(-days, 0), gen_stock_price(days, price))\n",
        "plt.title('Stock price history for last %d days' % days)\n",
        "plt.xlabel('Time (days)')\n",
        "plt.ylabel('Price (USD)')\n",
        "plt.legend(['Company A', 'Company B', 'Company C']);"
      ],
      "execution_count": 40,
      "outputs": [
        {
          "output_type": "display_data",
          "data": {
            "image/png": "[encoded data removed]",
            "text/plain": [
              "<Figure size 432x288 with 1 Axes>"
            ]
          },
          "metadata": {
            "needs_background": "light"
          }
        }
      ]
    },
    {
      "cell_type": "code",
      "metadata": {
        "id": "5D0-2X4cYooo",
        "colab": {
          "base_uri": "https://localhost:8080/",
          "height": 431
        },
        "outputId": "18fad5a1-7e24-4592-86b1-e066e49ebbcb"
      },
      "source": [
        "from scipy.stats import linregress\n",
        "\n",
        "def gen_football_team(n_players, mean_shoe, mean_jersey):\n",
        "    shoe_sizes = np.random.normal(size=n_players, loc=mean_shoe, scale=.15 * mean_shoe)\n",
        "    jersey_sizes = mean_jersey / mean_shoe * shoe_sizes + np.random.normal(size=n_players, scale=.05 * mean_jersey)\n",
        "\n",
        "    return shoe_sizes, jersey_sizes\n",
        "\n",
        "shoes, jerseys = gen_football_team(16, 11, 100)\n",
        "\n",
        "fig = plt.figure(figsize=(12, 6))\n",
        "fig.suptitle('Football team equipment profile')\n",
        "\n",
        "ax1 = plt.subplot(221)\n",
        "ax1.hist(shoes)\n",
        "ax1.set_xlabel('Shoe size')\n",
        "ax1.set_ylabel('Counts')\n",
        "\n",
        "ax2 = plt.subplot(223)\n",
        "ax2.hist(jerseys)\n",
        "ax2.set_xlabel('Chest size (cm)')\n",
        "ax2.set_ylabel('Counts')\n",
        "\n",
        "ax3 = plt.subplot(122)\n",
        "ax3.scatter(shoes, jerseys, label='Data')\n",
        "ax3.set_xlabel('Shoe size')\n",
        "ax3.set_ylabel('Chest size (cm)')\n",
        "\n",
        "fit_line = linregress(shoes, jerseys)\n",
        "ax3.plot(shoes, fit_line[1] + fit_line[0] * shoes, 'r', label='Line of best fit')\n",
        "\n",
        "handles, labels = ax3.get_legend_handles_labels()\n",
        "ax3.legend(handles[::-1], labels[::-1]);"
      ],
      "execution_count": 41,
      "outputs": [
        {
          "output_type": "display_data",
          "data": {
            "image/png": "[encoded data removed]",
            "text/plain": [
              "<Figure size 864x432 with 3 Axes>"
            ]
          },
          "metadata": {
            "needs_background": "light"
          }
        }
      ]
    },
    {
      "cell_type": "code",
      "metadata": {
        "id": "kfZsQKA1Yooo",
        "colab": {
          "base_uri": "https://localhost:8080/",
          "height": 295
        },
        "outputId": "14fbaa7c-6553-48df-c0d6-4c03a3fa901b"
      },
      "source": [
        "def gen_hourly_temps(days):\n",
        "    ndays = len(days)\n",
        "    seasonality = (-15 * np.cos((np.array(days) - 30) * 2.0 * np.pi / 365)).repeat(24) + 10\n",
        "    solar = -3 * np.cos(np.arange(24 * ndays) * 2.0 * np.pi / 24)\n",
        "    weather = np.interp(range(len(days) * 24), range(0, 24 * len(days), 24 * 2), 3 * np.random.randn(np.ceil(float(len(days)) / 2).astype(int)))\n",
        "    noise = .5 * np.random.randn(24 * len(days))\n",
        "\n",
        "    return seasonality + solar + weather + noise\n",
        "\n",
        "days = np.arange(365)\n",
        "hours = np.arange(days[0] * 24, (days[-1] + 1) * 24)\n",
        "plt.plot(hours, gen_hourly_temps(days))\n",
        "plt.title('Hourly temperatures')\n",
        "plt.xlabel('Time (hours since Jan. 1)')\n",
        "plt.ylabel('Temperature (C)');"
      ],
      "execution_count": 42,
      "outputs": [
        {
          "output_type": "display_data",
          "data": {
            "image/png": "[encoded data removed]",
            "text/plain": [
              "<Figure size 432x288 with 1 Axes>"
            ]
          },
          "metadata": {
            "needs_background": "light"
          }
        }
      ]
    },
    {
      "cell_type": "markdown",
      "metadata": {
        "id": "WylM6I3XYooo"
      },
      "source": [
        "맷플랏립 패키지는 매우 유연하며 사실 이를 활용한 데이터 시각화의 가능성은 거의 무한대에 가깝습니다. 맷플랏립 및 기타 데이터 시각화 패키지를 탐색하는 좋은 방법은 이를 활용한 예시들이 있는 [갤러리 페이지](https://matplotlib.org/gallery.html)를 참고하는 것입니다."
      ]
    },
    {
      "cell_type": "markdown",
      "metadata": {
        "id": "ddEMfxr7Yooo"
      },
      "source": [
        "# 판다스 (Pandas)\n",
        "\n",
        "넘파이는 전체 데이터셋에 특정 함수를 효율적으로 적용하거나 그 일부를 선택할 수 있게 해주기 때문에 데이터 처리에 유용합니다. 그러나 넘파이의 경우 다른 배열에 저장되어 있는 연관 데이터를 추적하거나 배열에 저장된 데이터들의 의미를 직관적으로 알아내는 것이 쉽지 않습니다.\n",
        "\n",
        "예를 들어, 이전 섹션에서는 신발 사이즈에 대한 1차원 배열과 저지 사이즈에 대한 1차원 배열이 있었습니다. 문제는 만약 특정 선수의 신발과 저지 사이즈를 조회하고 싶다면 각 배열에서 그것들의 위치를 정확히 기억해야 한다는 점입니다.\n",
        "\n",
        "혹은 또 다른 예시로써 우리는 2개의 1차원 배열을 결합하여 `n_players` 행과 2개의 열(신발 사이즈용, 저지 사이즈용)이 있는 2차원 어레이를 만들 수도 있습니다. 하지만 만약 데이터를 결합하게 되면, 이제 또다시 우리는 어떤 열이 신발 사이즈이고 어떤 열이 저지 사이즈인지 기억해야만 합니다.\n",
        "\n",
        "이러한 문제들을 해결하기 위해 판다스 패키지는 파이썬에서 데이터 작업을 위한 매우 강력한 도구인 `DataFrame`을 소개합니다. `DataFrame`은 쉽게 말해 테이블, 즉 표입니다. 각 열은 다른 유형의 데이터를 나타냅니다. 우리는 이를 필드(**field**)라고 부르기도 합니다. 열에 이름을 지정할 수 있으므로 `shoe_size`라는 열과 `jersey_size`라는 열이 있을 수 있습니다. 판다스의 좋은 점은 이름으로 참조할 수 있기 때문에 어느 열이 어느 것인지 기억할 필요가 없다는 것입니다. 각각의 행은 다른 레코드(**record**) 또는 엔티티(**entity**)(예: 플레이어)를 나타냅니다. 판다스에서는 행의 이름도 지정할 수 있으므로 내 배열의 어느 행이 호나우지뉴와 일치하는지 기억하는 대신 행의 이름을 '호나우지뉴'로 지정하고 그의 신발 사이즈와 저지 사이즈를 이름으로 조회할 수 있습니다."
      ]
    },
    {
      "cell_type": "code",
      "metadata": {
        "id": "lFSowQ3JYooo",
        "colab": {
          "base_uri": "https://localhost:8080/",
          "height": 480
        },
        "outputId": "17100735-19db-4b87-add5-8c7a68ce1815"
      },
      "source": [
        "import pandas as pd\n",
        "\n",
        "players = ['Ronaldinho', 'Pele', 'Lionel Messi', 'Zinedine Zidane', 'Didier Drogba', 'Ronaldo', 'Yaya Toure', \n",
        "           'Frank Rijkaard', 'Diego Maradona', 'Mohamed Aboutrika', \"Samuel Eto'o\", 'George Best', 'George Weah', \n",
        "           'Roberto Donadoni']\n",
        "shoes, jerseys = gen_football_team(len(players), 10, 100)\n",
        "\n",
        "df = pd.DataFrame({'shoe_size': shoes, 'jersey_size': jerseys}, index = players)\n",
        "\n",
        "df"
      ],
      "execution_count": 43,
      "outputs": [
        {
          "output_type": "execute_result",
          "data": {
            "text/html": [
              "<div>\n",
              "<style scoped>\n",
              "    .dataframe tbody tr th:only-of-type {\n",
              "        vertical-align: middle;\n",
              "    }\n",
              "\n",
              "    .dataframe tbody tr th {\n",
              "        vertical-align: top;\n",
              "    }\n",
              "\n",
              "    .dataframe thead th {\n",
              "        text-align: right;\n",
              "    }\n",
              "</style>\n",
              "<table border=\"1\" class=\"dataframe\">\n",
              "  <thead>\n",
              "    <tr style=\"text-align: right;\">\n",
              "      <th></th>\n",
              "      <th>shoe_size</th>\n",
              "      <th>jersey_size</th>\n",
              "    </tr>\n",
              "  </thead>\n",
              "  <tbody>\n",
              "    <tr>\n",
              "      <th>Ronaldinho</th>\n",
              "      <td>8.547275</td>\n",
              "      <td>92.500983</td>\n",
              "    </tr>\n",
              "    <tr>\n",
              "      <th>Pele</th>\n",
              "      <td>7.927346</td>\n",
              "      <td>80.277155</td>\n",
              "    </tr>\n",
              "    <tr>\n",
              "      <th>Lionel Messi</th>\n",
              "      <td>11.155075</td>\n",
              "      <td>101.037748</td>\n",
              "    </tr>\n",
              "    <tr>\n",
              "      <th>Zinedine Zidane</th>\n",
              "      <td>12.259221</td>\n",
              "      <td>119.224510</td>\n",
              "    </tr>\n",
              "    <tr>\n",
              "      <th>Didier Drogba</th>\n",
              "      <td>9.341725</td>\n",
              "      <td>89.126170</td>\n",
              "    </tr>\n",
              "    <tr>\n",
              "      <th>Ronaldo</th>\n",
              "      <td>8.291408</td>\n",
              "      <td>80.182757</td>\n",
              "    </tr>\n",
              "    <tr>\n",
              "      <th>Yaya Toure</th>\n",
              "      <td>6.312746</td>\n",
              "      <td>65.942012</td>\n",
              "    </tr>\n",
              "    <tr>\n",
              "      <th>Frank Rijkaard</th>\n",
              "      <td>8.528853</td>\n",
              "      <td>84.751303</td>\n",
              "    </tr>\n",
              "    <tr>\n",
              "      <th>Diego Maradona</th>\n",
              "      <td>9.829515</td>\n",
              "      <td>97.910820</td>\n",
              "    </tr>\n",
              "    <tr>\n",
              "      <th>Mohamed Aboutrika</th>\n",
              "      <td>12.398685</td>\n",
              "      <td>130.554214</td>\n",
              "    </tr>\n",
              "    <tr>\n",
              "      <th>Samuel Eto'o</th>\n",
              "      <td>11.009701</td>\n",
              "      <td>106.614700</td>\n",
              "    </tr>\n",
              "    <tr>\n",
              "      <th>George Best</th>\n",
              "      <td>10.457628</td>\n",
              "      <td>113.897279</td>\n",
              "    </tr>\n",
              "    <tr>\n",
              "      <th>George Weah</th>\n",
              "      <td>9.399821</td>\n",
              "      <td>90.641667</td>\n",
              "    </tr>\n",
              "    <tr>\n",
              "      <th>Roberto Donadoni</th>\n",
              "      <td>9.125251</td>\n",
              "      <td>91.698505</td>\n",
              "    </tr>\n",
              "  </tbody>\n",
              "</table>\n",
              "</div>"
            ],
            "text/plain": [
              "                   shoe_size  jersey_size\n",
              "Ronaldinho          8.547275    92.500983\n",
              "Pele                7.927346    80.277155\n",
              "Lionel Messi       11.155075   101.037748\n",
              "Zinedine Zidane    12.259221   119.224510\n",
              "Didier Drogba       9.341725    89.126170\n",
              "Ronaldo             8.291408    80.182757\n",
              "Yaya Toure          6.312746    65.942012\n",
              "Frank Rijkaard      8.528853    84.751303\n",
              "Diego Maradona      9.829515    97.910820\n",
              "Mohamed Aboutrika  12.398685   130.554214\n",
              "Samuel Eto'o       11.009701   106.614700\n",
              "George Best        10.457628   113.897279\n",
              "George Weah         9.399821    90.641667\n",
              "Roberto Donadoni    9.125251    91.698505"
            ]
          },
          "metadata": {},
          "execution_count": 43
        }
      ]
    },
    {
      "cell_type": "code",
      "metadata": {
        "id": "merm_pIKYoop",
        "colab": {
          "base_uri": "https://localhost:8080/",
          "height": 480
        },
        "outputId": "134c0d6f-a9d5-4cdb-8928-976d7cc8c16b"
      },
      "source": [
        "# we can also make a dataframe using zip\n",
        "\n",
        "df = pd.DataFrame(list(zip(shoes, jerseys)), columns = ['shoe_size', 'jersey_size'], index = players)\n",
        "\n",
        "df"
      ],
      "execution_count": 44,
      "outputs": [
        {
          "output_type": "execute_result",
          "data": {
            "text/html": [
              "<div>\n",
              "<style scoped>\n",
              "    .dataframe tbody tr th:only-of-type {\n",
              "        vertical-align: middle;\n",
              "    }\n",
              "\n",
              "    .dataframe tbody tr th {\n",
              "        vertical-align: top;\n",
              "    }\n",
              "\n",
              "    .dataframe thead th {\n",
              "        text-align: right;\n",
              "    }\n",
              "</style>\n",
              "<table border=\"1\" class=\"dataframe\">\n",
              "  <thead>\n",
              "    <tr style=\"text-align: right;\">\n",
              "      <th></th>\n",
              "      <th>shoe_size</th>\n",
              "      <th>jersey_size</th>\n",
              "    </tr>\n",
              "  </thead>\n",
              "  <tbody>\n",
              "    <tr>\n",
              "      <th>Ronaldinho</th>\n",
              "      <td>8.547275</td>\n",
              "      <td>92.500983</td>\n",
              "    </tr>\n",
              "    <tr>\n",
              "      <th>Pele</th>\n",
              "      <td>7.927346</td>\n",
              "      <td>80.277155</td>\n",
              "    </tr>\n",
              "    <tr>\n",
              "      <th>Lionel Messi</th>\n",
              "      <td>11.155075</td>\n",
              "      <td>101.037748</td>\n",
              "    </tr>\n",
              "    <tr>\n",
              "      <th>Zinedine Zidane</th>\n",
              "      <td>12.259221</td>\n",
              "      <td>119.224510</td>\n",
              "    </tr>\n",
              "    <tr>\n",
              "      <th>Didier Drogba</th>\n",
              "      <td>9.341725</td>\n",
              "      <td>89.126170</td>\n",
              "    </tr>\n",
              "    <tr>\n",
              "      <th>Ronaldo</th>\n",
              "      <td>8.291408</td>\n",
              "      <td>80.182757</td>\n",
              "    </tr>\n",
              "    <tr>\n",
              "      <th>Yaya Toure</th>\n",
              "      <td>6.312746</td>\n",
              "      <td>65.942012</td>\n",
              "    </tr>\n",
              "    <tr>\n",
              "      <th>Frank Rijkaard</th>\n",
              "      <td>8.528853</td>\n",
              "      <td>84.751303</td>\n",
              "    </tr>\n",
              "    <tr>\n",
              "      <th>Diego Maradona</th>\n",
              "      <td>9.829515</td>\n",
              "      <td>97.910820</td>\n",
              "    </tr>\n",
              "    <tr>\n",
              "      <th>Mohamed Aboutrika</th>\n",
              "      <td>12.398685</td>\n",
              "      <td>130.554214</td>\n",
              "    </tr>\n",
              "    <tr>\n",
              "      <th>Samuel Eto'o</th>\n",
              "      <td>11.009701</td>\n",
              "      <td>106.614700</td>\n",
              "    </tr>\n",
              "    <tr>\n",
              "      <th>George Best</th>\n",
              "      <td>10.457628</td>\n",
              "      <td>113.897279</td>\n",
              "    </tr>\n",
              "    <tr>\n",
              "      <th>George Weah</th>\n",
              "      <td>9.399821</td>\n",
              "      <td>90.641667</td>\n",
              "    </tr>\n",
              "    <tr>\n",
              "      <th>Roberto Donadoni</th>\n",
              "      <td>9.125251</td>\n",
              "      <td>91.698505</td>\n",
              "    </tr>\n",
              "  </tbody>\n",
              "</table>\n",
              "</div>"
            ],
            "text/plain": [
              "                   shoe_size  jersey_size\n",
              "Ronaldinho          8.547275    92.500983\n",
              "Pele                7.927346    80.277155\n",
              "Lionel Messi       11.155075   101.037748\n",
              "Zinedine Zidane    12.259221   119.224510\n",
              "Didier Drogba       9.341725    89.126170\n",
              "Ronaldo             8.291408    80.182757\n",
              "Yaya Toure          6.312746    65.942012\n",
              "Frank Rijkaard      8.528853    84.751303\n",
              "Diego Maradona      9.829515    97.910820\n",
              "Mohamed Aboutrika  12.398685   130.554214\n",
              "Samuel Eto'o       11.009701   106.614700\n",
              "George Best        10.457628   113.897279\n",
              "George Weah         9.399821    90.641667\n",
              "Roberto Donadoni    9.125251    91.698505"
            ]
          },
          "metadata": {},
          "execution_count": 44
        }
      ]
    },
    {
      "cell_type": "markdown",
      "metadata": {
        "id": "182XHCHyYoop"
      },
      "source": [
        "데이터프레임은 `dict` 혹은 넘파이의 `ndarray`와 유사합니다. 예를 들어, 딕셔너리에서 키를 사용해 항목을 검색하는 것처럼 데이터프레임에서는 이름을  사용하여 열을 검색할 수 있습니다."
      ]
    },
    {
      "cell_type": "code",
      "metadata": {
        "id": "JkCVBHg3Yoop",
        "colab": {
          "base_uri": "https://localhost:8080/"
        },
        "outputId": "d66767db-7100-4a1e-bd99-0c417f7b84ad"
      },
      "source": [
        "print(df['shoe_size'])"
      ],
      "execution_count": 45,
      "outputs": [
        {
          "output_type": "stream",
          "name": "stdout",
          "text": [
            "Ronaldinho            8.547275\n",
            "Pele                  7.927346\n",
            "Lionel Messi         11.155075\n",
            "Zinedine Zidane      12.259221\n",
            "Didier Drogba         9.341725\n",
            "Ronaldo               8.291408\n",
            "Yaya Toure            6.312746\n",
            "Frank Rijkaard        8.528853\n",
            "Diego Maradona        9.829515\n",
            "Mohamed Aboutrika    12.398685\n",
            "Samuel Eto'o         11.009701\n",
            "George Best          10.457628\n",
            "George Weah           9.399821\n",
            "Roberto Donadoni      9.125251\n",
            "Name: shoe_size, dtype: float64\n"
          ]
        }
      ]
    },
    {
      "cell_type": "markdown",
      "metadata": {
        "id": "IQBGLsaQYoop"
      },
      "source": [
        "그리고 넘파이 배열과 마찬가지로 쉽게 데이터프레임에 함수를 적용할 수 있습니다."
      ]
    },
    {
      "cell_type": "code",
      "metadata": {
        "id": "ujknZCvTYoop",
        "colab": {
          "base_uri": "https://localhost:8080/"
        },
        "outputId": "99d7dd38-34fb-4fc2-979f-5f4e1adf69f3"
      },
      "source": [
        "print(np.log(df))"
      ],
      "execution_count": 46,
      "outputs": [
        {
          "output_type": "stream",
          "name": "stdout",
          "text": [
            "                   shoe_size  jersey_size\n",
            "Ronaldinho          2.145612     4.527219\n",
            "Pele                2.070318     4.385485\n",
            "Lionel Messi        2.411895     4.615494\n",
            "Zinedine Zidane     2.506278     4.781008\n",
            "Didier Drogba       2.234491     4.490053\n",
            "Ronaldo             2.115220     4.384308\n",
            "Yaya Toure          1.842571     4.188776\n",
            "Frank Rijkaard      2.143455     4.439721\n",
            "Diego Maradona      2.285390     4.584057\n",
            "Mohamed Aboutrika   2.517590     4.871789\n",
            "Samuel Eto'o        2.398777     4.669221\n",
            "George Best         2.347332     4.735297\n",
            "George Weah         2.240691     4.506914\n",
            "Roberto Donadoni    2.211045     4.518506\n"
          ]
        }
      ]
    },
    {
      "cell_type": "code",
      "metadata": {
        "id": "7CnVkRcqYoop",
        "colab": {
          "base_uri": "https://localhost:8080/"
        },
        "outputId": "34d63eb2-26bc-4297-8c36-31341fff5694"
      },
      "source": [
        "df.mean()"
      ],
      "execution_count": 47,
      "outputs": [
        {
          "output_type": "execute_result",
          "data": {
            "text/plain": [
              "shoe_size       9.613161\n",
              "jersey_size    96.025702\n",
              "dtype: float64"
            ]
          },
          "metadata": {},
          "execution_count": 47
        }
      ]
    },
    {
      "cell_type": "markdown",
      "metadata": {
        "id": "hLpfqCpgYoop"
      },
      "source": [
        "데이터프레임에서 함수를 적용하고 데이터를 분석하는 방법에 대해서는 나중에 보다 더 자세히 살펴볼 예정입니다. 여기서는 먼저 데이터프레임에서 데이터를 검색하고 추가하고 및 제거하는 방법에 대해 알아보겠습니다.\n",
        "\n",
        "우리는 이미 열을 검색하는 방법을 위에서 살펴보았습니다. 그렇다면 행을 검색하기 위해서는 어떻게 해야 할까요? 가장 기본적인 구문은 데이터프레임의 `loc` 메서드를 사용하는 것입니다."
      ]
    },
    {
      "cell_type": "code",
      "metadata": {
        "id": "JIxmI1dsYooq",
        "colab": {
          "base_uri": "https://localhost:8080/"
        },
        "outputId": "95087d91-8220-41b6-cab3-3d9f936df7ff"
      },
      "source": [
        "print(df.loc['Ronaldo'])"
      ],
      "execution_count": 48,
      "outputs": [
        {
          "output_type": "stream",
          "name": "stdout",
          "text": [
            "shoe_size       8.291408\n",
            "jersey_size    80.182757\n",
            "Name: Ronaldo, dtype: float64\n"
          ]
        }
      ]
    },
    {
      "cell_type": "code",
      "metadata": {
        "id": "SLAGd4FsYooq",
        "colab": {
          "base_uri": "https://localhost:8080/"
        },
        "outputId": "f032b358-501f-4e08-cb98-a910159dd6c7"
      },
      "source": [
        "print(df.loc[['Ronaldo', 'George Best'], 'shoe_size'])"
      ],
      "execution_count": 49,
      "outputs": [
        {
          "output_type": "stream",
          "name": "stdout",
          "text": [
            "Ronaldo         8.291408\n",
            "George Best    10.457628\n",
            "Name: shoe_size, dtype: float64\n"
          ]
        }
      ]
    },
    {
      "cell_type": "code",
      "metadata": {
        "id": "vwxIJOdWYooq",
        "colab": {
          "base_uri": "https://localhost:8080/"
        },
        "outputId": "9fbc539c-b283-426d-c2bc-6a130139a916"
      },
      "source": [
        "# can also select position-based slices of data\n",
        "print(df.loc['Ronaldo':'George Best', 'shoe_size'])"
      ],
      "execution_count": 50,
      "outputs": [
        {
          "output_type": "stream",
          "name": "stdout",
          "text": [
            "Ronaldo               8.291408\n",
            "Yaya Toure            6.312746\n",
            "Frank Rijkaard        8.528853\n",
            "Diego Maradona        9.829515\n",
            "Mohamed Aboutrika    12.398685\n",
            "Samuel Eto'o         11.009701\n",
            "George Best          10.457628\n",
            "Name: shoe_size, dtype: float64\n"
          ]
        }
      ]
    },
    {
      "cell_type": "markdown",
      "metadata": {
        "id": "MP68fwQcF0jn"
      },
      "source": [
        "숫자로 인덱싱을 하고자 한다면 `iloc` 메서드를 사용할 수도 있습니다."
      ]
    },
    {
      "cell_type": "code",
      "metadata": {
        "id": "9stb3E2VYooq",
        "colab": {
          "base_uri": "https://localhost:8080/"
        },
        "outputId": "8759df73-aada-469e-973c-05073bb66548"
      },
      "source": [
        "# for position-based indexing, we will typically use iloc\n",
        "print(df.iloc[:5])"
      ],
      "execution_count": 51,
      "outputs": [
        {
          "output_type": "stream",
          "name": "stdout",
          "text": [
            "                 shoe_size  jersey_size\n",
            "Ronaldinho        8.547275    92.500983\n",
            "Pele              7.927346    80.277155\n",
            "Lionel Messi     11.155075   101.037748\n",
            "Zinedine Zidane  12.259221   119.224510\n",
            "Didier Drogba     9.341725    89.126170\n"
          ]
        }
      ]
    },
    {
      "cell_type": "code",
      "metadata": {
        "id": "27PUrbRfYooq",
        "colab": {
          "base_uri": "https://localhost:8080/"
        },
        "outputId": "b028b955-f8c5-47f9-83eb-8d0791b7122a"
      },
      "source": [
        "print(df.iloc[2:4, 0])"
      ],
      "execution_count": 52,
      "outputs": [
        {
          "output_type": "stream",
          "name": "stdout",
          "text": [
            "Lionel Messi       11.155075\n",
            "Zinedine Zidane    12.259221\n",
            "Name: shoe_size, dtype: float64\n"
          ]
        }
      ]
    },
    {
      "cell_type": "markdown",
      "metadata": {
        "id": "ppc30ZzXF7MK"
      },
      "source": [
        "데이터프레임의 `head`와 `tail` 메서드는 각각 데이터프레임의 맨 처음과 맨 끝 부분만을 보여주는 기능을 담당합니다."
      ]
    },
    {
      "cell_type": "code",
      "metadata": {
        "id": "NBX8cFAiYooq",
        "colab": {
          "base_uri": "https://localhost:8080/",
          "height": 203
        },
        "outputId": "a837074f-0ae0-450d-eef1-427f7d3fd8c0"
      },
      "source": [
        "# to see just the top of the DataFrame, use head\n",
        "df.head()"
      ],
      "execution_count": 53,
      "outputs": [
        {
          "output_type": "execute_result",
          "data": {
            "text/html": [
              "<div>\n",
              "<style scoped>\n",
              "    .dataframe tbody tr th:only-of-type {\n",
              "        vertical-align: middle;\n",
              "    }\n",
              "\n",
              "    .dataframe tbody tr th {\n",
              "        vertical-align: top;\n",
              "    }\n",
              "\n",
              "    .dataframe thead th {\n",
              "        text-align: right;\n",
              "    }\n",
              "</style>\n",
              "<table border=\"1\" class=\"dataframe\">\n",
              "  <thead>\n",
              "    <tr style=\"text-align: right;\">\n",
              "      <th></th>\n",
              "      <th>shoe_size</th>\n",
              "      <th>jersey_size</th>\n",
              "    </tr>\n",
              "  </thead>\n",
              "  <tbody>\n",
              "    <tr>\n",
              "      <th>Ronaldinho</th>\n",
              "      <td>8.547275</td>\n",
              "      <td>92.500983</td>\n",
              "    </tr>\n",
              "    <tr>\n",
              "      <th>Pele</th>\n",
              "      <td>7.927346</td>\n",
              "      <td>80.277155</td>\n",
              "    </tr>\n",
              "    <tr>\n",
              "      <th>Lionel Messi</th>\n",
              "      <td>11.155075</td>\n",
              "      <td>101.037748</td>\n",
              "    </tr>\n",
              "    <tr>\n",
              "      <th>Zinedine Zidane</th>\n",
              "      <td>12.259221</td>\n",
              "      <td>119.224510</td>\n",
              "    </tr>\n",
              "    <tr>\n",
              "      <th>Didier Drogba</th>\n",
              "      <td>9.341725</td>\n",
              "      <td>89.126170</td>\n",
              "    </tr>\n",
              "  </tbody>\n",
              "</table>\n",
              "</div>"
            ],
            "text/plain": [
              "                 shoe_size  jersey_size\n",
              "Ronaldinho        8.547275    92.500983\n",
              "Pele              7.927346    80.277155\n",
              "Lionel Messi     11.155075   101.037748\n",
              "Zinedine Zidane  12.259221   119.224510\n",
              "Didier Drogba     9.341725    89.126170"
            ]
          },
          "metadata": {},
          "execution_count": 53
        }
      ]
    },
    {
      "cell_type": "code",
      "metadata": {
        "id": "St5wOYVmYooq",
        "colab": {
          "base_uri": "https://localhost:8080/",
          "height": 203
        },
        "outputId": "005be2bc-5b62-43b0-890f-dac1e65db534"
      },
      "source": [
        "# of for the bottom use tail\n",
        "df.tail()"
      ],
      "execution_count": 54,
      "outputs": [
        {
          "output_type": "execute_result",
          "data": {
            "text/html": [
              "<div>\n",
              "<style scoped>\n",
              "    .dataframe tbody tr th:only-of-type {\n",
              "        vertical-align: middle;\n",
              "    }\n",
              "\n",
              "    .dataframe tbody tr th {\n",
              "        vertical-align: top;\n",
              "    }\n",
              "\n",
              "    .dataframe thead th {\n",
              "        text-align: right;\n",
              "    }\n",
              "</style>\n",
              "<table border=\"1\" class=\"dataframe\">\n",
              "  <thead>\n",
              "    <tr style=\"text-align: right;\">\n",
              "      <th></th>\n",
              "      <th>shoe_size</th>\n",
              "      <th>jersey_size</th>\n",
              "    </tr>\n",
              "  </thead>\n",
              "  <tbody>\n",
              "    <tr>\n",
              "      <th>Mohamed Aboutrika</th>\n",
              "      <td>12.398685</td>\n",
              "      <td>130.554214</td>\n",
              "    </tr>\n",
              "    <tr>\n",
              "      <th>Samuel Eto'o</th>\n",
              "      <td>11.009701</td>\n",
              "      <td>106.614700</td>\n",
              "    </tr>\n",
              "    <tr>\n",
              "      <th>George Best</th>\n",
              "      <td>10.457628</td>\n",
              "      <td>113.897279</td>\n",
              "    </tr>\n",
              "    <tr>\n",
              "      <th>George Weah</th>\n",
              "      <td>9.399821</td>\n",
              "      <td>90.641667</td>\n",
              "    </tr>\n",
              "    <tr>\n",
              "      <th>Roberto Donadoni</th>\n",
              "      <td>9.125251</td>\n",
              "      <td>91.698505</td>\n",
              "    </tr>\n",
              "  </tbody>\n",
              "</table>\n",
              "</div>"
            ],
            "text/plain": [
              "                   shoe_size  jersey_size\n",
              "Mohamed Aboutrika  12.398685   130.554214\n",
              "Samuel Eto'o       11.009701   106.614700\n",
              "George Best        10.457628   113.897279\n",
              "George Weah         9.399821    90.641667\n",
              "Roberto Donadoni    9.125251    91.698505"
            ]
          },
          "metadata": {},
          "execution_count": 54
        }
      ]
    },
    {
      "cell_type": "markdown",
      "metadata": {
        "id": "P-kDVveqYooq"
      },
      "source": [
        "데이터를 검색하는 데 사용하는 것과 동일한 구문을 사용하되 이를 할당과 같이 사용함으로써 데이터프레임 상에 새로운 데이터를 추가할 수도 있습니다."
      ]
    },
    {
      "cell_type": "code",
      "metadata": {
        "id": "qMxtXSAiYooq",
        "colab": {
          "base_uri": "https://localhost:8080/",
          "height": 203
        },
        "outputId": "849945ad-ce19-4225-979f-a0d9af806231"
      },
      "source": [
        "# adding a new column\n",
        "df['position'] = np.random.choice(['goaltender', 'defense', 'midfield', 'attack'], size=len(df))\n",
        "df.head()"
      ],
      "execution_count": 55,
      "outputs": [
        {
          "output_type": "execute_result",
          "data": {
            "text/html": [
              "<div>\n",
              "<style scoped>\n",
              "    .dataframe tbody tr th:only-of-type {\n",
              "        vertical-align: middle;\n",
              "    }\n",
              "\n",
              "    .dataframe tbody tr th {\n",
              "        vertical-align: top;\n",
              "    }\n",
              "\n",
              "    .dataframe thead th {\n",
              "        text-align: right;\n",
              "    }\n",
              "</style>\n",
              "<table border=\"1\" class=\"dataframe\">\n",
              "  <thead>\n",
              "    <tr style=\"text-align: right;\">\n",
              "      <th></th>\n",
              "      <th>shoe_size</th>\n",
              "      <th>jersey_size</th>\n",
              "      <th>position</th>\n",
              "    </tr>\n",
              "  </thead>\n",
              "  <tbody>\n",
              "    <tr>\n",
              "      <th>Ronaldinho</th>\n",
              "      <td>8.547275</td>\n",
              "      <td>92.500983</td>\n",
              "      <td>goaltender</td>\n",
              "    </tr>\n",
              "    <tr>\n",
              "      <th>Pele</th>\n",
              "      <td>7.927346</td>\n",
              "      <td>80.277155</td>\n",
              "      <td>defense</td>\n",
              "    </tr>\n",
              "    <tr>\n",
              "      <th>Lionel Messi</th>\n",
              "      <td>11.155075</td>\n",
              "      <td>101.037748</td>\n",
              "      <td>goaltender</td>\n",
              "    </tr>\n",
              "    <tr>\n",
              "      <th>Zinedine Zidane</th>\n",
              "      <td>12.259221</td>\n",
              "      <td>119.224510</td>\n",
              "      <td>defense</td>\n",
              "    </tr>\n",
              "    <tr>\n",
              "      <th>Didier Drogba</th>\n",
              "      <td>9.341725</td>\n",
              "      <td>89.126170</td>\n",
              "      <td>attack</td>\n",
              "    </tr>\n",
              "  </tbody>\n",
              "</table>\n",
              "</div>"
            ],
            "text/plain": [
              "                 shoe_size  jersey_size    position\n",
              "Ronaldinho        8.547275    92.500983  goaltender\n",
              "Pele              7.927346    80.277155     defense\n",
              "Lionel Messi     11.155075   101.037748  goaltender\n",
              "Zinedine Zidane  12.259221   119.224510     defense\n",
              "Didier Drogba     9.341725    89.126170      attack"
            ]
          },
          "metadata": {},
          "execution_count": 55
        }
      ]
    },
    {
      "cell_type": "code",
      "metadata": {
        "id": "cbvm5ES7Yoor",
        "colab": {
          "base_uri": "https://localhost:8080/"
        },
        "outputId": "d82b6c6e-0089-421b-b2bd-8e6fcc6ec352"
      },
      "source": [
        "# adding a new row\n",
        "df.loc['Dylan'] = {'jersey_size': 91, 'shoe_size': 9, 'position': 'midfield'}\n",
        "df.loc['Dylan']"
      ],
      "execution_count": 56,
      "outputs": [
        {
          "output_type": "execute_result",
          "data": {
            "text/plain": [
              "shoe_size             9\n",
              "jersey_size          91\n",
              "position       midfield\n",
              "Name: Dylan, dtype: object"
            ]
          },
          "metadata": {},
          "execution_count": 56
        }
      ]
    },
    {
      "cell_type": "markdown",
      "metadata": {
        "id": "1OeiED6-Yoor"
      },
      "source": [
        "\n",
        "데이터를 삭제하기 위해서는 데이터프레임의 `drop` 메서드를 사용할 수 있습니다."
      ]
    },
    {
      "cell_type": "code",
      "metadata": {
        "id": "-74xS1E9Yoor",
        "colab": {
          "base_uri": "https://localhost:8080/",
          "height": 480
        },
        "outputId": "8e8de9a1-dfc2-4d8b-b16c-aaefeb635acd"
      },
      "source": [
        "df.drop('Dylan')"
      ],
      "execution_count": 57,
      "outputs": [
        {
          "output_type": "execute_result",
          "data": {
            "text/html": [
              "<div>\n",
              "<style scoped>\n",
              "    .dataframe tbody tr th:only-of-type {\n",
              "        vertical-align: middle;\n",
              "    }\n",
              "\n",
              "    .dataframe tbody tr th {\n",
              "        vertical-align: top;\n",
              "    }\n",
              "\n",
              "    .dataframe thead th {\n",
              "        text-align: right;\n",
              "    }\n",
              "</style>\n",
              "<table border=\"1\" class=\"dataframe\">\n",
              "  <thead>\n",
              "    <tr style=\"text-align: right;\">\n",
              "      <th></th>\n",
              "      <th>shoe_size</th>\n",
              "      <th>jersey_size</th>\n",
              "      <th>position</th>\n",
              "    </tr>\n",
              "  </thead>\n",
              "  <tbody>\n",
              "    <tr>\n",
              "      <th>Ronaldinho</th>\n",
              "      <td>8.547275</td>\n",
              "      <td>92.500983</td>\n",
              "      <td>goaltender</td>\n",
              "    </tr>\n",
              "    <tr>\n",
              "      <th>Pele</th>\n",
              "      <td>7.927346</td>\n",
              "      <td>80.277155</td>\n",
              "      <td>defense</td>\n",
              "    </tr>\n",
              "    <tr>\n",
              "      <th>Lionel Messi</th>\n",
              "      <td>11.155075</td>\n",
              "      <td>101.037748</td>\n",
              "      <td>goaltender</td>\n",
              "    </tr>\n",
              "    <tr>\n",
              "      <th>Zinedine Zidane</th>\n",
              "      <td>12.259221</td>\n",
              "      <td>119.224510</td>\n",
              "      <td>defense</td>\n",
              "    </tr>\n",
              "    <tr>\n",
              "      <th>Didier Drogba</th>\n",
              "      <td>9.341725</td>\n",
              "      <td>89.126170</td>\n",
              "      <td>attack</td>\n",
              "    </tr>\n",
              "    <tr>\n",
              "      <th>Ronaldo</th>\n",
              "      <td>8.291408</td>\n",
              "      <td>80.182757</td>\n",
              "      <td>defense</td>\n",
              "    </tr>\n",
              "    <tr>\n",
              "      <th>Yaya Toure</th>\n",
              "      <td>6.312746</td>\n",
              "      <td>65.942012</td>\n",
              "      <td>midfield</td>\n",
              "    </tr>\n",
              "    <tr>\n",
              "      <th>Frank Rijkaard</th>\n",
              "      <td>8.528853</td>\n",
              "      <td>84.751303</td>\n",
              "      <td>midfield</td>\n",
              "    </tr>\n",
              "    <tr>\n",
              "      <th>Diego Maradona</th>\n",
              "      <td>9.829515</td>\n",
              "      <td>97.910820</td>\n",
              "      <td>attack</td>\n",
              "    </tr>\n",
              "    <tr>\n",
              "      <th>Mohamed Aboutrika</th>\n",
              "      <td>12.398685</td>\n",
              "      <td>130.554214</td>\n",
              "      <td>goaltender</td>\n",
              "    </tr>\n",
              "    <tr>\n",
              "      <th>Samuel Eto'o</th>\n",
              "      <td>11.009701</td>\n",
              "      <td>106.614700</td>\n",
              "      <td>defense</td>\n",
              "    </tr>\n",
              "    <tr>\n",
              "      <th>George Best</th>\n",
              "      <td>10.457628</td>\n",
              "      <td>113.897279</td>\n",
              "      <td>midfield</td>\n",
              "    </tr>\n",
              "    <tr>\n",
              "      <th>George Weah</th>\n",
              "      <td>9.399821</td>\n",
              "      <td>90.641667</td>\n",
              "      <td>defense</td>\n",
              "    </tr>\n",
              "    <tr>\n",
              "      <th>Roberto Donadoni</th>\n",
              "      <td>9.125251</td>\n",
              "      <td>91.698505</td>\n",
              "      <td>midfield</td>\n",
              "    </tr>\n",
              "  </tbody>\n",
              "</table>\n",
              "</div>"
            ],
            "text/plain": [
              "                   shoe_size  jersey_size    position\n",
              "Ronaldinho          8.547275    92.500983  goaltender\n",
              "Pele                7.927346    80.277155     defense\n",
              "Lionel Messi       11.155075   101.037748  goaltender\n",
              "Zinedine Zidane    12.259221   119.224510     defense\n",
              "Didier Drogba       9.341725    89.126170      attack\n",
              "Ronaldo             8.291408    80.182757     defense\n",
              "Yaya Toure          6.312746    65.942012    midfield\n",
              "Frank Rijkaard      8.528853    84.751303    midfield\n",
              "Diego Maradona      9.829515    97.910820      attack\n",
              "Mohamed Aboutrika  12.398685   130.554214  goaltender\n",
              "Samuel Eto'o       11.009701   106.614700     defense\n",
              "George Best        10.457628   113.897279    midfield\n",
              "George Weah         9.399821    90.641667     defense\n",
              "Roberto Donadoni    9.125251    91.698505    midfield"
            ]
          },
          "metadata": {},
          "execution_count": 57
        }
      ]
    },
    {
      "cell_type": "code",
      "metadata": {
        "id": "X2nSmDasYoor",
        "colab": {
          "base_uri": "https://localhost:8080/",
          "height": 511
        },
        "outputId": "af647709-86f3-4b5f-b421-23dfba846953"
      },
      "source": [
        "df.drop('position', axis=1)"
      ],
      "execution_count": 58,
      "outputs": [
        {
          "output_type": "execute_result",
          "data": {
            "text/html": [
              "<div>\n",
              "<style scoped>\n",
              "    .dataframe tbody tr th:only-of-type {\n",
              "        vertical-align: middle;\n",
              "    }\n",
              "\n",
              "    .dataframe tbody tr th {\n",
              "        vertical-align: top;\n",
              "    }\n",
              "\n",
              "    .dataframe thead th {\n",
              "        text-align: right;\n",
              "    }\n",
              "</style>\n",
              "<table border=\"1\" class=\"dataframe\">\n",
              "  <thead>\n",
              "    <tr style=\"text-align: right;\">\n",
              "      <th></th>\n",
              "      <th>shoe_size</th>\n",
              "      <th>jersey_size</th>\n",
              "    </tr>\n",
              "  </thead>\n",
              "  <tbody>\n",
              "    <tr>\n",
              "      <th>Ronaldinho</th>\n",
              "      <td>8.547275</td>\n",
              "      <td>92.500983</td>\n",
              "    </tr>\n",
              "    <tr>\n",
              "      <th>Pele</th>\n",
              "      <td>7.927346</td>\n",
              "      <td>80.277155</td>\n",
              "    </tr>\n",
              "    <tr>\n",
              "      <th>Lionel Messi</th>\n",
              "      <td>11.155075</td>\n",
              "      <td>101.037748</td>\n",
              "    </tr>\n",
              "    <tr>\n",
              "      <th>Zinedine Zidane</th>\n",
              "      <td>12.259221</td>\n",
              "      <td>119.224510</td>\n",
              "    </tr>\n",
              "    <tr>\n",
              "      <th>Didier Drogba</th>\n",
              "      <td>9.341725</td>\n",
              "      <td>89.126170</td>\n",
              "    </tr>\n",
              "    <tr>\n",
              "      <th>Ronaldo</th>\n",
              "      <td>8.291408</td>\n",
              "      <td>80.182757</td>\n",
              "    </tr>\n",
              "    <tr>\n",
              "      <th>Yaya Toure</th>\n",
              "      <td>6.312746</td>\n",
              "      <td>65.942012</td>\n",
              "    </tr>\n",
              "    <tr>\n",
              "      <th>Frank Rijkaard</th>\n",
              "      <td>8.528853</td>\n",
              "      <td>84.751303</td>\n",
              "    </tr>\n",
              "    <tr>\n",
              "      <th>Diego Maradona</th>\n",
              "      <td>9.829515</td>\n",
              "      <td>97.910820</td>\n",
              "    </tr>\n",
              "    <tr>\n",
              "      <th>Mohamed Aboutrika</th>\n",
              "      <td>12.398685</td>\n",
              "      <td>130.554214</td>\n",
              "    </tr>\n",
              "    <tr>\n",
              "      <th>Samuel Eto'o</th>\n",
              "      <td>11.009701</td>\n",
              "      <td>106.614700</td>\n",
              "    </tr>\n",
              "    <tr>\n",
              "      <th>George Best</th>\n",
              "      <td>10.457628</td>\n",
              "      <td>113.897279</td>\n",
              "    </tr>\n",
              "    <tr>\n",
              "      <th>George Weah</th>\n",
              "      <td>9.399821</td>\n",
              "      <td>90.641667</td>\n",
              "    </tr>\n",
              "    <tr>\n",
              "      <th>Roberto Donadoni</th>\n",
              "      <td>9.125251</td>\n",
              "      <td>91.698505</td>\n",
              "    </tr>\n",
              "    <tr>\n",
              "      <th>Dylan</th>\n",
              "      <td>9.000000</td>\n",
              "      <td>91.000000</td>\n",
              "    </tr>\n",
              "  </tbody>\n",
              "</table>\n",
              "</div>"
            ],
            "text/plain": [
              "                   shoe_size  jersey_size\n",
              "Ronaldinho          8.547275    92.500983\n",
              "Pele                7.927346    80.277155\n",
              "Lionel Messi       11.155075   101.037748\n",
              "Zinedine Zidane    12.259221   119.224510\n",
              "Didier Drogba       9.341725    89.126170\n",
              "Ronaldo             8.291408    80.182757\n",
              "Yaya Toure          6.312746    65.942012\n",
              "Frank Rijkaard      8.528853    84.751303\n",
              "Diego Maradona      9.829515    97.910820\n",
              "Mohamed Aboutrika  12.398685   130.554214\n",
              "Samuel Eto'o       11.009701   106.614700\n",
              "George Best        10.457628   113.897279\n",
              "George Weah         9.399821    90.641667\n",
              "Roberto Donadoni    9.125251    91.698505\n",
              "Dylan               9.000000    91.000000"
            ]
          },
          "metadata": {},
          "execution_count": 58
        }
      ]
    },
    {
      "cell_type": "markdown",
      "metadata": {
        "id": "2fJO-l4NYoor"
      },
      "source": [
        "위에서 `df.drop('position', axis=1)`을 실행할 때 이미 우리가 `df.drop('Dylan')`을 실행했는데도 `Dylan`에 대한 항목이 여전히 존재하고 있는 것을 확인할 수 있습니다. `drop`을 사용할 때 주의해야 하는 점이 바로 이 부분입니다. 많은 데이터프레임 함수는 데이터프레임의 복사본을 반환합니다. 따라서 만약 변경 사항을 영구적으로 적용하고자 한다면 `df.drop()`이 반환한 복사본에 `df`를 다시 할당하거나 키워드 `inplace`를 사용해야 합니다."
      ]
    },
    {
      "cell_type": "code",
      "metadata": {
        "id": "r5fyPWZ1Yoor",
        "colab": {
          "base_uri": "https://localhost:8080/"
        },
        "outputId": "c2a1ca46-a663-4ba2-a9cf-bf12aacea081"
      },
      "source": [
        "df = df.drop('Dylan')\n",
        "print(df)"
      ],
      "execution_count": 59,
      "outputs": [
        {
          "output_type": "stream",
          "name": "stdout",
          "text": [
            "                   shoe_size  jersey_size    position\n",
            "Ronaldinho          8.547275    92.500983  goaltender\n",
            "Pele                7.927346    80.277155     defense\n",
            "Lionel Messi       11.155075   101.037748  goaltender\n",
            "Zinedine Zidane    12.259221   119.224510     defense\n",
            "Didier Drogba       9.341725    89.126170      attack\n",
            "Ronaldo             8.291408    80.182757     defense\n",
            "Yaya Toure          6.312746    65.942012    midfield\n",
            "Frank Rijkaard      8.528853    84.751303    midfield\n",
            "Diego Maradona      9.829515    97.910820      attack\n",
            "Mohamed Aboutrika  12.398685   130.554214  goaltender\n",
            "Samuel Eto'o       11.009701   106.614700     defense\n",
            "George Best        10.457628   113.897279    midfield\n",
            "George Weah         9.399821    90.641667     defense\n",
            "Roberto Donadoni    9.125251    91.698505    midfield\n"
          ]
        }
      ]
    },
    {
      "cell_type": "code",
      "metadata": {
        "id": "M97Iq175Yoor",
        "colab": {
          "base_uri": "https://localhost:8080/"
        },
        "outputId": "7fe99c05-28da-440b-ad80-56d36bd7dd22"
      },
      "source": [
        "df.drop('position', axis=1, inplace=True)\n",
        "print(df)"
      ],
      "execution_count": 60,
      "outputs": [
        {
          "output_type": "stream",
          "name": "stdout",
          "text": [
            "                   shoe_size  jersey_size\n",
            "Ronaldinho          8.547275    92.500983\n",
            "Pele                7.927346    80.277155\n",
            "Lionel Messi       11.155075   101.037748\n",
            "Zinedine Zidane    12.259221   119.224510\n",
            "Didier Drogba       9.341725    89.126170\n",
            "Ronaldo             8.291408    80.182757\n",
            "Yaya Toure          6.312746    65.942012\n",
            "Frank Rijkaard      8.528853    84.751303\n",
            "Diego Maradona      9.829515    97.910820\n",
            "Mohamed Aboutrika  12.398685   130.554214\n",
            "Samuel Eto'o       11.009701   106.614700\n",
            "George Best        10.457628   113.897279\n",
            "George Weah         9.399821    90.641667\n",
            "Roberto Donadoni    9.125251    91.698505\n"
          ]
        }
      ]
    },
    {
      "cell_type": "markdown",
      "metadata": {
        "id": "zo9JDlJ4Yoor"
      },
      "source": [
        "판다스에는 데이터 분석을 위한 많은 강력한 도구가 있기 때문에 이 과정의 뒷부분에서는 판다스에 대해 훨씬 더 자세하게 살펴볼 예정입니다."
      ]
    },
    {
      "cell_type": "markdown",
      "metadata": {
        "id": "yQNwt4DBYoos"
      },
      "source": [
        "*Copyright 2021.* 퀀트대디. *This content is licensed solely for personal use. Redistribution or publication of this material is strictly prohibited.*"
      ]
    }
  ]
}