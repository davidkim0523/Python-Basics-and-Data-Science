{
 "cells": [
  {
   "cell_type": "markdown",
   "metadata": {
    "id": "nSZpzBY3YtD8"
   },
   "source": [
    "# 판다스 (Pandas)\n",
    "\n",
    "<!-- requirement: data/yelp.json.gz -->\n",
    "<!-- requirement: data/PEP_2016_PEPANNRES.csv -->"
   ]
  },
  {
   "cell_type": "code",
   "execution_count": 3,
   "metadata": {
    "executionInfo": {
     "elapsed": 345,
     "status": "ok",
     "timestamp": 1633526314352,
     "user": {
      "displayName": "David Kim",
      "photoUrl": "https://lh3.googleusercontent.com/a-/AOh14Gj5yUCTnADoumB9eGXaTpcJcAcA1v9uxRnNO2o2PQ=s64",
      "userId": "11070995113612865215"
     },
     "user_tz": -540
    },
    "id": "zEzS17heYtD-"
   },
   "outputs": [],
   "source": [
    "import pandas as pd"
   ]
  },
  {
   "cell_type": "markdown",
   "metadata": {
    "id": "R4Qs1lKoYtD_"
   },
   "source": [
    "이전 강의에서 우리는 판다스 모듈과 데이터프레임 객체에 대해 다루었습니다. 우리는 데이터프레임을 구성해서 데이터를 추가하거나 얻기도 하고 또 하드디스크로부터 데이터 파일을 읽거나 쓰기도 했습니다.이제 여기서 우리는 데이터프레임 객체와 그것의 아주 파워풀한 분석 방법들을 보다 더 자세하게 살펴보겠습니다.\n",
    "\n",
    "여기서는 온라인 리뷰 사이트인 Yelp의 데이터셋을 사용해 작업을 할 예정입니다. 파일은 압축된 JSON 파일로 저장됩니다."
   ]
  },
  {
   "cell_type": "code",
   "execution_count": 5,
   "metadata": {
    "colab": {
     "base_uri": "https://localhost:8080/",
     "height": 405
    },
    "executionInfo": {
     "elapsed": 390,
     "status": "error",
     "timestamp": 1633526366901,
     "user": {
      "displayName": "David Kim",
      "photoUrl": "https://lh3.googleusercontent.com/a-/AOh14Gj5yUCTnADoumB9eGXaTpcJcAcA1v9uxRnNO2o2PQ=s64",
      "userId": "11070995113612865215"
     },
     "user_tz": -540
    },
    "id": "cxlDKRnaYtEB",
    "outputId": "cb2998c6-c630-479c-99d2-431d34a16fb3"
   },
   "outputs": [
    {
     "data": {
      "text/html": [
       "<div>\n",
       "<style scoped>\n",
       "    .dataframe tbody tr th:only-of-type {\n",
       "        vertical-align: middle;\n",
       "    }\n",
       "\n",
       "    .dataframe tbody tr th {\n",
       "        vertical-align: top;\n",
       "    }\n",
       "\n",
       "    .dataframe thead th {\n",
       "        text-align: right;\n",
       "    }\n",
       "</style>\n",
       "<table border=\"1\" class=\"dataframe\">\n",
       "  <thead>\n",
       "    <tr style=\"text-align: right;\">\n",
       "      <th></th>\n",
       "      <th>business_id</th>\n",
       "      <th>full_address</th>\n",
       "      <th>hours</th>\n",
       "      <th>open</th>\n",
       "      <th>categories</th>\n",
       "      <th>city</th>\n",
       "      <th>review_count</th>\n",
       "      <th>name</th>\n",
       "      <th>neighborhoods</th>\n",
       "      <th>longitude</th>\n",
       "      <th>state</th>\n",
       "      <th>stars</th>\n",
       "      <th>latitude</th>\n",
       "      <th>attributes</th>\n",
       "      <th>type</th>\n",
       "    </tr>\n",
       "  </thead>\n",
       "  <tbody>\n",
       "    <tr>\n",
       "      <th>0</th>\n",
       "      <td>vcNAWiLM4dR7D2nwwJ7nCA</td>\n",
       "      <td>4840 E Indian School Rd\\nSte 101\\nPhoenix, AZ ...</td>\n",
       "      <td>{'Tuesday': {'close': '17:00', 'open': '08:00'...</td>\n",
       "      <td>True</td>\n",
       "      <td>[Doctors, Health &amp; Medical]</td>\n",
       "      <td>Phoenix</td>\n",
       "      <td>7</td>\n",
       "      <td>Eric Goldberg, MD</td>\n",
       "      <td>[]</td>\n",
       "      <td>-111.983758</td>\n",
       "      <td>AZ</td>\n",
       "      <td>3.5</td>\n",
       "      <td>33.499313</td>\n",
       "      <td>{'By Appointment Only': True}</td>\n",
       "      <td>business</td>\n",
       "    </tr>\n",
       "    <tr>\n",
       "      <th>1</th>\n",
       "      <td>JwUE5GmEO-sH1FuwJgKBlQ</td>\n",
       "      <td>6162 US Highway 51\\nDe Forest, WI 53532</td>\n",
       "      <td>{}</td>\n",
       "      <td>True</td>\n",
       "      <td>[Restaurants]</td>\n",
       "      <td>De Forest</td>\n",
       "      <td>26</td>\n",
       "      <td>Pine Cone Restaurant</td>\n",
       "      <td>[]</td>\n",
       "      <td>-89.335844</td>\n",
       "      <td>WI</td>\n",
       "      <td>4.0</td>\n",
       "      <td>43.238893</td>\n",
       "      <td>{'Take-out': True, 'Good For': {'dessert': Fal...</td>\n",
       "      <td>business</td>\n",
       "    </tr>\n",
       "    <tr>\n",
       "      <th>2</th>\n",
       "      <td>uGykseHzyS5xAMWoN6YUqA</td>\n",
       "      <td>505 W North St\\nDe Forest, WI 53532</td>\n",
       "      <td>{'Monday': {'close': '22:00', 'open': '06:00'}...</td>\n",
       "      <td>True</td>\n",
       "      <td>[American (Traditional), Restaurants]</td>\n",
       "      <td>De Forest</td>\n",
       "      <td>16</td>\n",
       "      <td>Deforest Family Restaurant</td>\n",
       "      <td>[]</td>\n",
       "      <td>-89.353437</td>\n",
       "      <td>WI</td>\n",
       "      <td>4.0</td>\n",
       "      <td>43.252267</td>\n",
       "      <td>{'Take-out': True, 'Good For': {'dessert': Fal...</td>\n",
       "      <td>business</td>\n",
       "    </tr>\n",
       "    <tr>\n",
       "      <th>3</th>\n",
       "      <td>LRKJF43s9-3jG9Lgx4zODg</td>\n",
       "      <td>4910 County Rd V\\nDe Forest, WI 53532</td>\n",
       "      <td>{'Monday': {'close': '22:00', 'open': '10:30'}...</td>\n",
       "      <td>True</td>\n",
       "      <td>[Food, Ice Cream &amp; Frozen Yogurt, Fast Food, R...</td>\n",
       "      <td>De Forest</td>\n",
       "      <td>7</td>\n",
       "      <td>Culver's</td>\n",
       "      <td>[]</td>\n",
       "      <td>-89.374983</td>\n",
       "      <td>WI</td>\n",
       "      <td>4.5</td>\n",
       "      <td>43.251045</td>\n",
       "      <td>{'Take-out': True, 'Wi-Fi': 'free', 'Takes Res...</td>\n",
       "      <td>business</td>\n",
       "    </tr>\n",
       "    <tr>\n",
       "      <th>4</th>\n",
       "      <td>RgDg-k9S5YD_BaxMckifkg</td>\n",
       "      <td>631 S Main St\\nDe Forest, WI 53532</td>\n",
       "      <td>{'Monday': {'close': '22:00', 'open': '11:00'}...</td>\n",
       "      <td>True</td>\n",
       "      <td>[Chinese, Restaurants]</td>\n",
       "      <td>De Forest</td>\n",
       "      <td>3</td>\n",
       "      <td>Chang Jiang Chinese Kitchen</td>\n",
       "      <td>[]</td>\n",
       "      <td>-89.343722</td>\n",
       "      <td>WI</td>\n",
       "      <td>4.0</td>\n",
       "      <td>43.240875</td>\n",
       "      <td>{'Take-out': True, 'Has TV': False, 'Outdoor S...</td>\n",
       "      <td>business</td>\n",
       "    </tr>\n",
       "  </tbody>\n",
       "</table>\n",
       "</div>"
      ],
      "text/plain": [
       "              business_id                                       full_address  \\\n",
       "0  vcNAWiLM4dR7D2nwwJ7nCA  4840 E Indian School Rd\\nSte 101\\nPhoenix, AZ ...   \n",
       "1  JwUE5GmEO-sH1FuwJgKBlQ            6162 US Highway 51\\nDe Forest, WI 53532   \n",
       "2  uGykseHzyS5xAMWoN6YUqA                505 W North St\\nDe Forest, WI 53532   \n",
       "3  LRKJF43s9-3jG9Lgx4zODg              4910 County Rd V\\nDe Forest, WI 53532   \n",
       "4  RgDg-k9S5YD_BaxMckifkg                 631 S Main St\\nDe Forest, WI 53532   \n",
       "\n",
       "                                               hours  open  \\\n",
       "0  {'Tuesday': {'close': '17:00', 'open': '08:00'...  True   \n",
       "1                                                 {}  True   \n",
       "2  {'Monday': {'close': '22:00', 'open': '06:00'}...  True   \n",
       "3  {'Monday': {'close': '22:00', 'open': '10:30'}...  True   \n",
       "4  {'Monday': {'close': '22:00', 'open': '11:00'}...  True   \n",
       "\n",
       "                                          categories       city  review_count  \\\n",
       "0                        [Doctors, Health & Medical]    Phoenix             7   \n",
       "1                                      [Restaurants]  De Forest            26   \n",
       "2              [American (Traditional), Restaurants]  De Forest            16   \n",
       "3  [Food, Ice Cream & Frozen Yogurt, Fast Food, R...  De Forest             7   \n",
       "4                             [Chinese, Restaurants]  De Forest             3   \n",
       "\n",
       "                          name neighborhoods   longitude state  stars  \\\n",
       "0            Eric Goldberg, MD            [] -111.983758    AZ    3.5   \n",
       "1         Pine Cone Restaurant            []  -89.335844    WI    4.0   \n",
       "2   Deforest Family Restaurant            []  -89.353437    WI    4.0   \n",
       "3                     Culver's            []  -89.374983    WI    4.5   \n",
       "4  Chang Jiang Chinese Kitchen            []  -89.343722    WI    4.0   \n",
       "\n",
       "    latitude                                         attributes      type  \n",
       "0  33.499313                      {'By Appointment Only': True}  business  \n",
       "1  43.238893  {'Take-out': True, 'Good For': {'dessert': Fal...  business  \n",
       "2  43.252267  {'Take-out': True, 'Good For': {'dessert': Fal...  business  \n",
       "3  43.251045  {'Take-out': True, 'Wi-Fi': 'free', 'Takes Res...  business  \n",
       "4  43.240875  {'Take-out': True, 'Has TV': False, 'Outdoor S...  business  "
      ]
     },
     "execution_count": 5,
     "metadata": {},
     "output_type": "execute_result"
    }
   ],
   "source": [
    "import gzip\n",
    "import json\n",
    "\n",
    "with gzip.open('./data/yelp.json.gz', 'r') as f:\n",
    "    yelp_data = [json.loads(line) for line in f]\n",
    "    \n",
    "yelp_df = pd.DataFrame(yelp_data)\n",
    "yelp_df.head()    "
   ]
  },
  {
   "cell_type": "markdown",
   "metadata": {
    "id": "qynx4ujIYtEC"
   },
   "source": [
    "## 판다스 데이터프레임과 시리즈 (Pandas DataFrame and Series)\n",
    "\n",
    "판다스 데이터프레임은 고도로 구조화된 객체입니다. 데이터프레임에서 각각의 행은 어떤 물리적 개체 또는 이벤트에 해당합니다. 즉, 주어진 행의 모든 정보는 어떤 하나의 개체에 대해서 설명을 하고 있습니다. 또한 각 열에는 의미론적 혹은 구문론적인 한 범주로 구분된 데이터들이 포함됩니다."
   ]
  },
  {
   "cell_type": "code",
   "execution_count": 3,
   "metadata": {
    "id": "Fz_AYRD_YtED"
   },
   "outputs": [
    {
     "data": {
      "text/plain": [
       "business_id       object\n",
       "full_address      object\n",
       "hours             object\n",
       "open                bool\n",
       "categories        object\n",
       "city              object\n",
       "review_count       int64\n",
       "name              object\n",
       "neighborhoods     object\n",
       "longitude        float64\n",
       "state             object\n",
       "stars            float64\n",
       "latitude         float64\n",
       "attributes        object\n",
       "type              object\n",
       "dtype: object"
      ]
     },
     "execution_count": 3,
     "metadata": {},
     "output_type": "execute_result"
    }
   ],
   "source": [
    "yelp_df.dtypes"
   ]
  },
  {
   "cell_type": "markdown",
   "metadata": {
    "id": "gE_KcH3IYtED"
   },
   "source": [
    "데이터프레임은 `dict`와 같이 이름으로 열을 참조할 수도 있습니다."
   ]
  },
  {
   "cell_type": "code",
   "execution_count": 4,
   "metadata": {
    "id": "Vz9jT5gSYtEE"
   },
   "outputs": [
    {
     "data": {
      "text/plain": [
       "0      Phoenix\n",
       "1    De Forest\n",
       "2    De Forest\n",
       "3    De Forest\n",
       "4    De Forest\n",
       "Name: city, dtype: object"
      ]
     },
     "execution_count": 4,
     "metadata": {},
     "output_type": "execute_result"
    }
   ],
   "source": [
    "yelp_df['city'].head()"
   ]
  },
  {
   "cell_type": "code",
   "execution_count": 5,
   "metadata": {
    "id": "2sNv0eDYYtEE"
   },
   "outputs": [
    {
     "data": {
      "text/plain": [
       "pandas.core.series.Series"
      ]
     },
     "execution_count": 5,
     "metadata": {},
     "output_type": "execute_result"
    }
   ],
   "source": [
    "type(yelp_df['city'])"
   ]
  },
  {
   "cell_type": "markdown",
   "metadata": {
    "id": "rZMfApIgYtEF"
   },
   "source": [
    "데이터프레임에서 각각의 열은 판다스 `Series`입니다. `Series`에는 `name`과 `dtype`(NumPy 배열과 유사)이 있습니다. `DataFrame`은 본질적으로 `Series` 객체의 `dict`입니다. `Series`에는 행에 레이블을 지정하는 `index` 속성이 있습니다. 인덱스는 기본적으로 행을 참조하기 위한 키 집합입니다. 숫자, 문자열, 타임스탬프 또는 해시 가능한 파이썬 객체로 구성된 인덱스를 가질 수 있습니다. 인덱스 또한 동일한 유형으로 구성되어 있습니다."
   ]
  },
  {
   "cell_type": "code",
   "execution_count": 6,
   "metadata": {
    "id": "_GTngFmeYtEF"
   },
   "outputs": [
    {
     "data": {
      "text/plain": [
       "RangeIndex(start=0, stop=37938, step=1)"
      ]
     },
     "execution_count": 6,
     "metadata": {},
     "output_type": "execute_result"
    }
   ],
   "source": [
    "yelp_df['city'].index"
   ]
  },
  {
   "cell_type": "markdown",
   "metadata": {
    "id": "hycn-eyLYtEF"
   },
   "source": [
    "`DataFrame`에는 구성 요소인 `Series`의 인덱스 조합으로 제공되는 `index`가 있습니다. 이에 대해서는 나중에 더 자세히 살펴보겠습니다. `DataFrame`은 `Series`의 `dict`이기 때문에, 대괄호 표기법을 사용하여 열을 선택한 다음 행을 선택할 수 있지만 그 반대는 할 수 없습니다. 물론 판다스의 `loc` 메서드는 이러한 문제를 해결해줍니다."
   ]
  },
  {
   "cell_type": "code",
   "execution_count": 7,
   "metadata": {
    "id": "rTOnjjyQYtEF"
   },
   "outputs": [
    {
     "data": {
      "text/plain": [
       "'Madison'"
      ]
     },
     "execution_count": 7,
     "metadata": {},
     "output_type": "execute_result"
    }
   ],
   "source": [
    "# this works\n",
    "yelp_df['city'][100]"
   ]
  },
  {
   "cell_type": "code",
   "execution_count": 8,
   "metadata": {
    "id": "QIZZAlylYtEG"
   },
   "outputs": [
    {
     "ename": "KeyError",
     "evalue": "100",
     "output_type": "error",
     "traceback": [
      "\u001b[1;31m---------------------------------------------------------------------------\u001b[0m",
      "\u001b[1;31mKeyError\u001b[0m                                  Traceback (most recent call last)",
      "\u001b[1;32mC:\\Anaconda3\\lib\\site-packages\\pandas\\core\\indexes\\base.py\u001b[0m in \u001b[0;36mget_loc\u001b[1;34m(self, key, method, tolerance)\u001b[0m\n\u001b[0;32m   2645\u001b[0m             \u001b[1;32mtry\u001b[0m\u001b[1;33m:\u001b[0m\u001b[1;33m\u001b[0m\u001b[1;33m\u001b[0m\u001b[0m\n\u001b[1;32m-> 2646\u001b[1;33m                 \u001b[1;32mreturn\u001b[0m \u001b[0mself\u001b[0m\u001b[1;33m.\u001b[0m\u001b[0m_engine\u001b[0m\u001b[1;33m.\u001b[0m\u001b[0mget_loc\u001b[0m\u001b[1;33m(\u001b[0m\u001b[0mkey\u001b[0m\u001b[1;33m)\u001b[0m\u001b[1;33m\u001b[0m\u001b[1;33m\u001b[0m\u001b[0m\n\u001b[0m\u001b[0;32m   2647\u001b[0m             \u001b[1;32mexcept\u001b[0m \u001b[0mKeyError\u001b[0m\u001b[1;33m:\u001b[0m\u001b[1;33m\u001b[0m\u001b[1;33m\u001b[0m\u001b[0m\n",
      "\u001b[1;32mpandas\\_libs\\index.pyx\u001b[0m in \u001b[0;36mpandas._libs.index.IndexEngine.get_loc\u001b[1;34m()\u001b[0m\n",
      "\u001b[1;32mpandas\\_libs\\index.pyx\u001b[0m in \u001b[0;36mpandas._libs.index.IndexEngine.get_loc\u001b[1;34m()\u001b[0m\n",
      "\u001b[1;32mpandas\\_libs\\hashtable_class_helper.pxi\u001b[0m in \u001b[0;36mpandas._libs.hashtable.PyObjectHashTable.get_item\u001b[1;34m()\u001b[0m\n",
      "\u001b[1;32mpandas\\_libs\\hashtable_class_helper.pxi\u001b[0m in \u001b[0;36mpandas._libs.hashtable.PyObjectHashTable.get_item\u001b[1;34m()\u001b[0m\n",
      "\u001b[1;31mKeyError\u001b[0m: 100",
      "\nDuring handling of the above exception, another exception occurred:\n",
      "\u001b[1;31mKeyError\u001b[0m                                  Traceback (most recent call last)",
      "\u001b[1;32m<ipython-input-8-54b0a0a83710>\u001b[0m in \u001b[0;36m<module>\u001b[1;34m\u001b[0m\n\u001b[0;32m      1\u001b[0m \u001b[1;31m# this doesn't\u001b[0m\u001b[1;33m\u001b[0m\u001b[1;33m\u001b[0m\u001b[1;33m\u001b[0m\u001b[0m\n\u001b[1;32m----> 2\u001b[1;33m \u001b[0myelp_df\u001b[0m\u001b[1;33m[\u001b[0m\u001b[1;36m100\u001b[0m\u001b[1;33m]\u001b[0m\u001b[1;33m[\u001b[0m\u001b[1;34m'city'\u001b[0m\u001b[1;33m]\u001b[0m\u001b[1;33m\u001b[0m\u001b[1;33m\u001b[0m\u001b[0m\n\u001b[0m",
      "\u001b[1;32mC:\\Anaconda3\\lib\\site-packages\\pandas\\core\\frame.py\u001b[0m in \u001b[0;36m__getitem__\u001b[1;34m(self, key)\u001b[0m\n\u001b[0;32m   2798\u001b[0m             \u001b[1;32mif\u001b[0m \u001b[0mself\u001b[0m\u001b[1;33m.\u001b[0m\u001b[0mcolumns\u001b[0m\u001b[1;33m.\u001b[0m\u001b[0mnlevels\u001b[0m \u001b[1;33m>\u001b[0m \u001b[1;36m1\u001b[0m\u001b[1;33m:\u001b[0m\u001b[1;33m\u001b[0m\u001b[1;33m\u001b[0m\u001b[0m\n\u001b[0;32m   2799\u001b[0m                 \u001b[1;32mreturn\u001b[0m \u001b[0mself\u001b[0m\u001b[1;33m.\u001b[0m\u001b[0m_getitem_multilevel\u001b[0m\u001b[1;33m(\u001b[0m\u001b[0mkey\u001b[0m\u001b[1;33m)\u001b[0m\u001b[1;33m\u001b[0m\u001b[1;33m\u001b[0m\u001b[0m\n\u001b[1;32m-> 2800\u001b[1;33m             \u001b[0mindexer\u001b[0m \u001b[1;33m=\u001b[0m \u001b[0mself\u001b[0m\u001b[1;33m.\u001b[0m\u001b[0mcolumns\u001b[0m\u001b[1;33m.\u001b[0m\u001b[0mget_loc\u001b[0m\u001b[1;33m(\u001b[0m\u001b[0mkey\u001b[0m\u001b[1;33m)\u001b[0m\u001b[1;33m\u001b[0m\u001b[1;33m\u001b[0m\u001b[0m\n\u001b[0m\u001b[0;32m   2801\u001b[0m             \u001b[1;32mif\u001b[0m \u001b[0mis_integer\u001b[0m\u001b[1;33m(\u001b[0m\u001b[0mindexer\u001b[0m\u001b[1;33m)\u001b[0m\u001b[1;33m:\u001b[0m\u001b[1;33m\u001b[0m\u001b[1;33m\u001b[0m\u001b[0m\n\u001b[0;32m   2802\u001b[0m                 \u001b[0mindexer\u001b[0m \u001b[1;33m=\u001b[0m \u001b[1;33m[\u001b[0m\u001b[0mindexer\u001b[0m\u001b[1;33m]\u001b[0m\u001b[1;33m\u001b[0m\u001b[1;33m\u001b[0m\u001b[0m\n",
      "\u001b[1;32mC:\\Anaconda3\\lib\\site-packages\\pandas\\core\\indexes\\base.py\u001b[0m in \u001b[0;36mget_loc\u001b[1;34m(self, key, method, tolerance)\u001b[0m\n\u001b[0;32m   2646\u001b[0m                 \u001b[1;32mreturn\u001b[0m \u001b[0mself\u001b[0m\u001b[1;33m.\u001b[0m\u001b[0m_engine\u001b[0m\u001b[1;33m.\u001b[0m\u001b[0mget_loc\u001b[0m\u001b[1;33m(\u001b[0m\u001b[0mkey\u001b[0m\u001b[1;33m)\u001b[0m\u001b[1;33m\u001b[0m\u001b[1;33m\u001b[0m\u001b[0m\n\u001b[0;32m   2647\u001b[0m             \u001b[1;32mexcept\u001b[0m \u001b[0mKeyError\u001b[0m\u001b[1;33m:\u001b[0m\u001b[1;33m\u001b[0m\u001b[1;33m\u001b[0m\u001b[0m\n\u001b[1;32m-> 2648\u001b[1;33m                 \u001b[1;32mreturn\u001b[0m \u001b[0mself\u001b[0m\u001b[1;33m.\u001b[0m\u001b[0m_engine\u001b[0m\u001b[1;33m.\u001b[0m\u001b[0mget_loc\u001b[0m\u001b[1;33m(\u001b[0m\u001b[0mself\u001b[0m\u001b[1;33m.\u001b[0m\u001b[0m_maybe_cast_indexer\u001b[0m\u001b[1;33m(\u001b[0m\u001b[0mkey\u001b[0m\u001b[1;33m)\u001b[0m\u001b[1;33m)\u001b[0m\u001b[1;33m\u001b[0m\u001b[1;33m\u001b[0m\u001b[0m\n\u001b[0m\u001b[0;32m   2649\u001b[0m         \u001b[0mindexer\u001b[0m \u001b[1;33m=\u001b[0m \u001b[0mself\u001b[0m\u001b[1;33m.\u001b[0m\u001b[0mget_indexer\u001b[0m\u001b[1;33m(\u001b[0m\u001b[1;33m[\u001b[0m\u001b[0mkey\u001b[0m\u001b[1;33m]\u001b[0m\u001b[1;33m,\u001b[0m \u001b[0mmethod\u001b[0m\u001b[1;33m=\u001b[0m\u001b[0mmethod\u001b[0m\u001b[1;33m,\u001b[0m \u001b[0mtolerance\u001b[0m\u001b[1;33m=\u001b[0m\u001b[0mtolerance\u001b[0m\u001b[1;33m)\u001b[0m\u001b[1;33m\u001b[0m\u001b[1;33m\u001b[0m\u001b[0m\n\u001b[0;32m   2650\u001b[0m         \u001b[1;32mif\u001b[0m \u001b[0mindexer\u001b[0m\u001b[1;33m.\u001b[0m\u001b[0mndim\u001b[0m \u001b[1;33m>\u001b[0m \u001b[1;36m1\u001b[0m \u001b[1;32mor\u001b[0m \u001b[0mindexer\u001b[0m\u001b[1;33m.\u001b[0m\u001b[0msize\u001b[0m \u001b[1;33m>\u001b[0m \u001b[1;36m1\u001b[0m\u001b[1;33m:\u001b[0m\u001b[1;33m\u001b[0m\u001b[1;33m\u001b[0m\u001b[0m\n",
      "\u001b[1;32mpandas\\_libs\\index.pyx\u001b[0m in \u001b[0;36mpandas._libs.index.IndexEngine.get_loc\u001b[1;34m()\u001b[0m\n",
      "\u001b[1;32mpandas\\_libs\\index.pyx\u001b[0m in \u001b[0;36mpandas._libs.index.IndexEngine.get_loc\u001b[1;34m()\u001b[0m\n",
      "\u001b[1;32mpandas\\_libs\\hashtable_class_helper.pxi\u001b[0m in \u001b[0;36mpandas._libs.hashtable.PyObjectHashTable.get_item\u001b[1;34m()\u001b[0m\n",
      "\u001b[1;32mpandas\\_libs\\hashtable_class_helper.pxi\u001b[0m in \u001b[0;36mpandas._libs.hashtable.PyObjectHashTable.get_item\u001b[1;34m()\u001b[0m\n",
      "\u001b[1;31mKeyError\u001b[0m: 100"
     ]
    }
   ],
   "source": [
    "# this doesn't\n",
    "yelp_df[100]['city']"
   ]
  },
  {
   "cell_type": "code",
   "execution_count": 9,
   "metadata": {
    "id": "Obh9Y7Q_YtEG"
   },
   "outputs": [
    {
     "data": {
      "text/plain": [
       "'Madison'"
      ]
     },
     "execution_count": 9,
     "metadata": {},
     "output_type": "execute_result"
    }
   ],
   "source": [
    "yelp_df.loc[100, 'city']"
   ]
  },
  {
   "cell_type": "markdown",
   "metadata": {
    "id": "7lf3zDLxYtEG"
   },
   "source": [
    "`DataFrame` 객체의 기본 구조를 `Series`의 `dict`라고 이해를 하면, 작업 과정에서 오류를 방지하고 더 복잡한 분석을 시작할 때 `DataFrame`이 어떻게 작동해야 하는지 생각하는 데 도움이 됩니다.\n",
    "\n",
    "또한 `mean`, `sum`, `count` 및 `std`와 같은 방법을 사용하여 `DataFrame`의 데이터를 집계할 수 있습니다. 더불어 각 열에 대한 요약 통계 모음을 보려면 `describe` 메서드를 사용하면 됩니다."
   ]
  },
  {
   "cell_type": "code",
   "execution_count": 10,
   "metadata": {
    "id": "nUwbhx5zYtEH"
   },
   "outputs": [
    {
     "data": {
      "text/html": [
       "<div>\n",
       "<style scoped>\n",
       "    .dataframe tbody tr th:only-of-type {\n",
       "        vertical-align: middle;\n",
       "    }\n",
       "\n",
       "    .dataframe tbody tr th {\n",
       "        vertical-align: top;\n",
       "    }\n",
       "\n",
       "    .dataframe thead th {\n",
       "        text-align: right;\n",
       "    }\n",
       "</style>\n",
       "<table border=\"1\" class=\"dataframe\">\n",
       "  <thead>\n",
       "    <tr style=\"text-align: right;\">\n",
       "      <th></th>\n",
       "      <th>review_count</th>\n",
       "      <th>longitude</th>\n",
       "      <th>stars</th>\n",
       "      <th>latitude</th>\n",
       "    </tr>\n",
       "  </thead>\n",
       "  <tbody>\n",
       "    <tr>\n",
       "      <th>count</th>\n",
       "      <td>37938.000000</td>\n",
       "      <td>37938.000000</td>\n",
       "      <td>37938.000000</td>\n",
       "      <td>37938.000000</td>\n",
       "    </tr>\n",
       "    <tr>\n",
       "      <th>mean</th>\n",
       "      <td>29.300648</td>\n",
       "      <td>-104.097172</td>\n",
       "      <td>3.672914</td>\n",
       "      <td>36.530288</td>\n",
       "    </tr>\n",
       "    <tr>\n",
       "      <th>std</th>\n",
       "      <td>92.893064</td>\n",
       "      <td>28.365375</td>\n",
       "      <td>0.888730</td>\n",
       "      <td>5.822588</td>\n",
       "    </tr>\n",
       "    <tr>\n",
       "      <th>min</th>\n",
       "      <td>3.000000</td>\n",
       "      <td>-115.369725</td>\n",
       "      <td>1.000000</td>\n",
       "      <td>32.876638</td>\n",
       "    </tr>\n",
       "    <tr>\n",
       "      <th>25%</th>\n",
       "      <td>4.000000</td>\n",
       "      <td>-115.136389</td>\n",
       "      <td>3.000000</td>\n",
       "      <td>33.476739</td>\n",
       "    </tr>\n",
       "    <tr>\n",
       "      <th>50%</th>\n",
       "      <td>8.000000</td>\n",
       "      <td>-112.068820</td>\n",
       "      <td>3.500000</td>\n",
       "      <td>33.680247</td>\n",
       "    </tr>\n",
       "    <tr>\n",
       "      <th>75%</th>\n",
       "      <td>21.000000</td>\n",
       "      <td>-111.883274</td>\n",
       "      <td>4.500000</td>\n",
       "      <td>36.141875</td>\n",
       "    </tr>\n",
       "    <tr>\n",
       "      <th>max</th>\n",
       "      <td>4084.000000</td>\n",
       "      <td>-3.050088</td>\n",
       "      <td>5.000000</td>\n",
       "      <td>56.033777</td>\n",
       "    </tr>\n",
       "  </tbody>\n",
       "</table>\n",
       "</div>"
      ],
      "text/plain": [
       "       review_count     longitude         stars      latitude\n",
       "count  37938.000000  37938.000000  37938.000000  37938.000000\n",
       "mean      29.300648   -104.097172      3.672914     36.530288\n",
       "std       92.893064     28.365375      0.888730      5.822588\n",
       "min        3.000000   -115.369725      1.000000     32.876638\n",
       "25%        4.000000   -115.136389      3.000000     33.476739\n",
       "50%        8.000000   -112.068820      3.500000     33.680247\n",
       "75%       21.000000   -111.883274      4.500000     36.141875\n",
       "max     4084.000000     -3.050088      5.000000     56.033777"
      ]
     },
     "execution_count": 10,
     "metadata": {},
     "output_type": "execute_result"
    }
   ],
   "source": [
    "yelp_df.describe()"
   ]
  },
  {
   "cell_type": "markdown",
   "metadata": {
    "id": "c0L72aVSYtEH"
   },
   "source": [
    "데이터프레임의 유용성은 `groupby` 메소드라는 것을 사용하여 데이터를 그룹으로 분할한 뒤 `apply` 혹은 `aggregate`이라는 메서드를 사용해서 사용자 정의 기반의 데이터 집계를 수행할 수 있다는 데서 비롯됩니다. 데이터를 그룹으로 분할하고 집계하여 결과를 취합하는 이러한 프로세스에 대해 더 자세하게 알아보기 위해서는 [판다스 공식문서](https://pandas.pydata.org/pandas-docs/stable/groupby.html)를 참고하면 좋습니다. 이번 강의의 주요 목적은 바로 이 데이터 분석입니다."
   ]
  },
  {
   "cell_type": "markdown",
   "metadata": {
    "id": "PklgKMzAYtEI"
   },
   "source": [
    "## 데이터프레임 생성 (DataFrame construction)\n",
    "\n",
    "`DataFrame`은 결국 `Series`의 `dict`이므로, 이를 생성하는 기본적인 방법은 당연히 `Series` 객체들의 `dict`를 활용하는 것입니다."
   ]
  },
  {
   "cell_type": "code",
   "execution_count": 2,
   "metadata": {
    "id": "bBS-OweSYtEI"
   },
   "outputs": [],
   "source": [
    "from string import ascii_letters, digits\n",
    "import numpy as np\n",
    "import datetime"
   ]
  },
  {
   "cell_type": "code",
   "execution_count": 12,
   "metadata": {
    "id": "4GNY2qnnYtEI"
   },
   "outputs": [],
   "source": [
    "usernames = ['alice36', 'bob_smith', 'eve']\n",
    "\n",
    "passwords = [''.join(np.random.choice(list(ascii_letters + digits), 8)) for x in range(3)]\n",
    "creation_dates = [datetime.datetime.now().date() - datetime.timedelta(int(x)) for x in np.random.randint(0, 1500, 3)]"
   ]
  },
  {
   "cell_type": "code",
   "execution_count": 13,
   "metadata": {
    "id": "ygF-P5DgYtEJ"
   },
   "outputs": [
    {
     "data": {
      "text/html": [
       "<div>\n",
       "<style scoped>\n",
       "    .dataframe tbody tr th:only-of-type {\n",
       "        vertical-align: middle;\n",
       "    }\n",
       "\n",
       "    .dataframe tbody tr th {\n",
       "        vertical-align: top;\n",
       "    }\n",
       "\n",
       "    .dataframe thead th {\n",
       "        text-align: right;\n",
       "    }\n",
       "</style>\n",
       "<table border=\"1\" class=\"dataframe\">\n",
       "  <thead>\n",
       "    <tr style=\"text-align: right;\">\n",
       "      <th></th>\n",
       "      <th>username</th>\n",
       "      <th>password</th>\n",
       "      <th>date-created</th>\n",
       "    </tr>\n",
       "  </thead>\n",
       "  <tbody>\n",
       "    <tr>\n",
       "      <th>0</th>\n",
       "      <td>alice36</td>\n",
       "      <td>ylLec08T</td>\n",
       "      <td>2018-11-15</td>\n",
       "    </tr>\n",
       "    <tr>\n",
       "      <th>1</th>\n",
       "      <td>bob_smith</td>\n",
       "      <td>dCIxPiNM</td>\n",
       "      <td>2020-09-07</td>\n",
       "    </tr>\n",
       "    <tr>\n",
       "      <th>2</th>\n",
       "      <td>eve</td>\n",
       "      <td>yHdBxedI</td>\n",
       "      <td>2018-03-28</td>\n",
       "    </tr>\n",
       "  </tbody>\n",
       "</table>\n",
       "</div>"
      ],
      "text/plain": [
       "    username  password date-created\n",
       "0    alice36  ylLec08T   2018-11-15\n",
       "1  bob_smith  dCIxPiNM   2020-09-07\n",
       "2        eve  yHdBxedI   2018-03-28"
      ]
     },
     "execution_count": 13,
     "metadata": {},
     "output_type": "execute_result"
    }
   ],
   "source": [
    "df = pd.DataFrame({'username': usernames, 'password': passwords, 'date-created': pd.to_datetime(creation_dates)})\n",
    "df"
   ]
  },
  {
   "cell_type": "code",
   "execution_count": 14,
   "metadata": {
    "id": "YHH_H07lYtEJ"
   },
   "outputs": [
    {
     "data": {
      "text/plain": [
       "username                object\n",
       "password                object\n",
       "date-created    datetime64[ns]\n",
       "dtype: object"
      ]
     },
     "execution_count": 14,
     "metadata": {},
     "output_type": "execute_result"
    }
   ],
   "source": [
    "df.dtypes"
   ]
  },
  {
   "cell_type": "markdown",
   "metadata": {
    "id": "RpBBHOM5YtEJ"
   },
   "source": [
    "`DataFrame`은 또한 넘파이의 `ndarray`와 밀접하게 연관되어 있습니다."
   ]
  },
  {
   "cell_type": "code",
   "execution_count": 15,
   "metadata": {
    "id": "sVlJHfzKYtEJ"
   },
   "outputs": [
    {
     "data": {
      "text/plain": [
       "array([[0.54895825, 0.60798748, 0.09158656],\n",
       "       [0.97177048, 0.17686699, 0.44550966],\n",
       "       [0.00604287, 0.31461326, 0.71514715],\n",
       "       [0.06022502, 0.93218799, 0.07985685]])"
      ]
     },
     "execution_count": 15,
     "metadata": {},
     "output_type": "execute_result"
    }
   ],
   "source": [
    "random_data = np.random.random((4,3))\n",
    "random_data"
   ]
  },
  {
   "cell_type": "code",
   "execution_count": 16,
   "metadata": {
    "id": "nRoZoRT0YtEK"
   },
   "outputs": [
    {
     "data": {
      "text/html": [
       "<div>\n",
       "<style scoped>\n",
       "    .dataframe tbody tr th:only-of-type {\n",
       "        vertical-align: middle;\n",
       "    }\n",
       "\n",
       "    .dataframe tbody tr th {\n",
       "        vertical-align: top;\n",
       "    }\n",
       "\n",
       "    .dataframe thead th {\n",
       "        text-align: right;\n",
       "    }\n",
       "</style>\n",
       "<table border=\"1\" class=\"dataframe\">\n",
       "  <thead>\n",
       "    <tr style=\"text-align: right;\">\n",
       "      <th></th>\n",
       "      <th>a</th>\n",
       "      <th>b</th>\n",
       "      <th>c</th>\n",
       "    </tr>\n",
       "  </thead>\n",
       "  <tbody>\n",
       "    <tr>\n",
       "      <th>0</th>\n",
       "      <td>0.548958</td>\n",
       "      <td>0.607987</td>\n",
       "      <td>0.091587</td>\n",
       "    </tr>\n",
       "    <tr>\n",
       "      <th>1</th>\n",
       "      <td>0.971770</td>\n",
       "      <td>0.176867</td>\n",
       "      <td>0.445510</td>\n",
       "    </tr>\n",
       "    <tr>\n",
       "      <th>2</th>\n",
       "      <td>0.006043</td>\n",
       "      <td>0.314613</td>\n",
       "      <td>0.715147</td>\n",
       "    </tr>\n",
       "    <tr>\n",
       "      <th>3</th>\n",
       "      <td>0.060225</td>\n",
       "      <td>0.932188</td>\n",
       "      <td>0.079857</td>\n",
       "    </tr>\n",
       "  </tbody>\n",
       "</table>\n",
       "</div>"
      ],
      "text/plain": [
       "          a         b         c\n",
       "0  0.548958  0.607987  0.091587\n",
       "1  0.971770  0.176867  0.445510\n",
       "2  0.006043  0.314613  0.715147\n",
       "3  0.060225  0.932188  0.079857"
      ]
     },
     "execution_count": 16,
     "metadata": {},
     "output_type": "execute_result"
    }
   ],
   "source": [
    "df_random = pd.DataFrame(random_data, columns=['a', 'b', 'c'])\n",
    "df_random"
   ]
  },
  {
   "cell_type": "markdown",
   "metadata": {
    "id": "Wg1-_RifYtEK"
   },
   "source": [
    "새로운 열이나 행을 추가하기 위해서는 단순히 `dict`의 방식처럼 할당을 하면 됩니다."
   ]
  },
  {
   "cell_type": "code",
   "execution_count": 17,
   "metadata": {
    "id": "vx3bFnO0YtEK"
   },
   "outputs": [
    {
     "data": {
      "text/html": [
       "<div>\n",
       "<style scoped>\n",
       "    .dataframe tbody tr th:only-of-type {\n",
       "        vertical-align: middle;\n",
       "    }\n",
       "\n",
       "    .dataframe tbody tr th {\n",
       "        vertical-align: top;\n",
       "    }\n",
       "\n",
       "    .dataframe thead th {\n",
       "        text-align: right;\n",
       "    }\n",
       "</style>\n",
       "<table border=\"1\" class=\"dataframe\">\n",
       "  <thead>\n",
       "    <tr style=\"text-align: right;\">\n",
       "      <th></th>\n",
       "      <th>username</th>\n",
       "      <th>password</th>\n",
       "      <th>date-created</th>\n",
       "      <th>email</th>\n",
       "    </tr>\n",
       "  </thead>\n",
       "  <tbody>\n",
       "    <tr>\n",
       "      <th>0</th>\n",
       "      <td>alice36</td>\n",
       "      <td>ylLec08T</td>\n",
       "      <td>2018-11-15</td>\n",
       "      <td>alice.chan@gmail.com</td>\n",
       "    </tr>\n",
       "    <tr>\n",
       "      <th>1</th>\n",
       "      <td>bob_smith</td>\n",
       "      <td>dCIxPiNM</td>\n",
       "      <td>2020-09-07</td>\n",
       "      <td>bwsmith1983@gmail.com</td>\n",
       "    </tr>\n",
       "    <tr>\n",
       "      <th>2</th>\n",
       "      <td>eve</td>\n",
       "      <td>yHdBxedI</td>\n",
       "      <td>2018-03-28</td>\n",
       "      <td>fakemail123@yahoo.com</td>\n",
       "    </tr>\n",
       "  </tbody>\n",
       "</table>\n",
       "</div>"
      ],
      "text/plain": [
       "    username  password date-created                  email\n",
       "0    alice36  ylLec08T   2018-11-15   alice.chan@gmail.com\n",
       "1  bob_smith  dCIxPiNM   2020-09-07  bwsmith1983@gmail.com\n",
       "2        eve  yHdBxedI   2018-03-28  fakemail123@yahoo.com"
      ]
     },
     "execution_count": 17,
     "metadata": {},
     "output_type": "execute_result"
    }
   ],
   "source": [
    "emails = ['alice.chan@gmail.com', 'bwsmith1983@gmail.com', 'fakemail123@yahoo.com']\n",
    "df['email'] = emails\n",
    "df"
   ]
  },
  {
   "cell_type": "code",
   "execution_count": 18,
   "metadata": {
    "id": "iMCZV3-iYtEK"
   },
   "outputs": [
    {
     "data": {
      "text/html": [
       "<div>\n",
       "<style scoped>\n",
       "    .dataframe tbody tr th:only-of-type {\n",
       "        vertical-align: middle;\n",
       "    }\n",
       "\n",
       "    .dataframe tbody tr th {\n",
       "        vertical-align: top;\n",
       "    }\n",
       "\n",
       "    .dataframe thead th {\n",
       "        text-align: right;\n",
       "    }\n",
       "</style>\n",
       "<table border=\"1\" class=\"dataframe\">\n",
       "  <thead>\n",
       "    <tr style=\"text-align: right;\">\n",
       "      <th></th>\n",
       "      <th>username</th>\n",
       "      <th>password</th>\n",
       "      <th>date-created</th>\n",
       "      <th>email</th>\n",
       "    </tr>\n",
       "  </thead>\n",
       "  <tbody>\n",
       "    <tr>\n",
       "      <th>0</th>\n",
       "      <td>alice36</td>\n",
       "      <td>ylLec08T</td>\n",
       "      <td>2018-11-15 00:00:00</td>\n",
       "      <td>alice.chan@gmail.com</td>\n",
       "    </tr>\n",
       "    <tr>\n",
       "      <th>1</th>\n",
       "      <td>bob_smith</td>\n",
       "      <td>dCIxPiNM</td>\n",
       "      <td>2020-09-07 00:00:00</td>\n",
       "      <td>bwsmith1983@gmail.com</td>\n",
       "    </tr>\n",
       "    <tr>\n",
       "      <th>2</th>\n",
       "      <td>eve</td>\n",
       "      <td>yHdBxedI</td>\n",
       "      <td>2018-03-28 00:00:00</td>\n",
       "      <td>fakemail123@yahoo.com</td>\n",
       "    </tr>\n",
       "    <tr>\n",
       "      <th>3</th>\n",
       "      <td>2015-01-29</td>\n",
       "      <td>38uzFJ1n</td>\n",
       "      <td>melvintherobot</td>\n",
       "      <td>moviesrgood@moviesrgood.com</td>\n",
       "    </tr>\n",
       "  </tbody>\n",
       "</table>\n",
       "</div>"
      ],
      "text/plain": [
       "     username  password         date-created                        email\n",
       "0     alice36  ylLec08T  2018-11-15 00:00:00         alice.chan@gmail.com\n",
       "1   bob_smith  dCIxPiNM  2020-09-07 00:00:00        bwsmith1983@gmail.com\n",
       "2         eve  yHdBxedI  2018-03-28 00:00:00        fakemail123@yahoo.com\n",
       "3  2015-01-29  38uzFJ1n       melvintherobot  moviesrgood@moviesrgood.com"
      ]
     },
     "execution_count": 18,
     "metadata": {},
     "output_type": "execute_result"
    }
   ],
   "source": [
    "# loc references index value, NOT position\n",
    "# for position use iloc\n",
    "df.loc[3] = ['2015-01-29', '38uzFJ1n', 'melvintherobot', 'moviesrgood@moviesrgood.com']\n",
    "df"
   ]
  },
  {
   "cell_type": "markdown",
   "metadata": {
    "id": "IRlscKarYtEL"
   },
   "source": [
    "또한 열이나 행을 `drop` 메서드를 사용해 제거할 수도 있습니다."
   ]
  },
  {
   "cell_type": "code",
   "execution_count": 19,
   "metadata": {
    "id": "7yKAx3SfYtEL"
   },
   "outputs": [
    {
     "data": {
      "text/html": [
       "<div>\n",
       "<style scoped>\n",
       "    .dataframe tbody tr th:only-of-type {\n",
       "        vertical-align: middle;\n",
       "    }\n",
       "\n",
       "    .dataframe tbody tr th {\n",
       "        vertical-align: top;\n",
       "    }\n",
       "\n",
       "    .dataframe thead th {\n",
       "        text-align: right;\n",
       "    }\n",
       "</style>\n",
       "<table border=\"1\" class=\"dataframe\">\n",
       "  <thead>\n",
       "    <tr style=\"text-align: right;\">\n",
       "      <th></th>\n",
       "      <th>username</th>\n",
       "      <th>password</th>\n",
       "      <th>date-created</th>\n",
       "      <th>email</th>\n",
       "    </tr>\n",
       "  </thead>\n",
       "  <tbody>\n",
       "    <tr>\n",
       "      <th>0</th>\n",
       "      <td>alice36</td>\n",
       "      <td>ylLec08T</td>\n",
       "      <td>2018-11-15 00:00:00</td>\n",
       "      <td>alice.chan@gmail.com</td>\n",
       "    </tr>\n",
       "    <tr>\n",
       "      <th>1</th>\n",
       "      <td>bob_smith</td>\n",
       "      <td>dCIxPiNM</td>\n",
       "      <td>2020-09-07 00:00:00</td>\n",
       "      <td>bwsmith1983@gmail.com</td>\n",
       "    </tr>\n",
       "    <tr>\n",
       "      <th>2</th>\n",
       "      <td>eve</td>\n",
       "      <td>yHdBxedI</td>\n",
       "      <td>2018-03-28 00:00:00</td>\n",
       "      <td>fakemail123@yahoo.com</td>\n",
       "    </tr>\n",
       "  </tbody>\n",
       "</table>\n",
       "</div>"
      ],
      "text/plain": [
       "    username  password         date-created                  email\n",
       "0    alice36  ylLec08T  2018-11-15 00:00:00   alice.chan@gmail.com\n",
       "1  bob_smith  dCIxPiNM  2020-09-07 00:00:00  bwsmith1983@gmail.com\n",
       "2        eve  yHdBxedI  2018-03-28 00:00:00  fakemail123@yahoo.com"
      ]
     },
     "execution_count": 19,
     "metadata": {},
     "output_type": "execute_result"
    }
   ],
   "source": [
    "df.drop(3)"
   ]
  },
  {
   "cell_type": "code",
   "execution_count": 20,
   "metadata": {
    "id": "v41HOf3mYtEL"
   },
   "outputs": [
    {
     "data": {
      "text/html": [
       "<div>\n",
       "<style scoped>\n",
       "    .dataframe tbody tr th:only-of-type {\n",
       "        vertical-align: middle;\n",
       "    }\n",
       "\n",
       "    .dataframe tbody tr th {\n",
       "        vertical-align: top;\n",
       "    }\n",
       "\n",
       "    .dataframe thead th {\n",
       "        text-align: right;\n",
       "    }\n",
       "</style>\n",
       "<table border=\"1\" class=\"dataframe\">\n",
       "  <thead>\n",
       "    <tr style=\"text-align: right;\">\n",
       "      <th></th>\n",
       "      <th>username</th>\n",
       "      <th>password</th>\n",
       "      <th>date-created</th>\n",
       "    </tr>\n",
       "  </thead>\n",
       "  <tbody>\n",
       "    <tr>\n",
       "      <th>0</th>\n",
       "      <td>alice36</td>\n",
       "      <td>ylLec08T</td>\n",
       "      <td>2018-11-15 00:00:00</td>\n",
       "    </tr>\n",
       "    <tr>\n",
       "      <th>1</th>\n",
       "      <td>bob_smith</td>\n",
       "      <td>dCIxPiNM</td>\n",
       "      <td>2020-09-07 00:00:00</td>\n",
       "    </tr>\n",
       "    <tr>\n",
       "      <th>2</th>\n",
       "      <td>eve</td>\n",
       "      <td>yHdBxedI</td>\n",
       "      <td>2018-03-28 00:00:00</td>\n",
       "    </tr>\n",
       "    <tr>\n",
       "      <th>3</th>\n",
       "      <td>2015-01-29</td>\n",
       "      <td>38uzFJ1n</td>\n",
       "      <td>melvintherobot</td>\n",
       "    </tr>\n",
       "  </tbody>\n",
       "</table>\n",
       "</div>"
      ],
      "text/plain": [
       "     username  password         date-created\n",
       "0     alice36  ylLec08T  2018-11-15 00:00:00\n",
       "1   bob_smith  dCIxPiNM  2020-09-07 00:00:00\n",
       "2         eve  yHdBxedI  2018-03-28 00:00:00\n",
       "3  2015-01-29  38uzFJ1n       melvintherobot"
      ]
     },
     "execution_count": 20,
     "metadata": {},
     "output_type": "execute_result"
    }
   ],
   "source": [
    "# to drop a column, need axis=1\n",
    "df.drop('email', axis=1)"
   ]
  },
  {
   "cell_type": "markdown",
   "metadata": {
    "id": "YNKReSv7YtEL"
   },
   "source": [
    "위의 예시에서 이미 세번째 인덱스의 행을 삭제했음에도 불구하고 이 행이 데이터프레임에 그대로 남아있는 것을 확인할 수 있습니다. 판다스 내에서 대부분의 작업은 `DataFrame` 객체 자체를 수정하는 대신 이것의 복사본을 반환하게 되어있습니다. 따라서 만약 어떤 데이터프레임을 영구적으로 변경하고 싶다면 `df` 변수를 다시 할당하거나 `inplace`라는 키워드를 사용해야 합니다."
   ]
  },
  {
   "cell_type": "code",
   "execution_count": 21,
   "metadata": {
    "id": "JKl3j4YCYtEM"
   },
   "outputs": [
    {
     "data": {
      "text/html": [
       "<div>\n",
       "<style scoped>\n",
       "    .dataframe tbody tr th:only-of-type {\n",
       "        vertical-align: middle;\n",
       "    }\n",
       "\n",
       "    .dataframe tbody tr th {\n",
       "        vertical-align: top;\n",
       "    }\n",
       "\n",
       "    .dataframe thead th {\n",
       "        text-align: right;\n",
       "    }\n",
       "</style>\n",
       "<table border=\"1\" class=\"dataframe\">\n",
       "  <thead>\n",
       "    <tr style=\"text-align: right;\">\n",
       "      <th></th>\n",
       "      <th>username</th>\n",
       "      <th>password</th>\n",
       "      <th>date-created</th>\n",
       "      <th>email</th>\n",
       "    </tr>\n",
       "  </thead>\n",
       "  <tbody>\n",
       "    <tr>\n",
       "      <th>0</th>\n",
       "      <td>alice36</td>\n",
       "      <td>ylLec08T</td>\n",
       "      <td>2018-11-15 00:00:00</td>\n",
       "      <td>alice.chan@gmail.com</td>\n",
       "    </tr>\n",
       "    <tr>\n",
       "      <th>1</th>\n",
       "      <td>bob_smith</td>\n",
       "      <td>dCIxPiNM</td>\n",
       "      <td>2020-09-07 00:00:00</td>\n",
       "      <td>bwsmith1983@gmail.com</td>\n",
       "    </tr>\n",
       "    <tr>\n",
       "      <th>2</th>\n",
       "      <td>eve</td>\n",
       "      <td>yHdBxedI</td>\n",
       "      <td>2018-03-28 00:00:00</td>\n",
       "      <td>fakemail123@yahoo.com</td>\n",
       "    </tr>\n",
       "  </tbody>\n",
       "</table>\n",
       "</div>"
      ],
      "text/plain": [
       "    username  password         date-created                  email\n",
       "0    alice36  ylLec08T  2018-11-15 00:00:00   alice.chan@gmail.com\n",
       "1  bob_smith  dCIxPiNM  2020-09-07 00:00:00  bwsmith1983@gmail.com\n",
       "2        eve  yHdBxedI  2018-03-28 00:00:00  fakemail123@yahoo.com"
      ]
     },
     "execution_count": 21,
     "metadata": {},
     "output_type": "execute_result"
    }
   ],
   "source": [
    "df.drop(3, inplace=True)\n",
    "df"
   ]
  },
  {
   "cell_type": "markdown",
   "metadata": {
    "id": "tsQEX-k1YtEM"
   },
   "source": [
    "`index`와 열 이름은 데이터프레임의 데이터와 상호 작용하는 데 중요하기 때문에 우리가 직관적으로 이해할 수 있는 값들로 설정해야 합니다. 인덱스 값과 열 이름을 설정하는 것은 데이터프레임을 처음 생성할 때나 혹은 추후에 이를 수정할 때 모두 가능합니다."
   ]
  },
  {
   "cell_type": "code",
   "execution_count": 22,
   "metadata": {
    "id": "EjYBaWYLYtEM"
   },
   "outputs": [
    {
     "data": {
      "text/html": [
       "<div>\n",
       "<style scoped>\n",
       "    .dataframe tbody tr th:only-of-type {\n",
       "        vertical-align: middle;\n",
       "    }\n",
       "\n",
       "    .dataframe tbody tr th {\n",
       "        vertical-align: top;\n",
       "    }\n",
       "\n",
       "    .dataframe thead th {\n",
       "        text-align: right;\n",
       "    }\n",
       "</style>\n",
       "<table border=\"1\" class=\"dataframe\">\n",
       "  <thead>\n",
       "    <tr style=\"text-align: right;\">\n",
       "      <th></th>\n",
       "      <th>email</th>\n",
       "      <th>password</th>\n",
       "      <th>date-created</th>\n",
       "    </tr>\n",
       "    <tr>\n",
       "      <th>users</th>\n",
       "      <th></th>\n",
       "      <th></th>\n",
       "      <th></th>\n",
       "    </tr>\n",
       "  </thead>\n",
       "  <tbody>\n",
       "    <tr>\n",
       "      <th>alice36</th>\n",
       "      <td>alice.chan@gmail.com</td>\n",
       "      <td>ylLec08T</td>\n",
       "      <td>2018-11-15</td>\n",
       "    </tr>\n",
       "    <tr>\n",
       "      <th>bob_smith</th>\n",
       "      <td>bwsmith1983@gmail.com</td>\n",
       "      <td>dCIxPiNM</td>\n",
       "      <td>2020-09-07</td>\n",
       "    </tr>\n",
       "    <tr>\n",
       "      <th>eve</th>\n",
       "      <td>fakemail123@yahoo.com</td>\n",
       "      <td>yHdBxedI</td>\n",
       "      <td>2018-03-28</td>\n",
       "    </tr>\n",
       "  </tbody>\n",
       "</table>\n",
       "</div>"
      ],
      "text/plain": [
       "                           email  password date-created\n",
       "users                                                  \n",
       "alice36     alice.chan@gmail.com  ylLec08T   2018-11-15\n",
       "bob_smith  bwsmith1983@gmail.com  dCIxPiNM   2020-09-07\n",
       "eve        fakemail123@yahoo.com  yHdBxedI   2018-03-28"
      ]
     },
     "execution_count": 22,
     "metadata": {},
     "output_type": "execute_result"
    }
   ],
   "source": [
    "df = pd.DataFrame({'email': emails, 'password': passwords, 'date-created': creation_dates}, index=usernames)\n",
    "df.index.name = 'users' # it can be helpful to give the index a name\n",
    "df"
   ]
  },
  {
   "cell_type": "code",
   "execution_count": 23,
   "metadata": {
    "id": "lcUY87UCYtEN"
   },
   "outputs": [
    {
     "data": {
      "text/html": [
       "<div>\n",
       "<style scoped>\n",
       "    .dataframe tbody tr th:only-of-type {\n",
       "        vertical-align: middle;\n",
       "    }\n",
       "\n",
       "    .dataframe tbody tr th {\n",
       "        vertical-align: top;\n",
       "    }\n",
       "\n",
       "    .dataframe thead th {\n",
       "        text-align: right;\n",
       "    }\n",
       "</style>\n",
       "<table border=\"1\" class=\"dataframe\">\n",
       "  <thead>\n",
       "    <tr style=\"text-align: right;\">\n",
       "      <th></th>\n",
       "      <th>0</th>\n",
       "      <th>1</th>\n",
       "      <th>2</th>\n",
       "      <th>3</th>\n",
       "    </tr>\n",
       "  </thead>\n",
       "  <tbody>\n",
       "    <tr>\n",
       "      <th>0</th>\n",
       "      <td>alice36</td>\n",
       "      <td>alice.chan@gmail.com</td>\n",
       "      <td>ylLec08T</td>\n",
       "      <td>2018-11-15</td>\n",
       "    </tr>\n",
       "    <tr>\n",
       "      <th>1</th>\n",
       "      <td>bob_smith</td>\n",
       "      <td>bwsmith1983@gmail.com</td>\n",
       "      <td>dCIxPiNM</td>\n",
       "      <td>2020-09-07</td>\n",
       "    </tr>\n",
       "    <tr>\n",
       "      <th>2</th>\n",
       "      <td>eve</td>\n",
       "      <td>fakemail123@yahoo.com</td>\n",
       "      <td>yHdBxedI</td>\n",
       "      <td>2018-03-28</td>\n",
       "    </tr>\n",
       "  </tbody>\n",
       "</table>\n",
       "</div>"
      ],
      "text/plain": [
       "           0                      1         2           3\n",
       "0    alice36   alice.chan@gmail.com  ylLec08T  2018-11-15\n",
       "1  bob_smith  bwsmith1983@gmail.com  dCIxPiNM  2020-09-07\n",
       "2        eve  fakemail123@yahoo.com  yHdBxedI  2018-03-28"
      ]
     },
     "execution_count": 23,
     "metadata": {},
     "output_type": "execute_result"
    }
   ],
   "source": [
    "# alternatively\n",
    "df = pd.DataFrame(list(zip(usernames, emails, passwords, creation_dates)))\n",
    "df"
   ]
  },
  {
   "cell_type": "code",
   "execution_count": 24,
   "metadata": {
    "id": "SJ-kjzDtYtEN"
   },
   "outputs": [
    {
     "data": {
      "text/html": [
       "<div>\n",
       "<style scoped>\n",
       "    .dataframe tbody tr th:only-of-type {\n",
       "        vertical-align: middle;\n",
       "    }\n",
       "\n",
       "    .dataframe tbody tr th {\n",
       "        vertical-align: top;\n",
       "    }\n",
       "\n",
       "    .dataframe thead th {\n",
       "        text-align: right;\n",
       "    }\n",
       "</style>\n",
       "<table border=\"1\" class=\"dataframe\">\n",
       "  <thead>\n",
       "    <tr style=\"text-align: right;\">\n",
       "      <th></th>\n",
       "      <th>email</th>\n",
       "      <th>password</th>\n",
       "      <th>date-created</th>\n",
       "    </tr>\n",
       "    <tr>\n",
       "      <th>username</th>\n",
       "      <th></th>\n",
       "      <th></th>\n",
       "      <th></th>\n",
       "    </tr>\n",
       "  </thead>\n",
       "  <tbody>\n",
       "    <tr>\n",
       "      <th>alice36</th>\n",
       "      <td>alice.chan@gmail.com</td>\n",
       "      <td>ylLec08T</td>\n",
       "      <td>2018-11-15</td>\n",
       "    </tr>\n",
       "    <tr>\n",
       "      <th>bob_smith</th>\n",
       "      <td>bwsmith1983@gmail.com</td>\n",
       "      <td>dCIxPiNM</td>\n",
       "      <td>2020-09-07</td>\n",
       "    </tr>\n",
       "    <tr>\n",
       "      <th>eve</th>\n",
       "      <td>fakemail123@yahoo.com</td>\n",
       "      <td>yHdBxedI</td>\n",
       "      <td>2018-03-28</td>\n",
       "    </tr>\n",
       "  </tbody>\n",
       "</table>\n",
       "</div>"
      ],
      "text/plain": [
       "                           email  password date-created\n",
       "username                                               \n",
       "alice36     alice.chan@gmail.com  ylLec08T   2018-11-15\n",
       "bob_smith  bwsmith1983@gmail.com  dCIxPiNM   2020-09-07\n",
       "eve        fakemail123@yahoo.com  yHdBxedI   2018-03-28"
      ]
     },
     "execution_count": 24,
     "metadata": {},
     "output_type": "execute_result"
    }
   ],
   "source": [
    "df.columns = ['username', 'email', 'password', 'date-created']\n",
    "df.set_index('username', inplace=True)\n",
    "df"
   ]
  },
  {
   "cell_type": "code",
   "execution_count": 25,
   "metadata": {
    "id": "u4bNXhXNYtEN"
   },
   "outputs": [
    {
     "data": {
      "text/html": [
       "<div>\n",
       "<style scoped>\n",
       "    .dataframe tbody tr th:only-of-type {\n",
       "        vertical-align: middle;\n",
       "    }\n",
       "\n",
       "    .dataframe tbody tr th {\n",
       "        vertical-align: top;\n",
       "    }\n",
       "\n",
       "    .dataframe thead th {\n",
       "        text-align: right;\n",
       "    }\n",
       "</style>\n",
       "<table border=\"1\" class=\"dataframe\">\n",
       "  <thead>\n",
       "    <tr style=\"text-align: right;\">\n",
       "      <th></th>\n",
       "      <th>username</th>\n",
       "      <th>email</th>\n",
       "      <th>password</th>\n",
       "      <th>date-created</th>\n",
       "    </tr>\n",
       "  </thead>\n",
       "  <tbody>\n",
       "    <tr>\n",
       "      <th>0</th>\n",
       "      <td>alice36</td>\n",
       "      <td>alice.chan@gmail.com</td>\n",
       "      <td>ylLec08T</td>\n",
       "      <td>2018-11-15</td>\n",
       "    </tr>\n",
       "    <tr>\n",
       "      <th>1</th>\n",
       "      <td>bob_smith</td>\n",
       "      <td>bwsmith1983@gmail.com</td>\n",
       "      <td>dCIxPiNM</td>\n",
       "      <td>2020-09-07</td>\n",
       "    </tr>\n",
       "    <tr>\n",
       "      <th>2</th>\n",
       "      <td>eve</td>\n",
       "      <td>fakemail123@yahoo.com</td>\n",
       "      <td>yHdBxedI</td>\n",
       "      <td>2018-03-28</td>\n",
       "    </tr>\n",
       "  </tbody>\n",
       "</table>\n",
       "</div>"
      ],
      "text/plain": [
       "    username                  email  password date-created\n",
       "0    alice36   alice.chan@gmail.com  ylLec08T   2018-11-15\n",
       "1  bob_smith  bwsmith1983@gmail.com  dCIxPiNM   2020-09-07\n",
       "2        eve  fakemail123@yahoo.com  yHdBxedI   2018-03-28"
      ]
     },
     "execution_count": 25,
     "metadata": {},
     "output_type": "execute_result"
    }
   ],
   "source": [
    "# to reset index to a column\n",
    "df.reset_index(inplace=True)\n",
    "df"
   ]
  },
  {
   "cell_type": "markdown",
   "metadata": {
    "id": "QeNDJz_qYtEN"
   },
   "source": [
    "데이터프레임에서는 또한 다중 레벨로 구성된 인덱스를 가질 수도 있습니다. 일부 데이터 세트의 경우 행을 고유하게 식별하기 위해 인덱스에 대해 여러 레벨이 필요하다는 것을 알게 될 것입니다."
   ]
  },
  {
   "cell_type": "code",
   "execution_count": 26,
   "metadata": {
    "id": "ig_gQ319YtEN"
   },
   "outputs": [
    {
     "data": {
      "text/html": [
       "<div>\n",
       "<style scoped>\n",
       "    .dataframe tbody tr th:only-of-type {\n",
       "        vertical-align: middle;\n",
       "    }\n",
       "\n",
       "    .dataframe tbody tr th {\n",
       "        vertical-align: top;\n",
       "    }\n",
       "\n",
       "    .dataframe thead th {\n",
       "        text-align: right;\n",
       "    }\n",
       "</style>\n",
       "<table border=\"1\" class=\"dataframe\">\n",
       "  <thead>\n",
       "    <tr style=\"text-align: right;\">\n",
       "      <th></th>\n",
       "      <th></th>\n",
       "      <th>password</th>\n",
       "      <th>date-created</th>\n",
       "    </tr>\n",
       "    <tr>\n",
       "      <th>username</th>\n",
       "      <th>email</th>\n",
       "      <th></th>\n",
       "      <th></th>\n",
       "    </tr>\n",
       "  </thead>\n",
       "  <tbody>\n",
       "    <tr>\n",
       "      <th>alice36</th>\n",
       "      <th>alice.chan@gmail.com</th>\n",
       "      <td>ylLec08T</td>\n",
       "      <td>2018-11-15</td>\n",
       "    </tr>\n",
       "    <tr>\n",
       "      <th>bob_smith</th>\n",
       "      <th>bwsmith1983@gmail.com</th>\n",
       "      <td>dCIxPiNM</td>\n",
       "      <td>2020-09-07</td>\n",
       "    </tr>\n",
       "    <tr>\n",
       "      <th>eve</th>\n",
       "      <th>fakemail123@yahoo.com</th>\n",
       "      <td>yHdBxedI</td>\n",
       "      <td>2018-03-28</td>\n",
       "    </tr>\n",
       "  </tbody>\n",
       "</table>\n",
       "</div>"
      ],
      "text/plain": [
       "                                 password date-created\n",
       "username  email                                       \n",
       "alice36   alice.chan@gmail.com   ylLec08T   2018-11-15\n",
       "bob_smith bwsmith1983@gmail.com  dCIxPiNM   2020-09-07\n",
       "eve       fakemail123@yahoo.com  yHdBxedI   2018-03-28"
      ]
     },
     "execution_count": 26,
     "metadata": {},
     "output_type": "execute_result"
    }
   ],
   "source": [
    "df.set_index(['username', 'email'])"
   ]
  },
  {
   "cell_type": "markdown",
   "metadata": {
    "id": "i54uxEciYtEN"
   },
   "source": [
    "### 파일로부터 데이터 읽기 (Reading data from file)\n",
    "\n",
    "우리는 또한 데이터프레임을 사용해 파일에 저장되어 있거나 웹사이트로부터 받을 수 있는 데이터를 불러올 수도 있습니다. 이러한 데이터 소스에는 [JSON](https://pandas.pydata.org/pandas-docs/stable/generated/pandas.read_json.html), [HTML](https://pandas.pydata.org/pandas-docs/stable/generated/pandas.read_html.html), [CSV](http://pandas.pydata.org/pandas-docs/stable/generated/pandas.read_csv.html#pandas.read_csv), [Excel](https://pandas.pydata.org/pandas-docs/stable/generated/pandas.read_excel.html), [Python pickle](https://pandas.pydata.org/pandas-docs/stable/generated/pandas.read_pickle.html), 혹은 심지어 [데이터베이스](https://pandas.pydata.org/pandas-docs/stable/generated/pandas.read_sql.html) 등이 있습니다. 각각의 형식은 서로 다른 인자들을 사용해 데이터를 읽거나 쓸 수 있도록 구성되어 있습니다. 이러한 방법들의 인자들은 보통 파일의 특정한 형식에 의존하고 있습니다. 예를 들어, CSV 파일의 값들은 쉼표나 세미콜론으로 분리되어 있고, 헤더가 있거나 없기도 합니다.\n",
    "\n",
    "`read_csv` 메서드는 대부분 형식 지정 가능성을 처리해야 하므로, 여기서는 몇 가지 예시를 통해 이 방법을 살펴보겠습니다. 다른 파일 형식으로 작업할 때 이러한 아이디어를 적용해 보세요. 하지만 각각의 형식과 읽기 방법이 다르다는 것을 염두에 둘 필요가 있습니다. 데이터를 읽거나 쓰는 데 문제가 있는 경우 우리는 언제나 [판다스 공식문서](http://pandas.pydata.org/pandas-docs/stable/io.html)를 참고할 수 있습니다."
   ]
  },
  {
   "cell_type": "code",
   "execution_count": 29,
   "metadata": {
    "id": "EZ81WUwFYtEO"
   },
   "outputs": [],
   "source": [
    "csv = [','.join(map(lambda x: str(x), row)) for row in np.vstack([df.columns, df])]\n",
    "with open('./data/read_csv_example.csv', 'w') as f:\n",
    "    [f.write(line + '\\n') for line in csv]"
   ]
  },
  {
   "cell_type": "code",
   "execution_count": 30,
   "metadata": {
    "id": "RiFZsOL1YtEO"
   },
   "outputs": [
    {
     "data": {
      "text/html": [
       "<div>\n",
       "<style scoped>\n",
       "    .dataframe tbody tr th:only-of-type {\n",
       "        vertical-align: middle;\n",
       "    }\n",
       "\n",
       "    .dataframe tbody tr th {\n",
       "        vertical-align: top;\n",
       "    }\n",
       "\n",
       "    .dataframe thead th {\n",
       "        text-align: right;\n",
       "    }\n",
       "</style>\n",
       "<table border=\"1\" class=\"dataframe\">\n",
       "  <thead>\n",
       "    <tr style=\"text-align: right;\">\n",
       "      <th></th>\n",
       "      <th>username</th>\n",
       "      <th>email</th>\n",
       "      <th>password</th>\n",
       "      <th>date-created</th>\n",
       "    </tr>\n",
       "  </thead>\n",
       "  <tbody>\n",
       "    <tr>\n",
       "      <th>0</th>\n",
       "      <td>alice36</td>\n",
       "      <td>alice.chan@gmail.com</td>\n",
       "      <td>ylLec08T</td>\n",
       "      <td>2018-11-15</td>\n",
       "    </tr>\n",
       "    <tr>\n",
       "      <th>1</th>\n",
       "      <td>bob_smith</td>\n",
       "      <td>bwsmith1983@gmail.com</td>\n",
       "      <td>dCIxPiNM</td>\n",
       "      <td>2020-09-07</td>\n",
       "    </tr>\n",
       "    <tr>\n",
       "      <th>2</th>\n",
       "      <td>eve</td>\n",
       "      <td>fakemail123@yahoo.com</td>\n",
       "      <td>yHdBxedI</td>\n",
       "      <td>2018-03-28</td>\n",
       "    </tr>\n",
       "  </tbody>\n",
       "</table>\n",
       "</div>"
      ],
      "text/plain": [
       "    username                  email  password date-created\n",
       "0    alice36   alice.chan@gmail.com  ylLec08T   2018-11-15\n",
       "1  bob_smith  bwsmith1983@gmail.com  dCIxPiNM   2020-09-07\n",
       "2        eve  fakemail123@yahoo.com  yHdBxedI   2018-03-28"
      ]
     },
     "execution_count": 30,
     "metadata": {},
     "output_type": "execute_result"
    }
   ],
   "source": [
    "pd.read_csv('./data/read_csv_example.csv')"
   ]
  },
  {
   "cell_type": "code",
   "execution_count": 31,
   "metadata": {
    "id": "IrHgxgq3YtEO"
   },
   "outputs": [
    {
     "data": {
      "text/html": [
       "<div>\n",
       "<style scoped>\n",
       "    .dataframe tbody tr th:only-of-type {\n",
       "        vertical-align: middle;\n",
       "    }\n",
       "\n",
       "    .dataframe tbody tr th {\n",
       "        vertical-align: top;\n",
       "    }\n",
       "\n",
       "    .dataframe thead th {\n",
       "        text-align: right;\n",
       "    }\n",
       "</style>\n",
       "<table border=\"1\" class=\"dataframe\">\n",
       "  <thead>\n",
       "    <tr style=\"text-align: right;\">\n",
       "      <th></th>\n",
       "      <th>email</th>\n",
       "      <th>password</th>\n",
       "      <th>date-created</th>\n",
       "    </tr>\n",
       "    <tr>\n",
       "      <th>username</th>\n",
       "      <th></th>\n",
       "      <th></th>\n",
       "      <th></th>\n",
       "    </tr>\n",
       "  </thead>\n",
       "  <tbody>\n",
       "    <tr>\n",
       "      <th>alice36</th>\n",
       "      <td>alice.chan@gmail.com</td>\n",
       "      <td>ylLec08T</td>\n",
       "      <td>2018-11-15</td>\n",
       "    </tr>\n",
       "    <tr>\n",
       "      <th>bob_smith</th>\n",
       "      <td>bwsmith1983@gmail.com</td>\n",
       "      <td>dCIxPiNM</td>\n",
       "      <td>2020-09-07</td>\n",
       "    </tr>\n",
       "    <tr>\n",
       "      <th>eve</th>\n",
       "      <td>fakemail123@yahoo.com</td>\n",
       "      <td>yHdBxedI</td>\n",
       "      <td>2018-03-28</td>\n",
       "    </tr>\n",
       "  </tbody>\n",
       "</table>\n",
       "</div>"
      ],
      "text/plain": [
       "                           email  password date-created\n",
       "username                                               \n",
       "alice36     alice.chan@gmail.com  ylLec08T   2018-11-15\n",
       "bob_smith  bwsmith1983@gmail.com  dCIxPiNM   2020-09-07\n",
       "eve        fakemail123@yahoo.com  yHdBxedI   2018-03-28"
      ]
     },
     "execution_count": 31,
     "metadata": {},
     "output_type": "execute_result"
    }
   ],
   "source": [
    "# we can also set an index from the data\n",
    "pd.read_csv('./data/read_csv_example.csv', index_col=0)"
   ]
  },
  {
   "cell_type": "code",
   "execution_count": 33,
   "metadata": {
    "id": "Q4TCUJ3oYtEO"
   },
   "outputs": [],
   "source": [
    "# what if our data had no header?\n",
    "with open('./data/read_csv_noheader_example.csv', 'w') as f:\n",
    "    [f.write(line + '\\n') for i, line in enumerate(csv) if i != 0]"
   ]
  },
  {
   "cell_type": "code",
   "execution_count": 34,
   "metadata": {
    "id": "NY6ccYILYtEO"
   },
   "outputs": [
    {
     "data": {
      "text/html": [
       "<div>\n",
       "<style scoped>\n",
       "    .dataframe tbody tr th:only-of-type {\n",
       "        vertical-align: middle;\n",
       "    }\n",
       "\n",
       "    .dataframe tbody tr th {\n",
       "        vertical-align: top;\n",
       "    }\n",
       "\n",
       "    .dataframe thead th {\n",
       "        text-align: right;\n",
       "    }\n",
       "</style>\n",
       "<table border=\"1\" class=\"dataframe\">\n",
       "  <thead>\n",
       "    <tr style=\"text-align: right;\">\n",
       "      <th></th>\n",
       "      <th>username</th>\n",
       "      <th>email</th>\n",
       "      <th>password</th>\n",
       "      <th>date-created</th>\n",
       "    </tr>\n",
       "  </thead>\n",
       "  <tbody>\n",
       "    <tr>\n",
       "      <th>0</th>\n",
       "      <td>alice36</td>\n",
       "      <td>alice.chan@gmail.com</td>\n",
       "      <td>ylLec08T</td>\n",
       "      <td>2018-11-15</td>\n",
       "    </tr>\n",
       "    <tr>\n",
       "      <th>1</th>\n",
       "      <td>bob_smith</td>\n",
       "      <td>bwsmith1983@gmail.com</td>\n",
       "      <td>dCIxPiNM</td>\n",
       "      <td>2020-09-07</td>\n",
       "    </tr>\n",
       "    <tr>\n",
       "      <th>2</th>\n",
       "      <td>eve</td>\n",
       "      <td>fakemail123@yahoo.com</td>\n",
       "      <td>yHdBxedI</td>\n",
       "      <td>2018-03-28</td>\n",
       "    </tr>\n",
       "  </tbody>\n",
       "</table>\n",
       "</div>"
      ],
      "text/plain": [
       "    username                  email  password date-created\n",
       "0    alice36   alice.chan@gmail.com  ylLec08T   2018-11-15\n",
       "1  bob_smith  bwsmith1983@gmail.com  dCIxPiNM   2020-09-07\n",
       "2        eve  fakemail123@yahoo.com  yHdBxedI   2018-03-28"
      ]
     },
     "execution_count": 34,
     "metadata": {},
     "output_type": "execute_result"
    }
   ],
   "source": [
    "pd.read_csv('./data/read_csv_noheader_example.csv', names=['username', 'email', 'password', 'date-created'], header=None)"
   ]
  },
  {
   "cell_type": "code",
   "execution_count": 35,
   "metadata": {
    "id": "1jUru2LBYtEO"
   },
   "outputs": [],
   "source": [
    "# what if our data was tab-delimited?\n",
    "tsv = ['\\t'.join(map(lambda x: str(x), row)) for row in np.vstack([df.columns, df])]\n",
    "with open('./data/read_csv_example.tsv', 'w') as f:\n",
    "    [f.write(line + '\\n') for line in tsv]"
   ]
  },
  {
   "cell_type": "code",
   "execution_count": 36,
   "metadata": {
    "id": "1oO4VMnNYtEO"
   },
   "outputs": [
    {
     "data": {
      "text/html": [
       "<div>\n",
       "<style scoped>\n",
       "    .dataframe tbody tr th:only-of-type {\n",
       "        vertical-align: middle;\n",
       "    }\n",
       "\n",
       "    .dataframe tbody tr th {\n",
       "        vertical-align: top;\n",
       "    }\n",
       "\n",
       "    .dataframe thead th {\n",
       "        text-align: right;\n",
       "    }\n",
       "</style>\n",
       "<table border=\"1\" class=\"dataframe\">\n",
       "  <thead>\n",
       "    <tr style=\"text-align: right;\">\n",
       "      <th></th>\n",
       "      <th>username</th>\n",
       "      <th>email</th>\n",
       "      <th>password</th>\n",
       "      <th>date-created</th>\n",
       "    </tr>\n",
       "  </thead>\n",
       "  <tbody>\n",
       "    <tr>\n",
       "      <th>0</th>\n",
       "      <td>alice36</td>\n",
       "      <td>alice.chan@gmail.com</td>\n",
       "      <td>ylLec08T</td>\n",
       "      <td>2018-11-15</td>\n",
       "    </tr>\n",
       "    <tr>\n",
       "      <th>1</th>\n",
       "      <td>bob_smith</td>\n",
       "      <td>bwsmith1983@gmail.com</td>\n",
       "      <td>dCIxPiNM</td>\n",
       "      <td>2020-09-07</td>\n",
       "    </tr>\n",
       "    <tr>\n",
       "      <th>2</th>\n",
       "      <td>eve</td>\n",
       "      <td>fakemail123@yahoo.com</td>\n",
       "      <td>yHdBxedI</td>\n",
       "      <td>2018-03-28</td>\n",
       "    </tr>\n",
       "  </tbody>\n",
       "</table>\n",
       "</div>"
      ],
      "text/plain": [
       "    username                  email  password date-created\n",
       "0    alice36   alice.chan@gmail.com  ylLec08T   2018-11-15\n",
       "1  bob_smith  bwsmith1983@gmail.com  dCIxPiNM   2020-09-07\n",
       "2        eve  fakemail123@yahoo.com  yHdBxedI   2018-03-28"
      ]
     },
     "execution_count": 36,
     "metadata": {},
     "output_type": "execute_result"
    }
   ],
   "source": [
    "pd.read_csv('./data/read_csv_example.tsv', delimiter='\\t')"
   ]
  },
  {
   "cell_type": "markdown",
   "metadata": {
    "id": "8_q5SQX-YtEP"
   },
   "source": [
    "## 데이터프레임 필터링 (Filtering DataFrames)\n",
    "\n",
    "판다스 데이터프레임의 강력한 분석 도구 중 하나는 바로 데이터 필터링 구문입니다. 종종 우리는 특정 기준에 따라 데이터의 특정 하위 집합으로 작업하기를 원할 것입니다. 예를 들어, Yelp 데이터를 살펴보겠습니다."
   ]
  },
  {
   "cell_type": "code",
   "execution_count": 37,
   "metadata": {
    "id": "_YC77MW_YtEP"
   },
   "outputs": [
    {
     "data": {
      "text/html": [
       "<div>\n",
       "<style scoped>\n",
       "    .dataframe tbody tr th:only-of-type {\n",
       "        vertical-align: middle;\n",
       "    }\n",
       "\n",
       "    .dataframe tbody tr th {\n",
       "        vertical-align: top;\n",
       "    }\n",
       "\n",
       "    .dataframe thead th {\n",
       "        text-align: right;\n",
       "    }\n",
       "</style>\n",
       "<table border=\"1\" class=\"dataframe\">\n",
       "  <thead>\n",
       "    <tr style=\"text-align: right;\">\n",
       "      <th></th>\n",
       "      <th>business_id</th>\n",
       "      <th>full_address</th>\n",
       "      <th>hours</th>\n",
       "      <th>open</th>\n",
       "      <th>categories</th>\n",
       "      <th>city</th>\n",
       "      <th>review_count</th>\n",
       "      <th>name</th>\n",
       "      <th>neighborhoods</th>\n",
       "      <th>longitude</th>\n",
       "      <th>state</th>\n",
       "      <th>stars</th>\n",
       "      <th>latitude</th>\n",
       "      <th>attributes</th>\n",
       "      <th>type</th>\n",
       "    </tr>\n",
       "  </thead>\n",
       "  <tbody>\n",
       "    <tr>\n",
       "      <th>0</th>\n",
       "      <td>vcNAWiLM4dR7D2nwwJ7nCA</td>\n",
       "      <td>4840 E Indian School Rd\\nSte 101\\nPhoenix, AZ ...</td>\n",
       "      <td>{'Tuesday': {'close': '17:00', 'open': '08:00'...</td>\n",
       "      <td>True</td>\n",
       "      <td>[Doctors, Health &amp; Medical]</td>\n",
       "      <td>Phoenix</td>\n",
       "      <td>7</td>\n",
       "      <td>Eric Goldberg, MD</td>\n",
       "      <td>[]</td>\n",
       "      <td>-111.983758</td>\n",
       "      <td>AZ</td>\n",
       "      <td>3.5</td>\n",
       "      <td>33.499313</td>\n",
       "      <td>{'By Appointment Only': True}</td>\n",
       "      <td>business</td>\n",
       "    </tr>\n",
       "    <tr>\n",
       "      <th>1</th>\n",
       "      <td>JwUE5GmEO-sH1FuwJgKBlQ</td>\n",
       "      <td>6162 US Highway 51\\nDe Forest, WI 53532</td>\n",
       "      <td>{}</td>\n",
       "      <td>True</td>\n",
       "      <td>[Restaurants]</td>\n",
       "      <td>De Forest</td>\n",
       "      <td>26</td>\n",
       "      <td>Pine Cone Restaurant</td>\n",
       "      <td>[]</td>\n",
       "      <td>-89.335844</td>\n",
       "      <td>WI</td>\n",
       "      <td>4.0</td>\n",
       "      <td>43.238893</td>\n",
       "      <td>{'Take-out': True, 'Good For': {'dessert': Fal...</td>\n",
       "      <td>business</td>\n",
       "    </tr>\n",
       "    <tr>\n",
       "      <th>2</th>\n",
       "      <td>uGykseHzyS5xAMWoN6YUqA</td>\n",
       "      <td>505 W North St\\nDe Forest, WI 53532</td>\n",
       "      <td>{'Monday': {'close': '22:00', 'open': '06:00'}...</td>\n",
       "      <td>True</td>\n",
       "      <td>[American (Traditional), Restaurants]</td>\n",
       "      <td>De Forest</td>\n",
       "      <td>16</td>\n",
       "      <td>Deforest Family Restaurant</td>\n",
       "      <td>[]</td>\n",
       "      <td>-89.353437</td>\n",
       "      <td>WI</td>\n",
       "      <td>4.0</td>\n",
       "      <td>43.252267</td>\n",
       "      <td>{'Take-out': True, 'Good For': {'dessert': Fal...</td>\n",
       "      <td>business</td>\n",
       "    </tr>\n",
       "    <tr>\n",
       "      <th>3</th>\n",
       "      <td>LRKJF43s9-3jG9Lgx4zODg</td>\n",
       "      <td>4910 County Rd V\\nDe Forest, WI 53532</td>\n",
       "      <td>{'Monday': {'close': '22:00', 'open': '10:30'}...</td>\n",
       "      <td>True</td>\n",
       "      <td>[Food, Ice Cream &amp; Frozen Yogurt, Fast Food, R...</td>\n",
       "      <td>De Forest</td>\n",
       "      <td>7</td>\n",
       "      <td>Culver's</td>\n",
       "      <td>[]</td>\n",
       "      <td>-89.374983</td>\n",
       "      <td>WI</td>\n",
       "      <td>4.5</td>\n",
       "      <td>43.251045</td>\n",
       "      <td>{'Take-out': True, 'Wi-Fi': 'free', 'Takes Res...</td>\n",
       "      <td>business</td>\n",
       "    </tr>\n",
       "    <tr>\n",
       "      <th>4</th>\n",
       "      <td>RgDg-k9S5YD_BaxMckifkg</td>\n",
       "      <td>631 S Main St\\nDe Forest, WI 53532</td>\n",
       "      <td>{'Monday': {'close': '22:00', 'open': '11:00'}...</td>\n",
       "      <td>True</td>\n",
       "      <td>[Chinese, Restaurants]</td>\n",
       "      <td>De Forest</td>\n",
       "      <td>3</td>\n",
       "      <td>Chang Jiang Chinese Kitchen</td>\n",
       "      <td>[]</td>\n",
       "      <td>-89.343722</td>\n",
       "      <td>WI</td>\n",
       "      <td>4.0</td>\n",
       "      <td>43.240875</td>\n",
       "      <td>{'Take-out': True, 'Has TV': False, 'Outdoor S...</td>\n",
       "      <td>business</td>\n",
       "    </tr>\n",
       "  </tbody>\n",
       "</table>\n",
       "</div>"
      ],
      "text/plain": [
       "              business_id                                       full_address  \\\n",
       "0  vcNAWiLM4dR7D2nwwJ7nCA  4840 E Indian School Rd\\nSte 101\\nPhoenix, AZ ...   \n",
       "1  JwUE5GmEO-sH1FuwJgKBlQ            6162 US Highway 51\\nDe Forest, WI 53532   \n",
       "2  uGykseHzyS5xAMWoN6YUqA                505 W North St\\nDe Forest, WI 53532   \n",
       "3  LRKJF43s9-3jG9Lgx4zODg              4910 County Rd V\\nDe Forest, WI 53532   \n",
       "4  RgDg-k9S5YD_BaxMckifkg                 631 S Main St\\nDe Forest, WI 53532   \n",
       "\n",
       "                                               hours  open  \\\n",
       "0  {'Tuesday': {'close': '17:00', 'open': '08:00'...  True   \n",
       "1                                                 {}  True   \n",
       "2  {'Monday': {'close': '22:00', 'open': '06:00'}...  True   \n",
       "3  {'Monday': {'close': '22:00', 'open': '10:30'}...  True   \n",
       "4  {'Monday': {'close': '22:00', 'open': '11:00'}...  True   \n",
       "\n",
       "                                          categories       city  review_count  \\\n",
       "0                        [Doctors, Health & Medical]    Phoenix             7   \n",
       "1                                      [Restaurants]  De Forest            26   \n",
       "2              [American (Traditional), Restaurants]  De Forest            16   \n",
       "3  [Food, Ice Cream & Frozen Yogurt, Fast Food, R...  De Forest             7   \n",
       "4                             [Chinese, Restaurants]  De Forest             3   \n",
       "\n",
       "                          name neighborhoods   longitude state  stars  \\\n",
       "0            Eric Goldberg, MD            [] -111.983758    AZ    3.5   \n",
       "1         Pine Cone Restaurant            []  -89.335844    WI    4.0   \n",
       "2   Deforest Family Restaurant            []  -89.353437    WI    4.0   \n",
       "3                     Culver's            []  -89.374983    WI    4.5   \n",
       "4  Chang Jiang Chinese Kitchen            []  -89.343722    WI    4.0   \n",
       "\n",
       "    latitude                                         attributes      type  \n",
       "0  33.499313                      {'By Appointment Only': True}  business  \n",
       "1  43.238893  {'Take-out': True, 'Good For': {'dessert': Fal...  business  \n",
       "2  43.252267  {'Take-out': True, 'Good For': {'dessert': Fal...  business  \n",
       "3  43.251045  {'Take-out': True, 'Wi-Fi': 'free', 'Takes Res...  business  \n",
       "4  43.240875  {'Take-out': True, 'Has TV': False, 'Outdoor S...  business  "
      ]
     },
     "execution_count": 37,
     "metadata": {},
     "output_type": "execute_result"
    }
   ],
   "source": [
    "yelp_df.head()"
   ]
  },
  {
   "cell_type": "markdown",
   "metadata": {
    "id": "xCR9TTI_YtEP"
   },
   "source": [
    "Yelp 데이터 세트에 `state` 열이 있는 것을 볼 수 있습니다. 애리조나(AZ)의 비즈니스에만 관심이 있는 경우 데이터프레임을 필터링하고 해당 데이터만을 선택할 수 있습니다."
   ]
  },
  {
   "cell_type": "code",
   "execution_count": 38,
   "metadata": {
    "id": "frt9AsEzYtEP"
   },
   "outputs": [
    {
     "data": {
      "text/html": [
       "<div>\n",
       "<style scoped>\n",
       "    .dataframe tbody tr th:only-of-type {\n",
       "        vertical-align: middle;\n",
       "    }\n",
       "\n",
       "    .dataframe tbody tr th {\n",
       "        vertical-align: top;\n",
       "    }\n",
       "\n",
       "    .dataframe thead th {\n",
       "        text-align: right;\n",
       "    }\n",
       "</style>\n",
       "<table border=\"1\" class=\"dataframe\">\n",
       "  <thead>\n",
       "    <tr style=\"text-align: right;\">\n",
       "      <th></th>\n",
       "      <th>business_id</th>\n",
       "      <th>full_address</th>\n",
       "      <th>hours</th>\n",
       "      <th>open</th>\n",
       "      <th>categories</th>\n",
       "      <th>city</th>\n",
       "      <th>review_count</th>\n",
       "      <th>name</th>\n",
       "      <th>neighborhoods</th>\n",
       "      <th>longitude</th>\n",
       "      <th>state</th>\n",
       "      <th>stars</th>\n",
       "      <th>latitude</th>\n",
       "      <th>attributes</th>\n",
       "      <th>type</th>\n",
       "    </tr>\n",
       "  </thead>\n",
       "  <tbody>\n",
       "    <tr>\n",
       "      <th>0</th>\n",
       "      <td>vcNAWiLM4dR7D2nwwJ7nCA</td>\n",
       "      <td>4840 E Indian School Rd\\nSte 101\\nPhoenix, AZ ...</td>\n",
       "      <td>{'Tuesday': {'close': '17:00', 'open': '08:00'...</td>\n",
       "      <td>True</td>\n",
       "      <td>[Doctors, Health &amp; Medical]</td>\n",
       "      <td>Phoenix</td>\n",
       "      <td>7</td>\n",
       "      <td>Eric Goldberg, MD</td>\n",
       "      <td>[]</td>\n",
       "      <td>-111.983758</td>\n",
       "      <td>AZ</td>\n",
       "      <td>3.5</td>\n",
       "      <td>33.499313</td>\n",
       "      <td>{'By Appointment Only': True}</td>\n",
       "      <td>business</td>\n",
       "    </tr>\n",
       "    <tr>\n",
       "      <th>297</th>\n",
       "      <td>x5Mv61CnZLohZWxfCVCPTQ</td>\n",
       "      <td>2819 N Central Ave\\nPhoenix, AZ 85004</td>\n",
       "      <td>{}</td>\n",
       "      <td>True</td>\n",
       "      <td>[Sandwiches, Pizza, Chicken Wings, Restaurants]</td>\n",
       "      <td>Phoenix</td>\n",
       "      <td>12</td>\n",
       "      <td>Domino's Pizza</td>\n",
       "      <td>[]</td>\n",
       "      <td>-112.073418</td>\n",
       "      <td>AZ</td>\n",
       "      <td>2.5</td>\n",
       "      <td>33.479542</td>\n",
       "      <td>{'Take-out': True, 'Wi-Fi': 'no', 'Alcohol': '...</td>\n",
       "      <td>business</td>\n",
       "    </tr>\n",
       "    <tr>\n",
       "      <th>298</th>\n",
       "      <td>2ZnCITVa0abGce4gZ6RhIw</td>\n",
       "      <td>1850 N Central Ave\\nPhoenix, AZ 85004</td>\n",
       "      <td>{}</td>\n",
       "      <td>True</td>\n",
       "      <td>[American (New), Sandwiches, Restaurants]</td>\n",
       "      <td>Phoenix</td>\n",
       "      <td>5</td>\n",
       "      <td>Viad Tower Restaurants</td>\n",
       "      <td>[]</td>\n",
       "      <td>-112.074315</td>\n",
       "      <td>AZ</td>\n",
       "      <td>3.5</td>\n",
       "      <td>33.468988</td>\n",
       "      <td>{'Take-out': True, 'Noise Level': 'quiet', 'De...</td>\n",
       "      <td>business</td>\n",
       "    </tr>\n",
       "    <tr>\n",
       "      <th>299</th>\n",
       "      <td>EmzaQR5hQlF0WIl24NxAZA</td>\n",
       "      <td>132 E Washington St\\nPhoenix, AZ 85004</td>\n",
       "      <td>{'Sunday': {'close': '02:00', 'open': '21:00'}...</td>\n",
       "      <td>True</td>\n",
       "      <td>[American (New), Nightlife, Dance Clubs, Resta...</td>\n",
       "      <td>Phoenix</td>\n",
       "      <td>20</td>\n",
       "      <td>Sky Lounge</td>\n",
       "      <td>[]</td>\n",
       "      <td>-112.071702</td>\n",
       "      <td>AZ</td>\n",
       "      <td>2.5</td>\n",
       "      <td>33.448399</td>\n",
       "      <td>{'Alcohol': 'full_bar', 'Price Range': 1, 'Noi...</td>\n",
       "      <td>business</td>\n",
       "    </tr>\n",
       "    <tr>\n",
       "      <th>300</th>\n",
       "      <td>SiwN7f0N4bs4ZtPc4yPgiA</td>\n",
       "      <td>710 N Central Ave\\nPhoenix, AZ 85004</td>\n",
       "      <td>{}</td>\n",
       "      <td>True</td>\n",
       "      <td>[Nightlife, Dance Clubs]</td>\n",
       "      <td>Phoenix</td>\n",
       "      <td>15</td>\n",
       "      <td>Palazzo</td>\n",
       "      <td>[]</td>\n",
       "      <td>-112.074225</td>\n",
       "      <td>AZ</td>\n",
       "      <td>2.5</td>\n",
       "      <td>33.456068</td>\n",
       "      <td>{'Price Range': 2, 'Alcohol': 'full_bar', 'Goo...</td>\n",
       "      <td>business</td>\n",
       "    </tr>\n",
       "  </tbody>\n",
       "</table>\n",
       "</div>"
      ],
      "text/plain": [
       "                business_id  \\\n",
       "0    vcNAWiLM4dR7D2nwwJ7nCA   \n",
       "297  x5Mv61CnZLohZWxfCVCPTQ   \n",
       "298  2ZnCITVa0abGce4gZ6RhIw   \n",
       "299  EmzaQR5hQlF0WIl24NxAZA   \n",
       "300  SiwN7f0N4bs4ZtPc4yPgiA   \n",
       "\n",
       "                                          full_address  \\\n",
       "0    4840 E Indian School Rd\\nSte 101\\nPhoenix, AZ ...   \n",
       "297              2819 N Central Ave\\nPhoenix, AZ 85004   \n",
       "298              1850 N Central Ave\\nPhoenix, AZ 85004   \n",
       "299             132 E Washington St\\nPhoenix, AZ 85004   \n",
       "300               710 N Central Ave\\nPhoenix, AZ 85004   \n",
       "\n",
       "                                                 hours  open  \\\n",
       "0    {'Tuesday': {'close': '17:00', 'open': '08:00'...  True   \n",
       "297                                                 {}  True   \n",
       "298                                                 {}  True   \n",
       "299  {'Sunday': {'close': '02:00', 'open': '21:00'}...  True   \n",
       "300                                                 {}  True   \n",
       "\n",
       "                                            categories     city  review_count  \\\n",
       "0                          [Doctors, Health & Medical]  Phoenix             7   \n",
       "297    [Sandwiches, Pizza, Chicken Wings, Restaurants]  Phoenix            12   \n",
       "298          [American (New), Sandwiches, Restaurants]  Phoenix             5   \n",
       "299  [American (New), Nightlife, Dance Clubs, Resta...  Phoenix            20   \n",
       "300                           [Nightlife, Dance Clubs]  Phoenix            15   \n",
       "\n",
       "                       name neighborhoods   longitude state  stars   latitude  \\\n",
       "0         Eric Goldberg, MD            [] -111.983758    AZ    3.5  33.499313   \n",
       "297          Domino's Pizza            [] -112.073418    AZ    2.5  33.479542   \n",
       "298  Viad Tower Restaurants            [] -112.074315    AZ    3.5  33.468988   \n",
       "299              Sky Lounge            [] -112.071702    AZ    2.5  33.448399   \n",
       "300                 Palazzo            [] -112.074225    AZ    2.5  33.456068   \n",
       "\n",
       "                                            attributes      type  \n",
       "0                        {'By Appointment Only': True}  business  \n",
       "297  {'Take-out': True, 'Wi-Fi': 'no', 'Alcohol': '...  business  \n",
       "298  {'Take-out': True, 'Noise Level': 'quiet', 'De...  business  \n",
       "299  {'Alcohol': 'full_bar', 'Price Range': 1, 'Noi...  business  \n",
       "300  {'Price Range': 2, 'Alcohol': 'full_bar', 'Goo...  business  "
      ]
     },
     "execution_count": 38,
     "metadata": {},
     "output_type": "execute_result"
    }
   ],
   "source": [
    "az_yelp_df = yelp_df[yelp_df['state'] == 'AZ']\n",
    "az_yelp_df.head()"
   ]
  },
  {
   "cell_type": "code",
   "execution_count": 39,
   "metadata": {
    "id": "9reurlUcYtEP"
   },
   "outputs": [
    {
     "data": {
      "text/plain": [
       "array(['AZ'], dtype=object)"
      ]
     },
     "execution_count": 39,
     "metadata": {},
     "output_type": "execute_result"
    }
   ],
   "source": [
    "az_yelp_df['state'].unique()"
   ]
  },
  {
   "cell_type": "markdown",
   "metadata": {
    "id": "EQ0vqRy7YtEP"
   },
   "source": [
    "또한 논리 연산을 사용하여 기준을 결합할 수도 있습니다. 만약 애리조나 주에서 리뷰가 10개 이상인 비즈니스에만 관심이 있다면 어떻게 필터링을 할 수 있을까요?"
   ]
  },
  {
   "cell_type": "code",
   "execution_count": 40,
   "metadata": {
    "id": "go-F44IgYtEQ"
   },
   "outputs": [
    {
     "data": {
      "text/html": [
       "<div>\n",
       "<style scoped>\n",
       "    .dataframe tbody tr th:only-of-type {\n",
       "        vertical-align: middle;\n",
       "    }\n",
       "\n",
       "    .dataframe tbody tr th {\n",
       "        vertical-align: top;\n",
       "    }\n",
       "\n",
       "    .dataframe thead th {\n",
       "        text-align: right;\n",
       "    }\n",
       "</style>\n",
       "<table border=\"1\" class=\"dataframe\">\n",
       "  <thead>\n",
       "    <tr style=\"text-align: right;\">\n",
       "      <th></th>\n",
       "      <th>business_id</th>\n",
       "      <th>full_address</th>\n",
       "      <th>hours</th>\n",
       "      <th>open</th>\n",
       "      <th>categories</th>\n",
       "      <th>city</th>\n",
       "      <th>review_count</th>\n",
       "      <th>name</th>\n",
       "      <th>neighborhoods</th>\n",
       "      <th>longitude</th>\n",
       "      <th>state</th>\n",
       "      <th>stars</th>\n",
       "      <th>latitude</th>\n",
       "      <th>attributes</th>\n",
       "      <th>type</th>\n",
       "    </tr>\n",
       "  </thead>\n",
       "  <tbody>\n",
       "    <tr>\n",
       "      <th>297</th>\n",
       "      <td>x5Mv61CnZLohZWxfCVCPTQ</td>\n",
       "      <td>2819 N Central Ave\\nPhoenix, AZ 85004</td>\n",
       "      <td>{}</td>\n",
       "      <td>True</td>\n",
       "      <td>[Sandwiches, Pizza, Chicken Wings, Restaurants]</td>\n",
       "      <td>Phoenix</td>\n",
       "      <td>12</td>\n",
       "      <td>Domino's Pizza</td>\n",
       "      <td>[]</td>\n",
       "      <td>-112.073418</td>\n",
       "      <td>AZ</td>\n",
       "      <td>2.5</td>\n",
       "      <td>33.479542</td>\n",
       "      <td>{'Take-out': True, 'Wi-Fi': 'no', 'Alcohol': '...</td>\n",
       "      <td>business</td>\n",
       "    </tr>\n",
       "    <tr>\n",
       "      <th>299</th>\n",
       "      <td>EmzaQR5hQlF0WIl24NxAZA</td>\n",
       "      <td>132 E Washington St\\nPhoenix, AZ 85004</td>\n",
       "      <td>{'Sunday': {'close': '02:00', 'open': '21:00'}...</td>\n",
       "      <td>True</td>\n",
       "      <td>[American (New), Nightlife, Dance Clubs, Resta...</td>\n",
       "      <td>Phoenix</td>\n",
       "      <td>20</td>\n",
       "      <td>Sky Lounge</td>\n",
       "      <td>[]</td>\n",
       "      <td>-112.071702</td>\n",
       "      <td>AZ</td>\n",
       "      <td>2.5</td>\n",
       "      <td>33.448399</td>\n",
       "      <td>{'Alcohol': 'full_bar', 'Price Range': 1, 'Noi...</td>\n",
       "      <td>business</td>\n",
       "    </tr>\n",
       "    <tr>\n",
       "      <th>300</th>\n",
       "      <td>SiwN7f0N4bs4ZtPc4yPgiA</td>\n",
       "      <td>710 N Central Ave\\nPhoenix, AZ 85004</td>\n",
       "      <td>{}</td>\n",
       "      <td>True</td>\n",
       "      <td>[Nightlife, Dance Clubs]</td>\n",
       "      <td>Phoenix</td>\n",
       "      <td>15</td>\n",
       "      <td>Palazzo</td>\n",
       "      <td>[]</td>\n",
       "      <td>-112.074225</td>\n",
       "      <td>AZ</td>\n",
       "      <td>2.5</td>\n",
       "      <td>33.456068</td>\n",
       "      <td>{'Price Range': 2, 'Alcohol': 'full_bar', 'Goo...</td>\n",
       "      <td>business</td>\n",
       "    </tr>\n",
       "    <tr>\n",
       "      <th>301</th>\n",
       "      <td>M-MFa0YErVBbFW2IJhGJmw</td>\n",
       "      <td>386 E Virginia Ave\\nPhoenix, AZ 85004</td>\n",
       "      <td>{'Tuesday': {'close': '18:00', 'open': '07:30'...</td>\n",
       "      <td>True</td>\n",
       "      <td>[Auto Repair, Automotive, Tires, Oil Change St...</td>\n",
       "      <td>Phoenix</td>\n",
       "      <td>28</td>\n",
       "      <td>Virginia Auto Service</td>\n",
       "      <td>[]</td>\n",
       "      <td>-112.065806</td>\n",
       "      <td>AZ</td>\n",
       "      <td>4.0</td>\n",
       "      <td>33.476784</td>\n",
       "      <td>{}</td>\n",
       "      <td>business</td>\n",
       "    </tr>\n",
       "    <tr>\n",
       "      <th>302</th>\n",
       "      <td>KPoTixdjoJxSqRSEApSAGg</td>\n",
       "      <td>2631 N Central Ave\\nPhoenix, AZ 85004</td>\n",
       "      <td>{'Monday': {'close': '21:00', 'open': '11:00'}...</td>\n",
       "      <td>True</td>\n",
       "      <td>[Thai, Restaurants]</td>\n",
       "      <td>Phoenix</td>\n",
       "      <td>281</td>\n",
       "      <td>Wild Thaiger</td>\n",
       "      <td>[]</td>\n",
       "      <td>-112.073524</td>\n",
       "      <td>AZ</td>\n",
       "      <td>4.0</td>\n",
       "      <td>33.477934</td>\n",
       "      <td>{'Take-out': True, 'Wi-Fi': 'no', 'Good For': ...</td>\n",
       "      <td>business</td>\n",
       "    </tr>\n",
       "  </tbody>\n",
       "</table>\n",
       "</div>"
      ],
      "text/plain": [
       "                business_id                            full_address  \\\n",
       "297  x5Mv61CnZLohZWxfCVCPTQ   2819 N Central Ave\\nPhoenix, AZ 85004   \n",
       "299  EmzaQR5hQlF0WIl24NxAZA  132 E Washington St\\nPhoenix, AZ 85004   \n",
       "300  SiwN7f0N4bs4ZtPc4yPgiA    710 N Central Ave\\nPhoenix, AZ 85004   \n",
       "301  M-MFa0YErVBbFW2IJhGJmw   386 E Virginia Ave\\nPhoenix, AZ 85004   \n",
       "302  KPoTixdjoJxSqRSEApSAGg   2631 N Central Ave\\nPhoenix, AZ 85004   \n",
       "\n",
       "                                                 hours  open  \\\n",
       "297                                                 {}  True   \n",
       "299  {'Sunday': {'close': '02:00', 'open': '21:00'}...  True   \n",
       "300                                                 {}  True   \n",
       "301  {'Tuesday': {'close': '18:00', 'open': '07:30'...  True   \n",
       "302  {'Monday': {'close': '21:00', 'open': '11:00'}...  True   \n",
       "\n",
       "                                            categories     city  review_count  \\\n",
       "297    [Sandwiches, Pizza, Chicken Wings, Restaurants]  Phoenix            12   \n",
       "299  [American (New), Nightlife, Dance Clubs, Resta...  Phoenix            20   \n",
       "300                           [Nightlife, Dance Clubs]  Phoenix            15   \n",
       "301  [Auto Repair, Automotive, Tires, Oil Change St...  Phoenix            28   \n",
       "302                                [Thai, Restaurants]  Phoenix           281   \n",
       "\n",
       "                      name neighborhoods   longitude state  stars   latitude  \\\n",
       "297         Domino's Pizza            [] -112.073418    AZ    2.5  33.479542   \n",
       "299             Sky Lounge            [] -112.071702    AZ    2.5  33.448399   \n",
       "300                Palazzo            [] -112.074225    AZ    2.5  33.456068   \n",
       "301  Virginia Auto Service            [] -112.065806    AZ    4.0  33.476784   \n",
       "302           Wild Thaiger            [] -112.073524    AZ    4.0  33.477934   \n",
       "\n",
       "                                            attributes      type  \n",
       "297  {'Take-out': True, 'Wi-Fi': 'no', 'Alcohol': '...  business  \n",
       "299  {'Alcohol': 'full_bar', 'Price Range': 1, 'Noi...  business  \n",
       "300  {'Price Range': 2, 'Alcohol': 'full_bar', 'Goo...  business  \n",
       "301                                                 {}  business  \n",
       "302  {'Take-out': True, 'Wi-Fi': 'no', 'Good For': ...  business  "
      ]
     },
     "execution_count": 40,
     "metadata": {},
     "output_type": "execute_result"
    }
   ],
   "source": [
    "yelp_df[(yelp_df['state'] == 'AZ') & (yelp_df['review_count'] > 10)].head()"
   ]
  },
  {
   "cell_type": "markdown",
   "metadata": {
    "id": "Lyc1X9YuYtEQ"
   },
   "source": [
    "그렇다면 과연 이 필터링은 어떻게 작동하는 것일까요?\n",
    "\n",
    "우선, `yelp_df['state'] == 'AZ'`를 작성할 때 판다스는 `state` 열을 선택하고 각 행이 `AZ`인지 확인합니다. 만약 `AZ`가 맞다면 해당 행은 `True`로 표시되고, 그렇지 않으면 `False`로 표시됩니다. 이것은 우리가 일반적으로 조건문이 작동할 것으로 예상하는 방식이며 여기서는 이것이 판다스 `Series`에 적용됩니다. 결과적으로 불리언 대수로 구성된 판다스의 `Series`로 얻을 수 있습니다."
   ]
  },
  {
   "cell_type": "code",
   "execution_count": 41,
   "metadata": {
    "id": "YVz3ljwWYtEQ"
   },
   "outputs": [
    {
     "data": {
      "text/plain": [
       "0     True\n",
       "1    False\n",
       "2    False\n",
       "3    False\n",
       "4    False\n",
       "Name: state, dtype: bool"
      ]
     },
     "execution_count": 41,
     "metadata": {},
     "output_type": "execute_result"
    }
   ],
   "source": [
    "(yelp_df['state'] == 'AZ').head()"
   ]
  },
  {
   "cell_type": "markdown",
   "metadata": {
    "id": "cFlLYSphYtEQ"
   },
   "source": [
    "불리언 대수로 구성된 `Series`(또는 유사한 객체)를 사용하여 데이터프레임을 인덱싱할 수도 있습니다."
   ]
  },
  {
   "cell_type": "code",
   "execution_count": 42,
   "metadata": {
    "id": "_a8QTfzAYtER"
   },
   "outputs": [
    {
     "data": {
      "text/html": [
       "<div>\n",
       "<style scoped>\n",
       "    .dataframe tbody tr th:only-of-type {\n",
       "        vertical-align: middle;\n",
       "    }\n",
       "\n",
       "    .dataframe tbody tr th {\n",
       "        vertical-align: top;\n",
       "    }\n",
       "\n",
       "    .dataframe thead th {\n",
       "        text-align: right;\n",
       "    }\n",
       "</style>\n",
       "<table border=\"1\" class=\"dataframe\">\n",
       "  <thead>\n",
       "    <tr style=\"text-align: right;\">\n",
       "      <th></th>\n",
       "      <th>username</th>\n",
       "      <th>email</th>\n",
       "      <th>password</th>\n",
       "      <th>date-created</th>\n",
       "    </tr>\n",
       "  </thead>\n",
       "  <tbody>\n",
       "    <tr>\n",
       "      <th>0</th>\n",
       "      <td>alice36</td>\n",
       "      <td>alice.chan@gmail.com</td>\n",
       "      <td>ylLec08T</td>\n",
       "      <td>2018-11-15</td>\n",
       "    </tr>\n",
       "    <tr>\n",
       "      <th>1</th>\n",
       "      <td>bob_smith</td>\n",
       "      <td>bwsmith1983@gmail.com</td>\n",
       "      <td>dCIxPiNM</td>\n",
       "      <td>2020-09-07</td>\n",
       "    </tr>\n",
       "    <tr>\n",
       "      <th>2</th>\n",
       "      <td>eve</td>\n",
       "      <td>fakemail123@yahoo.com</td>\n",
       "      <td>yHdBxedI</td>\n",
       "      <td>2018-03-28</td>\n",
       "    </tr>\n",
       "  </tbody>\n",
       "</table>\n",
       "</div>"
      ],
      "text/plain": [
       "    username                  email  password date-created\n",
       "0    alice36   alice.chan@gmail.com  ylLec08T   2018-11-15\n",
       "1  bob_smith  bwsmith1983@gmail.com  dCIxPiNM   2020-09-07\n",
       "2        eve  fakemail123@yahoo.com  yHdBxedI   2018-03-28"
      ]
     },
     "execution_count": 42,
     "metadata": {},
     "output_type": "execute_result"
    }
   ],
   "source": [
    "df"
   ]
  },
  {
   "cell_type": "code",
   "execution_count": 43,
   "metadata": {
    "id": "LGlGwbPRYtER"
   },
   "outputs": [
    {
     "data": {
      "text/html": [
       "<div>\n",
       "<style scoped>\n",
       "    .dataframe tbody tr th:only-of-type {\n",
       "        vertical-align: middle;\n",
       "    }\n",
       "\n",
       "    .dataframe tbody tr th {\n",
       "        vertical-align: top;\n",
       "    }\n",
       "\n",
       "    .dataframe thead th {\n",
       "        text-align: right;\n",
       "    }\n",
       "</style>\n",
       "<table border=\"1\" class=\"dataframe\">\n",
       "  <thead>\n",
       "    <tr style=\"text-align: right;\">\n",
       "      <th></th>\n",
       "      <th>username</th>\n",
       "      <th>email</th>\n",
       "      <th>password</th>\n",
       "      <th>date-created</th>\n",
       "    </tr>\n",
       "  </thead>\n",
       "  <tbody>\n",
       "    <tr>\n",
       "      <th>0</th>\n",
       "      <td>alice36</td>\n",
       "      <td>alice.chan@gmail.com</td>\n",
       "      <td>ylLec08T</td>\n",
       "      <td>2018-11-15</td>\n",
       "    </tr>\n",
       "    <tr>\n",
       "      <th>2</th>\n",
       "      <td>eve</td>\n",
       "      <td>fakemail123@yahoo.com</td>\n",
       "      <td>yHdBxedI</td>\n",
       "      <td>2018-03-28</td>\n",
       "    </tr>\n",
       "  </tbody>\n",
       "</table>\n",
       "</div>"
      ],
      "text/plain": [
       "  username                  email  password date-created\n",
       "0  alice36   alice.chan@gmail.com  ylLec08T   2018-11-15\n",
       "2      eve  fakemail123@yahoo.com  yHdBxedI   2018-03-28"
      ]
     },
     "execution_count": 43,
     "metadata": {},
     "output_type": "execute_result"
    }
   ],
   "source": [
    "df[[True, False, True]]"
   ]
  },
  {
   "cell_type": "markdown",
   "metadata": {
    "id": "lJMba-WTYtER"
   },
   "source": [
    "그밖에도 `yelp_df['review_count'] > 10`과 같은 관용적인 논리 표현식을 사용하여 데이터프레임을 필터링하는 것도 가능합니다.\n",
    "\n",
    "또 다른 예로, 비즈니스가 열려 있는지 여부에 대한 `True`/`False` 플래그도 구성된 `open` 열을 고려해 보겠습니다. 이 또한 불리언 대수로 구성된 판다스 `Series`이므로 직접적으로 필터링을 하는데 사용될 수 있습니다."
   ]
  },
  {
   "cell_type": "code",
   "execution_count": 44,
   "metadata": {
    "id": "hSzh821DYtER"
   },
   "outputs": [
    {
     "data": {
      "text/html": [
       "<div>\n",
       "<style scoped>\n",
       "    .dataframe tbody tr th:only-of-type {\n",
       "        vertical-align: middle;\n",
       "    }\n",
       "\n",
       "    .dataframe tbody tr th {\n",
       "        vertical-align: top;\n",
       "    }\n",
       "\n",
       "    .dataframe thead th {\n",
       "        text-align: right;\n",
       "    }\n",
       "</style>\n",
       "<table border=\"1\" class=\"dataframe\">\n",
       "  <thead>\n",
       "    <tr style=\"text-align: right;\">\n",
       "      <th></th>\n",
       "      <th>business_id</th>\n",
       "      <th>full_address</th>\n",
       "      <th>hours</th>\n",
       "      <th>open</th>\n",
       "      <th>categories</th>\n",
       "      <th>city</th>\n",
       "      <th>review_count</th>\n",
       "      <th>name</th>\n",
       "      <th>neighborhoods</th>\n",
       "      <th>longitude</th>\n",
       "      <th>state</th>\n",
       "      <th>stars</th>\n",
       "      <th>latitude</th>\n",
       "      <th>attributes</th>\n",
       "      <th>type</th>\n",
       "    </tr>\n",
       "  </thead>\n",
       "  <tbody>\n",
       "    <tr>\n",
       "      <th>0</th>\n",
       "      <td>vcNAWiLM4dR7D2nwwJ7nCA</td>\n",
       "      <td>4840 E Indian School Rd\\nSte 101\\nPhoenix, AZ ...</td>\n",
       "      <td>{'Tuesday': {'close': '17:00', 'open': '08:00'...</td>\n",
       "      <td>True</td>\n",
       "      <td>[Doctors, Health &amp; Medical]</td>\n",
       "      <td>Phoenix</td>\n",
       "      <td>7</td>\n",
       "      <td>Eric Goldberg, MD</td>\n",
       "      <td>[]</td>\n",
       "      <td>-111.983758</td>\n",
       "      <td>AZ</td>\n",
       "      <td>3.5</td>\n",
       "      <td>33.499313</td>\n",
       "      <td>{'By Appointment Only': True}</td>\n",
       "      <td>business</td>\n",
       "    </tr>\n",
       "    <tr>\n",
       "      <th>1</th>\n",
       "      <td>JwUE5GmEO-sH1FuwJgKBlQ</td>\n",
       "      <td>6162 US Highway 51\\nDe Forest, WI 53532</td>\n",
       "      <td>{}</td>\n",
       "      <td>True</td>\n",
       "      <td>[Restaurants]</td>\n",
       "      <td>De Forest</td>\n",
       "      <td>26</td>\n",
       "      <td>Pine Cone Restaurant</td>\n",
       "      <td>[]</td>\n",
       "      <td>-89.335844</td>\n",
       "      <td>WI</td>\n",
       "      <td>4.0</td>\n",
       "      <td>43.238893</td>\n",
       "      <td>{'Take-out': True, 'Good For': {'dessert': Fal...</td>\n",
       "      <td>business</td>\n",
       "    </tr>\n",
       "    <tr>\n",
       "      <th>2</th>\n",
       "      <td>uGykseHzyS5xAMWoN6YUqA</td>\n",
       "      <td>505 W North St\\nDe Forest, WI 53532</td>\n",
       "      <td>{'Monday': {'close': '22:00', 'open': '06:00'}...</td>\n",
       "      <td>True</td>\n",
       "      <td>[American (Traditional), Restaurants]</td>\n",
       "      <td>De Forest</td>\n",
       "      <td>16</td>\n",
       "      <td>Deforest Family Restaurant</td>\n",
       "      <td>[]</td>\n",
       "      <td>-89.353437</td>\n",
       "      <td>WI</td>\n",
       "      <td>4.0</td>\n",
       "      <td>43.252267</td>\n",
       "      <td>{'Take-out': True, 'Good For': {'dessert': Fal...</td>\n",
       "      <td>business</td>\n",
       "    </tr>\n",
       "    <tr>\n",
       "      <th>3</th>\n",
       "      <td>LRKJF43s9-3jG9Lgx4zODg</td>\n",
       "      <td>4910 County Rd V\\nDe Forest, WI 53532</td>\n",
       "      <td>{'Monday': {'close': '22:00', 'open': '10:30'}...</td>\n",
       "      <td>True</td>\n",
       "      <td>[Food, Ice Cream &amp; Frozen Yogurt, Fast Food, R...</td>\n",
       "      <td>De Forest</td>\n",
       "      <td>7</td>\n",
       "      <td>Culver's</td>\n",
       "      <td>[]</td>\n",
       "      <td>-89.374983</td>\n",
       "      <td>WI</td>\n",
       "      <td>4.5</td>\n",
       "      <td>43.251045</td>\n",
       "      <td>{'Take-out': True, 'Wi-Fi': 'free', 'Takes Res...</td>\n",
       "      <td>business</td>\n",
       "    </tr>\n",
       "    <tr>\n",
       "      <th>4</th>\n",
       "      <td>RgDg-k9S5YD_BaxMckifkg</td>\n",
       "      <td>631 S Main St\\nDe Forest, WI 53532</td>\n",
       "      <td>{'Monday': {'close': '22:00', 'open': '11:00'}...</td>\n",
       "      <td>True</td>\n",
       "      <td>[Chinese, Restaurants]</td>\n",
       "      <td>De Forest</td>\n",
       "      <td>3</td>\n",
       "      <td>Chang Jiang Chinese Kitchen</td>\n",
       "      <td>[]</td>\n",
       "      <td>-89.343722</td>\n",
       "      <td>WI</td>\n",
       "      <td>4.0</td>\n",
       "      <td>43.240875</td>\n",
       "      <td>{'Take-out': True, 'Has TV': False, 'Outdoor S...</td>\n",
       "      <td>business</td>\n",
       "    </tr>\n",
       "  </tbody>\n",
       "</table>\n",
       "</div>"
      ],
      "text/plain": [
       "              business_id                                       full_address  \\\n",
       "0  vcNAWiLM4dR7D2nwwJ7nCA  4840 E Indian School Rd\\nSte 101\\nPhoenix, AZ ...   \n",
       "1  JwUE5GmEO-sH1FuwJgKBlQ            6162 US Highway 51\\nDe Forest, WI 53532   \n",
       "2  uGykseHzyS5xAMWoN6YUqA                505 W North St\\nDe Forest, WI 53532   \n",
       "3  LRKJF43s9-3jG9Lgx4zODg              4910 County Rd V\\nDe Forest, WI 53532   \n",
       "4  RgDg-k9S5YD_BaxMckifkg                 631 S Main St\\nDe Forest, WI 53532   \n",
       "\n",
       "                                               hours  open  \\\n",
       "0  {'Tuesday': {'close': '17:00', 'open': '08:00'...  True   \n",
       "1                                                 {}  True   \n",
       "2  {'Monday': {'close': '22:00', 'open': '06:00'}...  True   \n",
       "3  {'Monday': {'close': '22:00', 'open': '10:30'}...  True   \n",
       "4  {'Monday': {'close': '22:00', 'open': '11:00'}...  True   \n",
       "\n",
       "                                          categories       city  review_count  \\\n",
       "0                        [Doctors, Health & Medical]    Phoenix             7   \n",
       "1                                      [Restaurants]  De Forest            26   \n",
       "2              [American (Traditional), Restaurants]  De Forest            16   \n",
       "3  [Food, Ice Cream & Frozen Yogurt, Fast Food, R...  De Forest             7   \n",
       "4                             [Chinese, Restaurants]  De Forest             3   \n",
       "\n",
       "                          name neighborhoods   longitude state  stars  \\\n",
       "0            Eric Goldberg, MD            [] -111.983758    AZ    3.5   \n",
       "1         Pine Cone Restaurant            []  -89.335844    WI    4.0   \n",
       "2   Deforest Family Restaurant            []  -89.353437    WI    4.0   \n",
       "3                     Culver's            []  -89.374983    WI    4.5   \n",
       "4  Chang Jiang Chinese Kitchen            []  -89.343722    WI    4.0   \n",
       "\n",
       "    latitude                                         attributes      type  \n",
       "0  33.499313                      {'By Appointment Only': True}  business  \n",
       "1  43.238893  {'Take-out': True, 'Good For': {'dessert': Fal...  business  \n",
       "2  43.252267  {'Take-out': True, 'Good For': {'dessert': Fal...  business  \n",
       "3  43.251045  {'Take-out': True, 'Wi-Fi': 'free', 'Takes Res...  business  \n",
       "4  43.240875  {'Take-out': True, 'Has TV': False, 'Outdoor S...  business  "
      ]
     },
     "execution_count": 44,
     "metadata": {},
     "output_type": "execute_result"
    }
   ],
   "source": [
    "# the open businesses\n",
    "yelp_df[yelp_df['open']].head()"
   ]
  },
  {
   "cell_type": "code",
   "execution_count": 45,
   "metadata": {
    "id": "XHWu-BjgYtER"
   },
   "outputs": [
    {
     "data": {
      "text/html": [
       "<div>\n",
       "<style scoped>\n",
       "    .dataframe tbody tr th:only-of-type {\n",
       "        vertical-align: middle;\n",
       "    }\n",
       "\n",
       "    .dataframe tbody tr th {\n",
       "        vertical-align: top;\n",
       "    }\n",
       "\n",
       "    .dataframe thead th {\n",
       "        text-align: right;\n",
       "    }\n",
       "</style>\n",
       "<table border=\"1\" class=\"dataframe\">\n",
       "  <thead>\n",
       "    <tr style=\"text-align: right;\">\n",
       "      <th></th>\n",
       "      <th>business_id</th>\n",
       "      <th>full_address</th>\n",
       "      <th>hours</th>\n",
       "      <th>open</th>\n",
       "      <th>categories</th>\n",
       "      <th>city</th>\n",
       "      <th>review_count</th>\n",
       "      <th>name</th>\n",
       "      <th>neighborhoods</th>\n",
       "      <th>longitude</th>\n",
       "      <th>state</th>\n",
       "      <th>stars</th>\n",
       "      <th>latitude</th>\n",
       "      <th>attributes</th>\n",
       "      <th>type</th>\n",
       "    </tr>\n",
       "  </thead>\n",
       "  <tbody>\n",
       "    <tr>\n",
       "      <th>5</th>\n",
       "      <td>oLctHIA1AxmsgOuu4dM6Vw</td>\n",
       "      <td>4156 County Rd B\\nMc Farland, WI 53558</td>\n",
       "      <td>{}</td>\n",
       "      <td>False</td>\n",
       "      <td>[Television Stations, Mass Media]</td>\n",
       "      <td>Mc Farland</td>\n",
       "      <td>10</td>\n",
       "      <td>Charter Communications</td>\n",
       "      <td>[]</td>\n",
       "      <td>-89.322920</td>\n",
       "      <td>WI</td>\n",
       "      <td>1.5</td>\n",
       "      <td>42.968507</td>\n",
       "      <td>{}</td>\n",
       "      <td>business</td>\n",
       "    </tr>\n",
       "    <tr>\n",
       "      <th>14</th>\n",
       "      <td>HxPpZSY6Q1eARuiahhra6A</td>\n",
       "      <td>6401 University Ave\\nMiddleton, WI 53562</td>\n",
       "      <td>{}</td>\n",
       "      <td>False</td>\n",
       "      <td>[Event Planning &amp; Services, Party &amp; Event Plan...</td>\n",
       "      <td>Middleton</td>\n",
       "      <td>5</td>\n",
       "      <td>Crandalls Carryout &amp; Catering</td>\n",
       "      <td>[]</td>\n",
       "      <td>-89.491800</td>\n",
       "      <td>WI</td>\n",
       "      <td>4.0</td>\n",
       "      <td>43.093265</td>\n",
       "      <td>{'Take-out': True, 'Caters': True, 'Attire': '...</td>\n",
       "      <td>business</td>\n",
       "    </tr>\n",
       "    <tr>\n",
       "      <th>16</th>\n",
       "      <td>77ESrCo7hQ96VpCWWdvoxg</td>\n",
       "      <td>6230 University Ave\\nMiddleton, WI 53562</td>\n",
       "      <td>{'Monday': {'close': '21:00', 'open': '06:00'}...</td>\n",
       "      <td>False</td>\n",
       "      <td>[Mexican, Restaurants]</td>\n",
       "      <td>Middleton</td>\n",
       "      <td>17</td>\n",
       "      <td>Mi Cocina</td>\n",
       "      <td>[]</td>\n",
       "      <td>-89.487487</td>\n",
       "      <td>WI</td>\n",
       "      <td>3.0</td>\n",
       "      <td>43.091061</td>\n",
       "      <td>{'Take-out': True, 'Wi-Fi': 'no', 'Good For': ...</td>\n",
       "      <td>business</td>\n",
       "    </tr>\n",
       "    <tr>\n",
       "      <th>50</th>\n",
       "      <td>IEmqrFe96NOhU07TA0rZdw</td>\n",
       "      <td>6625 Century Ave\\nMiddleton, WI 53562</td>\n",
       "      <td>{}</td>\n",
       "      <td>False</td>\n",
       "      <td>[American (Traditional), Restaurants]</td>\n",
       "      <td>Middleton</td>\n",
       "      <td>7</td>\n",
       "      <td>Stamm House At Pheasant Branch</td>\n",
       "      <td>[]</td>\n",
       "      <td>-89.494422</td>\n",
       "      <td>WI</td>\n",
       "      <td>2.0</td>\n",
       "      <td>43.104535</td>\n",
       "      <td>{'Alcohol': 'full_bar', 'Attire': 'casual', 'P...</td>\n",
       "      <td>business</td>\n",
       "    </tr>\n",
       "    <tr>\n",
       "      <th>62</th>\n",
       "      <td>mbtGl2I2A2To-8jiggN99g</td>\n",
       "      <td>6661 University Ave\\nSte 103\\nMiddleton, WI 53562</td>\n",
       "      <td>{'Tuesday': {'close': '20:00', 'open': '10:00'...</td>\n",
       "      <td>False</td>\n",
       "      <td>[Skin Care, Hair Salons, Beauty &amp; Spas]</td>\n",
       "      <td>Middleton</td>\n",
       "      <td>7</td>\n",
       "      <td>Tangles</td>\n",
       "      <td>[]</td>\n",
       "      <td>-89.497265</td>\n",
       "      <td>WI</td>\n",
       "      <td>2.0</td>\n",
       "      <td>43.096650</td>\n",
       "      <td>{'By Appointment Only': True, 'Parking': {'gar...</td>\n",
       "      <td>business</td>\n",
       "    </tr>\n",
       "  </tbody>\n",
       "</table>\n",
       "</div>"
      ],
      "text/plain": [
       "               business_id                                       full_address  \\\n",
       "5   oLctHIA1AxmsgOuu4dM6Vw             4156 County Rd B\\nMc Farland, WI 53558   \n",
       "14  HxPpZSY6Q1eARuiahhra6A           6401 University Ave\\nMiddleton, WI 53562   \n",
       "16  77ESrCo7hQ96VpCWWdvoxg           6230 University Ave\\nMiddleton, WI 53562   \n",
       "50  IEmqrFe96NOhU07TA0rZdw              6625 Century Ave\\nMiddleton, WI 53562   \n",
       "62  mbtGl2I2A2To-8jiggN99g  6661 University Ave\\nSte 103\\nMiddleton, WI 53562   \n",
       "\n",
       "                                                hours   open  \\\n",
       "5                                                  {}  False   \n",
       "14                                                 {}  False   \n",
       "16  {'Monday': {'close': '21:00', 'open': '06:00'}...  False   \n",
       "50                                                 {}  False   \n",
       "62  {'Tuesday': {'close': '20:00', 'open': '10:00'...  False   \n",
       "\n",
       "                                           categories        city  \\\n",
       "5                   [Television Stations, Mass Media]  Mc Farland   \n",
       "14  [Event Planning & Services, Party & Event Plan...   Middleton   \n",
       "16                             [Mexican, Restaurants]   Middleton   \n",
       "50              [American (Traditional), Restaurants]   Middleton   \n",
       "62            [Skin Care, Hair Salons, Beauty & Spas]   Middleton   \n",
       "\n",
       "    review_count                            name neighborhoods  longitude  \\\n",
       "5             10          Charter Communications            [] -89.322920   \n",
       "14             5   Crandalls Carryout & Catering            [] -89.491800   \n",
       "16            17                       Mi Cocina            [] -89.487487   \n",
       "50             7  Stamm House At Pheasant Branch            [] -89.494422   \n",
       "62             7                         Tangles            [] -89.497265   \n",
       "\n",
       "   state  stars   latitude                                         attributes  \\\n",
       "5     WI    1.5  42.968507                                                 {}   \n",
       "14    WI    4.0  43.093265  {'Take-out': True, 'Caters': True, 'Attire': '...   \n",
       "16    WI    3.0  43.091061  {'Take-out': True, 'Wi-Fi': 'no', 'Good For': ...   \n",
       "50    WI    2.0  43.104535  {'Alcohol': 'full_bar', 'Attire': 'casual', 'P...   \n",
       "62    WI    2.0  43.096650  {'By Appointment Only': True, 'Parking': {'gar...   \n",
       "\n",
       "        type  \n",
       "5   business  \n",
       "14  business  \n",
       "16  business  \n",
       "50  business  \n",
       "62  business  "
      ]
     },
     "execution_count": 45,
     "metadata": {},
     "output_type": "execute_result"
    }
   ],
   "source": [
    "# the closed businesses\n",
    "yelp_df[~yelp_df['open']].head()"
   ]
  },
  {
   "cell_type": "markdown",
   "metadata": {
    "id": "t_GDcfDYYtER"
   },
   "source": [
    "이전 표현식에서 우리가 `(yelp_df['state'] == 'AZ') & (yelp_df['review_count'] > 10)`라고 쓴 것에 주목할 필요가 있습니다. 일반적으로 파이썬에서는 논리 작업을 할 때 `and`라는 단어를 사용합니다. 하지만 판다스에서는 비트 단위의(**bit-wise**) 논리 연산자를 사용해야 합니다.\n",
    "\n",
    "`~` = `not`  \n",
    "`&` = `and`  \n",
    "`|` = `or`  \n",
    "\n",
    "패턴 일치를 수행하기 위해 판다스의 내장 [문자열 작업](https://pandas.pydata.org/pandas-docs/stable/text.html)을 사용할 수도 있습니다. 예를 들어, 현재의 데이터 세트에서는 라스베가스에 많은 비즈니스가 있는 것을 알 수 있습니다. 하지만 'Las Vegas East'와 'South Las Vegas'에도 사업체가 있습니다. 만약 라스베가스 지역에 관련된 모든 비즈니스를 얻으려면 아래와 같이 필터링을 할 수 있습니다."
   ]
  },
  {
   "cell_type": "code",
   "execution_count": 46,
   "metadata": {
    "id": "22VNvRwEYtES"
   },
   "outputs": [
    {
     "data": {
      "text/html": [
       "<div>\n",
       "<style scoped>\n",
       "    .dataframe tbody tr th:only-of-type {\n",
       "        vertical-align: middle;\n",
       "    }\n",
       "\n",
       "    .dataframe tbody tr th {\n",
       "        vertical-align: top;\n",
       "    }\n",
       "\n",
       "    .dataframe thead th {\n",
       "        text-align: right;\n",
       "    }\n",
       "</style>\n",
       "<table border=\"1\" class=\"dataframe\">\n",
       "  <thead>\n",
       "    <tr style=\"text-align: right;\">\n",
       "      <th></th>\n",
       "      <th>business_id</th>\n",
       "      <th>full_address</th>\n",
       "      <th>hours</th>\n",
       "      <th>open</th>\n",
       "      <th>categories</th>\n",
       "      <th>city</th>\n",
       "      <th>review_count</th>\n",
       "      <th>name</th>\n",
       "      <th>neighborhoods</th>\n",
       "      <th>longitude</th>\n",
       "      <th>state</th>\n",
       "      <th>stars</th>\n",
       "      <th>latitude</th>\n",
       "      <th>attributes</th>\n",
       "      <th>type</th>\n",
       "    </tr>\n",
       "  </thead>\n",
       "  <tbody>\n",
       "    <tr>\n",
       "      <th>4348</th>\n",
       "      <td>uzztTCsg3XAKlYqmLO40aw</td>\n",
       "      <td>5835 S Eastern Ave\\nSoutheast\\nLas Vegas, NV 8...</td>\n",
       "      <td>{'Monday': {'close': '21:00', 'open': '10:00'}...</td>\n",
       "      <td>True</td>\n",
       "      <td>[Arts &amp; Entertainment, Shopping, Books, Mags, ...</td>\n",
       "      <td>Las Vegas</td>\n",
       "      <td>7</td>\n",
       "      <td>Psychic Eye Book Shops</td>\n",
       "      <td>[Southeast]</td>\n",
       "      <td>-115.119422</td>\n",
       "      <td>NV</td>\n",
       "      <td>4.5</td>\n",
       "      <td>36.083936</td>\n",
       "      <td>{'Parking': {'garage': False, 'street': False,...</td>\n",
       "      <td>business</td>\n",
       "    </tr>\n",
       "    <tr>\n",
       "      <th>4360</th>\n",
       "      <td>IspFZDcpu9W5NvvJ7QgJZg</td>\n",
       "      <td>The Forum Shops At Caesars\\n3500 Las Vegas Blv...</td>\n",
       "      <td>{'Monday': {'close': '21:00', 'open': '10:00'}...</td>\n",
       "      <td>True</td>\n",
       "      <td>[Women's Clothing, Men's Clothing, Fashion, Sh...</td>\n",
       "      <td>Las Vegas</td>\n",
       "      <td>6</td>\n",
       "      <td>Gap</td>\n",
       "      <td>[Eastside]</td>\n",
       "      <td>-115.146372</td>\n",
       "      <td>NV</td>\n",
       "      <td>4.5</td>\n",
       "      <td>36.124423</td>\n",
       "      <td>{'Parking': {'garage': True, 'street': False, ...</td>\n",
       "      <td>business</td>\n",
       "    </tr>\n",
       "    <tr>\n",
       "      <th>4364</th>\n",
       "      <td>Dvulg9cc3XHkt5DkBUekhw</td>\n",
       "      <td>467 E Silverado Ranch Blvd\\nSte 175\\nSoutheast...</td>\n",
       "      <td>{}</td>\n",
       "      <td>True</td>\n",
       "      <td>[Hair Salons, Beauty &amp; Spas]</td>\n",
       "      <td>Las Vegas</td>\n",
       "      <td>10</td>\n",
       "      <td>Great Clips</td>\n",
       "      <td>[Southeast]</td>\n",
       "      <td>-115.153303</td>\n",
       "      <td>NV</td>\n",
       "      <td>2.5</td>\n",
       "      <td>36.012150</td>\n",
       "      <td>{'By Appointment Only': False, 'Parking': {'ga...</td>\n",
       "      <td>business</td>\n",
       "    </tr>\n",
       "    <tr>\n",
       "      <th>4441</th>\n",
       "      <td>_SM8UKIwBNbmj1r629ipoQ</td>\n",
       "      <td>1916 Village Center Cir\\nSummerlin\\nLas Vegas,...</td>\n",
       "      <td>{'Monday': {'close': '23:00', 'open': '11:00'}...</td>\n",
       "      <td>False</td>\n",
       "      <td>[Wine Bars, Bars, Restaurants, Nightlife, Ital...</td>\n",
       "      <td>Las Vegas</td>\n",
       "      <td>9</td>\n",
       "      <td>Chianti Cafe</td>\n",
       "      <td>[Summerlin]</td>\n",
       "      <td>-115.304396</td>\n",
       "      <td>NV</td>\n",
       "      <td>3.5</td>\n",
       "      <td>36.192414</td>\n",
       "      <td>{'Alcohol': 'full_bar', 'Music': {'video': Fal...</td>\n",
       "      <td>business</td>\n",
       "    </tr>\n",
       "    <tr>\n",
       "      <th>4489</th>\n",
       "      <td>Zaw0IAXwopKX4MV23MHQRw</td>\n",
       "      <td>2718 E Tropicana Avenue\\nEastside\\nLas Vegas, ...</td>\n",
       "      <td>{}</td>\n",
       "      <td>True</td>\n",
       "      <td>[Car Wash, Automotive]</td>\n",
       "      <td>Las Vegas</td>\n",
       "      <td>3</td>\n",
       "      <td>Terrible Herbst</td>\n",
       "      <td>[Eastside, Southeast]</td>\n",
       "      <td>-115.113492</td>\n",
       "      <td>NV</td>\n",
       "      <td>1.5</td>\n",
       "      <td>36.100507</td>\n",
       "      <td>{}</td>\n",
       "      <td>business</td>\n",
       "    </tr>\n",
       "  </tbody>\n",
       "</table>\n",
       "</div>"
      ],
      "text/plain": [
       "                 business_id  \\\n",
       "4348  uzztTCsg3XAKlYqmLO40aw   \n",
       "4360  IspFZDcpu9W5NvvJ7QgJZg   \n",
       "4364  Dvulg9cc3XHkt5DkBUekhw   \n",
       "4441  _SM8UKIwBNbmj1r629ipoQ   \n",
       "4489  Zaw0IAXwopKX4MV23MHQRw   \n",
       "\n",
       "                                           full_address  \\\n",
       "4348  5835 S Eastern Ave\\nSoutheast\\nLas Vegas, NV 8...   \n",
       "4360  The Forum Shops At Caesars\\n3500 Las Vegas Blv...   \n",
       "4364  467 E Silverado Ranch Blvd\\nSte 175\\nSoutheast...   \n",
       "4441  1916 Village Center Cir\\nSummerlin\\nLas Vegas,...   \n",
       "4489  2718 E Tropicana Avenue\\nEastside\\nLas Vegas, ...   \n",
       "\n",
       "                                                  hours   open  \\\n",
       "4348  {'Monday': {'close': '21:00', 'open': '10:00'}...   True   \n",
       "4360  {'Monday': {'close': '21:00', 'open': '10:00'}...   True   \n",
       "4364                                                 {}   True   \n",
       "4441  {'Monday': {'close': '23:00', 'open': '11:00'}...  False   \n",
       "4489                                                 {}   True   \n",
       "\n",
       "                                             categories       city  \\\n",
       "4348  [Arts & Entertainment, Shopping, Books, Mags, ...  Las Vegas   \n",
       "4360  [Women's Clothing, Men's Clothing, Fashion, Sh...  Las Vegas   \n",
       "4364                       [Hair Salons, Beauty & Spas]  Las Vegas   \n",
       "4441  [Wine Bars, Bars, Restaurants, Nightlife, Ital...  Las Vegas   \n",
       "4489                             [Car Wash, Automotive]  Las Vegas   \n",
       "\n",
       "      review_count                    name          neighborhoods   longitude  \\\n",
       "4348             7  Psychic Eye Book Shops            [Southeast] -115.119422   \n",
       "4360             6                     Gap             [Eastside] -115.146372   \n",
       "4364            10             Great Clips            [Southeast] -115.153303   \n",
       "4441             9            Chianti Cafe            [Summerlin] -115.304396   \n",
       "4489             3         Terrible Herbst  [Eastside, Southeast] -115.113492   \n",
       "\n",
       "     state  stars   latitude  \\\n",
       "4348    NV    4.5  36.083936   \n",
       "4360    NV    4.5  36.124423   \n",
       "4364    NV    2.5  36.012150   \n",
       "4441    NV    3.5  36.192414   \n",
       "4489    NV    1.5  36.100507   \n",
       "\n",
       "                                             attributes      type  \n",
       "4348  {'Parking': {'garage': False, 'street': False,...  business  \n",
       "4360  {'Parking': {'garage': True, 'street': False, ...  business  \n",
       "4364  {'By Appointment Only': False, 'Parking': {'ga...  business  \n",
       "4441  {'Alcohol': 'full_bar', 'Music': {'video': Fal...  business  \n",
       "4489                                                 {}  business  "
      ]
     },
     "execution_count": 46,
     "metadata": {},
     "output_type": "execute_result"
    }
   ],
   "source": [
    "vegas_yelp_df = yelp_df[yelp_df['city'].str.contains('Vegas')]\n",
    "vegas_yelp_df.head()"
   ]
  },
  {
   "cell_type": "code",
   "execution_count": 47,
   "metadata": {
    "id": "CfhFQ4UWYtES"
   },
   "outputs": [
    {
     "data": {
      "text/plain": [
       "array(['Las Vegas', 'North Las Vegas', 'N Las Vegas', 'N. Las Vegas',\n",
       "       'C Las Vegas', 'Las Vegas ', 'Las Vegas, NV 89147',\n",
       "       'Las Vegas East', 'North Las Vegas ', 'N E Las Vegas',\n",
       "       'N W Las Vegas', 'Lake Las Vegas', 'South Las Vegas'], dtype=object)"
      ]
     },
     "execution_count": 47,
     "metadata": {},
     "output_type": "execute_result"
    }
   ],
   "source": [
    "vegas_yelp_df['city'].unique()"
   ]
  },
  {
   "cell_type": "markdown",
   "metadata": {
    "id": "AFgM0qGsYtES"
   },
   "source": [
    "## 함수 적용과 데이터 집계\n",
    "\n",
    "데이터 프레임의 데이터를 분석하기 위해서는 데이터 프레임에 함수를 적용할 수 있어야 합니다. 판다스ndas에는 이미 많은 수학 함수가 내장되어 있고, 데이터프레임과 시리즈는 기본적으로 넘파이의 배열처럼 동작하기 때문에 우리는 이를 넘파이 함수에 전달할 수도 있습니다."
   ]
  },
  {
   "cell_type": "code",
   "execution_count": 6,
   "metadata": {
    "id": "OsTc0nhhYtES"
   },
   "outputs": [
    {
     "name": "stdout",
     "output_type": "stream",
     "text": [
      "0    1.945910\n",
      "1    3.258097\n",
      "2    2.772589\n",
      "3    1.945910\n",
      "4    1.098612\n",
      "Name: review_count, dtype: float64\n",
      "(37938,)\n"
     ]
    }
   ],
   "source": [
    "log_review_count = np.log(yelp_df['review_count'])\n",
    "print(log_review_count.head())\n",
    "print(log_review_count.shape)"
   ]
  },
  {
   "cell_type": "code",
   "execution_count": 7,
   "metadata": {
    "id": "GZt6Ln9mYtES"
   },
   "outputs": [
    {
     "name": "stdout",
     "output_type": "stream",
     "text": [
      "29.300648426379883\n"
     ]
    }
   ],
   "source": [
    "mean_review_count = yelp_df['review_count'].mean()\n",
    "print(mean_review_count)"
   ]
  },
  {
   "cell_type": "markdown",
   "metadata": {
    "id": "qsi5VBzZYtES"
   },
   "source": [
    "첫 번째 예시에서는 각 비즈니스에 대한 리뷰 수에다가 로그를 취했고, 두 번째에서는 모든 비즈니스의 평균 리뷰 수를 계산했습니다. 첫 번째 예시에서는 각각의 비즈니스가 숫자로 표시되어 있습니다. 또한 우리는 로그를 취하여 리뷰 카운트를 변환했습니다. 두 번째 경우에는 모든 비즈니스의 리뷰 수를 하나의 숫자로 요약했습니다. 이는 데이터 집계의 한 형태이고, 이것은 많은 데이터를 가져와 더 작은 표현으로 결합합니다. 데이터 세트에 적용하는 함수들은 변환(**transformations**) 또는 집계(**aggreagtions**)의 범주에 속합니다.\n",
    "\n",
    "때로는 데이터가 사용가능한 형태를 띄도록 우리는 데이터를 변환할 필요가 있습니다. 예를 들어, 데이터프레임의 `attributes` 열에는 모든 속성을 나열하는 각 비즈니스에 대한 `dict`가 있습니다. 만약 배달 서비스를 제공하는 레스토랑을 찾으려면 해당 정보가 `attributes` 열에 있음에도 불구하고 데이터프레임을 필터링하기가 어려울 것입니다. 그렇기 때문에 이를 찾기 위해서는 먼저 `dict`를 더 유용한 형태로 변환해야 합니다."
   ]
  },
  {
   "cell_type": "code",
   "execution_count": 8,
   "metadata": {
    "id": "ZnRIcFElYtET"
   },
   "outputs": [],
   "source": [
    "def get_delivery_attr(attr_dict):\n",
    "    return attr_dict.get('Delivery')"
   ]
  },
  {
   "cell_type": "markdown",
   "metadata": {
    "id": "pFh0JubWYtET"
   },
   "source": [
    "위의 함수는 `attributes` 열로부터 `dict`를 제공받으면 `Delivery` 키를 찾습니다. 만약 해당 키를 찾으면 그에 맞는 값을 반환합니다. 또한 키를 찾지 못하면 아무 것도 반환하지 않습니다."
   ]
  },
  {
   "cell_type": "code",
   "execution_count": 9,
   "metadata": {
    "id": "OD2foT2lYtET"
   },
   "outputs": [
    {
     "name": "stdout",
     "output_type": "stream",
     "text": [
      "None\n",
      "False\n",
      "False\n"
     ]
    }
   ],
   "source": [
    "print(get_delivery_attr(yelp_df.loc[0, 'attributes']))\n",
    "print(get_delivery_attr(yelp_df.loc[1, 'attributes']))\n",
    "print(get_delivery_attr(yelp_df.loc[2, 'attributes']))"
   ]
  },
  {
   "cell_type": "markdown",
   "metadata": {
    "id": "_2os7rVSYtET"
   },
   "source": [
    "모든 값을 얻기 위해 `yelp_df['attributes']`의 행을 반복할 수 있지만 더 좋은 방법이 있습니다. 데이터프레임과 시리즈네는 `np.log`에서 했던 것처럼 전체 데이터 세트에 한 번에 함수를 적용할 수 있는 `apply`라는 메소드가 있습니다."
   ]
  },
  {
   "cell_type": "code",
   "execution_count": 10,
   "metadata": {
    "id": "lvSW1Jd6YtET"
   },
   "outputs": [
    {
     "data": {
      "text/plain": [
       "0     None\n",
       "1    False\n",
       "2    False\n",
       "3    False\n",
       "4     None\n",
       "Name: attributes, dtype: object"
      ]
     },
     "execution_count": 10,
     "metadata": {},
     "output_type": "execute_result"
    }
   ],
   "source": [
    "delivery_attr = yelp_df['attributes'].apply(get_delivery_attr)\n",
    "delivery_attr.head()"
   ]
  },
  {
   "cell_type": "markdown",
   "metadata": {
    "id": "MVqmrHUdYtET"
   },
   "source": [
    "우리는 이 변환된 정보를 사용하여 데이터프레임 상에 새 열을 만들 수 있습니다."
   ]
  },
  {
   "cell_type": "code",
   "execution_count": 11,
   "metadata": {
    "id": "6fTi4pQ8YtEU"
   },
   "outputs": [
    {
     "data": {
      "text/html": [
       "<div>\n",
       "<style scoped>\n",
       "    .dataframe tbody tr th:only-of-type {\n",
       "        vertical-align: middle;\n",
       "    }\n",
       "\n",
       "    .dataframe tbody tr th {\n",
       "        vertical-align: top;\n",
       "    }\n",
       "\n",
       "    .dataframe thead th {\n",
       "        text-align: right;\n",
       "    }\n",
       "</style>\n",
       "<table border=\"1\" class=\"dataframe\">\n",
       "  <thead>\n",
       "    <tr style=\"text-align: right;\">\n",
       "      <th></th>\n",
       "      <th>business_id</th>\n",
       "      <th>full_address</th>\n",
       "      <th>hours</th>\n",
       "      <th>open</th>\n",
       "      <th>categories</th>\n",
       "      <th>city</th>\n",
       "      <th>review_count</th>\n",
       "      <th>name</th>\n",
       "      <th>neighborhoods</th>\n",
       "      <th>longitude</th>\n",
       "      <th>state</th>\n",
       "      <th>stars</th>\n",
       "      <th>latitude</th>\n",
       "      <th>attributes</th>\n",
       "      <th>type</th>\n",
       "      <th>delivery</th>\n",
       "    </tr>\n",
       "  </thead>\n",
       "  <tbody>\n",
       "    <tr>\n",
       "      <th>21</th>\n",
       "      <td>KTqNU4plO23583DYAMGXYg</td>\n",
       "      <td>2411 Allen Blvd\\nMiddleton, WI 53562</td>\n",
       "      <td>{}</td>\n",
       "      <td>True</td>\n",
       "      <td>[Sandwiches, Pizza, Chicken Wings, Restaurants]</td>\n",
       "      <td>Middleton</td>\n",
       "      <td>3</td>\n",
       "      <td>Domino's Pizza</td>\n",
       "      <td>[]</td>\n",
       "      <td>-89.486219</td>\n",
       "      <td>WI</td>\n",
       "      <td>3.0</td>\n",
       "      <td>43.100384</td>\n",
       "      <td>{'Take-out': True, 'Takes Reservations': False...</td>\n",
       "      <td>business</td>\n",
       "      <td>True</td>\n",
       "    </tr>\n",
       "    <tr>\n",
       "      <th>64</th>\n",
       "      <td>oc0rCahXOaJeHLzzDdSfyA</td>\n",
       "      <td>1901 Cayuga St\\nMiddleton, WI 53562</td>\n",
       "      <td>{}</td>\n",
       "      <td>False</td>\n",
       "      <td>[Restaurants]</td>\n",
       "      <td>Middleton</td>\n",
       "      <td>3</td>\n",
       "      <td>Soup Factory</td>\n",
       "      <td>[]</td>\n",
       "      <td>-89.513737</td>\n",
       "      <td>WI</td>\n",
       "      <td>3.0</td>\n",
       "      <td>43.096359</td>\n",
       "      <td>{'Take-out': True, 'Alcohol': 'none', 'Takes R...</td>\n",
       "      <td>business</td>\n",
       "      <td>True</td>\n",
       "    </tr>\n",
       "    <tr>\n",
       "      <th>75</th>\n",
       "      <td>OC8AUJshLVimn_-P_INvJw</td>\n",
       "      <td>330 W Main St\\nSun Prairie, WI 53590</td>\n",
       "      <td>{'Monday': {'close': '23:00', 'open': '11:00'}...</td>\n",
       "      <td>True</td>\n",
       "      <td>[Sandwiches, Pizza, Chicken Wings, Restaurants]</td>\n",
       "      <td>Sun Prairie</td>\n",
       "      <td>4</td>\n",
       "      <td>Pizza Pit</td>\n",
       "      <td>[]</td>\n",
       "      <td>-89.218527</td>\n",
       "      <td>WI</td>\n",
       "      <td>2.5</td>\n",
       "      <td>43.183277</td>\n",
       "      <td>{'Take-out': True, 'Good For': {'dessert': Fal...</td>\n",
       "      <td>business</td>\n",
       "      <td>True</td>\n",
       "    </tr>\n",
       "    <tr>\n",
       "      <th>79</th>\n",
       "      <td>NDAxF0_RCZBQedVO_d5WnA</td>\n",
       "      <td>984 W Main St\\nSun Prairie, WI 53590</td>\n",
       "      <td>{}</td>\n",
       "      <td>True</td>\n",
       "      <td>[Chinese, Restaurants]</td>\n",
       "      <td>Sun Prairie</td>\n",
       "      <td>9</td>\n",
       "      <td>Chang Jiang</td>\n",
       "      <td>[]</td>\n",
       "      <td>-89.230477</td>\n",
       "      <td>WI</td>\n",
       "      <td>3.0</td>\n",
       "      <td>43.180786</td>\n",
       "      <td>{'Take-out': True, 'Wi-Fi': 'no', 'Good For': ...</td>\n",
       "      <td>business</td>\n",
       "      <td>True</td>\n",
       "    </tr>\n",
       "    <tr>\n",
       "      <th>82</th>\n",
       "      <td>5uxhIGZlJm9g_zfG_83z5Q</td>\n",
       "      <td>2091 McCoy Rd\\nSun Prairie, WI 53590</td>\n",
       "      <td>{}</td>\n",
       "      <td>True</td>\n",
       "      <td>[Chinese, Restaurants]</td>\n",
       "      <td>Sun Prairie</td>\n",
       "      <td>6</td>\n",
       "      <td>Peking Chinese Restaurant</td>\n",
       "      <td>[]</td>\n",
       "      <td>-89.248245</td>\n",
       "      <td>WI</td>\n",
       "      <td>3.0</td>\n",
       "      <td>43.175381</td>\n",
       "      <td>{'Delivery': True, 'Waiter Service': True, 'Ta...</td>\n",
       "      <td>business</td>\n",
       "      <td>True</td>\n",
       "    </tr>\n",
       "  </tbody>\n",
       "</table>\n",
       "</div>"
      ],
      "text/plain": [
       "               business_id                          full_address  \\\n",
       "21  KTqNU4plO23583DYAMGXYg  2411 Allen Blvd\\nMiddleton, WI 53562   \n",
       "64  oc0rCahXOaJeHLzzDdSfyA   1901 Cayuga St\\nMiddleton, WI 53562   \n",
       "75  OC8AUJshLVimn_-P_INvJw  330 W Main St\\nSun Prairie, WI 53590   \n",
       "79  NDAxF0_RCZBQedVO_d5WnA  984 W Main St\\nSun Prairie, WI 53590   \n",
       "82  5uxhIGZlJm9g_zfG_83z5Q  2091 McCoy Rd\\nSun Prairie, WI 53590   \n",
       "\n",
       "                                                hours   open  \\\n",
       "21                                                 {}   True   \n",
       "64                                                 {}  False   \n",
       "75  {'Monday': {'close': '23:00', 'open': '11:00'}...   True   \n",
       "79                                                 {}   True   \n",
       "82                                                 {}   True   \n",
       "\n",
       "                                         categories         city  \\\n",
       "21  [Sandwiches, Pizza, Chicken Wings, Restaurants]    Middleton   \n",
       "64                                    [Restaurants]    Middleton   \n",
       "75  [Sandwiches, Pizza, Chicken Wings, Restaurants]  Sun Prairie   \n",
       "79                           [Chinese, Restaurants]  Sun Prairie   \n",
       "82                           [Chinese, Restaurants]  Sun Prairie   \n",
       "\n",
       "    review_count                       name neighborhoods  longitude state  \\\n",
       "21             3             Domino's Pizza            [] -89.486219    WI   \n",
       "64             3               Soup Factory            [] -89.513737    WI   \n",
       "75             4                  Pizza Pit            [] -89.218527    WI   \n",
       "79             9                Chang Jiang            [] -89.230477    WI   \n",
       "82             6  Peking Chinese Restaurant            [] -89.248245    WI   \n",
       "\n",
       "    stars   latitude                                         attributes  \\\n",
       "21    3.0  43.100384  {'Take-out': True, 'Takes Reservations': False...   \n",
       "64    3.0  43.096359  {'Take-out': True, 'Alcohol': 'none', 'Takes R...   \n",
       "75    2.5  43.183277  {'Take-out': True, 'Good For': {'dessert': Fal...   \n",
       "79    3.0  43.180786  {'Take-out': True, 'Wi-Fi': 'no', 'Good For': ...   \n",
       "82    3.0  43.175381  {'Delivery': True, 'Waiter Service': True, 'Ta...   \n",
       "\n",
       "        type delivery  \n",
       "21  business     True  \n",
       "64  business     True  \n",
       "75  business     True  \n",
       "79  business     True  \n",
       "82  business     True  "
      ]
     },
     "execution_count": 11,
     "metadata": {},
     "output_type": "execute_result"
    }
   ],
   "source": [
    "yelp_df['delivery'] = delivery_attr\n",
    "\n",
    "# to find businesses that deliver\n",
    "yelp_df[yelp_df['delivery'].fillna(False)].head()"
   ]
  },
  {
   "cell_type": "markdown",
   "metadata": {
    "id": "4jXnI7UtYtEU"
   },
   "source": [
    "하나의 열이 아닌 전체 데이터프레임에 `apply` 메서드를 사용하는 것은 가능은 하나 덜 일반적인 방법입니다. 그 이유는 일반적으로 데이터프레임에 서로 다른 유형의 데이터가 포함되어 있기 때문입니다."
   ]
  },
  {
   "cell_type": "markdown",
   "metadata": {
    "id": "-DLEmYiSYtEU"
   },
   "source": [
    "## `groupby`를 활용한 데이터 집계\n",
    "\n",
    "데이터 집계는 함수의 [오버로딩](https://en.wikipedia.org/wiki/Function_overloading)과 관련된 용어입니다. 이는 데이터 요약뿐만 아니라 서로 다른 데이터 세트의 결합을 의미합니다.\n",
    "\n",
    "Yelp 데이터를 사용하여 여러 도시에 있는 기업의 별점을 비교하는 데 관심이 있을 수 있습니다. 우리는 각 도시의 평균 별점을 계산할 수 있으며, 이를 통해 쉽게 비교할 수 있습니다. 이를 위해서 먼저 데이터를 도시별로 분할하고 각 도시의 평균을 계산한 다음 마지막에 다시 결합해야 합니다. 이 절차는 소위 [split-apply-combine](https://pandas.pydata.org/pandas-docs/stable/groupby.html)으로 알려져 있으며 데이터 집계의 고전적인 예시입니다.\n",
    "\n",
    "아래에서는 `groupby` 메서드를 사용하여 분할 및 재결합을 수행합니다."
   ]
  },
  {
   "cell_type": "code",
   "execution_count": 12,
   "metadata": {
    "id": "zfkG6CXzYtEU"
   },
   "outputs": [
    {
     "data": {
      "text/plain": [
       "city\n",
       "Ahwatukee          3.687500\n",
       "Anthem             3.781818\n",
       "Apache Junction    3.637500\n",
       "Arcadia            5.000000\n",
       "Atlanta            3.500000\n",
       "Name: stars, dtype: float64"
      ]
     },
     "execution_count": 12,
     "metadata": {},
     "output_type": "execute_result"
    }
   ],
   "source": [
    "stars_by_city = yelp_df.groupby('city')['stars'].mean()\n",
    "stars_by_city.head()"
   ]
  },
  {
   "cell_type": "markdown",
   "metadata": {
    "id": "TmnLa5ucYtEV"
   },
   "source": [
    "한 번에 여러 함수들을 적용할 수도 있습니다. 예를 들어, 별점의 표준편차, 총 리뷰 수, 업체 수를 아는 것이 도움이 될 수 있으므로 우리는 아래와 같은 방법을 사용해 데이터를 집계할 수 있습니다."
   ]
  },
  {
   "cell_type": "code",
   "execution_count": 13,
   "metadata": {
    "id": "XfEtuamZYtEV"
   },
   "outputs": [
    {
     "data": {
      "text/html": [
       "<div>\n",
       "<style scoped>\n",
       "    .dataframe tbody tr th:only-of-type {\n",
       "        vertical-align: middle;\n",
       "    }\n",
       "\n",
       "    .dataframe tbody tr th {\n",
       "        vertical-align: top;\n",
       "    }\n",
       "\n",
       "    .dataframe thead tr th {\n",
       "        text-align: left;\n",
       "    }\n",
       "\n",
       "    .dataframe thead tr:last-of-type th {\n",
       "        text-align: right;\n",
       "    }\n",
       "</style>\n",
       "<table border=\"1\" class=\"dataframe\">\n",
       "  <thead>\n",
       "    <tr>\n",
       "      <th></th>\n",
       "      <th colspan=\"2\" halign=\"left\">stars</th>\n",
       "      <th>review_count</th>\n",
       "      <th>business_id</th>\n",
       "    </tr>\n",
       "    <tr>\n",
       "      <th></th>\n",
       "      <th>mean</th>\n",
       "      <th>std</th>\n",
       "      <th>sum</th>\n",
       "      <th>count</th>\n",
       "    </tr>\n",
       "    <tr>\n",
       "      <th>city</th>\n",
       "      <th></th>\n",
       "      <th></th>\n",
       "      <th></th>\n",
       "      <th></th>\n",
       "    </tr>\n",
       "  </thead>\n",
       "  <tbody>\n",
       "    <tr>\n",
       "      <th>Ahwatukee</th>\n",
       "      <td>3.687500</td>\n",
       "      <td>1.066955</td>\n",
       "      <td>258</td>\n",
       "      <td>8</td>\n",
       "    </tr>\n",
       "    <tr>\n",
       "      <th>Anthem</th>\n",
       "      <td>3.781818</td>\n",
       "      <td>0.756231</td>\n",
       "      <td>727</td>\n",
       "      <td>55</td>\n",
       "    </tr>\n",
       "    <tr>\n",
       "      <th>Apache Junction</th>\n",
       "      <td>3.637500</td>\n",
       "      <td>1.028010</td>\n",
       "      <td>853</td>\n",
       "      <td>80</td>\n",
       "    </tr>\n",
       "    <tr>\n",
       "      <th>Arcadia</th>\n",
       "      <td>5.000000</td>\n",
       "      <td>NaN</td>\n",
       "      <td>4</td>\n",
       "      <td>1</td>\n",
       "    </tr>\n",
       "    <tr>\n",
       "      <th>Atlanta</th>\n",
       "      <td>3.500000</td>\n",
       "      <td>NaN</td>\n",
       "      <td>16</td>\n",
       "      <td>1</td>\n",
       "    </tr>\n",
       "  </tbody>\n",
       "</table>\n",
       "</div>"
      ],
      "text/plain": [
       "                    stars           review_count business_id\n",
       "                     mean       std          sum       count\n",
       "city                                                        \n",
       "Ahwatukee        3.687500  1.066955          258           8\n",
       "Anthem           3.781818  0.756231          727          55\n",
       "Apache Junction  3.637500  1.028010          853          80\n",
       "Arcadia          5.000000       NaN            4           1\n",
       "Atlanta          3.500000       NaN           16           1"
      ]
     },
     "execution_count": 13,
     "metadata": {},
     "output_type": "execute_result"
    }
   ],
   "source": [
    "agg_by_city = yelp_df.groupby('city').agg({'stars': ['mean', 'std'], 'review_count': 'sum', 'business_id': 'count'})\n",
    "agg_by_city.head()"
   ]
  },
  {
   "cell_type": "code",
   "execution_count": 14,
   "metadata": {
    "id": "fD_k9ggZYtEV"
   },
   "outputs": [
    {
     "data": {
      "text/html": [
       "<div>\n",
       "<style scoped>\n",
       "    .dataframe tbody tr th:only-of-type {\n",
       "        vertical-align: middle;\n",
       "    }\n",
       "\n",
       "    .dataframe tbody tr th {\n",
       "        vertical-align: top;\n",
       "    }\n",
       "\n",
       "    .dataframe thead th {\n",
       "        text-align: right;\n",
       "    }\n",
       "</style>\n",
       "<table border=\"1\" class=\"dataframe\">\n",
       "  <thead>\n",
       "    <tr style=\"text-align: right;\">\n",
       "      <th></th>\n",
       "      <th>stars_mean</th>\n",
       "      <th>stars_std</th>\n",
       "      <th>review_count_sum</th>\n",
       "      <th>business_id_count</th>\n",
       "    </tr>\n",
       "    <tr>\n",
       "      <th>city</th>\n",
       "      <th></th>\n",
       "      <th></th>\n",
       "      <th></th>\n",
       "      <th></th>\n",
       "    </tr>\n",
       "  </thead>\n",
       "  <tbody>\n",
       "    <tr>\n",
       "      <th>Ahwatukee</th>\n",
       "      <td>3.687500</td>\n",
       "      <td>1.066955</td>\n",
       "      <td>258</td>\n",
       "      <td>8</td>\n",
       "    </tr>\n",
       "    <tr>\n",
       "      <th>Anthem</th>\n",
       "      <td>3.781818</td>\n",
       "      <td>0.756231</td>\n",
       "      <td>727</td>\n",
       "      <td>55</td>\n",
       "    </tr>\n",
       "    <tr>\n",
       "      <th>Apache Junction</th>\n",
       "      <td>3.637500</td>\n",
       "      <td>1.028010</td>\n",
       "      <td>853</td>\n",
       "      <td>80</td>\n",
       "    </tr>\n",
       "    <tr>\n",
       "      <th>Arcadia</th>\n",
       "      <td>5.000000</td>\n",
       "      <td>NaN</td>\n",
       "      <td>4</td>\n",
       "      <td>1</td>\n",
       "    </tr>\n",
       "    <tr>\n",
       "      <th>Atlanta</th>\n",
       "      <td>3.500000</td>\n",
       "      <td>NaN</td>\n",
       "      <td>16</td>\n",
       "      <td>1</td>\n",
       "    </tr>\n",
       "  </tbody>\n",
       "</table>\n",
       "</div>"
      ],
      "text/plain": [
       "                 stars_mean  stars_std  review_count_sum  business_id_count\n",
       "city                                                                       \n",
       "Ahwatukee          3.687500   1.066955               258                  8\n",
       "Anthem             3.781818   0.756231               727                 55\n",
       "Apache Junction    3.637500   1.028010               853                 80\n",
       "Arcadia            5.000000        NaN                 4                  1\n",
       "Atlanta            3.500000        NaN                16                  1"
      ]
     },
     "execution_count": 14,
     "metadata": {},
     "output_type": "execute_result"
    }
   ],
   "source": [
    "# unstacking the columns\n",
    "new_columns = map(lambda x: '_'.join(x),\n",
    "                  zip(agg_by_city.columns.get_level_values(0),\n",
    "                      agg_by_city.columns.get_level_values(1)))\n",
    "agg_by_city.columns = new_columns\n",
    "agg_by_city.head()"
   ]
  },
  {
   "cell_type": "markdown",
   "metadata": {
    "id": "ZyiBSMRnYtEV"
   },
   "source": [
    "어떻게 이런 결과가 나왔을까요? 즉, `groupby`는 어떤 작업을 수행할까요? 먼저 `groupby`의 결과를 살펴보겠습니다."
   ]
  },
  {
   "cell_type": "code",
   "execution_count": 15,
   "metadata": {
    "id": "H8pJBsMxYtEV"
   },
   "outputs": [
    {
     "data": {
      "text/plain": [
       "<pandas.core.groupby.generic.DataFrameGroupBy object at 0x000001DBA5217470>"
      ]
     },
     "execution_count": 15,
     "metadata": {},
     "output_type": "execute_result"
    }
   ],
   "source": [
    "by_city = yelp_df.groupby('city')\n",
    "by_city"
   ]
  },
  {
   "cell_type": "code",
   "execution_count": 16,
   "metadata": {
    "id": "r8is4zx1YtEV"
   },
   "outputs": [
    {
     "data": {
      "text/plain": [
       "['__annotations__',\n",
       " '__class__',\n",
       " '__delattr__',\n",
       " '__dict__',\n",
       " '__dir__',\n",
       " '__doc__',\n",
       " '__eq__',\n",
       " '__format__',\n",
       " '__ge__',\n",
       " '__getattr__',\n",
       " '__getattribute__',\n",
       " '__getitem__',\n",
       " '__gt__',\n",
       " '__hash__',\n",
       " '__init__',\n",
       " '__init_subclass__',\n",
       " '__iter__',\n",
       " '__le__',\n",
       " '__len__',\n",
       " '__lt__',\n",
       " '__module__',\n",
       " '__ne__',\n",
       " '__new__',\n",
       " '__reduce__',\n",
       " '__reduce_ex__',\n",
       " '__repr__',\n",
       " '__setattr__',\n",
       " '__sizeof__',\n",
       " '__str__',\n",
       " '__subclasshook__',\n",
       " '__weakref__',\n",
       " '_accessors',\n",
       " '_add_numeric_operations',\n",
       " '_agg_examples_doc',\n",
       " '_agg_see_also_doc',\n",
       " '_aggregate',\n",
       " '_aggregate_frame',\n",
       " '_aggregate_item_by_item',\n",
       " '_aggregate_multiple_funcs',\n",
       " '_apply_filter',\n",
       " '_apply_to_column_groupbys',\n",
       " '_apply_whitelist',\n",
       " '_assure_grouper',\n",
       " '_bool_agg',\n",
       " '_builtin_table',\n",
       " '_choose_path',\n",
       " '_concat_objects',\n",
       " '_constructor',\n",
       " '_cumcount_array',\n",
       " '_cython_agg_blocks',\n",
       " '_cython_agg_general',\n",
       " '_cython_table',\n",
       " '_cython_transform',\n",
       " '_define_paths',\n",
       " '_deprecations',\n",
       " '_dir_additions',\n",
       " '_dir_deletions',\n",
       " '_fill',\n",
       " '_get_cython_func',\n",
       " '_get_cythonized_result',\n",
       " '_get_data_to_aggregate',\n",
       " '_get_index',\n",
       " '_get_indices',\n",
       " '_gotitem',\n",
       " '_group_selection',\n",
       " '_insert_inaxis_grouper_inplace',\n",
       " '_internal_names',\n",
       " '_internal_names_set',\n",
       " '_is_builtin_func',\n",
       " '_iterate_column_groupbys',\n",
       " '_iterate_slices',\n",
       " '_make_wrapper',\n",
       " '_obj_with_exclusions',\n",
       " '_python_agg_general',\n",
       " '_python_apply_general',\n",
       " '_reindex_output',\n",
       " '_reset_cache',\n",
       " '_reset_group_selection',\n",
       " '_selected_obj',\n",
       " '_selection',\n",
       " '_selection_list',\n",
       " '_selection_name',\n",
       " '_set_group_selection',\n",
       " '_set_result_index_ordered',\n",
       " '_transform_fast',\n",
       " '_transform_general',\n",
       " '_transform_item_by_item',\n",
       " '_transform_should_cast',\n",
       " '_try_aggregate_string_function',\n",
       " '_try_cast',\n",
       " '_wrap_agged_blocks',\n",
       " '_wrap_aggregated_output',\n",
       " '_wrap_applied_output',\n",
       " '_wrap_frame_output',\n",
       " '_wrap_transformed_output',\n",
       " 'agg',\n",
       " 'aggregate',\n",
       " 'all',\n",
       " 'any',\n",
       " 'apply',\n",
       " 'attributes',\n",
       " 'backfill',\n",
       " 'bfill',\n",
       " 'boxplot',\n",
       " 'business_id',\n",
       " 'categories',\n",
       " 'city',\n",
       " 'corr',\n",
       " 'corrwith',\n",
       " 'count',\n",
       " 'cov',\n",
       " 'cumcount',\n",
       " 'cummax',\n",
       " 'cummin',\n",
       " 'cumprod',\n",
       " 'cumsum',\n",
       " 'delivery',\n",
       " 'describe',\n",
       " 'diff',\n",
       " 'dtypes',\n",
       " 'expanding',\n",
       " 'ffill',\n",
       " 'fillna',\n",
       " 'filter',\n",
       " 'first',\n",
       " 'full_address',\n",
       " 'get_group',\n",
       " 'groups',\n",
       " 'head',\n",
       " 'hist',\n",
       " 'hours',\n",
       " 'idxmax',\n",
       " 'idxmin',\n",
       " 'indices',\n",
       " 'last',\n",
       " 'latitude',\n",
       " 'longitude',\n",
       " 'mad',\n",
       " 'max',\n",
       " 'mean',\n",
       " 'median',\n",
       " 'min',\n",
       " 'name',\n",
       " 'ndim',\n",
       " 'neighborhoods',\n",
       " 'ngroup',\n",
       " 'ngroups',\n",
       " 'nth',\n",
       " 'nunique',\n",
       " 'ohlc',\n",
       " 'open',\n",
       " 'pad',\n",
       " 'pct_change',\n",
       " 'pipe',\n",
       " 'plot',\n",
       " 'prod',\n",
       " 'quantile',\n",
       " 'rank',\n",
       " 'resample',\n",
       " 'review_count',\n",
       " 'rolling',\n",
       " 'sem',\n",
       " 'shift',\n",
       " 'size',\n",
       " 'skew',\n",
       " 'stars',\n",
       " 'state',\n",
       " 'std',\n",
       " 'sum',\n",
       " 'tail',\n",
       " 'take',\n",
       " 'transform',\n",
       " 'tshift',\n",
       " 'type',\n",
       " 'var']"
      ]
     },
     "execution_count": 16,
     "metadata": {},
     "output_type": "execute_result"
    }
   ],
   "source": [
    "dir(by_city)"
   ]
  },
  {
   "cell_type": "code",
   "execution_count": 17,
   "metadata": {
    "id": "J-IVQLHNYtEV"
   },
   "outputs": [
    {
     "name": "stdout",
     "output_type": "stream",
     "text": [
      "<class 'dict'>\n"
     ]
    },
    {
     "data": {
      "text/plain": [
       "[('Ahwatukee',\n",
       "  Int64Index([1718, 1740, 13572, 17787, 20361, 22856, 28608, 30499], dtype='int64')),\n",
       " ('Anthem',\n",
       "  Int64Index([ 1946,  1948,  1949,  1950,  1951,  1952,  1953,  1954,  1955,\n",
       "               1956,  1957,  1958,  1961,  1962, 11455, 12008, 12572, 12870,\n",
       "              13007, 13069, 13286, 13500, 13636, 13703, 13744, 13827, 13935,\n",
       "              15483, 15581, 15756, 19358, 21295, 21303, 21327, 22354, 22428,\n",
       "              22654, 22782, 23215, 24937, 25026, 26116, 26300, 26331, 26841,\n",
       "              26937, 30039, 30170, 31565, 32525, 33027, 33492, 33983, 34663,\n",
       "              35433],\n",
       "             dtype='int64')),\n",
       " ('Apache Junction',\n",
       "  Int64Index([ 2392,  2393,  2394,  2395,  2396,  2397,  2398,  2399,  2400,\n",
       "               2401,  2402,  2403,  2404,  2406,  2407,  2408,  2409,  2410,\n",
       "               2412,  2413,  2414,  2415,  2417,  2418,  2419,  7305,  7524,\n",
       "               7525,  7528,  7529,  7530,  7531,  7532,  7533,  7534, 10813,\n",
       "              11315, 11660, 12662, 12858, 12893, 13021, 13107, 13367, 13534,\n",
       "              13871, 15645, 17769, 19447, 19682, 19695, 20030, 20977, 21940,\n",
       "              22571, 22750, 22884, 23175, 23226, 23429, 25839, 26064, 26169,\n",
       "              26582, 27131, 27594, 27901, 28112, 28124, 29329, 30062, 30753,\n",
       "              30810, 30850, 31841, 33347, 33378, 34415, 34558, 36436],\n",
       "             dtype='int64')),\n",
       " ('Arcadia', Int64Index([20625], dtype='int64')),\n",
       " ('Atlanta', Int64Index([16976], dtype='int64'))]"
      ]
     },
     "execution_count": 17,
     "metadata": {},
     "output_type": "execute_result"
    }
   ],
   "source": [
    "print(type(by_city.groups))\n",
    "list(by_city.groups.items())[:5]"
   ]
  },
  {
   "cell_type": "code",
   "execution_count": 18,
   "metadata": {
    "id": "C7cqT6dbYtEW"
   },
   "outputs": [
    {
     "data": {
      "text/html": [
       "<div>\n",
       "<style scoped>\n",
       "    .dataframe tbody tr th:only-of-type {\n",
       "        vertical-align: middle;\n",
       "    }\n",
       "\n",
       "    .dataframe tbody tr th {\n",
       "        vertical-align: top;\n",
       "    }\n",
       "\n",
       "    .dataframe thead th {\n",
       "        text-align: right;\n",
       "    }\n",
       "</style>\n",
       "<table border=\"1\" class=\"dataframe\">\n",
       "  <thead>\n",
       "    <tr style=\"text-align: right;\">\n",
       "      <th></th>\n",
       "      <th>business_id</th>\n",
       "      <th>full_address</th>\n",
       "      <th>hours</th>\n",
       "      <th>open</th>\n",
       "      <th>categories</th>\n",
       "      <th>city</th>\n",
       "      <th>review_count</th>\n",
       "      <th>name</th>\n",
       "      <th>neighborhoods</th>\n",
       "      <th>longitude</th>\n",
       "      <th>state</th>\n",
       "      <th>stars</th>\n",
       "      <th>latitude</th>\n",
       "      <th>attributes</th>\n",
       "      <th>type</th>\n",
       "      <th>delivery</th>\n",
       "    </tr>\n",
       "  </thead>\n",
       "  <tbody>\n",
       "    <tr>\n",
       "      <th>1946</th>\n",
       "      <td>Y0Ife2OJPs5QSL-7dyMF5Q</td>\n",
       "      <td>4250 W Anthem Way\\nSte 375\\nAnthem, AZ 85086</td>\n",
       "      <td>{}</td>\n",
       "      <td>True</td>\n",
       "      <td>[Fashion, Shopping, Shoe Stores]</td>\n",
       "      <td>Anthem</td>\n",
       "      <td>8</td>\n",
       "      <td>Nike Factory Store</td>\n",
       "      <td>[]</td>\n",
       "      <td>-112.150162</td>\n",
       "      <td>AZ</td>\n",
       "      <td>4.0</td>\n",
       "      <td>33.874003</td>\n",
       "      <td>{'Parking': {'garage': False, 'street': False,...</td>\n",
       "      <td>business</td>\n",
       "      <td>None</td>\n",
       "    </tr>\n",
       "    <tr>\n",
       "      <th>1948</th>\n",
       "      <td>v1ocqAm5soWTNPttLQhSZw</td>\n",
       "      <td>3434 W Anthem Way\\nSte 118\\nAnthem, AZ 85086</td>\n",
       "      <td>{}</td>\n",
       "      <td>True</td>\n",
       "      <td>[Chinese, Restaurants]</td>\n",
       "      <td>Anthem</td>\n",
       "      <td>50</td>\n",
       "      <td>Shanghai Club</td>\n",
       "      <td>[]</td>\n",
       "      <td>-112.135305</td>\n",
       "      <td>AZ</td>\n",
       "      <td>3.5</td>\n",
       "      <td>33.864429</td>\n",
       "      <td>{'Take-out': True, 'Wi-Fi': 'no', 'Good For': ...</td>\n",
       "      <td>business</td>\n",
       "      <td>False</td>\n",
       "    </tr>\n",
       "    <tr>\n",
       "      <th>1949</th>\n",
       "      <td>HMDymN9TbFUln9AkqHMpVw</td>\n",
       "      <td>4250 W Anthem Way\\nAnthem, AZ 85086</td>\n",
       "      <td>{}</td>\n",
       "      <td>True</td>\n",
       "      <td>[Department Stores, Fashion, Shopping]</td>\n",
       "      <td>Anthem</td>\n",
       "      <td>3</td>\n",
       "      <td>Polo Ralph Lauren Factory Store</td>\n",
       "      <td>[]</td>\n",
       "      <td>-112.151046</td>\n",
       "      <td>AZ</td>\n",
       "      <td>3.0</td>\n",
       "      <td>33.875410</td>\n",
       "      <td>{'Parking': {'garage': False, 'street': False,...</td>\n",
       "      <td>business</td>\n",
       "      <td>None</td>\n",
       "    </tr>\n",
       "    <tr>\n",
       "      <th>1950</th>\n",
       "      <td>XJv7dUb5fMRaZAWVZjhtvw</td>\n",
       "      <td>4250 W Anthem Way\\nAnthem, AZ 85086</td>\n",
       "      <td>{}</td>\n",
       "      <td>True</td>\n",
       "      <td>[Shopping, Outlet Stores]</td>\n",
       "      <td>Anthem</td>\n",
       "      <td>64</td>\n",
       "      <td>Outlets At Anthem</td>\n",
       "      <td>[]</td>\n",
       "      <td>-112.149875</td>\n",
       "      <td>AZ</td>\n",
       "      <td>3.5</td>\n",
       "      <td>33.873311</td>\n",
       "      <td>{'Parking': {'garage': False, 'street': False,...</td>\n",
       "      <td>business</td>\n",
       "      <td>None</td>\n",
       "    </tr>\n",
       "    <tr>\n",
       "      <th>1951</th>\n",
       "      <td>xPDbCj9tfp5nnGzYzoCHwA</td>\n",
       "      <td>3655 W Anthem Way\\nSte C105\\nAnthem, AZ 85086</td>\n",
       "      <td>{}</td>\n",
       "      <td>True</td>\n",
       "      <td>[Sandwiches, Restaurants]</td>\n",
       "      <td>Anthem</td>\n",
       "      <td>6</td>\n",
       "      <td>Subway</td>\n",
       "      <td>[]</td>\n",
       "      <td>-112.138854</td>\n",
       "      <td>AZ</td>\n",
       "      <td>3.0</td>\n",
       "      <td>33.864913</td>\n",
       "      <td>{'Ambience': {'romantic': False, 'intimate': F...</td>\n",
       "      <td>business</td>\n",
       "      <td>None</td>\n",
       "    </tr>\n",
       "  </tbody>\n",
       "</table>\n",
       "</div>"
      ],
      "text/plain": [
       "                 business_id                                   full_address  \\\n",
       "1946  Y0Ife2OJPs5QSL-7dyMF5Q   4250 W Anthem Way\\nSte 375\\nAnthem, AZ 85086   \n",
       "1948  v1ocqAm5soWTNPttLQhSZw   3434 W Anthem Way\\nSte 118\\nAnthem, AZ 85086   \n",
       "1949  HMDymN9TbFUln9AkqHMpVw            4250 W Anthem Way\\nAnthem, AZ 85086   \n",
       "1950  XJv7dUb5fMRaZAWVZjhtvw            4250 W Anthem Way\\nAnthem, AZ 85086   \n",
       "1951  xPDbCj9tfp5nnGzYzoCHwA  3655 W Anthem Way\\nSte C105\\nAnthem, AZ 85086   \n",
       "\n",
       "     hours  open                              categories    city  \\\n",
       "1946    {}  True        [Fashion, Shopping, Shoe Stores]  Anthem   \n",
       "1948    {}  True                  [Chinese, Restaurants]  Anthem   \n",
       "1949    {}  True  [Department Stores, Fashion, Shopping]  Anthem   \n",
       "1950    {}  True               [Shopping, Outlet Stores]  Anthem   \n",
       "1951    {}  True               [Sandwiches, Restaurants]  Anthem   \n",
       "\n",
       "      review_count                             name neighborhoods   longitude  \\\n",
       "1946             8               Nike Factory Store            [] -112.150162   \n",
       "1948            50                    Shanghai Club            [] -112.135305   \n",
       "1949             3  Polo Ralph Lauren Factory Store            [] -112.151046   \n",
       "1950            64                Outlets At Anthem            [] -112.149875   \n",
       "1951             6                           Subway            [] -112.138854   \n",
       "\n",
       "     state  stars   latitude  \\\n",
       "1946    AZ    4.0  33.874003   \n",
       "1948    AZ    3.5  33.864429   \n",
       "1949    AZ    3.0  33.875410   \n",
       "1950    AZ    3.5  33.873311   \n",
       "1951    AZ    3.0  33.864913   \n",
       "\n",
       "                                             attributes      type delivery  \n",
       "1946  {'Parking': {'garage': False, 'street': False,...  business     None  \n",
       "1948  {'Take-out': True, 'Wi-Fi': 'no', 'Good For': ...  business    False  \n",
       "1949  {'Parking': {'garage': False, 'street': False,...  business     None  \n",
       "1950  {'Parking': {'garage': False, 'street': False,...  business     None  \n",
       "1951  {'Ambience': {'romantic': False, 'intimate': F...  business     None  "
      ]
     },
     "execution_count": 18,
     "metadata": {},
     "output_type": "execute_result"
    }
   ],
   "source": [
    "by_city.get_group('Anthem').head()"
   ]
  },
  {
   "cell_type": "markdown",
   "metadata": {
    "id": "AjnhWC6YYtEW"
   },
   "source": [
    "열에 `groupby`를 사용하면 판다스는 열의 고유한 요소를 키로 사용하고 각 그룹의 행 인덱스를 값으로 사용하여 `dict`를 빌드합니다. 이후 이 `dict`는 `groups` 속성에 저장됩니다. 그러면 판다스는 다시 이 `dict`를 사용하여 다른 그룹에 대한 집계 기능의 적용을 지시할 수 있습니다."
   ]
  },
  {
   "cell_type": "markdown",
   "metadata": {
    "id": "VDJGnwlDYtEW"
   },
   "source": [
    "## 순서 정렬\n",
    "\n",
    "데이터프레임은 여러 면에서 `dict`와 유사하게 동작하지만 순서가 지정됩니다. 따라서 우리는 그 안에 있는 데이터를 순서에 따라 정렬할 수 있습니다. 판다스는 `sort_values`와 `sort_index`의 두 가지 정렬 방법을 제공합니다."
   ]
  },
  {
   "cell_type": "code",
   "execution_count": 19,
   "metadata": {
    "id": "df3DSJfeYtEW"
   },
   "outputs": [
    {
     "data": {
      "text/html": [
       "<div>\n",
       "<style scoped>\n",
       "    .dataframe tbody tr th:only-of-type {\n",
       "        vertical-align: middle;\n",
       "    }\n",
       "\n",
       "    .dataframe tbody tr th {\n",
       "        vertical-align: top;\n",
       "    }\n",
       "\n",
       "    .dataframe thead th {\n",
       "        text-align: right;\n",
       "    }\n",
       "</style>\n",
       "<table border=\"1\" class=\"dataframe\">\n",
       "  <thead>\n",
       "    <tr style=\"text-align: right;\">\n",
       "      <th></th>\n",
       "      <th>business_id</th>\n",
       "      <th>full_address</th>\n",
       "      <th>hours</th>\n",
       "      <th>open</th>\n",
       "      <th>categories</th>\n",
       "      <th>city</th>\n",
       "      <th>review_count</th>\n",
       "      <th>name</th>\n",
       "      <th>neighborhoods</th>\n",
       "      <th>longitude</th>\n",
       "      <th>state</th>\n",
       "      <th>stars</th>\n",
       "      <th>latitude</th>\n",
       "      <th>attributes</th>\n",
       "      <th>type</th>\n",
       "      <th>delivery</th>\n",
       "    </tr>\n",
       "  </thead>\n",
       "  <tbody>\n",
       "    <tr>\n",
       "      <th>36220</th>\n",
       "      <td>2Q2tZ0yQo25cni0PT2j0Zw</td>\n",
       "      <td>6420 Spring Mountain Rd\\nChinatown\\nLas Vegas,...</td>\n",
       "      <td>{}</td>\n",
       "      <td>True</td>\n",
       "      <td>[Real Estate Services, Property Management, Ho...</td>\n",
       "      <td>Las Vegas</td>\n",
       "      <td>3</td>\n",
       "      <td>Total Real Eatate of Nevada</td>\n",
       "      <td>[Chinatown]</td>\n",
       "      <td>-115.232316</td>\n",
       "      <td>NV</td>\n",
       "      <td>1.0</td>\n",
       "      <td>36.125870</td>\n",
       "      <td>{}</td>\n",
       "      <td>business</td>\n",
       "      <td>None</td>\n",
       "    </tr>\n",
       "    <tr>\n",
       "      <th>27946</th>\n",
       "      <td>cHvL85QIV-L2-YlLOcwlCw</td>\n",
       "      <td>5235 S Kyrene Rd\\nSte 106\\nTempe, AZ 85283</td>\n",
       "      <td>{'Monday': {'close': '18:00', 'open': '10:00'}...</td>\n",
       "      <td>True</td>\n",
       "      <td>[Sporting Goods, Shopping, Golf Equipment, Out...</td>\n",
       "      <td>Tempe</td>\n",
       "      <td>3</td>\n",
       "      <td>Custom Golf Center</td>\n",
       "      <td>[]</td>\n",
       "      <td>-111.945955</td>\n",
       "      <td>AZ</td>\n",
       "      <td>1.0</td>\n",
       "      <td>33.376734</td>\n",
       "      <td>{}</td>\n",
       "      <td>business</td>\n",
       "      <td>None</td>\n",
       "    </tr>\n",
       "    <tr>\n",
       "      <th>36332</th>\n",
       "      <td>e23Sa3FCTaIOSZzJsT8sIQ</td>\n",
       "      <td>3949 N Drinkwater Blvd\\nScottsdale, AZ 85251</td>\n",
       "      <td>{}</td>\n",
       "      <td>True</td>\n",
       "      <td>[Professional Services, Internet Service Provi...</td>\n",
       "      <td>Scottsdale</td>\n",
       "      <td>3</td>\n",
       "      <td>Cox Cable</td>\n",
       "      <td>[]</td>\n",
       "      <td>-111.921620</td>\n",
       "      <td>AZ</td>\n",
       "      <td>1.0</td>\n",
       "      <td>33.493469</td>\n",
       "      <td>{}</td>\n",
       "      <td>business</td>\n",
       "      <td>None</td>\n",
       "    </tr>\n",
       "    <tr>\n",
       "      <th>7488</th>\n",
       "      <td>fZO5Fghc6Q07jU8EROzj6Q</td>\n",
       "      <td>2431 E Laurel St\\nMesa, AZ 85213</td>\n",
       "      <td>{}</td>\n",
       "      <td>True</td>\n",
       "      <td>[Home Services, Pool Cleaners]</td>\n",
       "      <td>Mesa</td>\n",
       "      <td>6</td>\n",
       "      <td>Foster's Pool Service &amp; Repair</td>\n",
       "      <td>[]</td>\n",
       "      <td>-111.778212</td>\n",
       "      <td>AZ</td>\n",
       "      <td>1.0</td>\n",
       "      <td>33.457833</td>\n",
       "      <td>{}</td>\n",
       "      <td>business</td>\n",
       "      <td>None</td>\n",
       "    </tr>\n",
       "    <tr>\n",
       "      <th>3370</th>\n",
       "      <td>JjdjS5n6ILh-d3GeTD6qkA</td>\n",
       "      <td>15820 N 84th St\\nSte 25\\nScottsdale, AZ 85260</td>\n",
       "      <td>{'Monday': {'close': '17:00', 'open': '09:00'}...</td>\n",
       "      <td>True</td>\n",
       "      <td>[Hotels &amp; Travel, Motorcycle Rental]</td>\n",
       "      <td>Scottsdale</td>\n",
       "      <td>3</td>\n",
       "      <td>Top Spoke Rentals</td>\n",
       "      <td>[]</td>\n",
       "      <td>-111.900187</td>\n",
       "      <td>AZ</td>\n",
       "      <td>1.0</td>\n",
       "      <td>33.629858</td>\n",
       "      <td>{}</td>\n",
       "      <td>business</td>\n",
       "      <td>None</td>\n",
       "    </tr>\n",
       "  </tbody>\n",
       "</table>\n",
       "</div>"
      ],
      "text/plain": [
       "                  business_id  \\\n",
       "36220  2Q2tZ0yQo25cni0PT2j0Zw   \n",
       "27946  cHvL85QIV-L2-YlLOcwlCw   \n",
       "36332  e23Sa3FCTaIOSZzJsT8sIQ   \n",
       "7488   fZO5Fghc6Q07jU8EROzj6Q   \n",
       "3370   JjdjS5n6ILh-d3GeTD6qkA   \n",
       "\n",
       "                                            full_address  \\\n",
       "36220  6420 Spring Mountain Rd\\nChinatown\\nLas Vegas,...   \n",
       "27946         5235 S Kyrene Rd\\nSte 106\\nTempe, AZ 85283   \n",
       "36332       3949 N Drinkwater Blvd\\nScottsdale, AZ 85251   \n",
       "7488                    2431 E Laurel St\\nMesa, AZ 85213   \n",
       "3370       15820 N 84th St\\nSte 25\\nScottsdale, AZ 85260   \n",
       "\n",
       "                                                   hours  open  \\\n",
       "36220                                                 {}  True   \n",
       "27946  {'Monday': {'close': '18:00', 'open': '10:00'}...  True   \n",
       "36332                                                 {}  True   \n",
       "7488                                                  {}  True   \n",
       "3370   {'Monday': {'close': '17:00', 'open': '09:00'}...  True   \n",
       "\n",
       "                                              categories        city  \\\n",
       "36220  [Real Estate Services, Property Management, Ho...   Las Vegas   \n",
       "27946  [Sporting Goods, Shopping, Golf Equipment, Out...       Tempe   \n",
       "36332  [Professional Services, Internet Service Provi...  Scottsdale   \n",
       "7488                      [Home Services, Pool Cleaners]        Mesa   \n",
       "3370                [Hotels & Travel, Motorcycle Rental]  Scottsdale   \n",
       "\n",
       "       review_count                            name neighborhoods   longitude  \\\n",
       "36220             3     Total Real Eatate of Nevada   [Chinatown] -115.232316   \n",
       "27946             3              Custom Golf Center            [] -111.945955   \n",
       "36332             3                       Cox Cable            [] -111.921620   \n",
       "7488              6  Foster's Pool Service & Repair            [] -111.778212   \n",
       "3370              3               Top Spoke Rentals            [] -111.900187   \n",
       "\n",
       "      state  stars   latitude attributes      type delivery  \n",
       "36220    NV    1.0  36.125870         {}  business     None  \n",
       "27946    AZ    1.0  33.376734         {}  business     None  \n",
       "36332    AZ    1.0  33.493469         {}  business     None  \n",
       "7488     AZ    1.0  33.457833         {}  business     None  \n",
       "3370     AZ    1.0  33.629858         {}  business     None  "
      ]
     },
     "execution_count": 19,
     "metadata": {},
     "output_type": "execute_result"
    }
   ],
   "source": [
    "yelp_df.sort_values('stars').head()"
   ]
  },
  {
   "cell_type": "code",
   "execution_count": 20,
   "metadata": {
    "id": "n4KZd-saYtEW"
   },
   "outputs": [
    {
     "data": {
      "text/html": [
       "<div>\n",
       "<style scoped>\n",
       "    .dataframe tbody tr th:only-of-type {\n",
       "        vertical-align: middle;\n",
       "    }\n",
       "\n",
       "    .dataframe tbody tr th {\n",
       "        vertical-align: top;\n",
       "    }\n",
       "\n",
       "    .dataframe thead th {\n",
       "        text-align: right;\n",
       "    }\n",
       "</style>\n",
       "<table border=\"1\" class=\"dataframe\">\n",
       "  <thead>\n",
       "    <tr style=\"text-align: right;\">\n",
       "      <th></th>\n",
       "      <th>full_address</th>\n",
       "      <th>hours</th>\n",
       "      <th>open</th>\n",
       "      <th>categories</th>\n",
       "      <th>city</th>\n",
       "      <th>review_count</th>\n",
       "      <th>name</th>\n",
       "      <th>neighborhoods</th>\n",
       "      <th>longitude</th>\n",
       "      <th>state</th>\n",
       "      <th>stars</th>\n",
       "      <th>latitude</th>\n",
       "      <th>attributes</th>\n",
       "      <th>type</th>\n",
       "      <th>delivery</th>\n",
       "    </tr>\n",
       "    <tr>\n",
       "      <th>business_id</th>\n",
       "      <th></th>\n",
       "      <th></th>\n",
       "      <th></th>\n",
       "      <th></th>\n",
       "      <th></th>\n",
       "      <th></th>\n",
       "      <th></th>\n",
       "      <th></th>\n",
       "      <th></th>\n",
       "      <th></th>\n",
       "      <th></th>\n",
       "      <th></th>\n",
       "      <th></th>\n",
       "      <th></th>\n",
       "      <th></th>\n",
       "    </tr>\n",
       "  </thead>\n",
       "  <tbody>\n",
       "    <tr>\n",
       "      <th>--1emggGHgoG6ipd_RMb-g</th>\n",
       "      <td>3280 S Decatur Blvd\\nWestside\\nLas Vegas, NV 8...</td>\n",
       "      <td>{}</td>\n",
       "      <td>True</td>\n",
       "      <td>[Food, Convenience Stores]</td>\n",
       "      <td>Las Vegas</td>\n",
       "      <td>4</td>\n",
       "      <td>Sinclair</td>\n",
       "      <td>[Westside]</td>\n",
       "      <td>-115.207238</td>\n",
       "      <td>NV</td>\n",
       "      <td>4.0</td>\n",
       "      <td>36.130531</td>\n",
       "      <td>{'Parking': {'garage': False, 'street': False,...</td>\n",
       "      <td>business</td>\n",
       "      <td>None</td>\n",
       "    </tr>\n",
       "    <tr>\n",
       "      <th>--4Pe8BZ6gj57VFL5mUE8g</th>\n",
       "      <td>21001 North Tatum Blvd. #24\\nPhoenix, AZ 85050</td>\n",
       "      <td>{}</td>\n",
       "      <td>True</td>\n",
       "      <td>[Shopping, Office Equipment]</td>\n",
       "      <td>Phoenix</td>\n",
       "      <td>5</td>\n",
       "      <td>Office Max</td>\n",
       "      <td>[]</td>\n",
       "      <td>-111.974607</td>\n",
       "      <td>AZ</td>\n",
       "      <td>3.0</td>\n",
       "      <td>33.678615</td>\n",
       "      <td>{'Parking': {'garage': False, 'street': False,...</td>\n",
       "      <td>business</td>\n",
       "      <td>None</td>\n",
       "    </tr>\n",
       "    <tr>\n",
       "      <th>--5jkZ3-nUPZxUvtcbr8Uw</th>\n",
       "      <td>1336 N Scottsdale Rd\\nScottsdale, AZ 85257</td>\n",
       "      <td>{'Monday': {'close': '21:00', 'open': '11:00'}...</td>\n",
       "      <td>True</td>\n",
       "      <td>[Greek, Restaurants]</td>\n",
       "      <td>Scottsdale</td>\n",
       "      <td>42</td>\n",
       "      <td>Mika's Greek</td>\n",
       "      <td>[]</td>\n",
       "      <td>-111.926908</td>\n",
       "      <td>AZ</td>\n",
       "      <td>4.5</td>\n",
       "      <td>33.463373</td>\n",
       "      <td>{'Take-out': True, 'Wi-Fi': 'no', 'Good For': ...</td>\n",
       "      <td>business</td>\n",
       "      <td>False</td>\n",
       "    </tr>\n",
       "    <tr>\n",
       "      <th>--BlvDO_RG2yElKu9XA1_g</th>\n",
       "      <td>14870 N Northsight Blvd\\nSte 103\\nScottsdale, ...</td>\n",
       "      <td>{'Monday': {'close': '21:00', 'open': '10:30'}...</td>\n",
       "      <td>True</td>\n",
       "      <td>[Sushi Bars, Hawaiian, Chinese, Restaurants]</td>\n",
       "      <td>Scottsdale</td>\n",
       "      <td>65</td>\n",
       "      <td>Asian Island</td>\n",
       "      <td>[]</td>\n",
       "      <td>-111.897836</td>\n",
       "      <td>AZ</td>\n",
       "      <td>4.0</td>\n",
       "      <td>33.620568</td>\n",
       "      <td>{'Take-out': True, 'Wi-Fi': 'free', 'Good For'...</td>\n",
       "      <td>business</td>\n",
       "      <td>True</td>\n",
       "    </tr>\n",
       "    <tr>\n",
       "      <th>--Dl2rW_xO8GuYBomlg9zw</th>\n",
       "      <td>4505 S Maryland Pkwy\\nUniversity\\nLas Vegas, N...</td>\n",
       "      <td>{}</td>\n",
       "      <td>True</td>\n",
       "      <td>[Medical Centers, Health &amp; Medical]</td>\n",
       "      <td>Las Vegas</td>\n",
       "      <td>6</td>\n",
       "      <td>UNLV Student Health Center</td>\n",
       "      <td>[University]</td>\n",
       "      <td>-115.141514</td>\n",
       "      <td>NV</td>\n",
       "      <td>4.0</td>\n",
       "      <td>36.110940</td>\n",
       "      <td>{'By Appointment Only': True}</td>\n",
       "      <td>business</td>\n",
       "      <td>None</td>\n",
       "    </tr>\n",
       "  </tbody>\n",
       "</table>\n",
       "</div>"
      ],
      "text/plain": [
       "                                                             full_address  \\\n",
       "business_id                                                                 \n",
       "--1emggGHgoG6ipd_RMb-g  3280 S Decatur Blvd\\nWestside\\nLas Vegas, NV 8...   \n",
       "--4Pe8BZ6gj57VFL5mUE8g     21001 North Tatum Blvd. #24\\nPhoenix, AZ 85050   \n",
       "--5jkZ3-nUPZxUvtcbr8Uw         1336 N Scottsdale Rd\\nScottsdale, AZ 85257   \n",
       "--BlvDO_RG2yElKu9XA1_g  14870 N Northsight Blvd\\nSte 103\\nScottsdale, ...   \n",
       "--Dl2rW_xO8GuYBomlg9zw  4505 S Maryland Pkwy\\nUniversity\\nLas Vegas, N...   \n",
       "\n",
       "                                                                    hours  \\\n",
       "business_id                                                                 \n",
       "--1emggGHgoG6ipd_RMb-g                                                 {}   \n",
       "--4Pe8BZ6gj57VFL5mUE8g                                                 {}   \n",
       "--5jkZ3-nUPZxUvtcbr8Uw  {'Monday': {'close': '21:00', 'open': '11:00'}...   \n",
       "--BlvDO_RG2yElKu9XA1_g  {'Monday': {'close': '21:00', 'open': '10:30'}...   \n",
       "--Dl2rW_xO8GuYBomlg9zw                                                 {}   \n",
       "\n",
       "                        open                                    categories  \\\n",
       "business_id                                                                  \n",
       "--1emggGHgoG6ipd_RMb-g  True                    [Food, Convenience Stores]   \n",
       "--4Pe8BZ6gj57VFL5mUE8g  True                  [Shopping, Office Equipment]   \n",
       "--5jkZ3-nUPZxUvtcbr8Uw  True                          [Greek, Restaurants]   \n",
       "--BlvDO_RG2yElKu9XA1_g  True  [Sushi Bars, Hawaiian, Chinese, Restaurants]   \n",
       "--Dl2rW_xO8GuYBomlg9zw  True           [Medical Centers, Health & Medical]   \n",
       "\n",
       "                              city  review_count                        name  \\\n",
       "business_id                                                                    \n",
       "--1emggGHgoG6ipd_RMb-g   Las Vegas             4                    Sinclair   \n",
       "--4Pe8BZ6gj57VFL5mUE8g     Phoenix             5                  Office Max   \n",
       "--5jkZ3-nUPZxUvtcbr8Uw  Scottsdale            42                Mika's Greek   \n",
       "--BlvDO_RG2yElKu9XA1_g  Scottsdale            65                Asian Island   \n",
       "--Dl2rW_xO8GuYBomlg9zw   Las Vegas             6  UNLV Student Health Center   \n",
       "\n",
       "                       neighborhoods   longitude state  stars   latitude  \\\n",
       "business_id                                                                \n",
       "--1emggGHgoG6ipd_RMb-g    [Westside] -115.207238    NV    4.0  36.130531   \n",
       "--4Pe8BZ6gj57VFL5mUE8g            [] -111.974607    AZ    3.0  33.678615   \n",
       "--5jkZ3-nUPZxUvtcbr8Uw            [] -111.926908    AZ    4.5  33.463373   \n",
       "--BlvDO_RG2yElKu9XA1_g            [] -111.897836    AZ    4.0  33.620568   \n",
       "--Dl2rW_xO8GuYBomlg9zw  [University] -115.141514    NV    4.0  36.110940   \n",
       "\n",
       "                                                               attributes  \\\n",
       "business_id                                                                 \n",
       "--1emggGHgoG6ipd_RMb-g  {'Parking': {'garage': False, 'street': False,...   \n",
       "--4Pe8BZ6gj57VFL5mUE8g  {'Parking': {'garage': False, 'street': False,...   \n",
       "--5jkZ3-nUPZxUvtcbr8Uw  {'Take-out': True, 'Wi-Fi': 'no', 'Good For': ...   \n",
       "--BlvDO_RG2yElKu9XA1_g  {'Take-out': True, 'Wi-Fi': 'free', 'Good For'...   \n",
       "--Dl2rW_xO8GuYBomlg9zw                      {'By Appointment Only': True}   \n",
       "\n",
       "                            type delivery  \n",
       "business_id                                \n",
       "--1emggGHgoG6ipd_RMb-g  business     None  \n",
       "--4Pe8BZ6gj57VFL5mUE8g  business     None  \n",
       "--5jkZ3-nUPZxUvtcbr8Uw  business    False  \n",
       "--BlvDO_RG2yElKu9XA1_g  business     True  \n",
       "--Dl2rW_xO8GuYBomlg9zw  business     None  "
      ]
     },
     "execution_count": 20,
     "metadata": {},
     "output_type": "execute_result"
    }
   ],
   "source": [
    "yelp_df.set_index('business_id').sort_index().head()"
   ]
  },
  {
   "cell_type": "markdown",
   "metadata": {
    "id": "G28X-gciYtEW"
   },
   "source": [
    "대부분의 판다스 작업은 데이터프레임의 복사본을 반환할 뿐 원래의 데이터프레임을 업데이트하지 않는다는 것을 항상 기억해야 합니다."
   ]
  },
  {
   "cell_type": "markdown",
   "metadata": {
    "id": "v_ulwmtRYtEW"
   },
   "source": [
    "## 데이터셋 합치기"
   ]
  },
  {
   "cell_type": "markdown",
   "metadata": {
    "id": "lG0fkjh6YtEX"
   },
   "source": [
    "종종 우리는 하나의 데이터 세트를 다른 데이터 세트로 보강하고 싶을 때가 있습니다. 예를 들어, 대도시의 기업들은 소도시의 기업들보다 더 많은 후기를 받을 수 있습니다. 따라서 어쩌면 도시 인구에 따라 후기 수를 조정하는 것이 유용한 선택이 될 수 있습니다. 그런데 만약 그렇게 하기 위해서는 인구 데이터를 Yelp 데이터에 추가해야만 합니다. 우리는 US census로부터 미국 인구에 대한 데이터를 얻을 수 있습니다."
   ]
  },
  {
   "cell_type": "code",
   "execution_count": 21,
   "metadata": {
    "id": "4SxFsuCKYtEX"
   },
   "outputs": [
    {
     "data": {
      "text/html": [
       "<div>\n",
       "<style scoped>\n",
       "    .dataframe tbody tr th:only-of-type {\n",
       "        vertical-align: middle;\n",
       "    }\n",
       "\n",
       "    .dataframe tbody tr th {\n",
       "        vertical-align: top;\n",
       "    }\n",
       "\n",
       "    .dataframe thead th {\n",
       "        text-align: right;\n",
       "    }\n",
       "</style>\n",
       "<table border=\"1\" class=\"dataframe\">\n",
       "  <thead>\n",
       "    <tr style=\"text-align: right;\">\n",
       "      <th></th>\n",
       "      <th>GEO.id</th>\n",
       "      <th>GEO.id2</th>\n",
       "      <th>GEO.display-label</th>\n",
       "      <th>rescen42010</th>\n",
       "      <th>resbase42010</th>\n",
       "      <th>respop72010</th>\n",
       "      <th>respop72011</th>\n",
       "      <th>respop72012</th>\n",
       "      <th>respop72013</th>\n",
       "      <th>respop72014</th>\n",
       "      <th>respop72015</th>\n",
       "      <th>respop72016</th>\n",
       "    </tr>\n",
       "  </thead>\n",
       "  <tbody>\n",
       "    <tr>\n",
       "      <th>0</th>\n",
       "      <td>0610000US0900104720</td>\n",
       "      <td>900104720</td>\n",
       "      <td>Bethel town, Fairfield County, Connecticut</td>\n",
       "      <td>18584.0</td>\n",
       "      <td>18584</td>\n",
       "      <td>18642</td>\n",
       "      <td>18942</td>\n",
       "      <td>19150</td>\n",
       "      <td>19267</td>\n",
       "      <td>19316</td>\n",
       "      <td>19463</td>\n",
       "      <td>19627</td>\n",
       "    </tr>\n",
       "    <tr>\n",
       "      <th>1</th>\n",
       "      <td>0610000US0900108070</td>\n",
       "      <td>900108070</td>\n",
       "      <td>Bridgeport town, Fairfield County, Connecticut</td>\n",
       "      <td>144229.0</td>\n",
       "      <td>144236</td>\n",
       "      <td>144912</td>\n",
       "      <td>146226</td>\n",
       "      <td>146962</td>\n",
       "      <td>147666</td>\n",
       "      <td>147560</td>\n",
       "      <td>147090</td>\n",
       "      <td>145936</td>\n",
       "    </tr>\n",
       "    <tr>\n",
       "      <th>2</th>\n",
       "      <td>0610000US0900108980</td>\n",
       "      <td>900108980</td>\n",
       "      <td>Brookfield town, Fairfield County, Connecticut</td>\n",
       "      <td>16452.0</td>\n",
       "      <td>16452</td>\n",
       "      <td>16483</td>\n",
       "      <td>16635</td>\n",
       "      <td>16785</td>\n",
       "      <td>16859</td>\n",
       "      <td>17016</td>\n",
       "      <td>17087</td>\n",
       "      <td>17098</td>\n",
       "    </tr>\n",
       "    <tr>\n",
       "      <th>3</th>\n",
       "      <td>0610000US0900118500</td>\n",
       "      <td>900118500</td>\n",
       "      <td>Danbury town, Fairfield County, Connecticut</td>\n",
       "      <td>80893.0</td>\n",
       "      <td>80903</td>\n",
       "      <td>81356</td>\n",
       "      <td>82182</td>\n",
       "      <td>82788</td>\n",
       "      <td>83678</td>\n",
       "      <td>83687</td>\n",
       "      <td>84236</td>\n",
       "      <td>84992</td>\n",
       "    </tr>\n",
       "    <tr>\n",
       "      <th>4</th>\n",
       "      <td>0610000US0900118850</td>\n",
       "      <td>900118850</td>\n",
       "      <td>Darien town, Fairfield County, Connecticut</td>\n",
       "      <td>20732.0</td>\n",
       "      <td>20732</td>\n",
       "      <td>20777</td>\n",
       "      <td>20975</td>\n",
       "      <td>21127</td>\n",
       "      <td>21342</td>\n",
       "      <td>21641</td>\n",
       "      <td>21718</td>\n",
       "      <td>21744</td>\n",
       "    </tr>\n",
       "  </tbody>\n",
       "</table>\n",
       "</div>"
      ],
      "text/plain": [
       "                GEO.id    GEO.id2  \\\n",
       "0  0610000US0900104720  900104720   \n",
       "1  0610000US0900108070  900108070   \n",
       "2  0610000US0900108980  900108980   \n",
       "3  0610000US0900118500  900118500   \n",
       "4  0610000US0900118850  900118850   \n",
       "\n",
       "                                GEO.display-label  rescen42010  resbase42010  \\\n",
       "0      Bethel town, Fairfield County, Connecticut      18584.0         18584   \n",
       "1  Bridgeport town, Fairfield County, Connecticut     144229.0        144236   \n",
       "2  Brookfield town, Fairfield County, Connecticut      16452.0         16452   \n",
       "3     Danbury town, Fairfield County, Connecticut      80893.0         80903   \n",
       "4      Darien town, Fairfield County, Connecticut      20732.0         20732   \n",
       "\n",
       "   respop72010  respop72011  respop72012  respop72013  respop72014  \\\n",
       "0        18642        18942        19150        19267        19316   \n",
       "1       144912       146226       146962       147666       147560   \n",
       "2        16483        16635        16785        16859        17016   \n",
       "3        81356        82182        82788        83678        83687   \n",
       "4        20777        20975        21127        21342        21641   \n",
       "\n",
       "   respop72015  respop72016  \n",
       "0        19463        19627  \n",
       "1       147090       145936  \n",
       "2        17087        17098  \n",
       "3        84236        84992  \n",
       "4        21718        21744  "
      ]
     },
     "execution_count": 21,
     "metadata": {},
     "output_type": "execute_result"
    }
   ],
   "source": [
    "census = pd.read_csv('./data/PEP_2016_PEPANNRES.csv', skiprows=[1])\n",
    "\n",
    "census.head()"
   ]
  },
  {
   "cell_type": "code",
   "execution_count": 22,
   "metadata": {
    "id": "5GgTULMnYtEX"
   },
   "outputs": [],
   "source": [
    "# construct city & state fields\n",
    "census['city'] = census['GEO.display-label'].apply(lambda x: x.split(', ')[0])\n",
    "census['state'] = census['GEO.display-label'].apply(lambda x: x.split(', ')[2])"
   ]
  },
  {
   "cell_type": "code",
   "execution_count": 23,
   "metadata": {
    "id": "iinvMhClYtEX"
   },
   "outputs": [
    {
     "name": "stdout",
     "output_type": "stream",
     "text": [
      "['Connecticut' 'Illinois' 'Indiana' 'Kansas' 'Maine' 'Massachusetts'\n",
      " 'Michigan' 'Minnesota' 'Missouri' 'Nebraska' 'New Hampshire' 'New Jersey'\n",
      " 'New York' 'North Dakota' 'Ohio' 'Pennsylvania' 'Rhode Island'\n",
      " 'South Dakota' 'Vermont' 'Wisconsin']\n"
     ]
    }
   ],
   "source": [
    "# convert state names to abbreviations\n",
    "\n",
    "print(census['state'].unique())"
   ]
  },
  {
   "cell_type": "code",
   "execution_count": 24,
   "metadata": {
    "id": "Jl6jRG-kYtEY"
   },
   "outputs": [],
   "source": [
    "state_abbr = dict(zip(census['state'].unique(), ['CT', 'IL', 'IN', 'KS', 'ME', 'MA', 'MI', 'MN', 'MO', 'NE', 'NH', 'NJ', 'NY', 'ND', 'OH', 'PA', 'RI', 'SD', 'VT', 'WI']))"
   ]
  },
  {
   "cell_type": "code",
   "execution_count": 25,
   "metadata": {
    "id": "ALmdhDADYtEZ"
   },
   "outputs": [],
   "source": [
    "census['state'] = census['state'].replace(state_abbr)"
   ]
  },
  {
   "cell_type": "code",
   "execution_count": 26,
   "metadata": {
    "id": "YEp3v12vYtEZ"
   },
   "outputs": [],
   "source": [
    "# remove last word (e.g. 'city', 'town', township', 'borough', 'village') from city names\n",
    "\n",
    "census['city'] = census['city'].apply(lambda x: ' '.join(x.split(' ')[:-1]))"
   ]
  },
  {
   "cell_type": "code",
   "execution_count": 27,
   "metadata": {
    "id": "hjYBBSGwYtEZ"
   },
   "outputs": [
    {
     "data": {
      "text/html": [
       "<div>\n",
       "<style scoped>\n",
       "    .dataframe tbody tr th:only-of-type {\n",
       "        vertical-align: middle;\n",
       "    }\n",
       "\n",
       "    .dataframe tbody tr th {\n",
       "        vertical-align: top;\n",
       "    }\n",
       "\n",
       "    .dataframe thead th {\n",
       "        text-align: right;\n",
       "    }\n",
       "</style>\n",
       "<table border=\"1\" class=\"dataframe\">\n",
       "  <thead>\n",
       "    <tr style=\"text-align: right;\">\n",
       "      <th></th>\n",
       "      <th>business_id</th>\n",
       "      <th>full_address</th>\n",
       "      <th>hours</th>\n",
       "      <th>open</th>\n",
       "      <th>categories</th>\n",
       "      <th>city</th>\n",
       "      <th>review_count</th>\n",
       "      <th>name</th>\n",
       "      <th>neighborhoods</th>\n",
       "      <th>longitude</th>\n",
       "      <th>...</th>\n",
       "      <th>GEO.display-label</th>\n",
       "      <th>rescen42010</th>\n",
       "      <th>resbase42010</th>\n",
       "      <th>respop72010</th>\n",
       "      <th>respop72011</th>\n",
       "      <th>respop72012</th>\n",
       "      <th>respop72013</th>\n",
       "      <th>respop72014</th>\n",
       "      <th>respop72015</th>\n",
       "      <th>respop72016</th>\n",
       "    </tr>\n",
       "  </thead>\n",
       "  <tbody>\n",
       "    <tr>\n",
       "      <th>0</th>\n",
       "      <td>HxPpZSY6Q1eARuiahhra6A</td>\n",
       "      <td>6401 University Ave\\nMiddleton, WI 53562</td>\n",
       "      <td>{}</td>\n",
       "      <td>False</td>\n",
       "      <td>[Event Planning &amp; Services, Party &amp; Event Plan...</td>\n",
       "      <td>Middleton</td>\n",
       "      <td>5</td>\n",
       "      <td>Crandalls Carryout &amp; Catering</td>\n",
       "      <td>[]</td>\n",
       "      <td>-89.491800</td>\n",
       "      <td>...</td>\n",
       "      <td>Middleton city, Dane County, Wisconsin</td>\n",
       "      <td>17442.0</td>\n",
       "      <td>17558</td>\n",
       "      <td>17622</td>\n",
       "      <td>17903</td>\n",
       "      <td>18271</td>\n",
       "      <td>18522</td>\n",
       "      <td>18694</td>\n",
       "      <td>18955</td>\n",
       "      <td>19109</td>\n",
       "    </tr>\n",
       "    <tr>\n",
       "      <th>1</th>\n",
       "      <td>HxPpZSY6Q1eARuiahhra6A</td>\n",
       "      <td>6401 University Ave\\nMiddleton, WI 53562</td>\n",
       "      <td>{}</td>\n",
       "      <td>False</td>\n",
       "      <td>[Event Planning &amp; Services, Party &amp; Event Plan...</td>\n",
       "      <td>Middleton</td>\n",
       "      <td>5</td>\n",
       "      <td>Crandalls Carryout &amp; Catering</td>\n",
       "      <td>[]</td>\n",
       "      <td>-89.491800</td>\n",
       "      <td>...</td>\n",
       "      <td>Middleton town, Dane County, Wisconsin</td>\n",
       "      <td>5877.0</td>\n",
       "      <td>5831</td>\n",
       "      <td>5845</td>\n",
       "      <td>5943</td>\n",
       "      <td>6030</td>\n",
       "      <td>6086</td>\n",
       "      <td>6140</td>\n",
       "      <td>6179</td>\n",
       "      <td>6257</td>\n",
       "    </tr>\n",
       "    <tr>\n",
       "      <th>2</th>\n",
       "      <td>SKLw05kEIlZcpTD5pqma8Q</td>\n",
       "      <td>2039 Allen Blvd\\nMiddleton, WI 53562</td>\n",
       "      <td>{'Monday': {'close': '14:00', 'open': '11:00'}...</td>\n",
       "      <td>True</td>\n",
       "      <td>[Party &amp; Event Planning, Asian Fusion, Event P...</td>\n",
       "      <td>Middleton</td>\n",
       "      <td>41</td>\n",
       "      <td>Imperial Garden Chinese Restaurant</td>\n",
       "      <td>[]</td>\n",
       "      <td>-89.485169</td>\n",
       "      <td>...</td>\n",
       "      <td>Middleton city, Dane County, Wisconsin</td>\n",
       "      <td>17442.0</td>\n",
       "      <td>17558</td>\n",
       "      <td>17622</td>\n",
       "      <td>17903</td>\n",
       "      <td>18271</td>\n",
       "      <td>18522</td>\n",
       "      <td>18694</td>\n",
       "      <td>18955</td>\n",
       "      <td>19109</td>\n",
       "    </tr>\n",
       "    <tr>\n",
       "      <th>3</th>\n",
       "      <td>SKLw05kEIlZcpTD5pqma8Q</td>\n",
       "      <td>2039 Allen Blvd\\nMiddleton, WI 53562</td>\n",
       "      <td>{'Monday': {'close': '14:00', 'open': '11:00'}...</td>\n",
       "      <td>True</td>\n",
       "      <td>[Party &amp; Event Planning, Asian Fusion, Event P...</td>\n",
       "      <td>Middleton</td>\n",
       "      <td>41</td>\n",
       "      <td>Imperial Garden Chinese Restaurant</td>\n",
       "      <td>[]</td>\n",
       "      <td>-89.485169</td>\n",
       "      <td>...</td>\n",
       "      <td>Middleton town, Dane County, Wisconsin</td>\n",
       "      <td>5877.0</td>\n",
       "      <td>5831</td>\n",
       "      <td>5845</td>\n",
       "      <td>5943</td>\n",
       "      <td>6030</td>\n",
       "      <td>6086</td>\n",
       "      <td>6140</td>\n",
       "      <td>6179</td>\n",
       "      <td>6257</td>\n",
       "    </tr>\n",
       "    <tr>\n",
       "      <th>4</th>\n",
       "      <td>77ESrCo7hQ96VpCWWdvoxg</td>\n",
       "      <td>6230 University Ave\\nMiddleton, WI 53562</td>\n",
       "      <td>{'Monday': {'close': '21:00', 'open': '06:00'}...</td>\n",
       "      <td>False</td>\n",
       "      <td>[Mexican, Restaurants]</td>\n",
       "      <td>Middleton</td>\n",
       "      <td>17</td>\n",
       "      <td>Mi Cocina</td>\n",
       "      <td>[]</td>\n",
       "      <td>-89.487487</td>\n",
       "      <td>...</td>\n",
       "      <td>Middleton city, Dane County, Wisconsin</td>\n",
       "      <td>17442.0</td>\n",
       "      <td>17558</td>\n",
       "      <td>17622</td>\n",
       "      <td>17903</td>\n",
       "      <td>18271</td>\n",
       "      <td>18522</td>\n",
       "      <td>18694</td>\n",
       "      <td>18955</td>\n",
       "      <td>19109</td>\n",
       "    </tr>\n",
       "  </tbody>\n",
       "</table>\n",
       "<p>5 rows × 28 columns</p>\n",
       "</div>"
      ],
      "text/plain": [
       "              business_id                              full_address  \\\n",
       "0  HxPpZSY6Q1eARuiahhra6A  6401 University Ave\\nMiddleton, WI 53562   \n",
       "1  HxPpZSY6Q1eARuiahhra6A  6401 University Ave\\nMiddleton, WI 53562   \n",
       "2  SKLw05kEIlZcpTD5pqma8Q      2039 Allen Blvd\\nMiddleton, WI 53562   \n",
       "3  SKLw05kEIlZcpTD5pqma8Q      2039 Allen Blvd\\nMiddleton, WI 53562   \n",
       "4  77ESrCo7hQ96VpCWWdvoxg  6230 University Ave\\nMiddleton, WI 53562   \n",
       "\n",
       "                                               hours   open  \\\n",
       "0                                                 {}  False   \n",
       "1                                                 {}  False   \n",
       "2  {'Monday': {'close': '14:00', 'open': '11:00'}...   True   \n",
       "3  {'Monday': {'close': '14:00', 'open': '11:00'}...   True   \n",
       "4  {'Monday': {'close': '21:00', 'open': '06:00'}...  False   \n",
       "\n",
       "                                          categories       city  review_count  \\\n",
       "0  [Event Planning & Services, Party & Event Plan...  Middleton             5   \n",
       "1  [Event Planning & Services, Party & Event Plan...  Middleton             5   \n",
       "2  [Party & Event Planning, Asian Fusion, Event P...  Middleton            41   \n",
       "3  [Party & Event Planning, Asian Fusion, Event P...  Middleton            41   \n",
       "4                             [Mexican, Restaurants]  Middleton            17   \n",
       "\n",
       "                                 name neighborhoods  longitude  ...  \\\n",
       "0       Crandalls Carryout & Catering            [] -89.491800  ...   \n",
       "1       Crandalls Carryout & Catering            [] -89.491800  ...   \n",
       "2  Imperial Garden Chinese Restaurant            [] -89.485169  ...   \n",
       "3  Imperial Garden Chinese Restaurant            [] -89.485169  ...   \n",
       "4                           Mi Cocina            [] -89.487487  ...   \n",
       "\n",
       "                        GEO.display-label  rescen42010  resbase42010  \\\n",
       "0  Middleton city, Dane County, Wisconsin      17442.0         17558   \n",
       "1  Middleton town, Dane County, Wisconsin       5877.0          5831   \n",
       "2  Middleton city, Dane County, Wisconsin      17442.0         17558   \n",
       "3  Middleton town, Dane County, Wisconsin       5877.0          5831   \n",
       "4  Middleton city, Dane County, Wisconsin      17442.0         17558   \n",
       "\n",
       "  respop72010 respop72011 respop72012 respop72013  respop72014 respop72015  \\\n",
       "0       17622       17903       18271       18522        18694       18955   \n",
       "1        5845        5943        6030        6086         6140        6179   \n",
       "2       17622       17903       18271       18522        18694       18955   \n",
       "3        5845        5943        6030        6086         6140        6179   \n",
       "4       17622       17903       18271       18522        18694       18955   \n",
       "\n",
       "   respop72016  \n",
       "0        19109  \n",
       "1         6257  \n",
       "2        19109  \n",
       "3         6257  \n",
       "4        19109  \n",
       "\n",
       "[5 rows x 28 columns]"
      ]
     },
     "execution_count": 27,
     "metadata": {},
     "output_type": "execute_result"
    }
   ],
   "source": [
    "merged_df = yelp_df.merge(census, on=['state', 'city'])\n",
    "merged_df.head()"
   ]
  },
  {
   "cell_type": "markdown",
   "metadata": {
    "id": "9lllstbuYtEZ"
   },
   "source": [
    "`merge` 함수는 `yelp_df`와 `census`의 `state`와 `city` 열을 살펴보고 값을 공유하는 행을 일치시키려고 시도합니다. 만약 일치하는 항목이 발견되면 행이 결합됩니다. 반면 일치하는 항목을 찾지 못하면 어떻게 될까요? 이런 경우에는 크게 네 가지 시나리오를 생각해볼 수 있습니다.\n",
    "\n",
    "1. `yelp_df`와 `census`가 일치하는 경우에만 행을 유지합니다. 일치 항목이 없는 두 테이블의 모든 행은 삭제됩니다. 이것을 내부 조인(**inner join**)이라고 합니다.\n",
    "\n",
    "2. 일치하는 항목이 없더라도 `yelp_df` 및 `census`의 모든 행을 유지합니다. 이 경우 `yelp_df`의 행이 `census`에서 일치하지 않으면 `census`의 모든 열이 null 값으로 병합됩니다. `census`의 행이 `yelp_df`와 일치하지 않으면 `yelp_df`의 모든 열이 null 값으로 병합됩니다. 이것을 외부 조인(**outer join**)이라고 합니다.\n",
    "\n",
    "3. `yelp_df` 데이터에 결정 권한을 부여합니다. `yelp_df`의 행이 `census`에서 일치하지 않으면 이를 유지하고 누락된 `census` 열을 null 값으로 채웁니다. `census`의 행이 `yelp_df`와 일치하지 않으면 해당 행을 버립니다. 이것을 좌측 조인(**left join**)이라고 합니다.\n",
    "\n",
    "4. 우리는 `census` 데이터에 결정 권한을 부여합니다. 이것을 우측 조인(**right join**)이라고 합니다.\n",
    "\n",
    "판다스의 기본값은 내부 조인입니다. 이는 `yelp_df`에 일치하는 `census` 데이터가 없는 도시가 있는 경우 해당 도시가 삭제됨을 의미합니다. 따라서 `merged_df`는 `yelp_df`보다 작을 수 있습니다."
   ]
  },
  {
   "cell_type": "code",
   "execution_count": 28,
   "metadata": {
    "id": "snIde5XKYtEZ"
   },
   "outputs": [
    {
     "name": "stdout",
     "output_type": "stream",
     "text": [
      "(37938, 16)\n",
      "(3598, 28)\n"
     ]
    }
   ],
   "source": [
    "print(yelp_df.shape)\n",
    "print(merged_df.shape)"
   ]
  },
  {
   "cell_type": "markdown",
   "metadata": {
    "id": "H3nXtFy4YtEa"
   },
   "source": [
    "`census`에 포함되지 않은 많은 도시가 `yelp_df`에 있습니다. 우리는 이러한 행을 유지하기를 원할 수 있지만 비즈니스가 없는 곳에서는 인구 조사 데이터가 필요하지 않습니다. 그렇다면 우리는 여기서 좌측 조인을 사용해야 합니다."
   ]
  },
  {
   "cell_type": "code",
   "execution_count": 29,
   "metadata": {
    "id": "2MVqx3oJYtEa"
   },
   "outputs": [
    {
     "name": "stdout",
     "output_type": "stream",
     "text": [
      "(37938, 16)\n",
      "(39648, 28)\n"
     ]
    }
   ],
   "source": [
    "merged_df = yelp_df.merge(census, on=['state', 'city'], how='left')\n",
    "print(yelp_df.shape)\n",
    "print(merged_df.shape)"
   ]
  },
  {
   "cell_type": "markdown",
   "metadata": {
    "id": "J_PWNdC4YtEb"
   },
   "source": [
    "때로는 개별 데이터 세트의 열을 병합할 필요가 없고 단지 행만을 더 추가하기만 하면 될 경우가 있습니다. 예를 들어, 뉴욕시 지하철 시스템은 [매주 얼마나 많은 고객이 역에 출입하는지에 대한 데이터를 공개합니다](http://web.mta.info/developers/turnstile.html). 이런 경우에는 각 주간 데이터 세트에 동일한 열이 존재하므로 여러 주의 데이터가 필요한 경우 한 주를 다른 주에 추가하기만 하면 됩니다."
   ]
  },
  {
   "cell_type": "code",
   "execution_count": 30,
   "metadata": {
    "id": "-Kwfy9--YtEb"
   },
   "outputs": [],
   "source": [
    "nov18 = pd.read_csv('http://web.mta.info/developers/data/nyct/turnstile/turnstile_171118.txt')\n",
    "nov11 = pd.read_csv('http://web.mta.info/developers/data/nyct/turnstile/turnstile_171111.txt')"
   ]
  },
  {
   "cell_type": "code",
   "execution_count": 31,
   "metadata": {
    "id": "6GH06BREYtEb"
   },
   "outputs": [
    {
     "data": {
      "text/html": [
       "<div>\n",
       "<style scoped>\n",
       "    .dataframe tbody tr th:only-of-type {\n",
       "        vertical-align: middle;\n",
       "    }\n",
       "\n",
       "    .dataframe tbody tr th {\n",
       "        vertical-align: top;\n",
       "    }\n",
       "\n",
       "    .dataframe thead th {\n",
       "        text-align: right;\n",
       "    }\n",
       "</style>\n",
       "<table border=\"1\" class=\"dataframe\">\n",
       "  <thead>\n",
       "    <tr style=\"text-align: right;\">\n",
       "      <th></th>\n",
       "      <th>C/A</th>\n",
       "      <th>UNIT</th>\n",
       "      <th>SCP</th>\n",
       "      <th>STATION</th>\n",
       "      <th>LINENAME</th>\n",
       "      <th>DIVISION</th>\n",
       "      <th>DATE</th>\n",
       "      <th>TIME</th>\n",
       "      <th>DESC</th>\n",
       "      <th>ENTRIES</th>\n",
       "      <th>EXITS</th>\n",
       "    </tr>\n",
       "  </thead>\n",
       "  <tbody>\n",
       "    <tr>\n",
       "      <th>0</th>\n",
       "      <td>A002</td>\n",
       "      <td>R051</td>\n",
       "      <td>02-00-00</td>\n",
       "      <td>59 ST</td>\n",
       "      <td>NQR456W</td>\n",
       "      <td>BMT</td>\n",
       "      <td>11/11/2017</td>\n",
       "      <td>03:00:00</td>\n",
       "      <td>REGULAR</td>\n",
       "      <td>6402636</td>\n",
       "      <td>2166100</td>\n",
       "    </tr>\n",
       "    <tr>\n",
       "      <th>1</th>\n",
       "      <td>A002</td>\n",
       "      <td>R051</td>\n",
       "      <td>02-00-00</td>\n",
       "      <td>59 ST</td>\n",
       "      <td>NQR456W</td>\n",
       "      <td>BMT</td>\n",
       "      <td>11/11/2017</td>\n",
       "      <td>07:00:00</td>\n",
       "      <td>REGULAR</td>\n",
       "      <td>6402645</td>\n",
       "      <td>2166112</td>\n",
       "    </tr>\n",
       "    <tr>\n",
       "      <th>2</th>\n",
       "      <td>A002</td>\n",
       "      <td>R051</td>\n",
       "      <td>02-00-00</td>\n",
       "      <td>59 ST</td>\n",
       "      <td>NQR456W</td>\n",
       "      <td>BMT</td>\n",
       "      <td>11/11/2017</td>\n",
       "      <td>11:00:00</td>\n",
       "      <td>REGULAR</td>\n",
       "      <td>6402717</td>\n",
       "      <td>2166175</td>\n",
       "    </tr>\n",
       "    <tr>\n",
       "      <th>3</th>\n",
       "      <td>A002</td>\n",
       "      <td>R051</td>\n",
       "      <td>02-00-00</td>\n",
       "      <td>59 ST</td>\n",
       "      <td>NQR456W</td>\n",
       "      <td>BMT</td>\n",
       "      <td>11/11/2017</td>\n",
       "      <td>15:00:00</td>\n",
       "      <td>REGULAR</td>\n",
       "      <td>6402857</td>\n",
       "      <td>2166230</td>\n",
       "    </tr>\n",
       "    <tr>\n",
       "      <th>4</th>\n",
       "      <td>A002</td>\n",
       "      <td>R051</td>\n",
       "      <td>02-00-00</td>\n",
       "      <td>59 ST</td>\n",
       "      <td>NQR456W</td>\n",
       "      <td>BMT</td>\n",
       "      <td>11/11/2017</td>\n",
       "      <td>19:00:00</td>\n",
       "      <td>REGULAR</td>\n",
       "      <td>6403178</td>\n",
       "      <td>2166292</td>\n",
       "    </tr>\n",
       "  </tbody>\n",
       "</table>\n",
       "</div>"
      ],
      "text/plain": [
       "    C/A  UNIT       SCP STATION LINENAME DIVISION        DATE      TIME  \\\n",
       "0  A002  R051  02-00-00   59 ST  NQR456W      BMT  11/11/2017  03:00:00   \n",
       "1  A002  R051  02-00-00   59 ST  NQR456W      BMT  11/11/2017  07:00:00   \n",
       "2  A002  R051  02-00-00   59 ST  NQR456W      BMT  11/11/2017  11:00:00   \n",
       "3  A002  R051  02-00-00   59 ST  NQR456W      BMT  11/11/2017  15:00:00   \n",
       "4  A002  R051  02-00-00   59 ST  NQR456W      BMT  11/11/2017  19:00:00   \n",
       "\n",
       "      DESC  ENTRIES  \\\n",
       "0  REGULAR  6402636   \n",
       "1  REGULAR  6402645   \n",
       "2  REGULAR  6402717   \n",
       "3  REGULAR  6402857   \n",
       "4  REGULAR  6403178   \n",
       "\n",
       "   EXITS                                                                 \n",
       "0                                            2166100                     \n",
       "1                                            2166112                     \n",
       "2                                            2166175                     \n",
       "3                                            2166230                     \n",
       "4                                            2166292                     "
      ]
     },
     "execution_count": 31,
     "metadata": {},
     "output_type": "execute_result"
    }
   ],
   "source": [
    "nov18.head()"
   ]
  },
  {
   "cell_type": "code",
   "execution_count": 32,
   "metadata": {
    "id": "dnPX9u5dYtEb"
   },
   "outputs": [
    {
     "data": {
      "text/html": [
       "<div>\n",
       "<style scoped>\n",
       "    .dataframe tbody tr th:only-of-type {\n",
       "        vertical-align: middle;\n",
       "    }\n",
       "\n",
       "    .dataframe tbody tr th {\n",
       "        vertical-align: top;\n",
       "    }\n",
       "\n",
       "    .dataframe thead th {\n",
       "        text-align: right;\n",
       "    }\n",
       "</style>\n",
       "<table border=\"1\" class=\"dataframe\">\n",
       "  <thead>\n",
       "    <tr style=\"text-align: right;\">\n",
       "      <th></th>\n",
       "      <th>C/A</th>\n",
       "      <th>UNIT</th>\n",
       "      <th>SCP</th>\n",
       "      <th>STATION</th>\n",
       "      <th>LINENAME</th>\n",
       "      <th>DIVISION</th>\n",
       "      <th>DATE</th>\n",
       "      <th>TIME</th>\n",
       "      <th>DESC</th>\n",
       "      <th>ENTRIES</th>\n",
       "      <th>EXITS</th>\n",
       "    </tr>\n",
       "  </thead>\n",
       "  <tbody>\n",
       "    <tr>\n",
       "      <th>0</th>\n",
       "      <td>A002</td>\n",
       "      <td>R051</td>\n",
       "      <td>02-00-00</td>\n",
       "      <td>59 ST</td>\n",
       "      <td>NQR456W</td>\n",
       "      <td>BMT</td>\n",
       "      <td>11/04/2017</td>\n",
       "      <td>00:00:00</td>\n",
       "      <td>REGULAR</td>\n",
       "      <td>6393563</td>\n",
       "      <td>2162811</td>\n",
       "    </tr>\n",
       "    <tr>\n",
       "      <th>1</th>\n",
       "      <td>A002</td>\n",
       "      <td>R051</td>\n",
       "      <td>02-00-00</td>\n",
       "      <td>59 ST</td>\n",
       "      <td>NQR456W</td>\n",
       "      <td>BMT</td>\n",
       "      <td>11/04/2017</td>\n",
       "      <td>04:00:00</td>\n",
       "      <td>REGULAR</td>\n",
       "      <td>6393595</td>\n",
       "      <td>2162822</td>\n",
       "    </tr>\n",
       "    <tr>\n",
       "      <th>2</th>\n",
       "      <td>A002</td>\n",
       "      <td>R051</td>\n",
       "      <td>02-00-00</td>\n",
       "      <td>59 ST</td>\n",
       "      <td>NQR456W</td>\n",
       "      <td>BMT</td>\n",
       "      <td>11/04/2017</td>\n",
       "      <td>08:00:00</td>\n",
       "      <td>REGULAR</td>\n",
       "      <td>6393616</td>\n",
       "      <td>2162855</td>\n",
       "    </tr>\n",
       "    <tr>\n",
       "      <th>3</th>\n",
       "      <td>A002</td>\n",
       "      <td>R051</td>\n",
       "      <td>02-00-00</td>\n",
       "      <td>59 ST</td>\n",
       "      <td>NQR456W</td>\n",
       "      <td>BMT</td>\n",
       "      <td>11/04/2017</td>\n",
       "      <td>12:00:00</td>\n",
       "      <td>REGULAR</td>\n",
       "      <td>6393742</td>\n",
       "      <td>2162933</td>\n",
       "    </tr>\n",
       "    <tr>\n",
       "      <th>4</th>\n",
       "      <td>A002</td>\n",
       "      <td>R051</td>\n",
       "      <td>02-00-00</td>\n",
       "      <td>59 ST</td>\n",
       "      <td>NQR456W</td>\n",
       "      <td>BMT</td>\n",
       "      <td>11/04/2017</td>\n",
       "      <td>16:00:00</td>\n",
       "      <td>REGULAR</td>\n",
       "      <td>6394021</td>\n",
       "      <td>2162992</td>\n",
       "    </tr>\n",
       "  </tbody>\n",
       "</table>\n",
       "</div>"
      ],
      "text/plain": [
       "    C/A  UNIT       SCP STATION LINENAME DIVISION        DATE      TIME  \\\n",
       "0  A002  R051  02-00-00   59 ST  NQR456W      BMT  11/04/2017  00:00:00   \n",
       "1  A002  R051  02-00-00   59 ST  NQR456W      BMT  11/04/2017  04:00:00   \n",
       "2  A002  R051  02-00-00   59 ST  NQR456W      BMT  11/04/2017  08:00:00   \n",
       "3  A002  R051  02-00-00   59 ST  NQR456W      BMT  11/04/2017  12:00:00   \n",
       "4  A002  R051  02-00-00   59 ST  NQR456W      BMT  11/04/2017  16:00:00   \n",
       "\n",
       "      DESC  ENTRIES  \\\n",
       "0  REGULAR  6393563   \n",
       "1  REGULAR  6393595   \n",
       "2  REGULAR  6393616   \n",
       "3  REGULAR  6393742   \n",
       "4  REGULAR  6394021   \n",
       "\n",
       "   EXITS                                                                 \n",
       "0                                            2162811                     \n",
       "1                                            2162822                     \n",
       "2                                            2162855                     \n",
       "3                                            2162933                     \n",
       "4                                            2162992                     "
      ]
     },
     "execution_count": 32,
     "metadata": {},
     "output_type": "execute_result"
    }
   ],
   "source": [
    "nov11.head()"
   ]
  },
  {
   "cell_type": "code",
   "execution_count": 33,
   "metadata": {
    "id": "38FqpukrYtEc"
   },
   "outputs": [
    {
     "data": {
      "text/plain": [
       "array(['11/11/2017', '11/12/2017', '11/13/2017', '11/14/2017',\n",
       "       '11/15/2017', '11/16/2017', '11/17/2017', '11/04/2017',\n",
       "       '11/05/2017', '11/06/2017', '11/07/2017', '11/08/2017',\n",
       "       '11/09/2017', '11/10/2017'], dtype=object)"
      ]
     },
     "execution_count": 33,
     "metadata": {},
     "output_type": "execute_result"
    }
   ],
   "source": [
    "nov = pd.concat([nov18, nov11])\n",
    "nov['DATE'].unique()"
   ]
  },
  {
   "cell_type": "markdown",
   "metadata": {
    "id": "klQoKy5kYtEc"
   },
   "source": [
    "`concat`을 사용하여 인덱스를 기반으로 내부 및 외부 조인을 수행할 수 있습니다. 예를 들어, 일부 데이터 집계를 수행한 다음 결과를 원본 데이터프레임에 결합할 수 있습니다."
   ]
  },
  {
   "cell_type": "code",
   "execution_count": 34,
   "metadata": {
    "id": "9RBE-ZK9YtEc"
   },
   "outputs": [
    {
     "data": {
      "text/plain": [
       "city\n",
       "Ahwatukee           8\n",
       "Anthem             55\n",
       "Apache Junction    80\n",
       "Arcadia             1\n",
       "Atlanta             1\n",
       "Name: city_counts, dtype: int64"
      ]
     },
     "execution_count": 34,
     "metadata": {},
     "output_type": "execute_result"
    }
   ],
   "source": [
    "city_counts = yelp_df.groupby('city')['business_id'].count().rename('city_counts')\n",
    "city_counts.head()"
   ]
  },
  {
   "cell_type": "code",
   "execution_count": 35,
   "metadata": {
    "id": "AU5Wf1Z7YtEc"
   },
   "outputs": [
    {
     "data": {
      "text/html": [
       "<div>\n",
       "<style scoped>\n",
       "    .dataframe tbody tr th:only-of-type {\n",
       "        vertical-align: middle;\n",
       "    }\n",
       "\n",
       "    .dataframe tbody tr th {\n",
       "        vertical-align: top;\n",
       "    }\n",
       "\n",
       "    .dataframe thead th {\n",
       "        text-align: right;\n",
       "    }\n",
       "</style>\n",
       "<table border=\"1\" class=\"dataframe\">\n",
       "  <thead>\n",
       "    <tr style=\"text-align: right;\">\n",
       "      <th></th>\n",
       "      <th>city</th>\n",
       "      <th>business_id</th>\n",
       "      <th>full_address</th>\n",
       "      <th>hours</th>\n",
       "      <th>open</th>\n",
       "      <th>categories</th>\n",
       "      <th>review_count</th>\n",
       "      <th>name</th>\n",
       "      <th>neighborhoods</th>\n",
       "      <th>longitude</th>\n",
       "      <th>state</th>\n",
       "      <th>stars</th>\n",
       "      <th>latitude</th>\n",
       "      <th>attributes</th>\n",
       "      <th>type</th>\n",
       "      <th>delivery</th>\n",
       "      <th>city_counts</th>\n",
       "    </tr>\n",
       "  </thead>\n",
       "  <tbody>\n",
       "    <tr>\n",
       "      <th>0</th>\n",
       "      <td>Phoenix</td>\n",
       "      <td>vcNAWiLM4dR7D2nwwJ7nCA</td>\n",
       "      <td>4840 E Indian School Rd\\nSte 101\\nPhoenix, AZ ...</td>\n",
       "      <td>{'Tuesday': {'close': '17:00', 'open': '08:00'...</td>\n",
       "      <td>True</td>\n",
       "      <td>[Doctors, Health &amp; Medical]</td>\n",
       "      <td>7</td>\n",
       "      <td>Eric Goldberg, MD</td>\n",
       "      <td>[]</td>\n",
       "      <td>-111.983758</td>\n",
       "      <td>AZ</td>\n",
       "      <td>3.5</td>\n",
       "      <td>33.499313</td>\n",
       "      <td>{'By Appointment Only': True}</td>\n",
       "      <td>business</td>\n",
       "      <td>None</td>\n",
       "      <td>6715</td>\n",
       "    </tr>\n",
       "    <tr>\n",
       "      <th>1</th>\n",
       "      <td>De Forest</td>\n",
       "      <td>JwUE5GmEO-sH1FuwJgKBlQ</td>\n",
       "      <td>6162 US Highway 51\\nDe Forest, WI 53532</td>\n",
       "      <td>{}</td>\n",
       "      <td>True</td>\n",
       "      <td>[Restaurants]</td>\n",
       "      <td>26</td>\n",
       "      <td>Pine Cone Restaurant</td>\n",
       "      <td>[]</td>\n",
       "      <td>-89.335844</td>\n",
       "      <td>WI</td>\n",
       "      <td>4.0</td>\n",
       "      <td>43.238893</td>\n",
       "      <td>{'Take-out': True, 'Good For': {'dessert': Fal...</td>\n",
       "      <td>business</td>\n",
       "      <td>False</td>\n",
       "      <td>6</td>\n",
       "    </tr>\n",
       "    <tr>\n",
       "      <th>2</th>\n",
       "      <td>De Forest</td>\n",
       "      <td>uGykseHzyS5xAMWoN6YUqA</td>\n",
       "      <td>505 W North St\\nDe Forest, WI 53532</td>\n",
       "      <td>{'Monday': {'close': '22:00', 'open': '06:00'}...</td>\n",
       "      <td>True</td>\n",
       "      <td>[American (Traditional), Restaurants]</td>\n",
       "      <td>16</td>\n",
       "      <td>Deforest Family Restaurant</td>\n",
       "      <td>[]</td>\n",
       "      <td>-89.353437</td>\n",
       "      <td>WI</td>\n",
       "      <td>4.0</td>\n",
       "      <td>43.252267</td>\n",
       "      <td>{'Take-out': True, 'Good For': {'dessert': Fal...</td>\n",
       "      <td>business</td>\n",
       "      <td>False</td>\n",
       "      <td>6</td>\n",
       "    </tr>\n",
       "    <tr>\n",
       "      <th>3</th>\n",
       "      <td>De Forest</td>\n",
       "      <td>LRKJF43s9-3jG9Lgx4zODg</td>\n",
       "      <td>4910 County Rd V\\nDe Forest, WI 53532</td>\n",
       "      <td>{'Monday': {'close': '22:00', 'open': '10:30'}...</td>\n",
       "      <td>True</td>\n",
       "      <td>[Food, Ice Cream &amp; Frozen Yogurt, Fast Food, R...</td>\n",
       "      <td>7</td>\n",
       "      <td>Culver's</td>\n",
       "      <td>[]</td>\n",
       "      <td>-89.374983</td>\n",
       "      <td>WI</td>\n",
       "      <td>4.5</td>\n",
       "      <td>43.251045</td>\n",
       "      <td>{'Take-out': True, 'Wi-Fi': 'free', 'Takes Res...</td>\n",
       "      <td>business</td>\n",
       "      <td>False</td>\n",
       "      <td>6</td>\n",
       "    </tr>\n",
       "    <tr>\n",
       "      <th>4</th>\n",
       "      <td>De Forest</td>\n",
       "      <td>RgDg-k9S5YD_BaxMckifkg</td>\n",
       "      <td>631 S Main St\\nDe Forest, WI 53532</td>\n",
       "      <td>{'Monday': {'close': '22:00', 'open': '11:00'}...</td>\n",
       "      <td>True</td>\n",
       "      <td>[Chinese, Restaurants]</td>\n",
       "      <td>3</td>\n",
       "      <td>Chang Jiang Chinese Kitchen</td>\n",
       "      <td>[]</td>\n",
       "      <td>-89.343722</td>\n",
       "      <td>WI</td>\n",
       "      <td>4.0</td>\n",
       "      <td>43.240875</td>\n",
       "      <td>{'Take-out': True, 'Has TV': False, 'Outdoor S...</td>\n",
       "      <td>business</td>\n",
       "      <td>None</td>\n",
       "      <td>6</td>\n",
       "    </tr>\n",
       "  </tbody>\n",
       "</table>\n",
       "</div>"
      ],
      "text/plain": [
       "        city             business_id  \\\n",
       "0    Phoenix  vcNAWiLM4dR7D2nwwJ7nCA   \n",
       "1  De Forest  JwUE5GmEO-sH1FuwJgKBlQ   \n",
       "2  De Forest  uGykseHzyS5xAMWoN6YUqA   \n",
       "3  De Forest  LRKJF43s9-3jG9Lgx4zODg   \n",
       "4  De Forest  RgDg-k9S5YD_BaxMckifkg   \n",
       "\n",
       "                                        full_address  \\\n",
       "0  4840 E Indian School Rd\\nSte 101\\nPhoenix, AZ ...   \n",
       "1            6162 US Highway 51\\nDe Forest, WI 53532   \n",
       "2                505 W North St\\nDe Forest, WI 53532   \n",
       "3              4910 County Rd V\\nDe Forest, WI 53532   \n",
       "4                 631 S Main St\\nDe Forest, WI 53532   \n",
       "\n",
       "                                               hours  open  \\\n",
       "0  {'Tuesday': {'close': '17:00', 'open': '08:00'...  True   \n",
       "1                                                 {}  True   \n",
       "2  {'Monday': {'close': '22:00', 'open': '06:00'}...  True   \n",
       "3  {'Monday': {'close': '22:00', 'open': '10:30'}...  True   \n",
       "4  {'Monday': {'close': '22:00', 'open': '11:00'}...  True   \n",
       "\n",
       "                                          categories  review_count  \\\n",
       "0                        [Doctors, Health & Medical]             7   \n",
       "1                                      [Restaurants]            26   \n",
       "2              [American (Traditional), Restaurants]            16   \n",
       "3  [Food, Ice Cream & Frozen Yogurt, Fast Food, R...             7   \n",
       "4                             [Chinese, Restaurants]             3   \n",
       "\n",
       "                          name neighborhoods   longitude state  stars  \\\n",
       "0            Eric Goldberg, MD            [] -111.983758    AZ    3.5   \n",
       "1         Pine Cone Restaurant            []  -89.335844    WI    4.0   \n",
       "2   Deforest Family Restaurant            []  -89.353437    WI    4.0   \n",
       "3                     Culver's            []  -89.374983    WI    4.5   \n",
       "4  Chang Jiang Chinese Kitchen            []  -89.343722    WI    4.0   \n",
       "\n",
       "    latitude                                         attributes      type  \\\n",
       "0  33.499313                      {'By Appointment Only': True}  business   \n",
       "1  43.238893  {'Take-out': True, 'Good For': {'dessert': Fal...  business   \n",
       "2  43.252267  {'Take-out': True, 'Good For': {'dessert': Fal...  business   \n",
       "3  43.251045  {'Take-out': True, 'Wi-Fi': 'free', 'Takes Res...  business   \n",
       "4  43.240875  {'Take-out': True, 'Has TV': False, 'Outdoor S...  business   \n",
       "\n",
       "  delivery  city_counts  \n",
       "0     None         6715  \n",
       "1    False            6  \n",
       "2    False            6  \n",
       "3    False            6  \n",
       "4     None            6  "
      ]
     },
     "execution_count": 35,
     "metadata": {},
     "output_type": "execute_result"
    }
   ],
   "source": [
    "pd.concat([yelp_df.set_index('city'), city_counts], axis=1, join='inner').reset_index().head()"
   ]
  },
  {
   "cell_type": "markdown",
   "metadata": {
    "id": "Lpd2_f9aYtEc"
   },
   "source": [
    "판다스는 데이터 결합과 관련된 다양한 방법 및 접근 방식에 대한 다이어그램 예제를 포함하고 있는 [공식문서](https://pandas.pydata.org/pandas-docs/stable/merging.html)를 제공합니다."
   ]
  },
  {
   "cell_type": "markdown",
   "metadata": {
    "id": "aQ4IXq9qYtEd"
   },
   "source": [
    "## 시계열 다루기\n",
    "\n",
    "판다스는 문자열에서 날짜와 시간을 추론하고 의미 있는 계산을 수행하기 위해 잘 설계된 백엔드를 가지고 있습니다."
   ]
  },
  {
   "cell_type": "code",
   "execution_count": 36,
   "metadata": {
    "id": "UomvSB1dYtEd"
   },
   "outputs": [
    {
     "data": {
      "text/html": [
       "<div>\n",
       "<style scoped>\n",
       "    .dataframe tbody tr th:only-of-type {\n",
       "        vertical-align: middle;\n",
       "    }\n",
       "\n",
       "    .dataframe tbody tr th {\n",
       "        vertical-align: top;\n",
       "    }\n",
       "\n",
       "    .dataframe thead th {\n",
       "        text-align: right;\n",
       "    }\n",
       "</style>\n",
       "<table border=\"1\" class=\"dataframe\">\n",
       "  <thead>\n",
       "    <tr style=\"text-align: right;\">\n",
       "      <th></th>\n",
       "      <th>Year</th>\n",
       "      <th>Population</th>\n",
       "      <th>Annual Growth Rate (%)</th>\n",
       "      <th>Annual Population Change</th>\n",
       "    </tr>\n",
       "  </thead>\n",
       "  <tbody>\n",
       "    <tr>\n",
       "      <th>0</th>\n",
       "      <td>1950-01-01</td>\n",
       "      <td>2.557629e+09</td>\n",
       "      <td>1.459</td>\n",
       "      <td>37311223.0</td>\n",
       "    </tr>\n",
       "    <tr>\n",
       "      <th>1</th>\n",
       "      <td>1951-01-01</td>\n",
       "      <td>2.594940e+09</td>\n",
       "      <td>1.612</td>\n",
       "      <td>41832429.0</td>\n",
       "    </tr>\n",
       "    <tr>\n",
       "      <th>2</th>\n",
       "      <td>1952-01-01</td>\n",
       "      <td>2.636772e+09</td>\n",
       "      <td>1.717</td>\n",
       "      <td>45281083.0</td>\n",
       "    </tr>\n",
       "    <tr>\n",
       "      <th>3</th>\n",
       "      <td>1953-01-01</td>\n",
       "      <td>2.682053e+09</td>\n",
       "      <td>1.796</td>\n",
       "      <td>48174715.0</td>\n",
       "    </tr>\n",
       "    <tr>\n",
       "      <th>4</th>\n",
       "      <td>1954-01-01</td>\n",
       "      <td>2.730228e+09</td>\n",
       "      <td>1.900</td>\n",
       "      <td>51870839.0</td>\n",
       "    </tr>\n",
       "  </tbody>\n",
       "</table>\n",
       "</div>"
      ],
      "text/plain": [
       "        Year    Population  Annual Growth Rate (%)  Annual Population Change\n",
       "0 1950-01-01  2.557629e+09                   1.459                37311223.0\n",
       "1 1951-01-01  2.594940e+09                   1.612                41832429.0\n",
       "2 1952-01-01  2.636772e+09                   1.717                45281083.0\n",
       "3 1953-01-01  2.682053e+09                   1.796                48174715.0\n",
       "4 1954-01-01  2.730228e+09                   1.900                51870839.0"
      ]
     },
     "execution_count": 36,
     "metadata": {},
     "output_type": "execute_result"
    }
   ],
   "source": [
    "pop_growth = pd.read_html('https://web.archive.org/web/20170127165708/https://www.census.gov/population/international/data/worldpop/table_population.php', attrs={'class': 'query_table'}, parse_dates=[0])[0]\n",
    "pop_growth.dropna(inplace=True)\n",
    "pop_growth.head()"
   ]
  },
  {
   "cell_type": "markdown",
   "metadata": {
    "id": "uTvB7AzlYtEd"
   },
   "source": [
    "`Year` 열을 인덱스로 설정하면 `resample` 메서드를 사용하여 날짜별로 데이터를 쉽게 집계할 수 있습니다. 또한 이러한 `resample` 메서드를 사용하면 쉽게 데이터의 샘플링 빈도를 줄이거나 늘릴 수 있습니다. 예를 들어, 연간 데이터 대신 10년마다의 평균 수량 데이터를 보고 싶을 때 해당 메서드를 사용하면 자동적으로 샘플링의 빈도가 조정됩니다."
   ]
  },
  {
   "cell_type": "code",
   "execution_count": 37,
   "metadata": {
    "id": "Yb4nLy6XYtEd"
   },
   "outputs": [],
   "source": [
    "pop_growth.set_index('Year', inplace=True)"
   ]
  },
  {
   "cell_type": "code",
   "execution_count": 38,
   "metadata": {
    "id": "vNo5p3yWYtEd"
   },
   "outputs": [
    {
     "data": {
      "text/html": [
       "<div>\n",
       "<style scoped>\n",
       "    .dataframe tbody tr th:only-of-type {\n",
       "        vertical-align: middle;\n",
       "    }\n",
       "\n",
       "    .dataframe tbody tr th {\n",
       "        vertical-align: top;\n",
       "    }\n",
       "\n",
       "    .dataframe thead th {\n",
       "        text-align: right;\n",
       "    }\n",
       "</style>\n",
       "<table border=\"1\" class=\"dataframe\">\n",
       "  <thead>\n",
       "    <tr style=\"text-align: right;\">\n",
       "      <th></th>\n",
       "      <th>Population</th>\n",
       "      <th>Annual Growth Rate (%)</th>\n",
       "      <th>Annual Population Change</th>\n",
       "    </tr>\n",
       "    <tr>\n",
       "      <th>Year</th>\n",
       "      <th></th>\n",
       "      <th></th>\n",
       "      <th></th>\n",
       "    </tr>\n",
       "  </thead>\n",
       "  <tbody>\n",
       "    <tr>\n",
       "      <th>1950-01-01</th>\n",
       "      <td>2.765922e+09</td>\n",
       "      <td>1.7529</td>\n",
       "      <td>48537285.4</td>\n",
       "    </tr>\n",
       "    <tr>\n",
       "      <th>1960-01-01</th>\n",
       "      <td>3.321900e+09</td>\n",
       "      <td>2.0094</td>\n",
       "      <td>66969623.4</td>\n",
       "    </tr>\n",
       "    <tr>\n",
       "      <th>1970-01-01</th>\n",
       "      <td>4.047646e+09</td>\n",
       "      <td>1.8154</td>\n",
       "      <td>73179902.2</td>\n",
       "    </tr>\n",
       "    <tr>\n",
       "      <th>1980-01-01</th>\n",
       "      <td>4.813578e+09</td>\n",
       "      <td>1.7438</td>\n",
       "      <td>83875618.4</td>\n",
       "    </tr>\n",
       "    <tr>\n",
       "      <th>1990-01-01</th>\n",
       "      <td>5.651506e+09</td>\n",
       "      <td>1.4220</td>\n",
       "      <td>80123197.0</td>\n",
       "    </tr>\n",
       "    <tr>\n",
       "      <th>2000-01-01</th>\n",
       "      <td>6.429734e+09</td>\n",
       "      <td>1.2017</td>\n",
       "      <td>77213097.9</td>\n",
       "    </tr>\n",
       "    <tr>\n",
       "      <th>2010-01-01</th>\n",
       "      <td>7.206287e+09</td>\n",
       "      <td>1.0742</td>\n",
       "      <td>77318221.4</td>\n",
       "    </tr>\n",
       "    <tr>\n",
       "      <th>2020-01-01</th>\n",
       "      <td>7.949758e+09</td>\n",
       "      <td>0.8687</td>\n",
       "      <td>68934817.8</td>\n",
       "    </tr>\n",
       "    <tr>\n",
       "      <th>2030-01-01</th>\n",
       "      <td>8.587652e+09</td>\n",
       "      <td>0.6741</td>\n",
       "      <td>57810604.6</td>\n",
       "    </tr>\n",
       "    <tr>\n",
       "      <th>2040-01-01</th>\n",
       "      <td>9.120663e+09</td>\n",
       "      <td>0.5238</td>\n",
       "      <td>47723189.0</td>\n",
       "    </tr>\n",
       "  </tbody>\n",
       "</table>\n",
       "</div>"
      ],
      "text/plain": [
       "              Population  Annual Growth Rate (%)  Annual Population Change\n",
       "Year                                                                      \n",
       "1950-01-01  2.765922e+09                  1.7529                48537285.4\n",
       "1960-01-01  3.321900e+09                  2.0094                66969623.4\n",
       "1970-01-01  4.047646e+09                  1.8154                73179902.2\n",
       "1980-01-01  4.813578e+09                  1.7438                83875618.4\n",
       "1990-01-01  5.651506e+09                  1.4220                80123197.0\n",
       "2000-01-01  6.429734e+09                  1.2017                77213097.9\n",
       "2010-01-01  7.206287e+09                  1.0742                77318221.4\n",
       "2020-01-01  7.949758e+09                  0.8687                68934817.8\n",
       "2030-01-01  8.587652e+09                  0.6741                57810604.6\n",
       "2040-01-01  9.120663e+09                  0.5238                47723189.0"
      ]
     },
     "execution_count": 38,
     "metadata": {},
     "output_type": "execute_result"
    }
   ],
   "source": [
    "pop_growth.resample('10AS').mean()"
   ]
  },
  {
   "cell_type": "markdown",
   "metadata": {
    "id": "xxcd4TiGYtEd"
   },
   "source": [
    "이러한 종류의 리샘플링을 다운샘플링(**downsampling**)이라고 합니다. 데이터의 샘플링 빈도를 줄이기 때문입니다. 우리는 10년마다의 데이터를 집계하는 방법에 대해서도 선택할 수 있습니다. 집계를 하는 방법을 선택하는 옵션에는 `mean`, `median`, `sum`, `last`, `first` 등이 있습니다.\n",
    "\n",
    "또한 데이터를 업샒플링(**upsampling**)할 수도 있습니다. 그런데 이러한 경우에는 분기별 데이터가 존재하지 않으므로 우리는 판다스에게 누락된 데이터를 채워야 한다고 알려야 합니다."
   ]
  },
  {
   "cell_type": "code",
   "execution_count": 39,
   "metadata": {
    "id": "KQd0oitLYtEd"
   },
   "outputs": [
    {
     "data": {
      "text/html": [
       "<div>\n",
       "<style scoped>\n",
       "    .dataframe tbody tr th:only-of-type {\n",
       "        vertical-align: middle;\n",
       "    }\n",
       "\n",
       "    .dataframe tbody tr th {\n",
       "        vertical-align: top;\n",
       "    }\n",
       "\n",
       "    .dataframe thead th {\n",
       "        text-align: right;\n",
       "    }\n",
       "</style>\n",
       "<table border=\"1\" class=\"dataframe\">\n",
       "  <thead>\n",
       "    <tr style=\"text-align: right;\">\n",
       "      <th></th>\n",
       "      <th>Population</th>\n",
       "      <th>Annual Growth Rate (%)</th>\n",
       "      <th>Annual Population Change</th>\n",
       "    </tr>\n",
       "    <tr>\n",
       "      <th>Year</th>\n",
       "      <th></th>\n",
       "      <th></th>\n",
       "      <th></th>\n",
       "    </tr>\n",
       "  </thead>\n",
       "  <tbody>\n",
       "    <tr>\n",
       "      <th>1950-03-31</th>\n",
       "      <td>2.594940e+09</td>\n",
       "      <td>1.612</td>\n",
       "      <td>41832429.0</td>\n",
       "    </tr>\n",
       "    <tr>\n",
       "      <th>1950-06-30</th>\n",
       "      <td>2.594940e+09</td>\n",
       "      <td>1.612</td>\n",
       "      <td>41832429.0</td>\n",
       "    </tr>\n",
       "    <tr>\n",
       "      <th>1950-09-30</th>\n",
       "      <td>2.594940e+09</td>\n",
       "      <td>1.612</td>\n",
       "      <td>41832429.0</td>\n",
       "    </tr>\n",
       "    <tr>\n",
       "      <th>1950-12-31</th>\n",
       "      <td>2.594940e+09</td>\n",
       "      <td>1.612</td>\n",
       "      <td>41832429.0</td>\n",
       "    </tr>\n",
       "    <tr>\n",
       "      <th>1951-03-31</th>\n",
       "      <td>2.636772e+09</td>\n",
       "      <td>1.717</td>\n",
       "      <td>45281083.0</td>\n",
       "    </tr>\n",
       "  </tbody>\n",
       "</table>\n",
       "</div>"
      ],
      "text/plain": [
       "              Population  Annual Growth Rate (%)  Annual Population Change\n",
       "Year                                                                      \n",
       "1950-03-31  2.594940e+09                   1.612                41832429.0\n",
       "1950-06-30  2.594940e+09                   1.612                41832429.0\n",
       "1950-09-30  2.594940e+09                   1.612                41832429.0\n",
       "1950-12-31  2.594940e+09                   1.612                41832429.0\n",
       "1951-03-31  2.636772e+09                   1.717                45281083.0"
      ]
     },
     "execution_count": 39,
     "metadata": {},
     "output_type": "execute_result"
    }
   ],
   "source": [
    "pop_growth.resample('1Q').bfill().head()"
   ]
  },
  {
   "cell_type": "code",
   "execution_count": 40,
   "metadata": {
    "id": "r696PuRRYtEe"
   },
   "outputs": [
    {
     "data": {
      "text/html": [
       "<div>\n",
       "<style scoped>\n",
       "    .dataframe tbody tr th:only-of-type {\n",
       "        vertical-align: middle;\n",
       "    }\n",
       "\n",
       "    .dataframe tbody tr th {\n",
       "        vertical-align: top;\n",
       "    }\n",
       "\n",
       "    .dataframe thead th {\n",
       "        text-align: right;\n",
       "    }\n",
       "</style>\n",
       "<table border=\"1\" class=\"dataframe\">\n",
       "  <thead>\n",
       "    <tr style=\"text-align: right;\">\n",
       "      <th></th>\n",
       "      <th>Population</th>\n",
       "      <th>Annual Growth Rate (%)</th>\n",
       "      <th>Annual Population Change</th>\n",
       "    </tr>\n",
       "    <tr>\n",
       "      <th>Year</th>\n",
       "      <th></th>\n",
       "      <th></th>\n",
       "      <th></th>\n",
       "    </tr>\n",
       "  </thead>\n",
       "  <tbody>\n",
       "    <tr>\n",
       "      <th>1950-03-31</th>\n",
       "      <td>2.557629e+09</td>\n",
       "      <td>1.459</td>\n",
       "      <td>37311223.0</td>\n",
       "    </tr>\n",
       "    <tr>\n",
       "      <th>1950-06-30</th>\n",
       "      <td>2.557629e+09</td>\n",
       "      <td>1.459</td>\n",
       "      <td>37311223.0</td>\n",
       "    </tr>\n",
       "    <tr>\n",
       "      <th>1950-09-30</th>\n",
       "      <td>2.557629e+09</td>\n",
       "      <td>1.459</td>\n",
       "      <td>37311223.0</td>\n",
       "    </tr>\n",
       "    <tr>\n",
       "      <th>1950-12-31</th>\n",
       "      <td>2.557629e+09</td>\n",
       "      <td>1.459</td>\n",
       "      <td>37311223.0</td>\n",
       "    </tr>\n",
       "    <tr>\n",
       "      <th>1951-03-31</th>\n",
       "      <td>2.594940e+09</td>\n",
       "      <td>1.612</td>\n",
       "      <td>41832429.0</td>\n",
       "    </tr>\n",
       "  </tbody>\n",
       "</table>\n",
       "</div>"
      ],
      "text/plain": [
       "              Population  Annual Growth Rate (%)  Annual Population Change\n",
       "Year                                                                      \n",
       "1950-03-31  2.557629e+09                   1.459                37311223.0\n",
       "1950-06-30  2.557629e+09                   1.459                37311223.0\n",
       "1950-09-30  2.557629e+09                   1.459                37311223.0\n",
       "1950-12-31  2.557629e+09                   1.459                37311223.0\n",
       "1951-03-31  2.594940e+09                   1.612                41832429.0"
      ]
     },
     "execution_count": 40,
     "metadata": {},
     "output_type": "execute_result"
    }
   ],
   "source": [
    "pop_growth.resample('1Q').ffill().head()"
   ]
  },
  {
   "cell_type": "markdown",
   "metadata": {
    "id": "-JmJxyKrYtEe"
   },
   "source": [
    "판다스에서의 시계열 생성은 `Timestamp` 클래스에 기반하고 있습니다."
   ]
  },
  {
   "cell_type": "code",
   "execution_count": 41,
   "metadata": {
    "id": "yyY1NG90YtEe"
   },
   "outputs": [
    {
     "name": "stdout",
     "output_type": "stream",
     "text": [
      "2017-01-08 00:00:00\n",
      "2017-01-08 20:13:00\n",
      "2017-01-08 18:26:40\n"
     ]
    }
   ],
   "source": [
    "print(pd.Timestamp('January 8, 2017'))\n",
    "print(pd.Timestamp('01/08/17 20:13'))\n",
    "print(pd.Timestamp(1.4839*10**18))"
   ]
  },
  {
   "cell_type": "code",
   "execution_count": 42,
   "metadata": {
    "id": "tQcn7cOZYtEe"
   },
   "outputs": [
    {
     "name": "stdout",
     "output_type": "stream",
     "text": [
      "191 days 09:16:00\n"
     ]
    }
   ],
   "source": [
    "print(pd.Timestamp('Feb. 11 2016 2:30 am') - pd.Timestamp('2015-08-03 5:14 pm'))"
   ]
  },
  {
   "cell_type": "code",
   "execution_count": 43,
   "metadata": {
    "id": "XvVopxlcYtEe"
   },
   "outputs": [
    {
     "name": "stdout",
     "output_type": "stream",
     "text": [
      "2017-01-05 00:00:00\n",
      "2017-01-03 00:00:00\n",
      "2017-04-28 00:00:00\n"
     ]
    }
   ],
   "source": [
    "from pandas.tseries.offsets import BDay, Day, BMonthEnd\n",
    "\n",
    "print(pd.Timestamp('January 9, 2017') - Day(4))\n",
    "print(pd.Timestamp('January 9, 2017') - BDay(4))\n",
    "print(pd.Timestamp('January 9, 2017') + BMonthEnd(4))"
   ]
  },
  {
   "cell_type": "markdown",
   "metadata": {
    "id": "knhII_cuYtEe"
   },
   "source": [
    "만약 데이터프레임 상에 시계열 데이터를 입력하기 위해서는, 종종 일련의 날짜 범위를 지정하는 것이 필요합니다."
   ]
  },
  {
   "cell_type": "code",
   "execution_count": 44,
   "metadata": {
    "id": "BRmSJIQQYtEf"
   },
   "outputs": [
    {
     "data": {
      "text/plain": [
       "DatetimeIndex(['2017-01-09', '2017-01-10', '2017-01-11', '2017-01-12',\n",
       "               '2017-01-13', '2017-01-16', '2017-01-17', '2017-01-18',\n",
       "               '2017-01-19', '2017-01-20', '2017-01-23', '2017-01-24',\n",
       "               '2017-01-25', '2017-01-26', '2017-01-27', '2017-01-30',\n",
       "               '2017-01-31', '2017-02-01', '2017-02-02', '2017-02-03',\n",
       "               '2017-02-06', '2017-02-07', '2017-02-08', '2017-02-09',\n",
       "               '2017-02-10', '2017-02-13', '2017-02-14', '2017-02-15',\n",
       "               '2017-02-16', '2017-02-17', '2017-02-20', '2017-02-21',\n",
       "               '2017-02-22', '2017-02-23', '2017-02-24', '2017-02-27',\n",
       "               '2017-02-28', '2017-03-01', '2017-03-02'],\n",
       "              dtype='datetime64[ns]', freq='B')"
      ]
     },
     "execution_count": 44,
     "metadata": {},
     "output_type": "execute_result"
    }
   ],
   "source": [
    "pd.date_range(start='1/8/2017', end='3/2/2017', freq='B')"
   ]
  },
  {
   "cell_type": "markdown",
   "metadata": {
    "id": "qw_mDrImYtEf"
   },
   "source": [
    "이 `Timestamp` 클래스는 파이썬의 `datetime` 모듈과 호환이 가능합니다."
   ]
  },
  {
   "cell_type": "code",
   "execution_count": 45,
   "metadata": {
    "id": "M-8g0bWQYtEf"
   },
   "outputs": [
    {
     "data": {
      "text/plain": [
       "Timedelta('113 days 00:00:00')"
      ]
     },
     "execution_count": 45,
     "metadata": {},
     "output_type": "execute_result"
    }
   ],
   "source": [
    "import datetime\n",
    "\n",
    "pd.Timestamp('May 1, 2017') - datetime.datetime(2017, 1, 8)"
   ]
  },
  {
   "cell_type": "markdown",
   "metadata": {
    "id": "d-L9THz5YtEf"
   },
   "source": [
    "## 판다스를 활용한 데이터 시각화\n",
    "\n",
    "데이터 세트를 시각화하는 것은 통찰력을 얻기 위해 중요한 첫 번째 단계입니다. 시각화를 위해서는 판다스에서 맷플랏립으로 데이터를 쉽게 전달할 수도 있지만, 판다스 자체적으로 `plot` 혹은 `hist` 같은 메서드를 보유하고 있습니다. 우리는 이를 활용해 직접적으로 맷플랏립에 데이터를 연결시킬 수 있습니다."
   ]
  },
  {
   "cell_type": "code",
   "execution_count": 46,
   "metadata": {
    "id": "8ostIheSYtEf"
   },
   "outputs": [],
   "source": [
    "yelp_df['review_count'].apply(np.log).hist(bins=30);"
   ]
  },
  {
   "cell_type": "code",
   "execution_count": 47,
   "metadata": {
    "id": "jubJJ670YtEf"
   },
   "outputs": [
    {
     "data": {
      "image/png": "[encoded data removed]",
      "text/plain": [
       "<Figure size 432x288 with 1 Axes>"
      ]
     },
     "metadata": {
      "needs_background": "light"
     },
     "output_type": "display_data"
    }
   ],
   "source": [
    "pop_growth['Annual Growth Rate (%)'].plot();"
   ]
  },
  {
   "cell_type": "markdown",
   "metadata": {
    "id": "24dchmVhYtEg"
   },
   "source": [
    "시각화 함수들은 결과물 출력을 커스터마이징하기 위해 여러 가지 [패러미터](https://pandas.pydata.org/pandas-docs/stable/generated/pandas.DataFrame.plot.html)를 가지고 있습니다. 그것들은 본질적으로 맷플랏립 함수들을 둘러싸고 있는 래퍼(**wrapper**)이기 때문에 판다스 공식문서에 언급되어 있지 않은 여러 맷플랏립 패러미터들 또한 허용하고 있습니다. 판다스는 데이터프레임으로 다양한 시각화 결과물을 만들기 위한 [가이드](https://pandas.pydata.org/pandas-docs/stable/visualization.html)를 제공합니다."
   ]
  },
  {
   "cell_type": "markdown",
   "metadata": {
    "id": "nTvjoDodYtEg"
   },
   "source": [
    "*Copyright 2021.* 퀀트대디. *This content is licensed solely for personal use. Redistribution or publication of this material is strictly prohibited.*"
   ]
  }
 ],
 "metadata": {
  "colab": {
   "collapsed_sections": [
    "PklgKMzAYtEI",
    "i54uxEciYtEN",
    "8_q5SQX-YtEP",
    "AFgM0qGsYtES",
    "-DLEmYiSYtEU",
    "VDJGnwlDYtEW",
    "v_ulwmtRYtEW",
    "aQ4IXq9qYtEd",
    "d-L9THz5YtEf"
   ],
   "name": "9_Pandas.ipynb",
   "provenance": [
    {
     "file_id": "1K0c2BM5T4n6VyzDJfNnTJ4pkzBjkYifk",
     "timestamp": 1633515796626
    }
   ]
  },
  "kernelspec": {
   "display_name": "Python 3",
   "language": "python",
   "name": "python3"
  },
  "language_info": {
   "codemirror_mode": {
    "name": "ipython",
    "version": 3
   },
   "file_extension": ".py",
   "mimetype": "text/x-python",
   "name": "python",
   "nbconvert_exporter": "python",
   "pygments_lexer": "ipython3",
   "version": "3.7.3"
  },
  "nbclean": true
 },
 "nbformat": 4,
 "nbformat_minor": 1
}
