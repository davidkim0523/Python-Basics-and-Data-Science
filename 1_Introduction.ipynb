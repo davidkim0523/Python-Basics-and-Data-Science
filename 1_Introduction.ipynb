{
  "nbformat": 4,
  "nbformat_minor": 0,
  "metadata": {
    "colab": {
      "name": "PY_1_Intro.ipynb",
      "provenance": [],
      "collapsed_sections": []
    },
    "kernelspec": {
      "display_name": "Python 3",
      "language": "python",
      "name": "python3"
    },
    "language_info": {
      "codemirror_mode": {
        "name": "ipython",
        "version": 3
      },
      "file_extension": ".py",
      "mimetype": "text/x-python",
      "name": "python",
      "nbconvert_exporter": "python",
      "pygments_lexer": "ipython3",
      "version": "3.7.3"
    },
    "nbclean": true
  },
  "cells": [
    {
      "cell_type": "markdown",
      "metadata": {
        "id": "Xw-hJjwDPfne"
      },
      "source": [
        "# 파이썬 프로그래밍 기초와 데이터 과학"
      ]
    },
    {
      "cell_type": "markdown",
      "metadata": {
        "id": "TEMjpjmPPfng"
      },
      "source": [
        "안녕하세요! 퀀트대디입니다.\n",
        "\n",
        "앞으로 우리는 파이썬 프로그래밍과 데이터 과학의 기초에 대해서 학습할 예정입니다. 과정의 제목에서 암시하고 있듯이, 이 과정은 크게 두 부분으로 나뉘어져 있습니다. 우선, 첫번째 파트는 기본적인 파이썬 프로그래밍에 대해서 다룹니다. 그리고 두번째 파트에서는 프로그래밍을 비롯한 데이터 클렌징과 데이터 병합, 여러 데이터 과학 관련 패키지 등 데이터 과학에 필요한 내용들을 다룹니다. \n",
        "\n",
        "기본적인 커리큘럼은 아래의 테이블과 같이 구성되어 있습니다.\n",
        "\n",
        "|챕터|내용|\n",
        "|---|---|\n",
        "|1| 프로그래밍과 파이썬 기초|\n",
        "|2| 데이터 구조 |\n",
        "|3| 알고리즘 |\n",
        "|4| 객체지향형 프로그래밍 |\n",
        "|5| 파이썬 스타일 |\n",
        "|6| 데이터 입력과 출력|\n",
        "|7| 파이썬 데이터 과학 패키지|\n",
        "|8| 데이터 랭글링 |\n",
        "|9| SQL|\n",
        "|10| 파이썬 클래스와 객체 관계 매핑 |"
      ]
    },
    {
      "cell_type": "markdown",
      "metadata": {
        "id": "3nie-wjzPfng"
      },
      "source": [
        "## 학습 플랫폼 : 구글 콜랩 (주피터 노트북)\n",
        "\n",
        "모든 과정은 주피터 노트북으로 진행이 됩니다. 주피터 노트북은 데이터 과학, 특히 탐색적 데이터 과학 영역에서 매우 좋은 도구입니다. 주피터 노트북은 인터렉티브 인터페이스 구조를 취하고 있기 때문에 실제 예제와 코드 블럭을 통해 바로바로 연습 및 훈련이 가능하다는 장점을 가지고 있습니다.\n",
        "\n",
        "주피터 노트북 상의 모든 내용물은 셀($cell$)이라고 부르는 곳에 작성되며, 이 셀은 코드가 실행될 수 있도록 하는 코드셀과 메모를 위한 마크다운셀로 구분됩니다. 셀은 코드가 너무 길 때, 중간에 나누어 테스트를 진행할 때 용이하다는 장점을 가지고 있습니다.\n",
        "\n",
        "웹브라우저 상에서 작성된 코드는 구글 클라우드 서버의 파이썬 커널로 보내지게 되고 해당 코드들이 실행되게 됩니다. 이후 실행의 결과물은 다시 주피터 노트북으로 전송되고, 우리는 이를 주피터 노트북에서 확인할 수 있습니다. 코드가 담겨있는 셀을 실행하고 싶다면 메뉴에 있는 실행 버튼을 클릭하거나, `shift+enter`키를 누르면 됩니다."
      ]
    },
    {
      "cell_type": "markdown",
      "metadata": {
        "id": "Hyg9trLZa3vV"
      },
      "source": [
        "## Hello, World!"
      ]
    },
    {
      "cell_type": "markdown",
      "metadata": {
        "id": "SBf4YYLHa-cz"
      },
      "source": [
        "프로그래밍 학습의 맨 처음 시작은 뭐니뭐니해도 \"Hello, World!\"를 출력해보는 것입니다. 왜 그리 된건지는 모르겠지만 프로그래밍 학습 상의 오랜 관행이 되어버렸습니다. 백문이불여일견이고 불견이불여일타입니다. 그러면 한 번 실제로 파이썬 상에서 \"Hello, World!\"라는 문장을 출력해보겠습니다. 파이썬에서 출력을 담당하고 있는 함수 `print`를 사용하면 됩니다. `print` 함수 뒤의 괄호 안에 출력하고자 하는 대상을 입력해주면 됩니다."
      ]
    },
    {
      "cell_type": "code",
      "metadata": {
        "colab": {
          "base_uri": "https://localhost:8080/"
        },
        "id": "sigImZjDPfnh",
        "outputId": "3a7dc1c3-457e-42ae-fbce-1ea74bc7e890"
      },
      "source": [
        "print('Hello, World!')"
      ],
      "execution_count": null,
      "outputs": [
        {
          "output_type": "stream",
          "name": "stdout",
          "text": [
            "Hello, World!\n"
          ]
        }
      ]
    },
    {
      "cell_type": "markdown",
      "metadata": {
        "id": "IZVH8I4tbnqr"
      },
      "source": [
        "문제없이 \"Hello, World!\"가 출력이 되었습니다! 파이썬 세계에 오신 여러분을 환영합니다!"
      ]
    },
    {
      "cell_type": "markdown",
      "metadata": {
        "id": "uuAS-JJ0D8F2"
      },
      "source": [
        "## 변수 할당 (Variable Assignment)"
      ]
    },
    {
      "cell_type": "markdown",
      "metadata": {
        "id": "zAkW9ZlvMBzK"
      },
      "source": [
        "파이썬을 공부하는데 있어 가장 처음 배워야 하는 것은 바로 변수를 정의하는 일입니다. 변수($Variable$)란 어떤 데이터 혹은 값을 함유하고 있는 컨테이너, 즉 용기라고 생각하시면 직관적으로 이해가 가능합니다. 파이썬에서는 변수를 생성하고 정의할 때 할당($Assign$)한다는 용어를 사용합니다. 특정 값을 특정 변수에 부여하는 행위입니다. 파이썬에서는 할당을 통해 변수를 정의하고자 `=`이라는 기호를 사용합니다. 만약 셀 내에서 어떤 변수를 정의하고 싶다면 우리는 아래와 같이 쓸 수 있습니다. 아래의 코드는 $a$라는 변수에 숫자 $5$라는 값을 할당하겠다라는 의미입니다."
      ]
    },
    {
      "cell_type": "code",
      "metadata": {
        "id": "d3RGe2yxPfnk"
      },
      "source": [
        "a = 5"
      ],
      "execution_count": null,
      "outputs": []
    },
    {
      "cell_type": "markdown",
      "metadata": {
        "id": "Xoo1vVMkPfnk"
      },
      "source": [
        "이제 변수 $a$에는 숫자 $5$라는 값이 들어가 있습니다. 우리는 `print` 함수를 사용해 변수 $a$에 어떤 값이 들어가있는지 확인할 수 있습니다."
      ]
    },
    {
      "cell_type": "code",
      "metadata": {
        "colab": {
          "base_uri": "https://localhost:8080/"
        },
        "id": "xbr2NSxHPfnl",
        "outputId": "caf38633-beb9-45e6-e8f2-8406a5f3b56d"
      },
      "source": [
        "print(a)"
      ],
      "execution_count": null,
      "outputs": [
        {
          "output_type": "stream",
          "name": "stdout",
          "text": [
            "5\n"
          ]
        }
      ]
    },
    {
      "cell_type": "markdown",
      "metadata": {
        "id": "kE1B6SVsdGgr"
      },
      "source": [
        "다음 시간에는 프로그래밍을 프로그래밍답게 만들어주는 기본적인 파이썬 문법구조와 함수에 대해 알아보도록 하겠습니다."
      ]
    },
    {
      "cell_type": "markdown",
      "metadata": {
        "id": "zTKHFcZDPfnm"
      },
      "source": [
        "*Copyright 2021.* 퀀트대디 *This content is licensed solely for personal use. Redistribution or publication of this material is strictly prohibited.*"
      ]
    }
  ]
}