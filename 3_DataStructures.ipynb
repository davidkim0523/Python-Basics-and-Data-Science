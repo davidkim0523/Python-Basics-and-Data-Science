{
  "nbformat": 4,
  "nbformat_minor": 0,
  "metadata": {
    "kernelspec": {
      "display_name": "Python 3",
      "language": "python",
      "name": "python3"
    },
    "language_info": {
      "codemirror_mode": {
        "name": "ipython",
        "version": 3
      },
      "file_extension": ".py",
      "mimetype": "text/x-python",
      "name": "python",
      "nbconvert_exporter": "python",
      "pygments_lexer": "ipython3",
      "version": "3.8.8"
    },
    "nbclean": true,
    "colab": {
      "name": "3_DataStructures.ipynb",
      "provenance": [],
      "collapsed_sections": [
        "aJEUlV0jMsHH",
        "kNzsbxTlMsHN",
        "Z7flNQ1zMsHO",
        "l4DDIraaMsHY",
        "sWJTchuyMsHa"
      ],
      "include_colab_link": true
    }
  },
  "cells": [
    {
      "cell_type": "markdown",
      "metadata": {
        "id": "view-in-github",
        "colab_type": "text"
      },
      "source": [
        "<a href=\"https://colab.research.google.com/github/davidkim0523/Python-Basics-and-Data-Science/blob/main/3_DataStructures.ipynb\" target=\"_parent\"><img src=\"https://colab.research.google.com/assets/colab-badge.svg\" alt=\"Open In Colab\"/></a>"
      ]
    },
    {
      "cell_type": "markdown",
      "metadata": {
        "id": "lEry0K1HMsG4"
      },
      "source": [
        "# 파이썬 데이터 유형과 구조\n",
        "\n",
        "이전 시간에 우리는 변수라는 개념에 대해 살펴보았습니다. 변수는 다양한 종류의 정보들을 담을 수 있는 그릇입니다. 이 변수에는 문자, 숫자, 참과 거짓 등에 대한 값들을 저장할 수 있습니다. 이러한 정보의 형태를 파이썬에서는 `type`이라고 부릅니다."
      ]
    },
    {
      "cell_type": "code",
      "metadata": {
        "id": "sqb9ox8NMsG6",
        "colab": {
          "base_uri": "https://localhost:8080/"
        },
        "outputId": "7793e537-3e3f-4840-c0e7-2e8689729fbe"
      },
      "source": [
        "print(type('some text'))\n",
        "print(type(10))\n",
        "print(type(10.3))\n",
        "print(type(True))"
      ],
      "execution_count": 1,
      "outputs": [
        {
          "output_type": "stream",
          "name": "stdout",
          "text": [
            "<class 'str'>\n",
            "<class 'int'>\n",
            "<class 'float'>\n",
            "<class 'bool'>\n"
          ]
        }
      ]
    },
    {
      "cell_type": "markdown",
      "metadata": {
        "id": "hWlBLOTcMsG8"
      },
      "source": [
        "또한 데이터 모음을 저장하는 데 사용할 수 있는 파이썬 `list`에 대해서도 간략하게 소개했습니다."
      ]
    },
    {
      "cell_type": "code",
      "metadata": {
        "id": "U-hW2iV_MsG8"
      },
      "source": [
        "# an example list\n",
        "beans_recipe = ['Soak beans in water', 'Dissolve salt in water', 'Heat water and beans to boil', \n",
        "                'Drain beans when done cooking']"
      ],
      "execution_count": 2,
      "outputs": []
    },
    {
      "cell_type": "markdown",
      "metadata": {
        "id": "RrNEglw3MsG8"
      },
      "source": [
        "우리는 개별 변수에 정보를 저장할 수도 있지만, 때로는 정보들의 관계 혹은 유사성 때문에 때로는 이 정보들을 그룹화하여 작업하는 것이 필요합니다. 예를 들어, 식료품을 쇼핑하는 경우 구매할 각 항목을 별도의 변수에 저장하거나 모든 항목을 하나의 목록에 저장할 수 있는 식으로 말입니다."
      ]
    },
    {
      "cell_type": "code",
      "metadata": {
        "id": "-IPZ7H0OMsG9"
      },
      "source": [
        "grocery_a = 'chicken'\n",
        "grocery_b = 'onions'\n",
        "grocery_c = 'rice'\n",
        "grocery_d = 'peppers'\n",
        "grocery_e = 'bananas'\n",
        "\n",
        "grocery_list = ['chicken', 'onions', 'rice', 'peppers', 'bananas']"
      ],
      "execution_count": 3,
      "outputs": []
    },
    {
      "cell_type": "markdown",
      "metadata": {
        "id": "fTEY6zS3MsG-"
      },
      "source": [
        "아래의 함수들은 필요한 각 식료품을 \"구매\"하는 간단한 예제 함수들입니다. 그렇다면 아래의 두 함수 중 어떤 접근 방식이 더 유용해보이나요? "
      ]
    },
    {
      "cell_type": "code",
      "metadata": {
        "id": "3NlhAMbXMsG_"
      },
      "source": [
        "def buy_groceries_individual(item_a, item_b, item_c, item_d, item_e):\n",
        "    print('Buying %s...' % item_a)\n",
        "    print('Buying %s...' % item_b)\n",
        "    print('Buying %s...' % item_c)\n",
        "    print('Buying %s...' % item_d)\n",
        "    print('Buying %s...' % item_e)\n",
        "\n",
        "def buy_grocery_list(items):\n",
        "    for item in items:\n",
        "        print('Buying %s...' % item)"
      ],
      "execution_count": 4,
      "outputs": []
    },
    {
      "cell_type": "code",
      "metadata": {
        "id": "8WUSZlPzMsHB",
        "colab": {
          "base_uri": "https://localhost:8080/"
        },
        "outputId": "d3dcc2a9-4fe6-4507-dac0-e4857680c559"
      },
      "source": [
        "buy_groceries_individual(grocery_a, grocery_b, grocery_c, grocery_d, grocery_e)"
      ],
      "execution_count": 5,
      "outputs": [
        {
          "output_type": "stream",
          "name": "stdout",
          "text": [
            "Buying chicken...\n",
            "Buying onions...\n",
            "Buying rice...\n",
            "Buying peppers...\n",
            "Buying bananas...\n"
          ]
        }
      ]
    },
    {
      "cell_type": "code",
      "metadata": {
        "id": "W8YPrxfpMsHD",
        "colab": {
          "base_uri": "https://localhost:8080/"
        },
        "outputId": "9822e2c8-f177-42f1-aba1-c69f62415eee"
      },
      "source": [
        "buy_grocery_list(grocery_list)"
      ],
      "execution_count": 6,
      "outputs": [
        {
          "output_type": "stream",
          "name": "stdout",
          "text": [
            "Buying chicken...\n",
            "Buying onions...\n",
            "Buying rice...\n",
            "Buying peppers...\n",
            "Buying bananas...\n"
          ]
        }
      ]
    },
    {
      "cell_type": "markdown",
      "metadata": {
        "id": "rYjufCw6MsHE"
      },
      "source": [
        "`list`를 사용하면 `for`문을 사용해서 훨씬 더 짧은 함수를 작성할 수 있습니다. 하지만 더 중요한 것은 `buy_grocery_list`가 훨씬 더 유연하다는 점입니다. 5개 품목을 사는 대신 더 많이 또는 더 적게 구매하고 싶다면 어떻게 해야 할까요?"
      ]
    },
    {
      "cell_type": "code",
      "metadata": {
        "id": "qgA9AcooMsHF",
        "colab": {
          "base_uri": "https://localhost:8080/",
          "height": 195
        },
        "outputId": "0674bed8-c1be-45a4-e264-4df80890069a"
      },
      "source": [
        "# let's try to buy just three items\n",
        "buy_groceries_individual(grocery_a, grocery_b, grocery_c)"
      ],
      "execution_count": 8,
      "outputs": [
        {
          "output_type": "error",
          "ename": "TypeError",
          "evalue": "ignored",
          "traceback": [
            "\u001b[0;31m---------------------------------------------------------------------------\u001b[0m",
            "\u001b[0;31mTypeError\u001b[0m                                 Traceback (most recent call last)",
            "\u001b[0;32m<ipython-input-8-1f28489e639e>\u001b[0m in \u001b[0;36m<module>\u001b[0;34m()\u001b[0m\n\u001b[1;32m      1\u001b[0m \u001b[0;31m# let's try to buy just three items\u001b[0m\u001b[0;34m\u001b[0m\u001b[0;34m\u001b[0m\u001b[0;34m\u001b[0m\u001b[0m\n\u001b[0;32m----> 2\u001b[0;31m \u001b[0mbuy_groceries_individual\u001b[0m\u001b[0;34m(\u001b[0m\u001b[0mgrocery_a\u001b[0m\u001b[0;34m,\u001b[0m \u001b[0mgrocery_b\u001b[0m\u001b[0;34m,\u001b[0m \u001b[0mgrocery_c\u001b[0m\u001b[0;34m)\u001b[0m\u001b[0;34m\u001b[0m\u001b[0;34m\u001b[0m\u001b[0m\n\u001b[0m",
            "\u001b[0;31mTypeError\u001b[0m: buy_groceries_individual() missing 2 required positional arguments: 'item_d' and 'item_e'"
          ]
        }
      ]
    },
    {
      "cell_type": "code",
      "metadata": {
        "id": "gQ40sPGsMsHG",
        "colab": {
          "base_uri": "https://localhost:8080/",
          "height": 213
        },
        "outputId": "b55464e7-0e87-4f02-c7f5-f07c614cc62d"
      },
      "source": [
        "grocery_f = 'squash'\n",
        "\n",
        "buy_groceries_individual(grocery_a, grocery_b, grocery_c, grocery_d, grocery_e, grocery_f)"
      ],
      "execution_count": 9,
      "outputs": [
        {
          "output_type": "error",
          "ename": "TypeError",
          "evalue": "ignored",
          "traceback": [
            "\u001b[0;31m---------------------------------------------------------------------------\u001b[0m",
            "\u001b[0;31mTypeError\u001b[0m                                 Traceback (most recent call last)",
            "\u001b[0;32m<ipython-input-9-b46896268d40>\u001b[0m in \u001b[0;36m<module>\u001b[0;34m()\u001b[0m\n\u001b[1;32m      1\u001b[0m \u001b[0mgrocery_f\u001b[0m \u001b[0;34m=\u001b[0m \u001b[0;34m'squash'\u001b[0m\u001b[0;34m\u001b[0m\u001b[0;34m\u001b[0m\u001b[0m\n\u001b[1;32m      2\u001b[0m \u001b[0;34m\u001b[0m\u001b[0m\n\u001b[0;32m----> 3\u001b[0;31m \u001b[0mbuy_groceries_individual\u001b[0m\u001b[0;34m(\u001b[0m\u001b[0mgrocery_a\u001b[0m\u001b[0;34m,\u001b[0m \u001b[0mgrocery_b\u001b[0m\u001b[0;34m,\u001b[0m \u001b[0mgrocery_c\u001b[0m\u001b[0;34m,\u001b[0m \u001b[0mgrocery_d\u001b[0m\u001b[0;34m,\u001b[0m \u001b[0mgrocery_e\u001b[0m\u001b[0;34m,\u001b[0m \u001b[0mgrocery_f\u001b[0m\u001b[0;34m)\u001b[0m\u001b[0;34m\u001b[0m\u001b[0;34m\u001b[0m\u001b[0m\n\u001b[0m",
            "\u001b[0;31mTypeError\u001b[0m: buy_groceries_individual() takes 5 positional arguments but 6 were given"
          ]
        }
      ]
    },
    {
      "cell_type": "markdown",
      "metadata": {
        "id": "kHdp3w5WMsHG"
      },
      "source": [
        "위에서 구현한 `buy_groceries_individual`을 사용하려고 하면 \"정확히 5개의 인수\"가 필요하기 때문에 오류가 발생합니다. 만약 두 번째 경우와 같이 `for`문을 사용한다면 어떤 길이의 리스트에서든지 작동할 수 있기 때문에 `buy_grocery_list`에서는 그 문제가 발생하지 않습니다."
      ]
    },
    {
      "cell_type": "code",
      "metadata": {
        "id": "6ZoaxEzmMsHG",
        "colab": {
          "base_uri": "https://localhost:8080/"
        },
        "outputId": "3bd5c0f8-083a-4ada-8b25-2c1949e158c0"
      },
      "source": [
        "short_grocery_list = ['chicken', 'onions', 'rice']\n",
        "\n",
        "buy_grocery_list(short_grocery_list)"
      ],
      "execution_count": 10,
      "outputs": [
        {
          "output_type": "stream",
          "name": "stdout",
          "text": [
            "Buying chicken...\n",
            "Buying onions...\n",
            "Buying rice...\n"
          ]
        }
      ]
    },
    {
      "cell_type": "code",
      "metadata": {
        "id": "-mOTi4wrMsHG",
        "colab": {
          "base_uri": "https://localhost:8080/"
        },
        "outputId": "82912d33-dcf8-4057-cfee-4aaeb27ec707"
      },
      "source": [
        "long_grocery_list = ['chicken', 'onions', 'rice', 'peppers', 'bananas', 'squash']\n",
        "\n",
        "buy_grocery_list(long_grocery_list)"
      ],
      "execution_count": 11,
      "outputs": [
        {
          "output_type": "stream",
          "name": "stdout",
          "text": [
            "Buying chicken...\n",
            "Buying onions...\n",
            "Buying rice...\n",
            "Buying peppers...\n",
            "Buying bananas...\n",
            "Buying squash...\n"
          ]
        }
      ]
    },
    {
      "cell_type": "markdown",
      "metadata": {
        "id": "aJEUlV0jMsHH"
      },
      "source": [
        "더 짧은 리스트와 더 긴 리스트 두 가지 경우 모두 성공적으로 처리했음을 알 수 있습니다.\n",
        "\n",
        "파이썬에는 컬렉션(**Collections**) 혹은 컨테이너(**Containers**)라는 독특한 개념이 존재합니다. 이 컬렉션 혹은 컨테이너는 복잡한 데이터 문제를 해결하는 데 매우 용이합니다. 파이썬은 여러 가지 유형의 컨테이너를 제공하고 있으며, 앞으로 우리는 차례대로 각각의 컨테이너 종류에 대해 살펴볼 예정입니다. 각각은 특정 작업에 유용한 서로 다른 속성과 구조를 가지고 있습니다. 또한 과정의 후반부에서는 파이썬 사용자들이 직접 개발한 보다 유용하면서 고도로 구조화된 다른 형태의 컨테이너들에 대해서도 학습할 예정입니다.\n",
        "\n",
        "데이터 과학의 영역에서는, 논리적으로 함께 속해 있는 데이터들의 모음을 데이터셋(**data set**)이라고 부르며, 파이썬에 저장하는 데 사용되는 변수의 유형을 데이터 구조(**data structure**)라고 합니다. 이러한 용어는 전체로서의 의미를 나타내는 개별 정보들 간의 관계를 강조하기 위한 것입니다.\n",
        "\n",
        "### 예제\n",
        "\n",
        "1. 어떤 종류의 데이터가 `list`로 자연스럽게 표현될 수 있나요? 또한 `list` 객체들로 구성된 새로운 `list`를 만들 수 있을까요?"
      ]
    },
    {
      "cell_type": "markdown",
      "metadata": {
        "id": "3S1TqsfNMsHH"
      },
      "source": [
        "## 리스트 `list`\n",
        "\n",
        "우리는 리스트에 포함하려는 데이터들에 대해 대괄호 `[]`를 사용하여 리스트를 만들어본 적이 있습니다. 리스트를 생성하기 위해서는 대괄호 안에 값들을 직접 쓰는 방법도 있지만 대신 이미 정의된 변수들을 사용해서 리스트를 생성할 수도 있습니다."
      ]
    },
    {
      "cell_type": "code",
      "metadata": {
        "id": "kjMWf0_JMsHH",
        "colab": {
          "base_uri": "https://localhost:8080/"
        },
        "outputId": "59579272-3850-4234-e79c-f0dba416dadc"
      },
      "source": [
        "grocery_a = 'chicken'\n",
        "grocery_b = 'onions'\n",
        "grocery_c = 'rice'\n",
        "grocery_d = 'peppers'\n",
        "grocery_e = 'bananas'\n",
        "\n",
        "grocery_list = ['chicken', 'onions', 'rice', 'peppers', 'bananas']\n",
        "print(grocery_list)\n",
        "\n",
        "grocery_list = [grocery_a, grocery_b, grocery_c, grocery_d, grocery_e]\n",
        "print(grocery_list)"
      ],
      "execution_count": 12,
      "outputs": [
        {
          "output_type": "stream",
          "name": "stdout",
          "text": [
            "['chicken', 'onions', 'rice', 'peppers', 'bananas']\n",
            "['chicken', 'onions', 'rice', 'peppers', 'bananas']\n"
          ]
        }
      ]
    },
    {
      "cell_type": "markdown",
      "metadata": {
        "id": "mHP_nZK0MsHI"
      },
      "source": [
        "지금까지 우리는 문자열의 `list`(혹은 `range`)에 대해서만 작업을 했습니다. 하지만 리스트에 들어갈 수 있는 데이터 유형은 비단 문자열에만 국한되는 것은 아닙니다. 아래의 예시를 한 번 살펴보겠습니다."
      ]
    },
    {
      "cell_type": "code",
      "metadata": {
        "id": "6OSmz_uxMsHI",
        "colab": {
          "base_uri": "https://localhost:8080/"
        },
        "outputId": "eaf64e69-b855-47ae-e899-002dfad3d61a"
      },
      "source": [
        "int_list = [2, 6, 3049, 18, 37]\n",
        "float_list = [3.7, 8.2, 178.245, 63.1]\n",
        "mixed_list = [26, False, 'some words', 1.264]\n",
        "\n",
        "print(int_list)\n",
        "print(float_list)\n",
        "print(mixed_list)"
      ],
      "execution_count": 32,
      "outputs": [
        {
          "output_type": "stream",
          "name": "stdout",
          "text": [
            "[2, 6, 3049, 18, 37]\n",
            "[3.7, 8.2, 178.245, 63.1]\n",
            "[26, False, 'some words', 1.264]\n"
          ]
        }
      ]
    },
    {
      "cell_type": "markdown",
      "metadata": {
        "id": "gmmeFqwLMsHI"
      },
      "source": [
        "우리는 `list`에 어떠한 `type`의 데이터든지 저장할 수 있습니다. 더불어 우리는 `list` 안에 들어갈 변수로서 `list`를 넣을 수도 있습니다."
      ]
    },
    {
      "cell_type": "code",
      "metadata": {
        "id": "YHWhekZfMsHJ",
        "colab": {
          "base_uri": "https://localhost:8080/"
        },
        "outputId": "241dd758-35c7-4c69-ba32-9a620bdc6459"
      },
      "source": [
        "list_of_lists = [['a', 'list', 'of', 'words'], [1, 5, 209], [True, True, False]]\n",
        "print(list_of_lists)"
      ],
      "execution_count": 33,
      "outputs": [
        {
          "output_type": "stream",
          "name": "stdout",
          "text": [
            "[['a', 'list', 'of', 'words'], [1, 5, 209], [True, True, False]]\n"
          ]
        }
      ]
    },
    {
      "cell_type": "markdown",
      "metadata": {
        "id": "yjwkAxbyMsHJ"
      },
      "source": [
        "리스트를 구성하는 방법이나 리스트에 넣을 내용에 대한 제한은 거의 없습니다. 그렇기 때문에 리스트는 매우 복잡한 중첩 구조(**nested structure**)로 만들어질 수도 있습니다."
      ]
    },
    {
      "cell_type": "code",
      "metadata": {
        "id": "35S46-IxMsHJ",
        "colab": {
          "base_uri": "https://localhost:8080/"
        },
        "outputId": "f8f77a7c-3ce7-409f-f005-a8c8922d5564"
      },
      "source": [
        "confusing_list = [[23, 73, 50], 'some words', 12.308, [[False, True], 'more words']]\n",
        "print(confusing_list)"
      ],
      "execution_count": 15,
      "outputs": [
        {
          "output_type": "stream",
          "name": "stdout",
          "text": [
            "[[23, 73, 50], 'some words', 12.308, [[False, True], 'more words']]\n"
          ]
        }
      ]
    },
    {
      "cell_type": "markdown",
      "metadata": {
        "id": "n9kKSES9MsHJ"
      },
      "source": [
        "파이썬의 `list`는 이질적(**heterogeneous**)입니다. 여기서 이질적이라는 의미는 한 리스트 안에 다양한 유형의 데이터가 들어갈 수 있다는 의미입니다. 이는 파이썬 리스트의 주요 속성 중 하나입니다.\n",
        "\n",
        "또한 우리가 데이터를 `list`에 특정 순서로 넣을 때 `print`하거나, 혹은 `for`문에서 `list`를 사용할 때 데이터가 그 순서대로 유지된다는 것을 눈치채신 분도 있을 겁니다. 이처럼 `list`는 그 순서를 유지(**ordered**)합니다. 이러한 리스트의 특징을 활용해서 리스트의 위치(또는 색인(**index**))을 기반으로 `list`에서 특정 항목을 검색할 수 있습니다."
      ]
    },
    {
      "cell_type": "code",
      "metadata": {
        "id": "dWQRvJd1MsHJ",
        "colab": {
          "base_uri": "https://localhost:8080/"
        },
        "outputId": "e03fab07-2cd4-4d63-875e-ff3a17dfadb7"
      },
      "source": [
        "print(grocery_list)\n",
        "print(grocery_list[2])"
      ],
      "execution_count": 16,
      "outputs": [
        {
          "output_type": "stream",
          "name": "stdout",
          "text": [
            "['chicken', 'onions', 'rice', 'peppers', 'bananas']\n",
            "rice\n"
          ]
        }
      ]
    },
    {
      "cell_type": "markdown",
      "metadata": {
        "id": "G1wYNjNqMsHK"
      },
      "source": [
        "Printing `grocery_list[2]` returned the third item in the list: 'rice'. Why did it return the third item if we asked for the item at index 2? Python `list`s are _zero-indexed_.\n",
        "\n",
        "위의 예시에서 `grocery_list[2]`를 출력하면 리스트의 세 번째 항목인 'rice'가 반환됩니다. 왜 인덱스 2의 항목을 요청했는데, 세 번째 항목을 반환했을까요? 그 이유는 파이썬의 인덱싱이 0부터 시작(**zero-indexed**)하기 때문입니다."
      ]
    },
    {
      "cell_type": "code",
      "metadata": {
        "id": "Hm8XnENVMsHK",
        "colab": {
          "base_uri": "https://localhost:8080/"
        },
        "outputId": "b5b0d4a5-d77a-47e7-fefc-50d1fbed4ecc"
      },
      "source": [
        "print(grocery_list[0])\n",
        "print(grocery_list[1])\n",
        "print(grocery_list[2])"
      ],
      "execution_count": 17,
      "outputs": [
        {
          "output_type": "stream",
          "name": "stdout",
          "text": [
            "chicken\n",
            "onions\n",
            "rice\n"
          ]
        }
      ]
    },
    {
      "cell_type": "markdown",
      "metadata": {
        "id": "lj7rGsZjMsHK"
      },
      "source": [
        "리스트를 슬라이스(**slice**)해서, 즉 잘라서 검색할 수도 있습니다."
      ]
    },
    {
      "cell_type": "code",
      "metadata": {
        "id": "02WVlJCYMsHK",
        "colab": {
          "base_uri": "https://localhost:8080/"
        },
        "outputId": "51d28fd0-33b2-4be8-d20e-1bcdbc8bcb2a"
      },
      "source": [
        "print(grocery_list[1:4])\n",
        "print(grocery_list[3:])\n",
        "print(grocery_list[:3])"
      ],
      "execution_count": 18,
      "outputs": [
        {
          "output_type": "stream",
          "name": "stdout",
          "text": [
            "['onions', 'rice', 'peppers']\n",
            "['peppers', 'bananas']\n",
            "['chicken', 'onions', 'rice']\n"
          ]
        }
      ]
    },
    {
      "cell_type": "markdown",
      "metadata": {
        "id": "HLwk1p95MsHK"
      },
      "source": [
        "파이썬은 또한 음수 인덱싱 구문을 가지고 있어서 처음이 아닌 끝에서부터 리스트에 대해 액세스할 수도 있습니다. 마지막 요소는 `-1`로 인덱싱됩니다."
      ]
    },
    {
      "cell_type": "code",
      "metadata": {
        "id": "xGI529DaMsHK",
        "colab": {
          "base_uri": "https://localhost:8080/"
        },
        "outputId": "a52ebea8-b61e-4a7f-fc33-2276daa3787d"
      },
      "source": [
        "print(grocery_list[-1])\n",
        "print(grocery_list[-3:])"
      ],
      "execution_count": 19,
      "outputs": [
        {
          "output_type": "stream",
          "name": "stdout",
          "text": [
            "bananas\n",
            "['rice', 'peppers', 'bananas']\n"
          ]
        }
      ]
    },
    {
      "cell_type": "markdown",
      "metadata": {
        "id": "Yj42XRuZMsHK"
      },
      "source": [
        "또한 1 이외의 단계 크기를 사용하여 리스트를 슬라이싱할 수도 있습니다. 예를 들어, 리스트의 다른 모든 항목을 슬라이싱하거나 음수 단계를 만들어 리스트를 뒤집을 수도 있습니다."
      ]
    },
    {
      "cell_type": "code",
      "metadata": {
        "id": "Flt8YSU9MsHL",
        "colab": {
          "base_uri": "https://localhost:8080/"
        },
        "outputId": "5700975a-3aa0-4d82-f801-229e8eba9e80"
      },
      "source": [
        "print(grocery_list[::2])\n",
        "print(grocery_list[4:1:-1])"
      ],
      "execution_count": 20,
      "outputs": [
        {
          "output_type": "stream",
          "name": "stdout",
          "text": [
            "['chicken', 'rice', 'bananas']\n",
            "['bananas', 'peppers', 'rice']\n"
          ]
        }
      ]
    },
    {
      "cell_type": "markdown",
      "metadata": {
        "id": "eJi3lUr1MsHL"
      },
      "source": [
        "물론 `for`문을 사용해 리스트에서 정보를 검색할 수도 있습니다."
      ]
    },
    {
      "cell_type": "code",
      "metadata": {
        "id": "EZ0Xr8-lMsHL",
        "colab": {
          "base_uri": "https://localhost:8080/"
        },
        "outputId": "cfd8b40c-6e0c-44a3-f79d-a64e3d0bf02f"
      },
      "source": [
        "for item in grocery_list:\n",
        "    print(item)"
      ],
      "execution_count": 34,
      "outputs": [
        {
          "output_type": "stream",
          "name": "stdout",
          "text": [
            "bananas\n",
            "chicken\n",
            "onions\n",
            "peppers\n",
            "rice\n",
            "squash\n"
          ]
        }
      ]
    },
    {
      "cell_type": "markdown",
      "metadata": {
        "id": "R06yiiQqMsHL"
      },
      "source": [
        "일반적인 경우 우리는 보통 `for item in list` 구문을 사용하지만, 때로는 `for`문을 인덱싱과 결합하기도 합니다. 지난 시간에 사용한 `range` 함수는 이런 경우 유용합니다. 예를 들어, 아래와 같이 리스트에서 짝수 인덱싱의 항목들만을 선택할 수 있습니다."
      ]
    },
    {
      "cell_type": "code",
      "metadata": {
        "id": "KbGyIETzMsHL",
        "colab": {
          "base_uri": "https://localhost:8080/"
        },
        "outputId": "1f2d4e20-83aa-4808-ff3b-11ad2e900ad5"
      },
      "source": [
        "for i in range(0, len(grocery_list), 2):\n",
        "    print(i, grocery_list[i])"
      ],
      "execution_count": 22,
      "outputs": [
        {
          "output_type": "stream",
          "name": "stdout",
          "text": [
            "0 chicken\n",
            "2 rice\n",
            "4 bananas\n"
          ]
        }
      ]
    },
    {
      "cell_type": "markdown",
      "metadata": {
        "id": "e0IBCDS_MsHL"
      },
      "source": [
        "`range` 함수의 세 번째 인수는 단계의 크기이며, 이는 첫 번째 인수와 두 번째 인수 사이의 정수 시퀀스를 반환합니다. 여기서 상한(즉, 두 번째 인수)은 출력에 포함되지 않습니다."
      ]
    },
    {
      "cell_type": "code",
      "metadata": {
        "id": "o853a2vAMsHL",
        "colab": {
          "base_uri": "https://localhost:8080/"
        },
        "outputId": "27c8de18-f6b3-48a0-b12f-55506eaf674c"
      },
      "source": [
        "print(range(0, 10, 3))\n",
        "print(range(104, 100, -1))\n",
        "print(range(5)) # starts at 0 and counts by 1 by default"
      ],
      "execution_count": 23,
      "outputs": [
        {
          "output_type": "stream",
          "name": "stdout",
          "text": [
            "range(0, 10, 3)\n",
            "range(104, 100, -1)\n",
            "range(0, 5)\n"
          ]
        }
      ]
    },
    {
      "cell_type": "markdown",
      "metadata": {
        "id": "wff8xZA-MsHL"
      },
      "source": [
        "또한 인덱싱/슬라이싱을 사용하여 리스트의 항목을 바꿀 수도 있습니다."
      ]
    },
    {
      "cell_type": "code",
      "metadata": {
        "id": "Ht-xwF-ZMsHM",
        "colab": {
          "base_uri": "https://localhost:8080/"
        },
        "outputId": "1fe09c0b-bc2c-4966-966c-d3db9ace87cf"
      },
      "source": [
        "grocery_list = ['chicken', 'onions', 'rice', 'peppers', 'bananas']\n",
        "print(grocery_list)\n",
        "grocery_list[-1] = 'oranges' # replace bananas with oranges\n",
        "print(grocery_list)\n",
        "grocery_list[1:3] = ['carrots', 'couscous'] #replace onions and rice with carrots and couscous\n",
        "print(grocery_list)"
      ],
      "execution_count": 24,
      "outputs": [
        {
          "output_type": "stream",
          "name": "stdout",
          "text": [
            "['chicken', 'onions', 'rice', 'peppers', 'bananas']\n",
            "['chicken', 'onions', 'rice', 'peppers', 'oranges']\n",
            "['chicken', 'carrots', 'couscous', 'peppers', 'oranges']\n"
          ]
        }
      ]
    },
    {
      "cell_type": "markdown",
      "metadata": {
        "id": "XyqQ2FQHMsHM"
      },
      "source": [
        "이처럼 리스트가 생성된 후에도 리스트를 수정할 수 있으므로 우리는 리스트를 수정가능하다(**mutable**)고 부릅니다. 일부 파이썬 데이터 유형은 수정이 불가능한(**immutable**) 경우도 있습니다. 즉, 일단 생성되면 변경할 수 없습니다. 이에 대해서는 나중에 더 많은 데이터 유형들을 소개하면서 더 자세히 살펴보겠습니다.\n",
        "\n",
        "`list`을 변경할 수 있는 또 다른 방법은 새 항목을 추가`append`하는 것입니다."
      ]
    },
    {
      "cell_type": "code",
      "metadata": {
        "id": "vt7InoI8MsHM",
        "colab": {
          "base_uri": "https://localhost:8080/"
        },
        "outputId": "e99a0a61-146e-4adb-ace1-25db7b05187b"
      },
      "source": [
        "grocery_list = ['chicken', 'onions', 'rice', 'peppers', 'bananas']\n",
        "print(grocery_list)\n",
        "grocery_list.append('squash')\n",
        "print(grocery_list)\n",
        "grocery_list.append(['bread', 'salt'])\n",
        "print(grocery_list) # what happened?"
      ],
      "execution_count": 25,
      "outputs": [
        {
          "output_type": "stream",
          "name": "stdout",
          "text": [
            "['chicken', 'onions', 'rice', 'peppers', 'bananas']\n",
            "['chicken', 'onions', 'rice', 'peppers', 'bananas', 'squash']\n",
            "['chicken', 'onions', 'rice', 'peppers', 'bananas', 'squash', ['bread', 'salt']]\n"
          ]
        }
      ]
    },
    {
      "cell_type": "markdown",
      "metadata": {
        "id": "_Z6EIE2CMsHM"
      },
      "source": [
        "리스트에는 리스트가 포함될 수 있으므로 리스트에 여러 항목을 추가할 때는 주의해야 합니다. 리스트의 뒤에 새로운 리스트를 붙이고 싶은 경우에는 `append` 대신 `extend`를 사용해야 합니다."
      ]
    },
    {
      "cell_type": "code",
      "metadata": {
        "id": "8VcDa46mMsHM",
        "colab": {
          "base_uri": "https://localhost:8080/"
        },
        "outputId": "1231e3d1-b258-4c2d-aa07-af72af61106f"
      },
      "source": [
        "grocery_list = ['chicken', 'onions', 'rice', 'peppers', 'bananas', 'squash']\n",
        "print(grocery_list)\n",
        "grocery_list.extend(['bread', 'salt'])\n",
        "print(grocery_list)"
      ],
      "execution_count": 26,
      "outputs": [
        {
          "output_type": "stream",
          "name": "stdout",
          "text": [
            "['chicken', 'onions', 'rice', 'peppers', 'bananas', 'squash']\n",
            "['chicken', 'onions', 'rice', 'peppers', 'bananas', 'squash', 'bread', 'salt']\n"
          ]
        }
      ]
    },
    {
      "cell_type": "markdown",
      "metadata": {
        "id": "Uzym1tTMMsHM"
      },
      "source": [
        "또한 리스트에서 항목을 제거할 수도 있습니다."
      ]
    },
    {
      "cell_type": "code",
      "metadata": {
        "id": "10TJa_a8MsHM",
        "colab": {
          "base_uri": "https://localhost:8080/"
        },
        "outputId": "460670ff-14d3-4311-db1c-850e59ad6cf1"
      },
      "source": [
        "print(grocery_list)\n",
        "del grocery_list[-1] # delete the last item\n",
        "print(grocery_list)"
      ],
      "execution_count": 27,
      "outputs": [
        {
          "output_type": "stream",
          "name": "stdout",
          "text": [
            "['chicken', 'onions', 'rice', 'peppers', 'bananas', 'squash', 'bread', 'salt']\n",
            "['chicken', 'onions', 'rice', 'peppers', 'bananas', 'squash', 'bread']\n"
          ]
        }
      ]
    },
    {
      "cell_type": "code",
      "metadata": {
        "id": "_2AeasrAMsHM",
        "colab": {
          "base_uri": "https://localhost:8080/"
        },
        "outputId": "f727d402-ae31-42da-a649-9d0ca95fca11"
      },
      "source": [
        "print(grocery_list)\n",
        "print(grocery_list.pop(-1)) # remove the last item from the list and return it\n",
        "print(grocery_list)"
      ],
      "execution_count": 28,
      "outputs": [
        {
          "output_type": "stream",
          "name": "stdout",
          "text": [
            "['chicken', 'onions', 'rice', 'peppers', 'bananas', 'squash', 'bread']\n",
            "bread\n",
            "['chicken', 'onions', 'rice', 'peppers', 'bananas', 'squash']\n"
          ]
        }
      ]
    },
    {
      "cell_type": "markdown",
      "metadata": {
        "id": "l2jVg5jFMsHN"
      },
      "source": [
        "리스트를 변경할 수 있는 또 다른 방법은 정렬을 하는 것입니다."
      ]
    },
    {
      "cell_type": "code",
      "metadata": {
        "id": "dy7pdduiMsHN",
        "colab": {
          "base_uri": "https://localhost:8080/"
        },
        "outputId": "a68647d1-0070-4134-9955-392e12811f16"
      },
      "source": [
        "grocery_list.sort()\n",
        "print(grocery_list)"
      ],
      "execution_count": 29,
      "outputs": [
        {
          "output_type": "stream",
          "name": "stdout",
          "text": [
            "['bananas', 'chicken', 'onions', 'peppers', 'rice', 'squash']\n"
          ]
        }
      ]
    },
    {
      "cell_type": "markdown",
      "metadata": {
        "id": "QSh276pgMsHN"
      },
      "source": [
        "정리하자면 파이썬 `list`의 세 가지 주요 속성은 1) 순서가 지정되고, 2) 이질적이며, 3) 변경이 가능하다는 것입니다. 이질적이고 변경이 가능하기 때문에 `list`는 매우 유연합니다. `list`에 대한 변경 사항은 매우 예측할 수 없기 때문에 항상 주의해야 합니다. 부지불식간에 코드가 손상되거나 데이터가 소실될 수 있기 때문입니다."
      ]
    },
    {
      "cell_type": "markdown",
      "metadata": {
        "id": "kNzsbxTlMsHN"
      },
      "source": [
        "### 예제\n",
        "\n",
        "1. 10개의 값을 가지고 있는 리스트를 생성한 후, 마지막 두 개의 값을 선택하세요.\n",
        "2. 1번에서 생성한 리스트를 가지고, 짝수 인덱싱(`0`, `2`, `4`...)에 대한 항목들만을 선택하세요.\n",
        "3. 홀수 인덱싱(`1`, `3`, `5`...)에 대한 항목들만을 선택하세요."
      ]
    },
    {
      "cell_type": "markdown",
      "metadata": {
        "id": "fZfrDx_HMsHN"
      },
      "source": [
        "### Gotcha (Names)\n",
        "Variables and names are not the same thing in python.  For instance, run the following code"
      ]
    },
    {
      "cell_type": "code",
      "metadata": {
        "id": "un1GHhE1MsHN",
        "colab": {
          "base_uri": "https://localhost:8080/"
        },
        "outputId": "aa2b1a1d-25c2-47b7-9484-0cc38cec0fb2"
      },
      "source": [
        "a = 4\n",
        "b = a\n",
        "print(a, b)\n",
        "a = 5\n",
        "print(a, b)"
      ],
      "execution_count": 30,
      "outputs": [
        {
          "output_type": "stream",
          "name": "stdout",
          "text": [
            "4 4\n",
            "5 4\n"
          ]
        }
      ]
    },
    {
      "cell_type": "markdown",
      "metadata": {
        "id": "NULhGRLVMsHN"
      },
      "source": [
        "Here we assigned the name `a` to the value 4 and then `b` to be equal to `a`.  But, `b` does not point to `a`, it points to the variable that has the name `a`.  Thus, assigning the name `b` to the value of `a` does not cause the value of `b` to change when the value of `a` changes.\n",
        "\n",
        "Lets see another example, here we will make use of a Python `list`.  We will go over more about lists in the next lecture, for now, think of it as an ordered collection of Python variables (technically objects).  In this case, we will do exactly what we did before, but instead of modifying where `a` points, we will modify the object to which it points.  In this case, we will see that `b` does in fact change.  This is because they are both pointing to the same variable in memory!"
      ]
    },
    {
      "cell_type": "code",
      "metadata": {
        "id": "8aAZQg2YMsHO",
        "colab": {
          "base_uri": "https://localhost:8080/"
        },
        "outputId": "c78522b7-4a76-4f62-e6db-ee1f5b8bb026"
      },
      "source": [
        "a = [3, 2, 1]\n",
        "b = a\n",
        "print(a, b)\n",
        "a[1] = 5\n",
        "print(a, b)"
      ],
      "execution_count": 31,
      "outputs": [
        {
          "output_type": "stream",
          "name": "stdout",
          "text": [
            "[3, 2, 1] [3, 2, 1]\n",
            "[3, 5, 1] [3, 5, 1]\n"
          ]
        }
      ]
    },
    {
      "cell_type": "markdown",
      "metadata": {
        "id": "Z7flNQ1zMsHO"
      },
      "source": [
        "### Exercises\n",
        "\n",
        "1. Explain the difference between a name and a variable."
      ]
    },
    {
      "cell_type": "markdown",
      "metadata": {
        "id": "pDAXpImwMsHO"
      },
      "source": [
        "## 튜플 `tuple`\n",
        "\n",
        "파이썬에서 `tuple`은 `list`와 매우 유사하지만 한 가지 차이점이 있습니다. 바로 값들을 변경할 수 없다(**immutable**)는 점입니다. `tuple`을 만들기 위해서는 괄호 `()`를 사용합니다."
      ]
    },
    {
      "cell_type": "code",
      "metadata": {
        "id": "I0URKyELMsHO",
        "outputId": "527365b9-f00c-4f9a-d93a-2b8d49f2c5dd"
      },
      "source": [
        "example_tuple = ('Dylan', 26, 167.6, True)\n",
        "print(example_tuple)"
      ],
      "execution_count": null,
      "outputs": [
        {
          "name": "stdout",
          "output_type": "stream",
          "text": [
            "('Dylan', 26, 167.6, True)\n"
          ]
        }
      ]
    },
    {
      "cell_type": "markdown",
      "metadata": {
        "id": "grnfLXJ6MsHO"
      },
      "source": [
        "`tuple`은 순서가 있기 때문에 리스트와 마찬가지로 인덱싱을 통해 데이터를 검색할 수 있지만 수정을 할 수는 없습니다."
      ]
    },
    {
      "cell_type": "code",
      "metadata": {
        "id": "aAbD4cCmMsHO",
        "outputId": "05d0edef-801f-4464-8fe6-38dcd2453a00"
      },
      "source": [
        "print(example_tuple[2])"
      ],
      "execution_count": null,
      "outputs": [
        {
          "name": "stdout",
          "output_type": "stream",
          "text": [
            "167.6\n"
          ]
        }
      ]
    },
    {
      "cell_type": "code",
      "metadata": {
        "id": "F59bsDtDMsHP",
        "outputId": "c45d7202-c23c-4e81-d860-08c6a9ed879e"
      },
      "source": [
        "%%expect_exception TypeError\n",
        "\n",
        "\n",
        "example_tuple[2] = 169.3"
      ],
      "execution_count": null,
      "outputs": [
        {
          "name": "stdout",
          "output_type": "stream",
          "text": [
            "\u001b[0;31m---------------------------------------------------------------------------\u001b[0m\n",
            "\u001b[0;31mTypeError\u001b[0m                                 Traceback (most recent call last)\n",
            "\u001b[0;32m<ipython-input-52-62af095bd202>\u001b[0m in \u001b[0;36m<module>\u001b[0;34m\u001b[0m\n",
            "\u001b[0;32m----> 1\u001b[0;31m \u001b[0mexample_tuple\u001b[0m\u001b[0;34m[\u001b[0m\u001b[0;36m2\u001b[0m\u001b[0;34m]\u001b[0m \u001b[0;34m=\u001b[0m \u001b[0;36m169.3\u001b[0m\u001b[0;34m\u001b[0m\u001b[0;34m\u001b[0m\u001b[0m\n",
            "\u001b[0m\n",
            "\u001b[0;31mTypeError\u001b[0m: 'tuple' object does not support item assignment\n"
          ]
        }
      ]
    },
    {
      "cell_type": "code",
      "metadata": {
        "id": "PEYAyvOGMsHP",
        "outputId": "239cabe4-aed1-419e-ccf6-bb2e09e84b3f"
      },
      "source": [
        "%%expect_exception TypeError\n",
        "\n",
        "# deletion also fails\n",
        "del example_tuple[-1]"
      ],
      "execution_count": null,
      "outputs": [
        {
          "name": "stdout",
          "output_type": "stream",
          "text": [
            "\u001b[0;31m---------------------------------------------------------------------------\u001b[0m\n",
            "\u001b[0;31mTypeError\u001b[0m                                 Traceback (most recent call last)\n",
            "\u001b[0;32m<ipython-input-53-9cec4ba6481b>\u001b[0m in \u001b[0;36m<module>\u001b[0;34m\u001b[0m\n",
            "\u001b[1;32m      1\u001b[0m \u001b[0;31m# deletion also fails\u001b[0m\u001b[0;34m\u001b[0m\u001b[0;34m\u001b[0m\u001b[0;34m\u001b[0m\u001b[0m\n",
            "\u001b[0;32m----> 2\u001b[0;31m \u001b[0;32mdel\u001b[0m \u001b[0mexample_tuple\u001b[0m\u001b[0;34m[\u001b[0m\u001b[0;34m-\u001b[0m\u001b[0;36m1\u001b[0m\u001b[0;34m]\u001b[0m\u001b[0;34m\u001b[0m\u001b[0;34m\u001b[0m\u001b[0m\n",
            "\u001b[0m\n",
            "\u001b[0;31mTypeError\u001b[0m: 'tuple' object doesn't support item deletion\n"
          ]
        }
      ]
    },
    {
      "cell_type": "markdown",
      "metadata": {
        "id": "mLzpRCIFMsHP"
      },
      "source": [
        "명확성을 위해 튜플을 만들기 위해서는 보통 `()`를 사용하지만, 파이썬은 쉼표로 구분된 값을 묶기 위해 기호를 사용하지 않는 경우에도 `tupel`을 원한다고 가정합니다."
      ]
    },
    {
      "cell_type": "code",
      "metadata": {
        "id": "pB1Xe0jeMsHP",
        "outputId": "ecfc5826-767d-4b2c-c7df-41e48393949e"
      },
      "source": [
        "another_example_tuple = 'Jill', 36, 162.3, True\n",
        "print(another_example_tuple)\n",
        "print(type(another_example_tuple))"
      ],
      "execution_count": null,
      "outputs": [
        {
          "name": "stdout",
          "output_type": "stream",
          "text": [
            "('Jill', 36, 162.3, True)\n",
            "<class 'tuple'>\n"
          ]
        }
      ]
    },
    {
      "cell_type": "markdown",
      "metadata": {
        "id": "dY9qPda2MsHQ"
      },
      "source": [
        "이러한 암시적 `tuple`은 여러 출력값들을 반환하는 함수로 작업할 때 가장 자주 나타납니다. 예를 들어, 아래와 같이 문자열의 첫 글자와 마지막 글자를 반환하는 함수가 있을 수 있습니다."
      ]
    },
    {
      "cell_type": "code",
      "metadata": {
        "id": "J02m99fuMsHQ",
        "outputId": "fcc23fb0-4a66-4a3b-cbaf-8e42b43d2049"
      },
      "source": [
        "def first_last(s):\n",
        "    return s[0], s[-1]\n",
        "\n",
        "chars = first_last('hello!')\n",
        "print(chars)"
      ],
      "execution_count": null,
      "outputs": [
        {
          "name": "stdout",
          "output_type": "stream",
          "text": [
            "('h', '!')\n"
          ]
        }
      ]
    },
    {
      "cell_type": "markdown",
      "metadata": {
        "id": "KVqoLrmMMsHS"
      },
      "source": [
        "이러한 경우, 여러 출력값들을 별도의 변수에 저장하고 싶을 때가 있습니다."
      ]
    },
    {
      "cell_type": "code",
      "metadata": {
        "id": "J6uOnC_MMsHT",
        "outputId": "28eb7c4d-c1bb-4b23-a38b-91b863ab55e7"
      },
      "source": [
        "first_char, last_char = first_last('hello!')\n",
        "\n",
        "print(first_char)\n",
        "print(last_char)"
      ],
      "execution_count": null,
      "outputs": [
        {
          "name": "stdout",
          "output_type": "stream",
          "text": [
            "h\n",
            "!\n"
          ]
        }
      ]
    },
    {
      "cell_type": "markdown",
      "metadata": {
        "id": "pvv_o0FxMsHU"
      },
      "source": [
        "우리는 이러한 구문을 언패킹(**unpacking**)이라고 합니다. 함수에 의해 반환되었는지 여부와 관계없이 모든 `tuple`과 함께 사용할 수 있습니다."
      ]
    },
    {
      "cell_type": "code",
      "metadata": {
        "id": "tgndquGJMsHV",
        "outputId": "0946e6a1-cdc6-4cb9-ec9d-62a08f2dd1ba"
      },
      "source": [
        "name, age, height, has_dog = example_tuple\n",
        "\n",
        "print(name)\n",
        "print(age)\n",
        "print(height)\n",
        "print(has_dog)"
      ],
      "execution_count": null,
      "outputs": [
        {
          "name": "stdout",
          "output_type": "stream",
          "text": [
            "Dylan\n",
            "26\n",
            "167.6\n",
            "True\n"
          ]
        }
      ]
    },
    {
      "cell_type": "markdown",
      "metadata": {
        "id": "ulbYUp2aMsHV"
      },
      "source": [
        "정리하자면, 파이썬의 리스트와 튜플은 모두 순서가 있고 이질적입니다. 그러나 리스트와 달리 튜플은 변경할 수 없으므로 생성된 후에는 수정할 수 없습니다. 따라서 리스트는 할 일 목록과 같이 프로그램 과정에서 변경될 것으로 예상되는 데이터를 나타내는 데 더 적합할 수 있고, 반면 튜플은 설문조사에 대한 개별 피험자의 응답과 같이 고정될 것으로 예상되는 데이터를 나타내는 데 더 나을 수 있습니다.\n",
        "\n",
        "그런데 사람들이 불변성, 특히 튜플에 대해 저지르는 일반적인 실수 중 하나는 튜플이 변경되지 않기 때문에 튜플 내부의 데이터 구조가 변경되지 않는다고 가정하는 것입니다. 아래의 예시를 한 번 보겠습니다."
      ]
    },
    {
      "cell_type": "code",
      "metadata": {
        "id": "LS5uRAsaMsHV",
        "outputId": "84334583-ea26-426c-e72e-9beff60e60f0"
      },
      "source": [
        "tup = tuple([[], 'a'])\n",
        "print(tup)\n",
        "tup[0].append(1)\n",
        "print(tup)"
      ],
      "execution_count": null,
      "outputs": [
        {
          "name": "stdout",
          "output_type": "stream",
          "text": [
            "([], 'a')\n",
            "([1], 'a')\n"
          ]
        }
      ]
    },
    {
      "cell_type": "markdown",
      "metadata": {
        "id": "uQaf3lQoMsHV"
      },
      "source": [
        "비록 튜플 자체가 변경이 불가능하더라도, 튜플에 1차적으로 포함된 객체를 변경할 수 없는 것이지, 해당 객체 내부에 포함되어 있는 데이터는 변경이 가능합니다. 그렇기 때문에 변경 가능성이 나타나는 모든 곳에서와 마찬가지로 이를 위해서는 프로그래머가 주의를 기울여야 하며, 튜플 내부는 무조건 데이터 수정이 불가할 것이라고 가정하지는 말아야 합니다."
      ]
    },
    {
      "cell_type": "markdown",
      "metadata": {
        "id": "aXNYDNGQMsHV"
      },
      "source": [
        "## 집합 `set`\n",
        "\n",
        "파이썬의 `set`은 정렬되지 않는다는 점을 제외하면 `list`와도 유사합니다. 그런데 이질적인 데이터를 저장할 수 있고 변경 가능하지만 정렬되지 않는다는 것은 구체적으로 어떤 형태를 의미할까요? 가장 간단한 설명은 단순한 예시를 보는 것입니다. 우리는 중괄호 `{}`로 데이터를 묶어 집합을 생성할 수 있습니다."
      ]
    },
    {
      "cell_type": "code",
      "metadata": {
        "id": "bNmDJz4zMsHW",
        "outputId": "a117ca50-4926-47ed-bdb6-2ce9a17e2316"
      },
      "source": [
        "example_set = {'Dylan', 26, 167.6, True}\n",
        "print(example_set)"
      ],
      "execution_count": null,
      "outputs": [
        {
          "name": "stdout",
          "output_type": "stream",
          "text": [
            "{'Dylan', 26, True, 167.6}\n"
          ]
        }
      ]
    },
    {
      "cell_type": "markdown",
      "metadata": {
        "id": "76058-waMsHW"
      },
      "source": [
        "데이터를 한 순서로 입력했는데도 `set`이 다른 순서로 출력되었습니다. 더 중요한 것은 `set`을 인덱싱하거나 슬라이스할 수 없다는 것입니다."
      ]
    },
    {
      "cell_type": "code",
      "metadata": {
        "id": "f1Mi6XHXMsHW",
        "outputId": "69a7870d-584f-42db-f37b-ec30461c47d5"
      },
      "source": [
        "%%expect_exception TypeError\n",
        "\n",
        "print(example_set[0])"
      ],
      "execution_count": null,
      "outputs": [
        {
          "name": "stdout",
          "output_type": "stream",
          "text": [
            "\u001b[0;31m---------------------------------------------------------------------------\u001b[0m\n",
            "\u001b[0;31mTypeError\u001b[0m                                 Traceback (most recent call last)\n",
            "\u001b[0;32m<ipython-input-66-596300dfb6f7>\u001b[0m in \u001b[0;36m<module>\u001b[0;34m\u001b[0m\n",
            "\u001b[0;32m----> 1\u001b[0;31m \u001b[0mprint\u001b[0m\u001b[0;34m(\u001b[0m\u001b[0mexample_set\u001b[0m\u001b[0;34m[\u001b[0m\u001b[0;36m0\u001b[0m\u001b[0;34m]\u001b[0m\u001b[0;34m)\u001b[0m\u001b[0;34m\u001b[0m\u001b[0;34m\u001b[0m\u001b[0m\n",
            "\u001b[0m\n",
            "\u001b[0;31mTypeError\u001b[0m: 'set' object is not subscriptable\n"
          ]
        }
      ]
    },
    {
      "cell_type": "markdown",
      "metadata": {
        "id": "3irE97LCMsHW"
      },
      "source": [
        "하지만 우리는 여전히 집합에서 항목을 추가하고 삭제할 수 있습니다."
      ]
    },
    {
      "cell_type": "code",
      "metadata": {
        "id": "rRkj5T8PMsHW",
        "outputId": "ad72e532-ed57-473c-bde6-4952402f8523"
      },
      "source": [
        "print(example_set)\n",
        "print(example_set.pop())\n",
        "print(example_set)"
      ],
      "execution_count": null,
      "outputs": [
        {
          "name": "stdout",
          "output_type": "stream",
          "text": [
            "{'Dylan', 26, True, 167.6}\n",
            "Dylan\n",
            "{26, True, 167.6}\n"
          ]
        }
      ]
    },
    {
      "cell_type": "code",
      "metadata": {
        "id": "xSsu4bxiMsHW",
        "outputId": "38dbf3a4-9380-420a-9ba3-0df377090b94"
      },
      "source": [
        "example_set.add('True')\n",
        "print(example_set)\n",
        "example_set.update([58.1, 'brown'])\n",
        "print(example_set)"
      ],
      "execution_count": null,
      "outputs": [
        {
          "name": "stdout",
          "output_type": "stream",
          "text": [
            "{True, 'True', 167.6, 26}\n",
            "{True, 'True', 58.1, 167.6, 'brown', 26}\n"
          ]
        }
      ]
    },
    {
      "cell_type": "markdown",
      "metadata": {
        "id": "Kx0iW7uhMsHW"
      },
      "source": [
        "`set`의 `add` 메소드는 `list`의 `append` 메소드와 유사하게 작동합니다. 또한 `set`의 `update` 메소드는 `list`의 `extend` 메소드와 유사하게 작동합니다.\n",
        "\n",
        "그렇다면 왜 집합이라는 것이 유용할까요?\n",
        "_**Why is `set` useful?**_\n",
        "\n",
        "It seems strange that we might want an _unordered_ data structure. We can't access or modify the data through indexing. How does giving up order benefit us? The answer is that it gives us flexibility about how the data is stored in memory, and that flexibility can make data retrieval much faster.\n",
        "\n",
        "순서가 없는(**unordered**) 데이터 구조를 원한다는 것은 좀 이상해 보입니다. 왜냐하면 인덱싱을 통해 데이터에 액세스하거나 수정할 수 없기 때문입니다. 이러한 기능들을 포기하는 것에 과연 어떤 이점이 있을까요? 이에 대한 대답은 데이터가 메모리에 저장되는 방식에 대한 유연성을 제공하고, 이러한 유연성으로 말미암아 데이터 검색이 훨씬 빨라질 수 있다는 것입니다.\n",
        "\n",
        "만약에 열 개의 상자와 열 개의 돈 더미가 있다고 상상해보겠습니다. 우리는 열 개의 상자에 열 개의 돈 더미를 넣었습니다. 이제 \\$5.37이 들어 있는 상자를 찾고 싶다고 가정해 보겠습니다. 우리는 이것이 어떤 상자인지 모르므로 당연히 첫 번째 상자부터 확인할 것입니다. 첫 번째 상자에 없으면 두 번째 상자로 넘어갑니다. 우리는 그것을 찾을 때까지 상자를 계속 확인합니다. 당연히 시간이 좀 걸릴 수 있습니다.\n",
        "\n",
        "![list_illustration](https://drive.google.com/uc?export=view&id=13TUDVldg1eLVOjTpmW5a29v7ycuBE_T3)\n",
        "\n",
        "\n",
        "\n",
        "그런데 이제 우리에게 같은 10개의 돈 더미가 있지만 31개의 상자가 있다고 상상해 보십시오. 우리는 각 더미를 상자에 순서대로 넣는 대신 더미에 있는 돈의 양에 따라 각 더미를 상자에 넣습니다. 그러기 위해서는 먼저 금액에 100을 곱한 다음 계수를 31로 나눕니다. 이것은 우리가 돈 더미를 넣어야 하는 상자의 수를 나타냅니다."
      ]
    },
    {
      "cell_type": "code",
      "metadata": {
        "id": "_KERqE_QMsHX"
      },
      "source": [
        "piles = [2.83, 8.23, 9.38, 10.23, 25.58, 0.42, 5.37, 28.10, 32.14, 7.31]"
      ],
      "execution_count": null,
      "outputs": []
    },
    {
      "cell_type": "code",
      "metadata": {
        "id": "EdONz5WCMsHX"
      },
      "source": [
        "def hash_function(x):\n",
        "    return int(x*100 % 31)"
      ],
      "execution_count": null,
      "outputs": []
    },
    {
      "cell_type": "code",
      "metadata": {
        "id": "GMj7i6_8MsHX",
        "outputId": "0392835b-c150-4360-d36a-f827fbb41ccd"
      },
      "source": [
        "[hash_function(pile) for pile in piles]"
      ],
      "execution_count": null,
      "outputs": [
        {
          "data": {
            "text/plain": [
              "[4, 17, 8, 0, 16, 11, 10, 20, 21, 18]"
            ]
          },
          "execution_count": 71,
          "metadata": {},
          "output_type": "execute_result"
        }
      ]
    },
    {
      "cell_type": "markdown",
      "metadata": {
        "id": "BKX3cet0MsHX"
      },
      "source": [
        "이제 \\$5.37이 들어 있는 상자를 찾고 싶다고 가정해 보겠습니다. 우리는 순서대로 상자를 탐색할 필요가 없습니다. 아래와 같이 계산할 수 있기 때문입니다."
      ]
    },
    {
      "cell_type": "code",
      "metadata": {
        "id": "27b3qpZsMsHX",
        "outputId": "1921c56d-edca-4c13-8790-1fa6703f196f"
      },
      "source": [
        "print(int(5.37 * 100 % 31))"
      ],
      "execution_count": null,
      "outputs": [
        {
          "name": "stdout",
          "output_type": "stream",
          "text": [
            "10\n"
          ]
        }
      ]
    },
    {
      "cell_type": "markdown",
      "metadata": {
        "id": "_5heLFNGMsHX"
      },
      "source": [
        "![hash_illustration](https://drive.google.com/uc?export=view&id=13cRCNxH4EqeYtzRCPF2BydNa5_sNf8m9)\n",
        "\n",
        "상자 번호 10에는 \\$5.37 더미가 들어 있습니다.\n",
        "\n",
        "포함된 개체를 기반으로 상자(즉, 메모리)를 할당하는 이 기술을 우리는 해싱(**hashig**)이라고 합니다. 이는 그림에서 볼 수 있듯이 데이터 검색을 매우 빠르게 만들지만, 더 많은 상자가 필요하기 때문에 메모리 할당을 증가시키는 대가를 치르게 됩니다. 또한 메모리에 저장되어 있는 객체에 순서를 지정할 수 없게 됩니다.\n",
        "\n",
        "해싱은 또한 `set`에 두 가지 주요 제한 사항을 부여합니다. 우선 `set`의 객체는 변경할 수 없어야 합니다. 개체가 변경되면 메모리에서의 위치가 더 이상 해시(**hash**)와 일치하지 않게 되기 때문입니다. 둘째, `set`의 객체는 고유해야 합니다. 동일한 객체는 동일한 해시로 끝납니다. 동일한 메모리 청크에 여러 개체를 저장할 수 없으므로 중복된 항목은 버려지게 됩니다.\n",
        "\n",
        "이 두 번째 제한은 `set`을 사용하여 `list` 또는 `tuple`의 고유한 객체를 쉽게 확인할 수 있게 만들어줍니다."
      ]
    },
    {
      "cell_type": "code",
      "metadata": {
        "id": "EBjVXaLtMsHY",
        "outputId": "8e474010-4f88-4f60-932e-a148d6dfec8f"
      },
      "source": [
        "print(set([23, 609, 348, 10, 5, 23, 340, 82]))\n",
        "print(set(('a', 'b', 'q', 'c', 'c', 'd', 'r', 'a')))"
      ],
      "execution_count": null,
      "outputs": [
        {
          "name": "stdout",
          "output_type": "stream",
          "text": [
            "{609, 5, 10, 82, 340, 23, 348}\n",
            "{'q', 'a', 'c', 'd', 'b', 'r'}\n"
          ]
        }
      ]
    },
    {
      "cell_type": "markdown",
      "metadata": {
        "id": "Qa5rS2RxMsHY"
      },
      "source": [
        "집합에서 데이터를 검색하는 것은 매우 간단하기 때문에 데이터 컬렉션 간의 비교에도 매우 유용합니다."
      ]
    },
    {
      "cell_type": "code",
      "metadata": {
        "id": "clo6kDrkMsHY",
        "outputId": "7c7449be-b630-4824-9c4d-9d1c3ab827e7"
      },
      "source": [
        "student_a_courses = {'history', 'english', 'biology', 'theatre'}\n",
        "student_b_courses = {'biology', 'english', 'mathematics', 'computer science'}\n",
        "\n",
        "print(student_a_courses.intersection(student_b_courses))\n",
        "print(student_a_courses.union(student_b_courses))\n",
        "print(student_a_courses.difference(student_b_courses))\n",
        "print(student_b_courses.difference(student_a_courses))\n",
        "print(student_a_courses.symmetric_difference(student_b_courses))"
      ],
      "execution_count": null,
      "outputs": [
        {
          "name": "stdout",
          "output_type": "stream",
          "text": [
            "{'biology', 'english'}\n",
            "{'mathematics', 'biology', 'computer science', 'english', 'history', 'theatre'}\n",
            "{'theatre', 'history'}\n",
            "{'mathematics', 'computer science'}\n",
            "{'mathematics', 'computer science', 'history', 'theatre'}\n"
          ]
        }
      ]
    },
    {
      "cell_type": "markdown",
      "metadata": {
        "id": "l4DDIraaMsHY"
      },
      "source": [
        "![set_operations](https://drive.google.com/uc?export=view&id=13NzBdCpTcbIJxWQnc7B7GfOAU71TcuQE)\n",
        "\n",
        "### 예제\n",
        "\n",
        "1. 언제 리스트 대신 집합을 사용해야 할까요?\n",
        "2. 집합이 해결채깅 될 수 있는 문제의 예시로는 어떤 것이 있을까요?"
      ]
    },
    {
      "cell_type": "markdown",
      "metadata": {
        "id": "SiMu9FWOMsHY"
      },
      "source": [
        "# 딕셔너리 `dict`\n",
        "\n",
        "파이썬의 `dict`를 이해하기 위해서 우선 파이썬의 `list`에서부터 다시 출발을 해보도록 하겠습니다."
      ]
    },
    {
      "cell_type": "code",
      "metadata": {
        "id": "j7uaeRjrMsHZ"
      },
      "source": [
        "me = ['QuantDaddy', 31, 'Male', 'Korea', 'Black', 'Black', False]"
      ],
      "execution_count": 57,
      "outputs": []
    },
    {
      "cell_type": "markdown",
      "metadata": {
        "id": "6YE31f5gMsHZ"
      },
      "source": [
        "위의 리스트는 저에 대해 설명을 하고 있습니다. 구체적으로 이름과 나이, 성별, 국적, 머리 색깔, 눈 색깔, 고양이를 키우는지 여부입니다. 우리는 인덱스별로 이 정보에 개별적인 접근이 가능하다는 것을 이미 알고 있습니다."
      ]
    },
    {
      "cell_type": "code",
      "metadata": {
        "id": "kxtA7uX9MsHZ",
        "colab": {
          "base_uri": "https://localhost:8080/"
        },
        "outputId": "34c345a1-a0c6-4f9d-af24-9dc94b60f6d1"
      },
      "source": [
        "print('My name is %s' % me[0])\n",
        "print('I have %s hair' % me[4])"
      ],
      "execution_count": 58,
      "outputs": [
        {
          "output_type": "stream",
          "name": "stdout",
          "text": [
            "My name is QuantDaddy\n",
            "I have Black hair\n"
          ]
        }
      ]
    },
    {
      "cell_type": "markdown",
      "metadata": {
        "id": "FfV7HcFBMsHZ"
      },
      "source": [
        "그런데 한 가지 문제가 있습니다. 어떤 데이터가 어떤 데이터인지, 예를 들어 어떤 검은색이 머리색이고 어떤 검은색이 눈 색깔인지 구별이 잘 안 간다는 것입니다. 또한 우리가 원하는 정보가 어디에 위치해 있는지 분간이 잘 안 가기도 합니다. 예를 들어, 나이를 찾기 위해서는 언제나 구체적인 인덱스의 값을 외우고 있어야만 합니다.\n",
        "\n",
        "이러한 문제를 해결하기 위해 더 나은 솔루션을 생각해볼 수 있습니다. 바로 의미 있는 값을 잉용하여 색인을 생성할 수 있는 데이터 구조를 만들어내는 것입니다.  예를 들어 `me[0]`을 사용하여 `QuantDaddy`을 찾는 대신 `me['name']`을 사용할 수 있다면 훨씬 더 효율적인 정보 탐색이 가능할 것입니다. 또한 머리색을 찾기 위해 `me[4]` 대신 `me['hair']`라고 한다면 당연히 더 효율적일 것입니다. 이러한 기능은 바로 파이썬 `dict`의 핵심 특성입니다."
      ]
    },
    {
      "cell_type": "code",
      "metadata": {
        "id": "6qfg1qTkMsHZ",
        "colab": {
          "base_uri": "https://localhost:8080/"
        },
        "outputId": "45fd37b2-3f7b-4ae2-83c7-3716190d754c"
      },
      "source": [
        "me_dict = {'name': 'QuantDaddy', 'age': 31, 'gender': 'Male', 'nationality': 'Korea', 'hair': 'Black', 'eyes': 'Black', 'has cat': False}\n",
        "\n",
        "print('My name is %s' % me_dict['name'])\n",
        "print('I have %s hair' % me_dict['hair'])"
      ],
      "execution_count": 61,
      "outputs": [
        {
          "output_type": "stream",
          "name": "stdout",
          "text": [
            "My name is QuantDaddy\n",
            "I have Black hair\n"
          ]
        }
      ]
    },
    {
      "cell_type": "markdown",
      "metadata": {
        "id": "sWJTchuyMsHa"
      },
      "source": [
        "우리는 여기서 `'name'`과 `'hair'`를 인덱스라고 부르는 대신 키(**key**)라고 부릅니다. 각 키는 키-값 쌍(**key-value pair**)의 값(**value**)과 연결됩니다. `dict`를 생성하는 데 사용된 `{}` 구문에서 키-값 쌍을 볼 수 있습니다. 각 키-값 쌍은 쉼표로 구분되며 쌍 내에서 키와 값은 콜론 `:`으로 구분됩니다.\n",
        "\n",
        "### 예제\n",
        "1. 언제 리스트보다 딕셔너리를 사용하는 것이 더 유용할까요?\n",
        "2. 다른 `dict` 객체를 포함하는 `dict`의 유연성을 다차원 배열의 유연성과 비교해보세요."
      ]
    },
    {
      "cell_type": "markdown",
      "metadata": {
        "id": "sfA82p77MsHa"
      },
      "source": [
        "### `zip`\n",
        "\n",
        "`zip` 함수는 `dict`를 생성하는 데 매우 유용할 수 있습니다. 이전에 생성했던 나를 설명하는 모든 값을 포함하는 리스트로 돌아가 보겠습니다. 우리는 이 값을 딕셔너리에 저장하기 위해 원하는 모든 키를 포함하는 두 번째 `list`를 만들 것입니다."
      ]
    },
    {
      "cell_type": "code",
      "metadata": {
        "id": "0FY7CMFiMsHa",
        "colab": {
          "base_uri": "https://localhost:8080/"
        },
        "outputId": "112dbb23-2686-45fb-8f5a-3f5be6c96ff5"
      },
      "source": [
        "value_list = me\n",
        "key_list = ['name', 'age', 'gender', 'nationality', 'hair', 'eyes', 'has cat']\n",
        "\n",
        "print(value_list)\n",
        "print(key_list)"
      ],
      "execution_count": 60,
      "outputs": [
        {
          "output_type": "stream",
          "name": "stdout",
          "text": [
            "['QuantDaddy', 31, 'Male', 'Korea', 'Black', 'Black', False]\n",
            "['name', 'age', 'gender', 'nationality', 'hair', 'eyes', 'has cat']\n"
          ]
        }
      ]
    },
    {
      "cell_type": "markdown",
      "metadata": {
        "id": "wD24kxQbMsHa"
      },
      "source": [
        "현재 두 개의 리스트가 있습니다. 하나는 값이고 다른 하나는 키입니다. 이 둘은 파이썬적으로는 서로 전혀 관련이 없지만 우리는 의미상 관련이 있음을 직관적으로 알 수 있습니다. 그렇다면 이 둘을 파이썬에서 어떻게 결합할 수 있을까요? 바로 `zip` 함수를 사용하면 됩니다."
      ]
    },
    {
      "cell_type": "code",
      "metadata": {
        "id": "PzANiqTsMsHa",
        "colab": {
          "base_uri": "https://localhost:8080/"
        },
        "outputId": "d088cee4-64a0-4bc3-8c13-9b812175734b"
      },
      "source": [
        "key_value_pairs = list(zip(key_list, value_list))\n",
        "print(key_value_pairs)"
      ],
      "execution_count": 62,
      "outputs": [
        {
          "output_type": "stream",
          "name": "stdout",
          "text": [
            "[('name', 'QuantDaddy'), ('age', 31), ('gender', 'Male'), ('nationality', 'Korea'), ('hair', 'Black'), ('eyes', 'Black'), ('has cat', False)]\n"
          ]
        }
      ]
    },
    {
      "cell_type": "markdown",
      "metadata": {
        "id": "Y0Yamlh4MsHa"
      },
      "source": [
        "이제 튜플들로 구성된 리스트가 생겼습니다. 각 튜플의 첫 번째 요소를 키로 해석하고 두 번째 요소를 값으로 해석합니다. 우리는 이 튜플의 리스트를 직접 `dict`로 바꿀 수 있습니다."
      ]
    },
    {
      "cell_type": "code",
      "metadata": {
        "id": "OVzv8SuZMsHb",
        "colab": {
          "base_uri": "https://localhost:8080/"
        },
        "outputId": "c06db755-3c54-4bb2-9d15-e26d5c0923c3"
      },
      "source": [
        "me_dict = dict(key_value_pairs)\n",
        "print(me_dict)"
      ],
      "execution_count": 65,
      "outputs": [
        {
          "output_type": "stream",
          "name": "stdout",
          "text": [
            "{'name': 'QuantDaddy', 'age': 31, 'gender': 'Male', 'nationality': 'Korea', 'hair': 'Black', 'eyes': 'Black', 'has cat': False}\n"
          ]
        }
      ]
    },
    {
      "cell_type": "markdown",
      "metadata": {
        "id": "lkeQ8BuvMsHb"
      },
      "source": [
        "키-값 쌍을 메모리에 할당하기 위해서는 키가 해시됩니다. 따라서 키는 이전에 다루었던 집합의 요소와 마찬가지로 변경이 불가능하고 고유해야 합니다. 하지만 값에는 이러한 제한이 없습니다. 그렇기 때문에 아래와 같이 리스트는 딕셔너리의 키로 사용될 수 없습니다."
      ]
    },
    {
      "cell_type": "code",
      "metadata": {
        "id": "S4gO8pPzMsHb",
        "colab": {
          "base_uri": "https://localhost:8080/",
          "height": 195
        },
        "outputId": "3943eb11-d0e2-4fcc-cf4c-f686975304c9"
      },
      "source": [
        "# this doesn't work\n",
        "invalid_dict = {[1, 5]: 'a', 5: 23}"
      ],
      "execution_count": 66,
      "outputs": [
        {
          "output_type": "error",
          "ename": "TypeError",
          "evalue": "ignored",
          "traceback": [
            "\u001b[0;31m---------------------------------------------------------------------------\u001b[0m",
            "\u001b[0;31mTypeError\u001b[0m                                 Traceback (most recent call last)",
            "\u001b[0;32m<ipython-input-66-7afb4b748ba4>\u001b[0m in \u001b[0;36m<module>\u001b[0;34m()\u001b[0m\n\u001b[1;32m      1\u001b[0m \u001b[0;31m# this doesn't work\u001b[0m\u001b[0;34m\u001b[0m\u001b[0;34m\u001b[0m\u001b[0;34m\u001b[0m\u001b[0m\n\u001b[0;32m----> 2\u001b[0;31m \u001b[0minvalid_dict\u001b[0m \u001b[0;34m=\u001b[0m \u001b[0;34m{\u001b[0m\u001b[0;34m[\u001b[0m\u001b[0;36m1\u001b[0m\u001b[0;34m,\u001b[0m \u001b[0;36m5\u001b[0m\u001b[0;34m]\u001b[0m\u001b[0;34m:\u001b[0m \u001b[0;34m'a'\u001b[0m\u001b[0;34m,\u001b[0m \u001b[0;36m5\u001b[0m\u001b[0;34m:\u001b[0m \u001b[0;36m23\u001b[0m\u001b[0;34m}\u001b[0m\u001b[0;34m\u001b[0m\u001b[0;34m\u001b[0m\u001b[0m\n\u001b[0m",
            "\u001b[0;31mTypeError\u001b[0m: unhashable type: 'list'"
          ]
        }
      ]
    },
    {
      "cell_type": "code",
      "metadata": {
        "id": "T7abUSKmMsHb",
        "colab": {
          "base_uri": "https://localhost:8080/"
        },
        "outputId": "c0379b4c-a7c2-40ce-eafb-36a3d5998057"
      },
      "source": [
        "# but this does\n",
        "valid_dict = {(1, 5): 'a', 5: [23, 6]}\n",
        "print(valid_dict)"
      ],
      "execution_count": 67,
      "outputs": [
        {
          "output_type": "stream",
          "name": "stdout",
          "text": [
            "{(1, 5): 'a', 5: [23, 6]}\n"
          ]
        }
      ]
    },
    {
      "cell_type": "markdown",
      "metadata": {
        "id": "Casp57DtMsHc"
      },
      "source": [
        "`dict`도 변경이 가능합니다. 간단한 할당으로 새로운 키-값 쌍을 추가할 수 있습니다."
      ]
    },
    {
      "cell_type": "code",
      "metadata": {
        "id": "jb8N_GC0MsHc",
        "colab": {
          "base_uri": "https://localhost:8080/"
        },
        "outputId": "3f2cd295-1c14-458f-97c6-504826495c0f"
      },
      "source": [
        "print(me_dict)\n",
        "me_dict['favorite book'] =  'The Little Prince'\n",
        "print(me_dict)"
      ],
      "execution_count": 81,
      "outputs": [
        {
          "output_type": "stream",
          "name": "stdout",
          "text": [
            "{'name': 'QuantDaddy', 'age': 31, 'gender': 'Male', 'nationality': 'Korea', 'hair': 'Black', 'eyes': 'Black', 'has cat': False}\n",
            "{'name': 'QuantDaddy', 'age': 31, 'gender': 'Male', 'nationality': 'Korea', 'hair': 'Black', 'eyes': 'Black', 'has cat': False, 'favorite book': 'The Little Prince'}\n"
          ]
        }
      ]
    },
    {
      "cell_type": "markdown",
      "metadata": {
        "id": "1-WQZ-9SMsHc"
      },
      "source": [
        "또한 키-값 쌍을 제외하고는 `set`에 사용한 것과 유사한 `update`를 사용할 수도 있습니다."
      ]
    },
    {
      "cell_type": "code",
      "metadata": {
        "id": "F7kVVCdWMsHc",
        "colab": {
          "base_uri": "https://localhost:8080/"
        },
        "outputId": "7a16a2de-248d-4ef6-ebeb-36ea3c008bd1"
      },
      "source": [
        "print(me_dict)\n",
        "me_dict.update({'favorite color': 'red', 'siblings': 1})\n",
        "print(me_dict)"
      ],
      "execution_count": 82,
      "outputs": [
        {
          "output_type": "stream",
          "name": "stdout",
          "text": [
            "{'name': 'QuantDaddy', 'age': 31, 'gender': 'Male', 'nationality': 'Korea', 'hair': 'Black', 'eyes': 'Black', 'has cat': False, 'favorite book': 'The Little Prince'}\n",
            "{'name': 'QuantDaddy', 'age': 31, 'gender': 'Male', 'nationality': 'Korea', 'hair': 'Black', 'eyes': 'Black', 'has cat': False, 'favorite book': 'The Little Prince', 'favorite color': 'red', 'siblings': 1}\n"
          ]
        }
      ]
    },
    {
      "cell_type": "markdown",
      "metadata": {
        "id": "Xw7aCJkyMsHc"
      },
      "source": [
        "그리고 `dict`에서 키-값 쌍을 바꾸거나 삭제할 수도 있습니다."
      ]
    },
    {
      "cell_type": "code",
      "metadata": {
        "id": "hP9cExn3MsHc",
        "colab": {
          "base_uri": "https://localhost:8080/"
        },
        "outputId": "93ef3e67-cfda-4666-f9c8-e8805249fcb0"
      },
      "source": [
        "print(me_dict)\n",
        "me_dict['favorite book'] = 'Hands-on Machine Learning'\n",
        "print(me_dict)"
      ],
      "execution_count": 83,
      "outputs": [
        {
          "output_type": "stream",
          "name": "stdout",
          "text": [
            "{'name': 'QuantDaddy', 'age': 31, 'gender': 'Male', 'nationality': 'Korea', 'hair': 'Black', 'eyes': 'Black', 'has cat': False, 'favorite book': 'The Little Prince', 'favorite color': 'red', 'siblings': 1}\n",
            "{'name': 'QuantDaddy', 'age': 31, 'gender': 'Male', 'nationality': 'Korea', 'hair': 'Black', 'eyes': 'Black', 'has cat': False, 'favorite book': 'Hands-on Machine Learning', 'favorite color': 'red', 'siblings': 1}\n"
          ]
        }
      ]
    },
    {
      "cell_type": "code",
      "metadata": {
        "id": "1XaksXLoMsHc",
        "colab": {
          "base_uri": "https://localhost:8080/"
        },
        "outputId": "20162d6a-d0e1-46f0-9636-5af6a9dff14c"
      },
      "source": [
        "del me_dict['favorite book']\n",
        "print(me_dict)"
      ],
      "execution_count": 84,
      "outputs": [
        {
          "output_type": "stream",
          "name": "stdout",
          "text": [
            "{'name': 'QuantDaddy', 'age': 31, 'gender': 'Male', 'nationality': 'Korea', 'hair': 'Black', 'eyes': 'Black', 'has cat': False, 'favorite color': 'red', 'siblings': 1}\n"
          ]
        }
      ]
    },
    {
      "cell_type": "code",
      "metadata": {
        "id": "gEvppsnkMsHc",
        "colab": {
          "base_uri": "https://localhost:8080/"
        },
        "outputId": "ab021496-8efe-4a91-e601-9cee4d94186e"
      },
      "source": [
        "print(me_dict.pop('siblings'))\n",
        "print(me_dict)"
      ],
      "execution_count": 85,
      "outputs": [
        {
          "output_type": "stream",
          "name": "stdout",
          "text": [
            "1\n",
            "{'name': 'QuantDaddy', 'age': 31, 'gender': 'Male', 'nationality': 'Korea', 'hair': 'Black', 'eyes': 'Black', 'has cat': False, 'favorite color': 'red'}\n"
          ]
        }
      ]
    },
    {
      "cell_type": "markdown",
      "metadata": {
        "id": "XwIIAtlvMsHc"
      },
      "source": [
        "딕셔너리는 집합처럼 해싱을 사용하기 때문에 검색이 매우 빠릅니다. 그렇기 때문에 때때로 딕셔너리를 룩업 테이블(**lookup tables**) 혹은 해시 테이블(**hash tables**)이라고 합니다. 딕셔너리는 의미 있는 키를 통해 데이터를 참조하는 데 매우 유용합니다. `dict`의 데이터는 순서가 지정되지 않았지만 키로 구성된 상태를 유지합니다. `keys`, `values`, `items`와 적절한 메소드를 사용하여 키와 값의 목록을 직접 검색하거나 키-값 쌍으로 검색할 수 있습니다."
      ]
    },
    {
      "cell_type": "code",
      "metadata": {
        "id": "Wyce-IHaMsHd",
        "colab": {
          "base_uri": "https://localhost:8080/"
        },
        "outputId": "f1112898-79e8-4056-8872-369aa8386680"
      },
      "source": [
        "print(me_dict.keys())\n",
        "print(me_dict.values())\n",
        "print(me_dict.items())"
      ],
      "execution_count": 86,
      "outputs": [
        {
          "output_type": "stream",
          "name": "stdout",
          "text": [
            "dict_keys(['name', 'age', 'gender', 'nationality', 'hair', 'eyes', 'has cat', 'favorite color'])\n",
            "dict_values(['QuantDaddy', 31, 'Male', 'Korea', 'Black', 'Black', False, 'red'])\n",
            "dict_items([('name', 'QuantDaddy'), ('age', 31), ('gender', 'Male'), ('nationality', 'Korea'), ('hair', 'Black'), ('eyes', 'Black'), ('has cat', False), ('favorite color', 'red')])\n"
          ]
        }
      ]
    },
    {
      "cell_type": "markdown",
      "metadata": {
        "id": "LmtXMqefMsHd"
      },
      "source": [
        "## 데이터 구조 변환하기\n",
        "지금까지 다루었던 각각의 데이터 구조, 즉 컨테이너들을 서로 다른 속성과 특성을 가지고 있습니다. 우리는 이따금씩 이러한 차이점을 활용하기 위해 하나의 데이터 구조를 다른 데이터 구조로 변경하고 싶을 때가 있는데요. 우리는 이미 앞서 `dict`를 `tuple`의 `list`로 또는 그 반대로 변환하는 몇 가지 방법을 살펴보았습니다. 마찬가지로 우리는 `list`, `tuple`, `set` 간에 구조 변환을 쉽게 처리할 수 있습니다."
      ]
    },
    {
      "cell_type": "code",
      "metadata": {
        "id": "yTZy0xPTMsHd",
        "colab": {
          "base_uri": "https://localhost:8080/"
        },
        "outputId": "968ac632-e1fc-463d-8167-7a13577fa9bc"
      },
      "source": [
        "example_list = ['a', 'b', 23, 10, True, 'a', 10]\n",
        "example_tuple = tuple(example_list)\n",
        "example_set = set(example_tuple)\n",
        "example_list = list(example_set)\n",
        "\n",
        "print(example_tuple)\n",
        "print(example_set)\n",
        "print(example_list) # note we lost the duplicates because of set"
      ],
      "execution_count": 87,
      "outputs": [
        {
          "output_type": "stream",
          "name": "stdout",
          "text": [
            "('a', 'b', 23, 10, True, 'a', 10)\n",
            "{True, 'a', 10, 23, 'b'}\n",
            "[True, 'a', 10, 23, 'b']\n"
          ]
        }
      ]
    },
    {
      "cell_type": "markdown",
      "metadata": {
        "id": "hcMmPK-5MsHd"
      },
      "source": [
        "## 데이터 검색\n",
        "\n",
        "우리는 `set`(및 `dict`)을 특별하게 만드는 요소를 설명할 때 데이터 구조에서 데이터를 검색하는 아이디어에 대해 논의했습니다. 파이썬에서 검색은 어떻게 할 수 있을까요? 우리는 `in` 키워드를 사용해 데이터를 검색할 수 있습니다."
      ]
    },
    {
      "cell_type": "code",
      "metadata": {
        "id": "sZqKk5rAMsHd",
        "colab": {
          "base_uri": "https://localhost:8080/"
        },
        "outputId": "abc1265a-cda3-4f3f-fcf8-0983a72781fb"
      },
      "source": [
        "print(example_list)\n",
        "print('a' in example_list)\n",
        "print('c' in example_list)"
      ],
      "execution_count": 88,
      "outputs": [
        {
          "output_type": "stream",
          "name": "stdout",
          "text": [
            "[True, 'a', 10, 23, 'b']\n",
            "True\n",
            "False\n"
          ]
        }
      ]
    },
    {
      "cell_type": "markdown",
      "metadata": {
        "id": "sTnPKq9kMsHd"
      },
      "source": [
        "주의해야 할 점은 `dict`를 처리할 때 키는 검색할 수 있지만 값은 검색할 수 없다는 것입니다."
      ]
    },
    {
      "cell_type": "code",
      "metadata": {
        "id": "z_4jrF3kMsHd",
        "colab": {
          "base_uri": "https://localhost:8080/"
        },
        "outputId": "59fb4cb4-873d-4948-b918-a9d0bd22f4b4"
      },
      "source": [
        "print(me_dict)\n",
        "print('hair' in me_dict)\n",
        "print('has cat' in me_dict)\n",
        "print('brown' in me_dict)"
      ],
      "execution_count": 89,
      "outputs": [
        {
          "output_type": "stream",
          "name": "stdout",
          "text": [
            "{'name': 'QuantDaddy', 'age': 31, 'gender': 'Male', 'nationality': 'Korea', 'hair': 'Black', 'eyes': 'Black', 'has cat': False, 'favorite color': 'red'}\n",
            "True\n",
            "True\n",
            "False\n"
          ]
        }
      ]
    },
    {
      "cell_type": "markdown",
      "metadata": {
        "id": "C0e1cBehMsHd"
      },
      "source": [
        "키를 검색하는 것은 딕셔너리에서 중요하므로 존재하지 않는 키-값 쌍을 실수로라도 검색하려고 하지 않는 것이 좋습니다."
      ]
    },
    {
      "cell_type": "code",
      "metadata": {
        "id": "hb3NRjbSMsHd",
        "colab": {
          "base_uri": "https://localhost:8080/",
          "height": 176
        },
        "outputId": "54769207-f8cd-45e6-eb53-915126567b5d"
      },
      "source": [
        "print(me_dict['has dog'])"
      ],
      "execution_count": 90,
      "outputs": [
        {
          "output_type": "error",
          "ename": "KeyError",
          "evalue": "ignored",
          "traceback": [
            "\u001b[0;31m---------------------------------------------------------------------------\u001b[0m",
            "\u001b[0;31mKeyError\u001b[0m                                  Traceback (most recent call last)",
            "\u001b[0;32m<ipython-input-90-b6d989fb8c32>\u001b[0m in \u001b[0;36m<module>\u001b[0;34m()\u001b[0m\n\u001b[0;32m----> 1\u001b[0;31m \u001b[0mprint\u001b[0m\u001b[0;34m(\u001b[0m\u001b[0mme_dict\u001b[0m\u001b[0;34m[\u001b[0m\u001b[0;34m'has dog'\u001b[0m\u001b[0;34m]\u001b[0m\u001b[0;34m)\u001b[0m\u001b[0;34m\u001b[0m\u001b[0;34m\u001b[0m\u001b[0m\n\u001b[0m",
            "\u001b[0;31mKeyError\u001b[0m: 'has dog'"
          ]
        }
      ]
    },
    {
      "cell_type": "code",
      "metadata": {
        "id": "m7B_3K_TMsHe",
        "colab": {
          "base_uri": "https://localhost:8080/"
        },
        "outputId": "448c6430-9898-44bf-f3c3-0cbe672a00fb"
      },
      "source": [
        "if 'has cat' in me_dict:\n",
        "    print('Has cat: %s' % me_dict['has cat'])\n",
        "else:\n",
        "    print(None)\n",
        "\n",
        "if 'has dog' in me_dict:\n",
        "    print('Has dog: %s' % me_dict['has dog'])\n",
        "else:\n",
        "    print(None)"
      ],
      "execution_count": 91,
      "outputs": [
        {
          "output_type": "stream",
          "name": "stdout",
          "text": [
            "Has cat: False\n",
            "None\n"
          ]
        }
      ]
    },
    {
      "cell_type": "code",
      "metadata": {
        "id": "lEONMpTQMsHe",
        "colab": {
          "base_uri": "https://localhost:8080/"
        },
        "outputId": "1e89f257-24e6-4228-ea90-3c0063bae5d8"
      },
      "source": [
        "# can use get method for same results\n",
        "\n",
        "print('Has cat: %s' % me_dict.get('has cat'))\n",
        "print('Has dog: %s' % me_dict.get('has dog'))"
      ],
      "execution_count": 92,
      "outputs": [
        {
          "output_type": "stream",
          "name": "stdout",
          "text": [
            "Has cat: False\n",
            "Has dog: None\n"
          ]
        }
      ]
    },
    {
      "cell_type": "markdown",
      "metadata": {
        "id": "UlM9E5kyMsHe"
      },
      "source": [
        "우리는 검색이 필요한 여러 가지 상황들을 생각해볼 수 있습니다. 예를 들어, 어떤 나라가 가뭄의 영향을 받게 될 곳의 집합에 속해 있을까요? 혹은 내 할일 목록에 어떤 작업이 들어가 있을까요? 혹은 이 사용자 이름이 이미 사용 중인지, 만약 그렇다면 일치하는 비밀번호는 무엇일지? 등의 상황에서 딕셔너리 `dict`는 유용하게 사용될 것입니다."
      ]
    },
    {
      "cell_type": "markdown",
      "metadata": {
        "id": "QBFHFQ0KMsHe"
      },
      "source": [
        "## 정렬 (Sorting)\n",
        "\n",
        "`tuple`은 변경할 수 없다고 배웠습니다. 그렇다면 과연 이것을 정렬할 수 있을까요? 그런데 정렬이라는 것은 변경일까요? 순서가 없는 `set` 또는 `dict`를 정렬한다는 것은 무엇을 의미할까요?\n",
        "\n",
        "지금까지 공부한 자료구조 중에서는 `list`에만 `sort` 메소드가 있었습니다. 그러나 파이썬에는 다른 데이터 구조에서 정렬된 `list`을 생성하는 `sorted` 기능이 있습니다. 기본적으로 `dict`에 적용된 `sorted`는 정렬된 키의 `list`를 만듭니다. 출력이 키-값 쌍이 되도록 하려면 `items` 메서드를 사용하면 됩니다."
      ]
    },
    {
      "cell_type": "code",
      "metadata": {
        "id": "k2d8RTzFMsHe",
        "colab": {
          "base_uri": "https://localhost:8080/"
        },
        "outputId": "53d61791-88b6-496c-c19d-40dc2725cac6"
      },
      "source": [
        "print(sorted(map(str, example_tuple)))\n",
        "print(sorted(map(str, example_set)))\n",
        "print(sorted(me_dict.items()))\n",
        "print(sorted(me_dict))"
      ],
      "execution_count": 93,
      "outputs": [
        {
          "output_type": "stream",
          "name": "stdout",
          "text": [
            "['10', '10', '23', 'True', 'a', 'a', 'b']\n",
            "['10', '23', 'True', 'a', 'b']\n",
            "[('age', 31), ('eyes', 'Black'), ('favorite color', 'red'), ('gender', 'Male'), ('hair', 'Black'), ('has cat', False), ('name', 'QuantDaddy'), ('nationality', 'Korea')]\n",
            "['age', 'eyes', 'favorite color', 'gender', 'hair', 'has cat', 'name', 'nationality']\n"
          ]
        }
      ]
    },
    {
      "cell_type": "markdown",
      "metadata": {
        "id": "Jg0KpL0cMsHl"
      },
      "source": [
        "## 반복 (Iteration)\n",
        "\n",
        "이미 몇몇 예시들에서 살펴보았듯이, 작업을 수행하고 데이터 세트를 변환하고 또 분석하는데 있어서 데이터 구조에 반복문을 적용하여 처리하는 것은 종종 유용합니다. 우리는 데이터 구조에 반복문을 적용하기 위해 가장 자주 `for` 문을 사용합니다. `for`문을 `list`, `tuple` 또는 `set`에 사용하면 컨테이너의 요소들이 차례로 반환됩니다. 그런데 `dict`를 사용하는 경우에는 상황이 조금 더 복잡해집니다. 키를 반복할지, 값을 반복할지, 아니면 키-값 쌍을 반복할지 결정해야 하기 때문입니다."
      ]
    },
    {
      "cell_type": "code",
      "metadata": {
        "id": "ZCOBTP1wMsHl",
        "colab": {
          "base_uri": "https://localhost:8080/"
        },
        "outputId": "5d3137c1-0e51-458a-a161-965da6ac5730"
      },
      "source": [
        "# by default we iterate over keys of a dict\n",
        "for k in me_dict:\n",
        "    print(k)"
      ],
      "execution_count": 94,
      "outputs": [
        {
          "output_type": "stream",
          "name": "stdout",
          "text": [
            "name\n",
            "age\n",
            "gender\n",
            "nationality\n",
            "hair\n",
            "eyes\n",
            "has cat\n",
            "favorite color\n"
          ]
        }
      ]
    },
    {
      "cell_type": "code",
      "metadata": {
        "id": "L6FvcH7yMsHl",
        "colab": {
          "base_uri": "https://localhost:8080/"
        },
        "outputId": "eb1a82e0-a488-4e58-ae9b-dda3436da3dd"
      },
      "source": [
        "# to iterate over values...\n",
        "for v in me_dict.values():\n",
        "    print(v)"
      ],
      "execution_count": 95,
      "outputs": [
        {
          "output_type": "stream",
          "name": "stdout",
          "text": [
            "QuantDaddy\n",
            "31\n",
            "Male\n",
            "Korea\n",
            "Black\n",
            "Black\n",
            "False\n",
            "red\n"
          ]
        }
      ]
    },
    {
      "cell_type": "code",
      "metadata": {
        "id": "WOg2aDVYMsHm",
        "colab": {
          "base_uri": "https://localhost:8080/"
        },
        "outputId": "0adb37d5-f967-4a3f-9431-5bef13a36381"
      },
      "source": [
        "# or to iterate over key-value pairs...\n",
        "for k, v in me_dict.items():\n",
        "    print('%s: %s' % (k, v))"
      ],
      "execution_count": 96,
      "outputs": [
        {
          "output_type": "stream",
          "name": "stdout",
          "text": [
            "name: QuantDaddy\n",
            "age: 31\n",
            "gender: Male\n",
            "nationality: Korea\n",
            "hair: Black\n",
            "eyes: Black\n",
            "has cat: False\n",
            "favorite color: red\n"
          ]
        }
      ]
    },
    {
      "cell_type": "markdown",
      "metadata": {
        "id": "PxoQTKRFMsHm"
      },
      "source": [
        "마지막 예시에서 `for`문을 사용할 때, `tuple` 압축 해제를 사용했음에 주목하세요.\n",
        "\n",
        "### 컴프리헨션 (Comprehensions)\n",
        "\n",
        "파이썬에는 데이터 구조의 생성과 반복을 결합하기 위한 컴프리헨션(**comprehension**)이라는 특수 구문이 있습니다. 이는 본질적으로 데이터 구조를 생성하기 위해 적절한 괄호로 묶인 `for`문이라고 보시면 됩니다."
      ]
    },
    {
      "cell_type": "code",
      "metadata": {
        "id": "OrbUxzkEMsHm",
        "colab": {
          "base_uri": "https://localhost:8080/"
        },
        "outputId": "b66687a5-8474-4795-b4db-0132a1ee25fc"
      },
      "source": [
        "squares = [x**2 for x in range(10)]\n",
        "square_lut = {x: x**2 for x in range(10)}\n",
        "\n",
        "print(squares)\n",
        "print(square_lut)"
      ],
      "execution_count": 97,
      "outputs": [
        {
          "output_type": "stream",
          "name": "stdout",
          "text": [
            "[0, 1, 4, 9, 16, 25, 36, 49, 64, 81]\n",
            "{0: 0, 1: 1, 2: 4, 3: 9, 4: 16, 5: 25, 6: 36, 7: 49, 8: 64, 9: 81}\n"
          ]
        }
      ]
    },
    {
      "cell_type": "markdown",
      "metadata": {
        "id": "9LZUVsUMMsHn"
      },
      "source": [
        "컴프리헨션은 데이터 구조에 대해 간단한 변환을 수행하는 데 매우 유용합니다. 예를 들어, 우리는 `me_dict`를 분석하는 함수를 작성 중일 수 있습니다. 여기서 어쩌면 `me_dict`가 가지고 있는 값들의 데이터 유형 정보를 `dict`로 갖고 있는 것이 유용할 수 있습니다. 우리는 컴프리헨션을 사용해 이를 매우 쉽게 구현할 수 있습니다."
      ]
    },
    {
      "cell_type": "code",
      "metadata": {
        "id": "DJnvi7rkMsHo",
        "colab": {
          "base_uri": "https://localhost:8080/"
        },
        "outputId": "5c902cda-5a2f-4c8e-dee2-361f64b9eed2"
      },
      "source": [
        "me_dict_dtypes = {k: type(v) for k, v in me_dict.items()}\n",
        "print(me_dict_dtypes)"
      ],
      "execution_count": 98,
      "outputs": [
        {
          "output_type": "stream",
          "name": "stdout",
          "text": [
            "{'name': <class 'str'>, 'age': <class 'int'>, 'gender': <class 'str'>, 'nationality': <class 'str'>, 'hair': <class 'str'>, 'eyes': <class 'str'>, 'has cat': <class 'bool'>, 'favorite color': <class 'str'>}\n"
          ]
        }
      ]
    },
    {
      "cell_type": "markdown",
      "metadata": {
        "id": "aJB1Hd8_MsHp"
      },
      "source": [
        "컴프리헨션은 또한 코드를 더 읽기 쉽게 만들어줍니다. `square_lut`의 `for`문을 컴프리헨션 구현과 비교해보겠습니다."
      ]
    },
    {
      "cell_type": "code",
      "metadata": {
        "id": "8c0Ld-GsMsHp",
        "colab": {
          "base_uri": "https://localhost:8080/"
        },
        "outputId": "dc31e12b-9415-4379-b618-e97b99c571ee"
      },
      "source": [
        "square_lut = {}\n",
        "for x in range(10):\n",
        "    square_lut[x] = x**2\n",
        "\n",
        "print(square_lut)\n",
        "\n",
        "square_lut = {x: x**2 for x in range(10)}\n",
        "\n",
        "print(square_lut)"
      ],
      "execution_count": 99,
      "outputs": [
        {
          "output_type": "stream",
          "name": "stdout",
          "text": [
            "{0: 0, 1: 1, 2: 4, 3: 9, 4: 16, 5: 25, 6: 36, 7: 49, 8: 64, 9: 81}\n",
            "{0: 0, 1: 1, 2: 4, 3: 9, 4: 16, 5: 25, 6: 36, 7: 49, 8: 64, 9: 81}\n"
          ]
        }
      ]
    },
    {
      "cell_type": "markdown",
      "metadata": {
        "id": "5Iqo8-daMsHq"
      },
      "source": [
        "## 컬렉션 (Collections)\n",
        "\n",
        "앞서 언급했듯이 파이썬 표준 라이브러리에는 `collections`이라는 모듈이 존재합니다. 이 모듈은 특정 상황에 최적화되어있는 알고리즘을 구현하는 데 매우 유용한 다양한 컨테이너들을 포함하고 있으며, 이러한 컨테이너들은 기존의 일반적인 파이썬 컨테이너보다 약간 더 전문화되어 있습니다.\n",
        "\n",
        "아래는 이러한 컬렉션에 포함된 컨테이너들의 예시입니다.\n",
        "- `namedtuple`\n",
        "- `deque`\n",
        "- `Counter`\n",
        "- `OrderedDict`\n",
        "- `defaultdict`\n",
        "\n",
        "\n",
        "### 네임드튜플 `namedtuple`\n",
        "\n",
        "`namedtuple`은 튜플과 유사하지만 이름이 지정된 항목이 있는 클래스를 생성합니다. `x,y,z` 필드가 있는 3차원 벡터에 대해 네임드튜플 하나를 만들어 보겠습니다. `verbose` 플래그를 사용하면 생성된 파이썬 코드를 볼 수 있습니다."
      ]
    },
    {
      "cell_type": "code",
      "metadata": {
        "id": "9ZGqGazLMsHq"
      },
      "source": [
        "from collections import namedtuple\n",
        "Vector3 = namedtuple('Vector', ['x', 'y', 'z'])"
      ],
      "execution_count": 100,
      "outputs": []
    },
    {
      "cell_type": "markdown",
      "metadata": {
        "id": "5sls3b38MsHq"
      },
      "source": [
        "이제 튜플 요소의 요소에 이름으로 액세스할 수가 있습니다."
      ]
    },
    {
      "cell_type": "code",
      "metadata": {
        "id": "KBoN46XqMsHq",
        "colab": {
          "base_uri": "https://localhost:8080/"
        },
        "outputId": "e0de87bd-a816-4e9b-90fe-e81abba3f431"
      },
      "source": [
        "vec = Vector3(1,2,3)\n",
        "vec.x, vec.y, vec.z"
      ],
      "execution_count": 101,
      "outputs": [
        {
          "output_type": "execute_result",
          "data": {
            "text/plain": [
              "(1, 2, 3)"
            ]
          },
          "metadata": {},
          "execution_count": 101
        }
      ]
    },
    {
      "cell_type": "markdown",
      "metadata": {
        "id": "wiU0Ob-jMsHq"
      },
      "source": [
        "이 시점에서 왜 굳이 딕셔러니를 사용하면 되지 새로운 데이터 구조를 제시하는지 궁금할 수 있습니다. 한 가지 좋은 이유는 불변성(**immutability**)입니다."
      ]
    },
    {
      "cell_type": "code",
      "metadata": {
        "id": "g1JBTZwEMsHr",
        "colab": {
          "base_uri": "https://localhost:8080/",
          "height": 176
        },
        "outputId": "32c744f0-5b57-4abc-bdac-1f00df477cfe"
      },
      "source": [
        "vec.x = 5"
      ],
      "execution_count": 40,
      "outputs": [
        {
          "output_type": "error",
          "ename": "AttributeError",
          "evalue": "ignored",
          "traceback": [
            "\u001b[0;31m---------------------------------------------------------------------------\u001b[0m",
            "\u001b[0;31mAttributeError\u001b[0m                            Traceback (most recent call last)",
            "\u001b[0;32m<ipython-input-40-57b4e6a8653e>\u001b[0m in \u001b[0;36m<module>\u001b[0;34m()\u001b[0m\n\u001b[0;32m----> 1\u001b[0;31m \u001b[0mvec\u001b[0m\u001b[0;34m.\u001b[0m\u001b[0mx\u001b[0m \u001b[0;34m=\u001b[0m \u001b[0;36m5\u001b[0m\u001b[0;34m\u001b[0m\u001b[0;34m\u001b[0m\u001b[0m\n\u001b[0m",
            "\u001b[0;31mAttributeError\u001b[0m: can't set attribute"
          ]
        }
      ]
    },
    {
      "cell_type": "markdown",
      "metadata": {
        "id": "-SHt7a2YMsHr"
      },
      "source": [
        "또 다른 이유는 이것이 함수에 전달될 때 튜플처럼 동작하기 때문입니다."
      ]
    },
    {
      "cell_type": "code",
      "metadata": {
        "id": "hrggJyl8MsHr",
        "colab": {
          "base_uri": "https://localhost:8080/"
        },
        "outputId": "73277876-b879-4eb4-de70-d4bc2f11e29a"
      },
      "source": [
        "def tfunc(a,b,c):\n",
        "    print(a,b,c)\n",
        "tfunc(*vec)"
      ],
      "execution_count": 41,
      "outputs": [
        {
          "output_type": "stream",
          "name": "stdout",
          "text": [
            "1 2 3\n"
          ]
        }
      ]
    },
    {
      "cell_type": "markdown",
      "metadata": {
        "id": "1_4i25avMsHr"
      },
      "source": [
        "`namedtuple`은 메모리 비용이 거의 없이 자체 문서화 코드를 생성하는 좋은 방법입니다."
      ]
    },
    {
      "cell_type": "markdown",
      "metadata": {
        "id": "O4zri9ejTr8F"
      },
      "source": [
        "### 덱 `deque`\n",
        "\n",
        "`deque`는 양방향으로 작동한다는 점을 제외하고는 스택(**stack**) 혹은 큐(**Queue**)와 같습니다. 우리는 `deque`을 일반적으로 리스트의 끝 부분으로 작업하는 데 관심이 있는 리스트라고 생각할 수 있습니다. `deque`은 구조의 끝에서 요소를 추가하고 제거하는 데 모두 $O(1)$ 성능에 최적화되어 있는 반면, 일반 `list`는 목록 맨 앞의 작업에 대해 $O(N)$입니다.\n",
        "\n",
        "한 번 예시를 살펴보겠습니다."
      ]
    },
    {
      "cell_type": "code",
      "metadata": {
        "id": "MyXnbn6DMsHr",
        "colab": {
          "base_uri": "https://localhost:8080/"
        },
        "outputId": "6104a0eb-ff91-46eb-9591-335cddb49586"
      },
      "source": [
        "from collections import deque\n",
        "\n",
        "d = deque([2,3,4,5])\n",
        "print(d)\n",
        "d.append(10)\n",
        "print(d)\n",
        "d.appendleft(20)\n",
        "print(d)"
      ],
      "execution_count": 42,
      "outputs": [
        {
          "output_type": "stream",
          "name": "stdout",
          "text": [
            "deque([2, 3, 4, 5])\n",
            "deque([2, 3, 4, 5, 10])\n",
            "deque([20, 2, 3, 4, 5, 10])\n"
          ]
        }
      ]
    },
    {
      "cell_type": "markdown",
      "metadata": {
        "id": "Azt0ZoWhMsHr"
      },
      "source": [
        "아래의 코드는 `deque`과 `list`의 왼쪽에 요소를 추가하는 동일한 작업을 수행하는 데 걸리는 시간을 측정합니다."
      ]
    },
    {
      "cell_type": "code",
      "metadata": {
        "id": "ARh_vwTWMsHr",
        "colab": {
          "base_uri": "https://localhost:8080/"
        },
        "outputId": "4ffabb1c-541d-4616-f8ed-3e90051efcf0"
      },
      "source": [
        "%%timeit\n",
        "l_ = list()\n",
        "for i in range(40000):\n",
        "    l_.insert(0, i)"
      ],
      "execution_count": 43,
      "outputs": [
        {
          "output_type": "stream",
          "name": "stdout",
          "text": [
            "1 loop, best of 5: 315 ms per loop\n"
          ]
        }
      ]
    },
    {
      "cell_type": "code",
      "metadata": {
        "id": "EIbNGJWJMsHr",
        "colab": {
          "base_uri": "https://localhost:8080/"
        },
        "outputId": "00eff278-1618-44b7-95f8-a2e45ea86e40"
      },
      "source": [
        "%%timeit\n",
        "d = deque()\n",
        "for i in range(40000):\n",
        "    d.appendleft(i)"
      ],
      "execution_count": 44,
      "outputs": [
        {
          "output_type": "stream",
          "name": "stdout",
          "text": [
            "100 loops, best of 5: 3.18 ms per loop\n"
          ]
        }
      ]
    },
    {
      "cell_type": "code",
      "metadata": {
        "id": "oMIS1pVQMsHr",
        "colab": {
          "base_uri": "https://localhost:8080/"
        },
        "outputId": "cef69ba2-d3ef-4840-a34c-3fcc36e66b10"
      },
      "source": [
        "d = deque()\n",
        "l_ = list()\n",
        "for i in range(40000):\n",
        "    d.appendleft(i)\n",
        "    l_.insert(0, i)\n",
        "    \n",
        "list(d) == l_"
      ],
      "execution_count": 45,
      "outputs": [
        {
          "output_type": "execute_result",
          "data": {
            "text/plain": [
              "True"
            ]
          },
          "metadata": {},
          "execution_count": 45
        }
      ]
    },
    {
      "cell_type": "markdown",
      "metadata": {
        "id": "uT_spvfNMsHs"
      },
      "source": [
        "`deque`은 `list`보다 몇 배나 빠르지만 동일한 값을 포함합니다. 따라서 일부 전문 작업의 경우 대규모 향상이 가능합니다."
      ]
    },
    {
      "cell_type": "markdown",
      "metadata": {
        "id": "T1rjnnQnUpnL"
      },
      "source": [
        "### 카운터 `Counter`\n",
        "\n",
        "`Counter`는 매우 유용한 객체입니다. 이는 반복 가능한 요소들의 수를 세어 그 결과를 딕셔너리와 비슷한 형태의 구조에 담아 반환합니다. 예시를 한 번 보겠습니다."
      ]
    },
    {
      "cell_type": "code",
      "metadata": {
        "id": "JEnovhg5MsHs",
        "colab": {
          "base_uri": "https://localhost:8080/"
        },
        "outputId": "84aa01d2-f9eb-4db8-81dc-327cf7a3f115"
      },
      "source": [
        "from collections import Counter\n",
        "ele = ['a','b','a','c','b','b','d']\n",
        "c = Counter(ele)\n",
        "print(c)"
      ],
      "execution_count": 46,
      "outputs": [
        {
          "output_type": "stream",
          "name": "stdout",
          "text": [
            "Counter({'b': 3, 'a': 2, 'c': 1, 'd': 1})\n"
          ]
        }
      ]
    },
    {
      "cell_type": "markdown",
      "metadata": {
        "id": "JiR1LqP_MsHs"
      },
      "source": [
        "딕셔너리와 동일하게 `get` 구문을 사용하여 요소의 개수를 찾을 수 있습니다. 그런데 만약 존재하지 않는 요소를 카운트시키면 어떻게 될까요?\n"
      ]
    },
    {
      "cell_type": "code",
      "metadata": {
        "id": "eCeNn0MNMsHs",
        "colab": {
          "base_uri": "https://localhost:8080/"
        },
        "outputId": "b1c4a857-b31b-4394-c3e4-2ddf324c61b6"
      },
      "source": [
        "c['a'], c['z']"
      ],
      "execution_count": 48,
      "outputs": [
        {
          "output_type": "execute_result",
          "data": {
            "text/plain": [
              "(2, 0)"
            ]
          },
          "metadata": {},
          "execution_count": 48
        }
      ]
    },
    {
      "cell_type": "markdown",
      "metadata": {
        "id": "uUyve9gLMsHs"
      },
      "source": [
        "또한 `most_common` 메서드를 사용해 가장 수가 많은 요소들을 찾을 수도 있습니다."
      ]
    },
    {
      "cell_type": "code",
      "metadata": {
        "id": "vRexsLm8MsHs",
        "colab": {
          "base_uri": "https://localhost:8080/"
        },
        "outputId": "98d9570d-02eb-46bf-89e0-4740e55b6c67"
      },
      "source": [
        "c.most_common(2)"
      ],
      "execution_count": 49,
      "outputs": [
        {
          "output_type": "execute_result",
          "data": {
            "text/plain": [
              "[('b', 3), ('a', 2)]"
            ]
          },
          "metadata": {},
          "execution_count": 49
        }
      ]
    },
    {
      "cell_type": "markdown",
      "metadata": {
        "id": "DSa9oGZ5MsHs"
      },
      "source": [
        "### 오더드딕트 `OrderedDict`\n",
        "\n",
        "파이썬 딕셔너리에는 자연스러운 순서가 없지만 때로는 $O(1)$와 같은 딕셔너리 속성이 순서가 있는 항목에 액세스할 수 있도록 하는 것이 유용한 경우도 있습니다. 이럴 때 `OrderedDict`는 `dict`와 정확히 같은 기능을 하지만 키의 입력 순서를 기억하게 됩니다.\n",
        "\n",
        "### 디폴트딕트 `defaultdict`\n",
        "\n",
        "딕셔너리의 일반적인 패러다임 중 하나는 누락된 키의 경우를 처리하는 것입니다. 위의 반대 예를 가져와 이를 자체적으로 구현하려고 한다고 해보겠습니다. 딕셔너리를 생성하는 것과 같은 작업을 수행하고 키를 만날 때마다 해당 키의 기존 값에 1을 더하고 해당 키를 보지 못한 경우 새로운 키를 생성한 뒤 그 값을 1로 설정하려고 합니다. 이를 수행하는 한 가지 방법은 다음과 같습니다."
      ]
    },
    {
      "cell_type": "code",
      "metadata": {
        "id": "uwuw5i5eMsHt",
        "colab": {
          "base_uri": "https://localhost:8080/"
        },
        "outputId": "9148ce53-02c1-4362-d17f-1b8d3a26f23c"
      },
      "source": [
        "def count(x):\n",
        "    count_dict = {}\n",
        "    for ele in x:\n",
        "        if ele in count_dict.keys():\n",
        "            count_dict[ele] += 1\n",
        "        else:\n",
        "            count_dict[ele] = 1\n",
        "    return count_dict\n",
        "count(ele)"
      ],
      "execution_count": 50,
      "outputs": [
        {
          "output_type": "execute_result",
          "data": {
            "text/plain": [
              "{'a': 2, 'b': 3, 'c': 1, 'd': 1}"
            ]
          },
          "metadata": {},
          "execution_count": 50
        }
      ]
    },
    {
      "cell_type": "markdown",
      "metadata": {
        "id": "VNLuuuWuMsHt"
      },
      "source": [
        "이럴 때 `defaultdict`를 활용할 수 있습니다. `defaultdict`는 기본적인 팩토리 함수(**factory function**)를 사용합니다. 이 함수는 이전에 본 적이 없던 키일 때 그 값으로 0을 반환하게 됩니다. 우리는 `defaultdict`를 사용해서 조금 더 간단한 방법으로 위와 동일한 기능을 하는 알고리즘을 구현할 수 있습니다."
      ]
    },
    {
      "cell_type": "code",
      "metadata": {
        "id": "JlqhYMr_MsHt",
        "colab": {
          "base_uri": "https://localhost:8080/"
        },
        "outputId": "7c53f9fb-e140-4c06-9287-3248b7c4b8d5"
      },
      "source": [
        "from collections import defaultdict\n",
        "def count_default(x):\n",
        "    count_dict = defaultdict(int)\n",
        "    for ele in x:\n",
        "        count_dict[ele] += 1\n",
        "    return count_dict\n",
        "count_default(ele)"
      ],
      "execution_count": 51,
      "outputs": [
        {
          "output_type": "execute_result",
          "data": {
            "text/plain": [
              "defaultdict(int, {'a': 2, 'b': 3, 'c': 1, 'd': 1})"
            ]
          },
          "metadata": {},
          "execution_count": 51
        }
      ]
    },
    {
      "cell_type": "markdown",
      "metadata": {
        "id": "v0OniQNDMsHt"
      },
      "source": [
        "*Copyright 2021.* 퀀트대디. *This content is licensed solely for personal use. Redistribution or publication of this material is strictly prohibited.*"
      ]
    }
  ]
}